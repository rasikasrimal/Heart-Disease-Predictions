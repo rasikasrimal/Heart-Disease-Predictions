{
 "cells": [
  {
   "cell_type": "code",
   "execution_count": 1,
   "id": "a1c09f7a",
   "metadata": {
    "execution": {
     "iopub.execute_input": "2025-08-22T17:48:58.914425Z",
     "iopub.status.busy": "2025-08-22T17:48:58.913647Z",
     "iopub.status.idle": "2025-08-22T17:48:58.919810Z",
     "shell.execute_reply": "2025-08-22T17:48:58.919030Z"
    },
    "papermill": {
     "duration": 0.023525,
     "end_time": "2025-08-22T17:48:58.921526",
     "exception": false,
     "start_time": "2025-08-22T17:48:58.898001",
     "status": "completed"
    },
    "tags": []
   },
   "outputs": [],
   "source": [
    "# # import libraries\n",
    "\n",
    "# # 1. to handle the data\n",
    "# import pandas as pd\n",
    "# import numpy as np\n",
    "\n",
    "# # to visualize the dataset\n",
    "# import matplotlib.pyplot as plt\n",
    "# import seaborn as sns\n",
    "# import plotly.express as px\n",
    "# import plotly.figure_factory as ff\n",
    "# import plotly.graph_objects as go\n",
    "\n",
    "# # To preprocess the data\n",
    "# from sklearn.preprocessing import StandardScaler, MinMaxScaler, LabelEncoder\n",
    "# from sklearn.impute import SimpleImputer, KNNImputer\n",
    "# # import iterative imputer\n",
    "# from sklearn.experimental import enable_iterative_imputer\n",
    "# from sklearn.impute import IterativeImputer\n",
    "\n",
    "# # machine learning\n",
    "# from sklearn.model_selection import train_test_split, GridSearchCV, cross_val_score\n",
    "# #for classification tasks\n",
    "# from sklearn.linear_model import LogisticRegression\n",
    "# from sklearn.neighbors import KNeighborsClassifier\n",
    "# from sklearn.svm import SVC\n",
    "# from sklearn.tree import DecisionTreeClassifier\n",
    "# from sklearn.ensemble import RandomForestClassifier, AdaBoostClassifier, GradientBoostingClassifier, RandomForestRegressor\n",
    "# from xgboost import XGBClassifier\n",
    "# from sklearn.preprocessing import KBinsDiscretizer\n",
    "# #metrics\n",
    "# from sklearn.metrics import accuracy_score, confusion_matrix, classification_report, mean_absolute_error, mean_squared_error, r2_score\n",
    "\n",
    "# # ignore warnings   \n",
    "# import warnings\n",
    "# warnings.filterwarnings('ignore')"
   ]
  },
  {
   "cell_type": "code",
   "execution_count": 2,
   "id": "f07f4c7a",
   "metadata": {
    "_cell_guid": "b1076dfc-b9ad-4769-8c92-a6c4dae69d19",
    "_uuid": "8f2839f25d086af736a60e9eeb907d3b93b6e0e5",
    "execution": {
     "iopub.execute_input": "2025-08-22T17:48:58.954343Z",
     "iopub.status.busy": "2025-08-22T17:48:58.954025Z",
     "iopub.status.idle": "2025-08-22T17:49:05.370148Z",
     "shell.execute_reply": "2025-08-22T17:49:05.369426Z"
    },
    "papermill": {
     "duration": 6.43528,
     "end_time": "2025-08-22T17:49:05.371749",
     "exception": false,
     "start_time": "2025-08-22T17:48:58.936469",
     "status": "completed"
    },
    "tags": []
   },
   "outputs": [
    {
     "name": "stdout",
     "output_type": "stream",
     "text": [
      "/kaggle/input/heart-disease-data/heart_disease_uci.csv\n"
     ]
    }
   ],
   "source": [
    "# This Python 3 environment comes with many helpful analytics libraries installed\n",
    "# It is defined by the kaggle/python Docker image: https://github.com/kaggle/docker-python\n",
    "# For example, here's several helpful packages to load\n",
    "\n",
    "import numpy as np # linear algebra\n",
    "import pandas as pd # data processing, CSV file I/O (e.g. pd.read_csv)\n",
    "\n",
    "# Input data files are available in the read-only \"../input/\" directory\n",
    "# For example, running this (by clicking run or pressing Shift+Enter) will list all files under the input directory\n",
    "\n",
    "import os\n",
    "for dirname, _, filenames in os.walk('/kaggle/input'):\n",
    "    for filename in filenames:\n",
    "        print(os.path.join(dirname, filename))\n",
    "\n",
    "\n",
    "# import libraries\n",
    "\n",
    "# 1. to handle the data\n",
    "import pandas as pd\n",
    "import numpy as np\n",
    "\n",
    "# to visualize the dataset\n",
    "import matplotlib.pyplot as plt\n",
    "import seaborn as sns\n",
    "import plotly.express as px\n",
    "import plotly.figure_factory as ff\n",
    "import plotly.graph_objects as go\n",
    "\n",
    "# To preprocess the data\n",
    "from sklearn.preprocessing import StandardScaler, MinMaxScaler, LabelEncoder\n",
    "from sklearn.impute import SimpleImputer, KNNImputer\n",
    "# import iterative imputer\n",
    "from sklearn.experimental import enable_iterative_imputer\n",
    "from sklearn.impute import IterativeImputer\n",
    "\n",
    "# machine learning\n",
    "from sklearn.model_selection import train_test_split, GridSearchCV, cross_val_score\n",
    "#for classification tasks\n",
    "from sklearn.linear_model import LogisticRegression\n",
    "from sklearn.neighbors import KNeighborsClassifier\n",
    "from sklearn.svm import SVC\n",
    "from sklearn.tree import DecisionTreeClassifier\n",
    "from sklearn.ensemble import RandomForestClassifier, AdaBoostClassifier, GradientBoostingClassifier, RandomForestRegressor\n",
    "from xgboost import XGBClassifier\n",
    "from sklearn.preprocessing import KBinsDiscretizer\n",
    "#metrics\n",
    "from sklearn.metrics import accuracy_score, confusion_matrix, classification_report, mean_absolute_error, mean_squared_error, r2_score\n",
    "\n",
    "# ignore warnings   \n",
    "import warnings\n",
    "warnings.filterwarnings('ignore')\n",
    "# You can write up to 20GB to the current directory (/kaggle/working/) that gets preserved as output when you create a version using \"Save & Run All\" \n",
    "# You can also write temporary files to /kaggle/temp/, but they won't be saved outside of the current session"
   ]
  },
  {
   "cell_type": "markdown",
   "id": "d7c45b0a",
   "metadata": {
    "papermill": {
     "duration": 0.0119,
     "end_time": "2025-08-22T17:49:05.396654",
     "exception": false,
     "start_time": "2025-08-22T17:49:05.384754",
     "status": "completed"
    },
    "tags": []
   },
   "source": [
    "<!-- Title -->\n",
    "<p style=\"background-color:#28334AFF;\n",
    "          font-family:'Times New Roman', serif;\n",
    "          font-size:150%;\n",
    "          text-align:center;\n",
    "          color:#FFFFFF;\n",
    "          padding:10px 20px;\n",
    "          border-radius:15px;\">\n",
    "  Dataset Information\n",
    "</p>\n",
    "\n",
    "<!-- Content -->\n",
    "<div style=\"border-radius:12px; \n",
    "            padding:18px; \n",
    "            background-color:#F2F2F2; \n",
    "            font-size:115%; \n",
    "            line-height:1.6; \n",
    "            font-family:'Times New Roman', serif;\n",
    "            color:#000000;\">\n",
    "\n",
    "  <h3 style=\"color:#28334AFF; font-size:120%; text-align:center; margin-bottom:15px;\">\n",
    "    Overview\n",
    "  </h3>\n",
    "  <p>\n",
    "    This dataset contains <strong>76 attributes</strong>, but experiments typically use a subset of <strong>14</strong>. \n",
    "    The <em>Cleveland</em> dataset is the most widely used for machine learning research. \n",
    "    The <strong>\"goal\"</strong> field indicates heart disease presence (0 = no disease, 1–4 = disease). \n",
    "    Experiments generally classify <strong>0 vs 1–4</strong>.\n",
    "  </p>\n",
    "\n",
    "  <h3 style=\"color:#28334AFF; font-size:120%; text-align:center; margin-bottom:15px;\">\n",
    "    Key Variables\n",
    "  </h3>\n",
    "  <table style=\"width:100%; border-collapse:collapse; font-size:17px; margin-bottom:15px;\">\n",
    "    <thead>\n",
    "      <tr style=\"background-color:#e0e0e0;\">\n",
    "        <th style=\"border:1px solid #999; padding:8px; text-align:left;\">Variable</th>\n",
    "        <th style=\"border:1px solid #999; padding:8px; text-align:left;\">Type</th>\n",
    "        <th style=\"border:1px solid #999; padding:8px; text-align:left;\">Description</th>\n",
    "      </tr>\n",
    "    </thead>\n",
    "    <tbody>\n",
    "      <tr><td>age</td><td>Integer</td><td>Age of patient (years)</td></tr>\n",
    "      <tr><td>sex</td><td>Categorical</td><td>Gender</td></tr>\n",
    "      <tr><td>cp</td><td>Categorical</td><td>Chest pain type</td></tr>\n",
    "      <tr><td>trestbps</td><td>Integer</td><td>Resting blood pressure (mm Hg)</td></tr>\n",
    "      <tr><td>chol</td><td>Integer</td><td>Serum cholesterol (mg/dl)</td></tr>\n",
    "      <tr><td>fbs</td><td>Categorical</td><td>Fasting blood sugar >120 mg/dl</td></tr>\n",
    "      <tr><td>restecg</td><td>Categorical</td><td>Resting ECG results</td></tr>\n",
    "      <tr><td>thalach</td><td>Integer</td><td>Maximum heart rate achieved</td></tr>\n",
    "      <tr><td>exang</td><td>Categorical</td><td>Exercise-induced angina</td></tr>\n",
    "      <tr><td>oldpeak</td><td>Float</td><td>ST depression induced by exercise relative to rest</td></tr>\n",
    "      <tr><td>slope</td><td>Categorical</td><td>Slope of peak exercise ST segment</td></tr>\n",
    "      <tr><td>ca</td><td>Integer</td><td>Major vessels colored by fluoroscopy (0–4)</td></tr>\n",
    "      <tr><td>thal</td><td>Categorical</td><td>Thalium stress test result</td></tr>\n",
    "      <tr><td>target</td><td>Integer</td><td>Heart disease presence (0 = no, 1 = yes)</td></tr>\n",
    "    </tbody>\n",
    "  </table>\n",
    "\n",
    "  <h3 style=\"color:#28334AFF; font-size:120%; text-align:center; margin-bottom:15px;\">\n",
    "    Keywords & Creators\n",
    "  </h3>\n",
    "  <p><strong>Keywords:</strong> Heart Disease, Machine Learning, Prediction</p>\n",
    "  <p><strong>Creators:</strong> Andras Janosi, William Steinbrunn, Matthias Pfisterer, Robert Detrano</p>\n",
    "\n",
    "  <p style=\"text-align:right; font-size:15px; color:#555; margin-top:15px;\">\n",
    "    Source: <a href=\"https://archive.ics.uci.edu/dataset/45/heart+disease\" target=\"_blank\" style=\"color:#28334AFF; text-decoration:none;\">UCI Heart Disease Dataset</a>\n",
    "  </p>\n",
    "\n",
    "</div>\n"
   ]
  },
  {
   "cell_type": "markdown",
   "id": "aa0fa90f",
   "metadata": {
    "papermill": {
     "duration": 0.011394,
     "end_time": "2025-08-22T17:49:05.420027",
     "exception": false,
     "start_time": "2025-08-22T17:49:05.408633",
     "status": "completed"
    },
    "tags": []
   },
   "source": [
    "<!-- Title -->\n",
    "<p style=\"background-color:#28334AFF;\n",
    "          font-family:'Times New Roman', serif;\n",
    "          font-size:150%;\n",
    "          text-align:center;\n",
    "          color:#FFFFFF;\n",
    "          padding:10px 20px;\n",
    "          border-radius:15px;\">\n",
    "  Aims and Objectives\n",
    "</p>\n",
    "\n",
    "<!-- Content -->\n",
    "<div style=\"border-radius:12px; \n",
    "            padding:18px; \n",
    "            background-color:#F2F2F2; \n",
    "            font-size:115%; \n",
    "            line-height:1.6; \n",
    "            font-family:'Times New Roman', serif;\n",
    "            color:#000000;\">\n",
    "\n",
    "  <h3 style=\"color:#28334AFF; font-size:120%; text-align:center; margin-bottom:15px;\">\n",
    "    Aim\n",
    "  </h3>\n",
    "  <p>\n",
    "    The primary aim of this study is to develop predictive models using machine learning algorithms to accurately detect the presence of heart disease \n",
    "    based on patient clinical data from the UCI Heart Disease dataset. This aims to support early diagnosis, improve clinical decision-making, \n",
    "    and reduce mortality rates.\n",
    "  </p>\n",
    "\n",
    "  <h3 style=\"color:#28334AFF; font-size:120%; text-align:center; margin-bottom:15px;\">\n",
    "    Objectives\n",
    "  </h3>\n",
    "  <ul>\n",
    "    <li>Perform comprehensive Exploratory Data Analysis (EDA) to understand data distributions, patterns, and correlations.</li>\n",
    "    <li>Handle missing values and outliers to ensure dataset integrity and model robustness.</li>\n",
    "    <li>Preprocess and encode features to make the dataset suitable for machine learning models.</li>\n",
    "    <li>Develop and train machine learning models including Random Forest and XGBoost classifiers for heart disease prediction.</li>\n",
    "    <li>Evaluate model performance using metrics such as accuracy, precision, recall, F1-score, and ROC-AUC.</li>\n",
    "    <li>Interpret the models to identify the most influential features affecting heart disease prediction.</li>\n",
    "    <li>Provide actionable insights for clinical decision support and future research.</li>\n",
    "  </ul>\n",
    "\n",
    "</div>\n"
   ]
  },
  {
   "cell_type": "markdown",
   "id": "c1bd61c0",
   "metadata": {
    "papermill": {
     "duration": 0.011429,
     "end_time": "2025-08-22T17:49:05.443133",
     "exception": false,
     "start_time": "2025-08-22T17:49:05.431704",
     "status": "completed"
    },
    "tags": []
   },
   "source": [
    "\n",
    "\n",
    "1. **Exploratory Data Analysis (EDA):** Conduct an in-depth exploration of the dataset to gain valuable insights into its structure, patterns, and characteristics.\n",
    "\n",
    "2. **Data Preprocessing for ML:** Implement robust preprocessing techniques to ensure data quality and prepare it for effective utilization in Machine Learning tasks, including handling missing values and scaling features.\n",
    "\n",
    "3. **Random Forest and XGB Classifier Training:** Employ state-of-the-art algorithms, namely Random Forest and XGB Classifier, to train models that leverage the dataset's nuances, aiming for high accuracy and predictive power.\n",
    "\n",
    "Through these steps, the objective is to enhance understanding, optimize data quality, and deploy advanced models for insightful analysis and informed decision-making.\n",
    "</h>"
   ]
  },
  {
   "cell_type": "markdown",
   "id": "c2e533e3",
   "metadata": {
    "papermill": {
     "duration": 0.011433,
     "end_time": "2025-08-22T17:49:05.466398",
     "exception": false,
     "start_time": "2025-08-22T17:49:05.454965",
     "status": "completed"
    },
    "tags": []
   },
   "source": [
    "<!-- Title -->\n",
    "<p style=\"background-color:#28334AFF;\n",
    "          font-family:'Times New Roman', serif;\n",
    "          font-size:150%;\n",
    "          text-align:center;\n",
    "          color:#FFFFFF;\n",
    "          padding:10px 20px;\n",
    "          border-radius:15px;\">\n",
    "  Table of Contents\n",
    "</p>\n",
    "\n",
    "<!-- Content -->\n",
    "<div style=\"border-radius:12px; \n",
    "            padding:18px; \n",
    "            background-color:#F2F2F2; \n",
    "            font-size:115%; \n",
    "            line-height:1.6; \n",
    "            font-family:'Times New Roman', serif;\n",
    "            color:#000000;\">\n",
    "\n",
    "  <ul>\n",
    "    <li><a href=\"#1\" style=\"color:#28334AFF; text-decoration:none;\">1. About Data</a>\n",
    "      <ul>\n",
    "        <li><a href=\"#1a\" style=\"color:#28334AFF; text-decoration:none;\">1.1 Import Library</a></li>\n",
    "        <li><a href=\"#1b\" style=\"color:#28334AFF; text-decoration:none;\">1.2 Load Data</a></li>\n",
    "      </ul>\n",
    "    </li>\n",
    "    <li><a href=\"#2\" style=\"color:#28334AFF; text-decoration:none;\">2. EDA (Exploratory Data Analysis)</a>\n",
    "      <ul>\n",
    "        <li><a href=\"#2a\" style=\"color:#28334AFF; text-decoration:none;\">2.1 Outputs</a></li>\n",
    "      </ul>\n",
    "    </li>\n",
    "    <li><a href=\"#3\" style=\"color:#28334AFF; text-decoration:none;\">3. Missing Values Handling</a></li>\n",
    "    <li><a href=\"#4\" style=\"color:#28334AFF; text-decoration:none;\">4. Outliers Handling</a></li>\n",
    "    <li><a href=\"#5\" style=\"color:#28334AFF; text-decoration:none;\">5. Machine Learning</a>\n",
    "      <ul>\n",
    "        <li><a href=\"#5a\" style=\"color:#28334AFF; text-decoration:none;\">5.1 Data Preparation</a></li>\n",
    "        <li><a href=\"#5b\" style=\"color:#28334AFF; text-decoration:none;\">5.2 Random Forest</a></li>\n",
    "        <li><a href=\"#5c\" style=\"color:#28334AFF; text-decoration:none;\">5.3 XGBoost Classifier</a></li>\n",
    "      </ul>\n",
    "    </li>\n",
    "  </ul>\n",
    "</div>\n"
   ]
  },
  {
   "cell_type": "markdown",
   "id": "0d912670",
   "metadata": {
    "papermill": {
     "duration": 0.011549,
     "end_time": "2025-08-22T17:49:05.489668",
     "exception": false,
     "start_time": "2025-08-22T17:49:05.478119",
     "status": "completed"
    },
    "tags": []
   },
   "source": [
    "<!-- Title -->\n",
    "<p style=\"background-color:#28334AFF;\n",
    "          font-family:'Times New Roman', serif;\n",
    "          font-size:150%;\n",
    "          text-align:center;\n",
    "          color:#FFFFFF;\n",
    "          padding:10px 20px;\n",
    "          border-radius:15px;\">\n",
    "  Libraries and Utilities\n",
    "</p>\n",
    "\n",
    "<!-- Content -->\n",
    "<div style=\"border-radius:12px; \n",
    "            padding:18px; \n",
    "            background-color:#F2F2F2; \n",
    "            font-size:115%; \n",
    "            line-height:1.6; \n",
    "            font-family:'Times New Roman', serif;\n",
    "            color:#000000;\">\n",
    "  <p>\n",
    "    In this study, the following Python libraries were used to perform data handling, preprocessing, visualization, and model building:\n",
    "  </p>\n",
    "  <ul>\n",
    "    <li><b>Pandas:</b> Data manipulation and structured dataset handling.</li>\n",
    "    <li><b>NumPy:</b> Numerical operations and array computations.</li>\n",
    "    <li><b>Matplotlib & Seaborn:</b> Data visualization and exploratory data analysis.</li>\n",
    "    <li><b>Scikit-learn:</b> Machine learning algorithms, preprocessing, and evaluation metrics.</li>\n",
    "    <li><b>XGBoost:</b> Gradient boosting-based classification models.</li>\n",
    "    <li><b>Imputer Techniques:</b> Simple, Iterative, and Random Forest imputation for handling missing values.</li>\n",
    "  </ul>\n",
    "</div>\n"
   ]
  },
  {
   "cell_type": "code",
   "execution_count": 3,
   "id": "7caa0e4f",
   "metadata": {
    "execution": {
     "iopub.execute_input": "2025-08-22T17:49:05.515466Z",
     "iopub.status.busy": "2025-08-22T17:49:05.514705Z",
     "iopub.status.idle": "2025-08-22T17:49:05.560540Z",
     "shell.execute_reply": "2025-08-22T17:49:05.559748Z"
    },
    "papermill": {
     "duration": 0.060055,
     "end_time": "2025-08-22T17:49:05.561921",
     "exception": false,
     "start_time": "2025-08-22T17:49:05.501866",
     "status": "completed"
    },
    "tags": []
   },
   "outputs": [
    {
     "data": {
      "text/html": [
       "<div>\n",
       "<style scoped>\n",
       "    .dataframe tbody tr th:only-of-type {\n",
       "        vertical-align: middle;\n",
       "    }\n",
       "\n",
       "    .dataframe tbody tr th {\n",
       "        vertical-align: top;\n",
       "    }\n",
       "\n",
       "    .dataframe thead th {\n",
       "        text-align: right;\n",
       "    }\n",
       "</style>\n",
       "<table border=\"1\" class=\"dataframe\">\n",
       "  <thead>\n",
       "    <tr style=\"text-align: right;\">\n",
       "      <th></th>\n",
       "      <th>id</th>\n",
       "      <th>age</th>\n",
       "      <th>sex</th>\n",
       "      <th>dataset</th>\n",
       "      <th>cp</th>\n",
       "      <th>trestbps</th>\n",
       "      <th>chol</th>\n",
       "      <th>fbs</th>\n",
       "      <th>restecg</th>\n",
       "      <th>thalch</th>\n",
       "      <th>exang</th>\n",
       "      <th>oldpeak</th>\n",
       "      <th>slope</th>\n",
       "      <th>ca</th>\n",
       "      <th>thal</th>\n",
       "      <th>num</th>\n",
       "    </tr>\n",
       "  </thead>\n",
       "  <tbody>\n",
       "    <tr>\n",
       "      <th>0</th>\n",
       "      <td>1</td>\n",
       "      <td>63</td>\n",
       "      <td>Male</td>\n",
       "      <td>Cleveland</td>\n",
       "      <td>typical angina</td>\n",
       "      <td>145.0</td>\n",
       "      <td>233.0</td>\n",
       "      <td>True</td>\n",
       "      <td>lv hypertrophy</td>\n",
       "      <td>150.0</td>\n",
       "      <td>False</td>\n",
       "      <td>2.3</td>\n",
       "      <td>downsloping</td>\n",
       "      <td>0.0</td>\n",
       "      <td>fixed defect</td>\n",
       "      <td>0</td>\n",
       "    </tr>\n",
       "    <tr>\n",
       "      <th>1</th>\n",
       "      <td>2</td>\n",
       "      <td>67</td>\n",
       "      <td>Male</td>\n",
       "      <td>Cleveland</td>\n",
       "      <td>asymptomatic</td>\n",
       "      <td>160.0</td>\n",
       "      <td>286.0</td>\n",
       "      <td>False</td>\n",
       "      <td>lv hypertrophy</td>\n",
       "      <td>108.0</td>\n",
       "      <td>True</td>\n",
       "      <td>1.5</td>\n",
       "      <td>flat</td>\n",
       "      <td>3.0</td>\n",
       "      <td>normal</td>\n",
       "      <td>2</td>\n",
       "    </tr>\n",
       "    <tr>\n",
       "      <th>2</th>\n",
       "      <td>3</td>\n",
       "      <td>67</td>\n",
       "      <td>Male</td>\n",
       "      <td>Cleveland</td>\n",
       "      <td>asymptomatic</td>\n",
       "      <td>120.0</td>\n",
       "      <td>229.0</td>\n",
       "      <td>False</td>\n",
       "      <td>lv hypertrophy</td>\n",
       "      <td>129.0</td>\n",
       "      <td>True</td>\n",
       "      <td>2.6</td>\n",
       "      <td>flat</td>\n",
       "      <td>2.0</td>\n",
       "      <td>reversable defect</td>\n",
       "      <td>1</td>\n",
       "    </tr>\n",
       "    <tr>\n",
       "      <th>3</th>\n",
       "      <td>4</td>\n",
       "      <td>37</td>\n",
       "      <td>Male</td>\n",
       "      <td>Cleveland</td>\n",
       "      <td>non-anginal</td>\n",
       "      <td>130.0</td>\n",
       "      <td>250.0</td>\n",
       "      <td>False</td>\n",
       "      <td>normal</td>\n",
       "      <td>187.0</td>\n",
       "      <td>False</td>\n",
       "      <td>3.5</td>\n",
       "      <td>downsloping</td>\n",
       "      <td>0.0</td>\n",
       "      <td>normal</td>\n",
       "      <td>0</td>\n",
       "    </tr>\n",
       "    <tr>\n",
       "      <th>4</th>\n",
       "      <td>5</td>\n",
       "      <td>41</td>\n",
       "      <td>Female</td>\n",
       "      <td>Cleveland</td>\n",
       "      <td>atypical angina</td>\n",
       "      <td>130.0</td>\n",
       "      <td>204.0</td>\n",
       "      <td>False</td>\n",
       "      <td>lv hypertrophy</td>\n",
       "      <td>172.0</td>\n",
       "      <td>False</td>\n",
       "      <td>1.4</td>\n",
       "      <td>upsloping</td>\n",
       "      <td>0.0</td>\n",
       "      <td>normal</td>\n",
       "      <td>0</td>\n",
       "    </tr>\n",
       "    <tr>\n",
       "      <th>5</th>\n",
       "      <td>6</td>\n",
       "      <td>56</td>\n",
       "      <td>Male</td>\n",
       "      <td>Cleveland</td>\n",
       "      <td>atypical angina</td>\n",
       "      <td>120.0</td>\n",
       "      <td>236.0</td>\n",
       "      <td>False</td>\n",
       "      <td>normal</td>\n",
       "      <td>178.0</td>\n",
       "      <td>False</td>\n",
       "      <td>0.8</td>\n",
       "      <td>upsloping</td>\n",
       "      <td>0.0</td>\n",
       "      <td>normal</td>\n",
       "      <td>0</td>\n",
       "    </tr>\n",
       "    <tr>\n",
       "      <th>6</th>\n",
       "      <td>7</td>\n",
       "      <td>62</td>\n",
       "      <td>Female</td>\n",
       "      <td>Cleveland</td>\n",
       "      <td>asymptomatic</td>\n",
       "      <td>140.0</td>\n",
       "      <td>268.0</td>\n",
       "      <td>False</td>\n",
       "      <td>lv hypertrophy</td>\n",
       "      <td>160.0</td>\n",
       "      <td>False</td>\n",
       "      <td>3.6</td>\n",
       "      <td>downsloping</td>\n",
       "      <td>2.0</td>\n",
       "      <td>normal</td>\n",
       "      <td>3</td>\n",
       "    </tr>\n",
       "    <tr>\n",
       "      <th>7</th>\n",
       "      <td>8</td>\n",
       "      <td>57</td>\n",
       "      <td>Female</td>\n",
       "      <td>Cleveland</td>\n",
       "      <td>asymptomatic</td>\n",
       "      <td>120.0</td>\n",
       "      <td>354.0</td>\n",
       "      <td>False</td>\n",
       "      <td>normal</td>\n",
       "      <td>163.0</td>\n",
       "      <td>True</td>\n",
       "      <td>0.6</td>\n",
       "      <td>upsloping</td>\n",
       "      <td>0.0</td>\n",
       "      <td>normal</td>\n",
       "      <td>0</td>\n",
       "    </tr>\n",
       "    <tr>\n",
       "      <th>8</th>\n",
       "      <td>9</td>\n",
       "      <td>63</td>\n",
       "      <td>Male</td>\n",
       "      <td>Cleveland</td>\n",
       "      <td>asymptomatic</td>\n",
       "      <td>130.0</td>\n",
       "      <td>254.0</td>\n",
       "      <td>False</td>\n",
       "      <td>lv hypertrophy</td>\n",
       "      <td>147.0</td>\n",
       "      <td>False</td>\n",
       "      <td>1.4</td>\n",
       "      <td>flat</td>\n",
       "      <td>1.0</td>\n",
       "      <td>reversable defect</td>\n",
       "      <td>2</td>\n",
       "    </tr>\n",
       "    <tr>\n",
       "      <th>9</th>\n",
       "      <td>10</td>\n",
       "      <td>53</td>\n",
       "      <td>Male</td>\n",
       "      <td>Cleveland</td>\n",
       "      <td>asymptomatic</td>\n",
       "      <td>140.0</td>\n",
       "      <td>203.0</td>\n",
       "      <td>True</td>\n",
       "      <td>lv hypertrophy</td>\n",
       "      <td>155.0</td>\n",
       "      <td>True</td>\n",
       "      <td>3.1</td>\n",
       "      <td>downsloping</td>\n",
       "      <td>0.0</td>\n",
       "      <td>reversable defect</td>\n",
       "      <td>1</td>\n",
       "    </tr>\n",
       "  </tbody>\n",
       "</table>\n",
       "</div>"
      ],
      "text/plain": [
       "   id  age     sex    dataset               cp  trestbps   chol    fbs  \\\n",
       "0   1   63    Male  Cleveland   typical angina     145.0  233.0   True   \n",
       "1   2   67    Male  Cleveland     asymptomatic     160.0  286.0  False   \n",
       "2   3   67    Male  Cleveland     asymptomatic     120.0  229.0  False   \n",
       "3   4   37    Male  Cleveland      non-anginal     130.0  250.0  False   \n",
       "4   5   41  Female  Cleveland  atypical angina     130.0  204.0  False   \n",
       "5   6   56    Male  Cleveland  atypical angina     120.0  236.0  False   \n",
       "6   7   62  Female  Cleveland     asymptomatic     140.0  268.0  False   \n",
       "7   8   57  Female  Cleveland     asymptomatic     120.0  354.0  False   \n",
       "8   9   63    Male  Cleveland     asymptomatic     130.0  254.0  False   \n",
       "9  10   53    Male  Cleveland     asymptomatic     140.0  203.0   True   \n",
       "\n",
       "          restecg  thalch  exang  oldpeak        slope   ca  \\\n",
       "0  lv hypertrophy   150.0  False      2.3  downsloping  0.0   \n",
       "1  lv hypertrophy   108.0   True      1.5         flat  3.0   \n",
       "2  lv hypertrophy   129.0   True      2.6         flat  2.0   \n",
       "3          normal   187.0  False      3.5  downsloping  0.0   \n",
       "4  lv hypertrophy   172.0  False      1.4    upsloping  0.0   \n",
       "5          normal   178.0  False      0.8    upsloping  0.0   \n",
       "6  lv hypertrophy   160.0  False      3.6  downsloping  2.0   \n",
       "7          normal   163.0   True      0.6    upsloping  0.0   \n",
       "8  lv hypertrophy   147.0  False      1.4         flat  1.0   \n",
       "9  lv hypertrophy   155.0   True      3.1  downsloping  0.0   \n",
       "\n",
       "                thal  num  \n",
       "0       fixed defect    0  \n",
       "1             normal    2  \n",
       "2  reversable defect    1  \n",
       "3             normal    0  \n",
       "4             normal    0  \n",
       "5             normal    0  \n",
       "6             normal    3  \n",
       "7             normal    0  \n",
       "8  reversable defect    2  \n",
       "9  reversable defect    1  "
      ]
     },
     "execution_count": 3,
     "metadata": {},
     "output_type": "execute_result"
    }
   ],
   "source": [
    "df = pd.read_csv('/kaggle/input/heart-disease-data/heart_disease_uci.csv')\n",
    "df.head(10)"
   ]
  },
  {
   "cell_type": "markdown",
   "id": "264ddb22",
   "metadata": {
    "papermill": {
     "duration": 0.011889,
     "end_time": "2025-08-22T17:49:05.586461",
     "exception": false,
     "start_time": "2025-08-22T17:49:05.574572",
     "status": "completed"
    },
    "tags": []
   },
   "source": [
    "<!-- Title -->\n",
    "<p style=\"background-color:#28334AFF;\n",
    "          font-family:'Times New Roman', serif;\n",
    "          font-size:140%;\n",
    "          text-align:center;\n",
    "          color:#FFFFFF;\n",
    "          padding:10px 20px;\n",
    "          border-radius:15px;\">\n",
    "  EDA (Exploratory Data Analysis)\n",
    "</p>\n",
    "\n",
    "<!-- Content -->\n",
    "<div style=\"border-radius:12px; \n",
    "            padding:18px; \n",
    "            background-color:#F2F2F2; \n",
    "            font-size:115%; \n",
    "            line-height:1.6; \n",
    "            text-align:justify; \n",
    "            font-family:'Times New Roman', serif;\n",
    "            color:#000000;\">\n",
    "\n",
    "  <h3 style=\"color:#28334AFF; font-size:120%; text-align:center; margin-bottom:15px;\">\n",
    "    1. Overview\n",
    "  </h3>\n",
    "  <p>\n",
    "    Exploratory Data Analysis (EDA) was performed to uncover the underlying patterns, distributions, and relationships in the UCI Heart Disease dataset. \n",
    "    This step is crucial for understanding data characteristics and informing subsequent preprocessing and model-building tasks.\n",
    "  </p>\n",
    "\n",
    "  <h3 style=\"color:#28334AFF; font-size:120%; text-align:center; margin-bottom:15px;\">\n",
    "    2. Data Distribution\n",
    "  </h3>\n",
    "  <ul>\n",
    "    <li>Age distribution was analyzed to identify the most affected age groups.</li>\n",
    "    <li>Sex distribution revealed a predominance of males in the dataset.</li>\n",
    "    <li>Chest pain types (cp) were categorized and analyzed against disease severity.</li>\n",
    "    <li>Regional differences across Cleveland, Hungary, Switzerland, and VA Long Beach cohorts were evaluated.</li>\n",
    "  </ul>\n",
    "\n",
    "  <h3 style=\"color:#28334AFF; font-size:120%; text-align:center; margin-bottom:15px;\">\n",
    "    3. Feature Relationships\n",
    "  </h3>\n",
    "  <ul>\n",
    "    <li>Correlation matrices were computed to identify relationships among numerical features such as age, blood pressure, cholesterol, and maximum heart rate.</li>\n",
    "    <li>Cross-tabulations between categorical features (sex, cp, thal, exang) and disease outcome were performed.</li>\n",
    "    <li>Scatter plots and box plots were utilized to visualize trends, detect anomalies, and observe potential clusters.</li>\n",
    "  </ul>\n",
    "\n",
    "  <h3 style=\"color:#28334AFF; font-size:120%; text-align:center; margin-bottom:15px;\">\n",
    "    4. Missing Values & Outliers\n",
    "  </h3>\n",
    "  <ul>\n",
    "    <li>EDA helped identify columns with missing values and informed the choice of imputation methods.</li>\n",
    "    <li>Outliers were detected using visual and statistical methods. Meaningful outliers were retained, while extreme anomalies were removed.</li>\n",
    "  </ul>\n",
    "\n",
    "  <h3 style=\"color:#28334AFF; font-size:120%; text-align:center; margin-bottom:15px;\">\n",
    "    5. Insights\n",
    "  </h3>\n",
    "  <ul>\n",
    "    <li>EDA revealed that age and chest pain type are strong indicators of heart disease presence.</li>\n",
    "    <li>Males are more frequently affected than females.</li>\n",
    "    <li>Cholesterol, blood pressure, and maximum heart rate exhibited varying trends across different patient groups, guiding feature selection for modeling.</li>\n",
    "    <li>EDA outcomes informed preprocessing, feature engineering, and the selection of machine learning algorithms.</li>\n",
    "  </ul>\n",
    "\n",
    "</div>\n"
   ]
  },
  {
   "cell_type": "code",
   "execution_count": 4,
   "id": "455041fd",
   "metadata": {
    "execution": {
     "iopub.execute_input": "2025-08-22T17:49:05.612358Z",
     "iopub.status.busy": "2025-08-22T17:49:05.611989Z",
     "iopub.status.idle": "2025-08-22T17:49:05.634010Z",
     "shell.execute_reply": "2025-08-22T17:49:05.633000Z"
    },
    "papermill": {
     "duration": 0.036725,
     "end_time": "2025-08-22T17:49:05.635576",
     "exception": false,
     "start_time": "2025-08-22T17:49:05.598851",
     "status": "completed"
    },
    "tags": []
   },
   "outputs": [
    {
     "name": "stdout",
     "output_type": "stream",
     "text": [
      "<class 'pandas.core.frame.DataFrame'>\n",
      "RangeIndex: 920 entries, 0 to 919\n",
      "Data columns (total 16 columns):\n",
      " #   Column    Non-Null Count  Dtype  \n",
      "---  ------    --------------  -----  \n",
      " 0   id        920 non-null    int64  \n",
      " 1   age       920 non-null    int64  \n",
      " 2   sex       920 non-null    object \n",
      " 3   dataset   920 non-null    object \n",
      " 4   cp        920 non-null    object \n",
      " 5   trestbps  861 non-null    float64\n",
      " 6   chol      890 non-null    float64\n",
      " 7   fbs       830 non-null    object \n",
      " 8   restecg   918 non-null    object \n",
      " 9   thalch    865 non-null    float64\n",
      " 10  exang     865 non-null    object \n",
      " 11  oldpeak   858 non-null    float64\n",
      " 12  slope     611 non-null    object \n",
      " 13  ca        309 non-null    float64\n",
      " 14  thal      434 non-null    object \n",
      " 15  num       920 non-null    int64  \n",
      "dtypes: float64(5), int64(3), object(8)\n",
      "memory usage: 115.1+ KB\n"
     ]
    }
   ],
   "source": [
    "# exploring the datatype of each column\n",
    "df.info()"
   ]
  },
  {
   "cell_type": "code",
   "execution_count": 5,
   "id": "6aed2060",
   "metadata": {
    "execution": {
     "iopub.execute_input": "2025-08-22T17:49:05.662287Z",
     "iopub.status.busy": "2025-08-22T17:49:05.661953Z",
     "iopub.status.idle": "2025-08-22T17:49:05.667345Z",
     "shell.execute_reply": "2025-08-22T17:49:05.666398Z"
    },
    "papermill": {
     "duration": 0.020252,
     "end_time": "2025-08-22T17:49:05.668826",
     "exception": false,
     "start_time": "2025-08-22T17:49:05.648574",
     "status": "completed"
    },
    "tags": []
   },
   "outputs": [
    {
     "data": {
      "text/plain": [
       "(920, 16)"
      ]
     },
     "execution_count": 5,
     "metadata": {},
     "output_type": "execute_result"
    }
   ],
   "source": [
    "# data shpae\n",
    "df.shape"
   ]
  },
  {
   "cell_type": "code",
   "execution_count": 6,
   "id": "b6cdc3d1",
   "metadata": {
    "execution": {
     "iopub.execute_input": "2025-08-22T17:49:05.695586Z",
     "iopub.status.busy": "2025-08-22T17:49:05.694884Z",
     "iopub.status.idle": "2025-08-22T17:49:05.700665Z",
     "shell.execute_reply": "2025-08-22T17:49:05.699897Z"
    },
    "papermill": {
     "duration": 0.020288,
     "end_time": "2025-08-22T17:49:05.701914",
     "exception": false,
     "start_time": "2025-08-22T17:49:05.681626",
     "status": "completed"
    },
    "tags": []
   },
   "outputs": [
    {
     "data": {
      "text/plain": [
       "(1, 920)"
      ]
     },
     "execution_count": 6,
     "metadata": {},
     "output_type": "execute_result"
    }
   ],
   "source": [
    "# id column\n",
    "df['id'].min(), df['id'].max()"
   ]
  },
  {
   "cell_type": "code",
   "execution_count": 7,
   "id": "2ca72752",
   "metadata": {
    "execution": {
     "iopub.execute_input": "2025-08-22T17:49:05.788049Z",
     "iopub.status.busy": "2025-08-22T17:49:05.787697Z",
     "iopub.status.idle": "2025-08-22T17:49:05.793459Z",
     "shell.execute_reply": "2025-08-22T17:49:05.792701Z"
    },
    "papermill": {
     "duration": 0.020658,
     "end_time": "2025-08-22T17:49:05.794679",
     "exception": false,
     "start_time": "2025-08-22T17:49:05.774021",
     "status": "completed"
    },
    "tags": []
   },
   "outputs": [
    {
     "data": {
      "text/plain": [
       "(28, 77)"
      ]
     },
     "execution_count": 7,
     "metadata": {},
     "output_type": "execute_result"
    }
   ],
   "source": [
    "# age column\n",
    "df['age'].min(), df['age'].max()"
   ]
  },
  {
   "cell_type": "code",
   "execution_count": 8,
   "id": "287c741f",
   "metadata": {
    "execution": {
     "iopub.execute_input": "2025-08-22T17:49:05.821285Z",
     "iopub.status.busy": "2025-08-22T17:49:05.820955Z",
     "iopub.status.idle": "2025-08-22T17:49:05.831579Z",
     "shell.execute_reply": "2025-08-22T17:49:05.830871Z"
    },
    "papermill": {
     "duration": 0.025461,
     "end_time": "2025-08-22T17:49:05.832901",
     "exception": false,
     "start_time": "2025-08-22T17:49:05.807440",
     "status": "completed"
    },
    "tags": []
   },
   "outputs": [
    {
     "data": {
      "text/plain": [
       "count    920.000000\n",
       "mean      53.510870\n",
       "std        9.424685\n",
       "min       28.000000\n",
       "25%       47.000000\n",
       "50%       54.000000\n",
       "75%       60.000000\n",
       "max       77.000000\n",
       "Name: age, dtype: float64"
      ]
     },
     "execution_count": 8,
     "metadata": {},
     "output_type": "execute_result"
    }
   ],
   "source": [
    "# let's summarie the age column\n",
    "df['age'].describe()"
   ]
  },
  {
   "cell_type": "code",
   "execution_count": 9,
   "id": "4fc9a047",
   "metadata": {
    "execution": {
     "iopub.execute_input": "2025-08-22T17:49:05.860056Z",
     "iopub.status.busy": "2025-08-22T17:49:05.859761Z",
     "iopub.status.idle": "2025-08-22T17:49:06.299751Z",
     "shell.execute_reply": "2025-08-22T17:49:06.298861Z"
    },
    "papermill": {
     "duration": 0.455048,
     "end_time": "2025-08-22T17:49:06.301132",
     "exception": false,
     "start_time": "2025-08-22T17:49:05.846084",
     "status": "completed"
    },
    "tags": []
   },
   "outputs": [
    {
     "data": {
      "text/plain": [
       "<Axes: xlabel='age', ylabel='Count'>"
      ]
     },
     "execution_count": 9,
     "metadata": {},
     "output_type": "execute_result"
    },
    {
     "data": {
      "image/png": "[encoded data removed]",
      "text/plain": [
       "<Figure size 640x480 with 1 Axes>"
      ]
     },
     "metadata": {},
     "output_type": "display_data"
    }
   ],
   "source": [
    "# draw a histogram to see the distribution of age column\n",
    "sns.histplot(df['age'], kde=True)"
   ]
  },
  {
   "cell_type": "code",
   "execution_count": 10,
   "id": "2e06dc2d",
   "metadata": {
    "execution": {
     "iopub.execute_input": "2025-08-22T17:49:06.329790Z",
     "iopub.status.busy": "2025-08-22T17:49:06.329450Z",
     "iopub.status.idle": "2025-08-22T17:49:06.558044Z",
     "shell.execute_reply": "2025-08-22T17:49:06.557276Z"
    },
    "papermill": {
     "duration": 0.244139,
     "end_time": "2025-08-22T17:49:06.559255",
     "exception": false,
     "start_time": "2025-08-22T17:49:06.315116",
     "status": "completed"
    },
    "tags": []
   },
   "outputs": [
    {
     "name": "stdout",
     "output_type": "stream",
     "text": [
      "Mean: 53.51086956521739\n",
      "Median: 54.0\n",
      "Mode: 54\n"
     ]
    },
    {
     "data": {
      "image/png": "[encoded data removed]",
      "text/plain": [
       "<Figure size 640x480 with 1 Axes>"
      ]
     },
     "metadata": {},
     "output_type": "display_data"
    }
   ],
   "source": [
    "# plot the mean, median and mode of age column using sns\n",
    "sns.histplot(df['age'], kde=True)\n",
    "plt.axvline(df['age'].mean(), color='red')\n",
    "plt.axvline(df['age'].median(), color='green')\n",
    "plt.axvline(df['age'].mode()[0], color='blue')\n",
    "\n",
    "# print the value of mean, median and mode of age column\n",
    "print('Mean:', df['age'].mean())\n",
    "print('Median:', df['age'].median())\n",
    "print('Mode:', df['age'].mode()[0])"
   ]
  },
  {
   "cell_type": "markdown",
   "id": "8d0528ef",
   "metadata": {
    "papermill": {
     "duration": 0.013635,
     "end_time": "2025-08-22T17:49:06.586838",
     "exception": false,
     "start_time": "2025-08-22T17:49:06.573203",
     "status": "completed"
    },
    "tags": []
   },
   "source": [
    "# - **Let's explore the gender based distribution of the dataset for age column.**"
   ]
  },
  {
   "cell_type": "code",
   "execution_count": 11,
   "id": "cb4db44b",
   "metadata": {
    "execution": {
     "iopub.execute_input": "2025-08-22T17:49:06.615753Z",
     "iopub.status.busy": "2025-08-22T17:49:06.615421Z",
     "iopub.status.idle": "2025-08-22T17:49:08.057136Z",
     "shell.execute_reply": "2025-08-22T17:49:08.056263Z"
    },
    "papermill": {
     "duration": 1.457642,
     "end_time": "2025-08-22T17:49:08.058479",
     "exception": false,
     "start_time": "2025-08-22T17:49:06.600837",
     "status": "completed"
    },
    "tags": []
   },
   "outputs": [
    {
     "data": {
      "text/html": [
       "<html>\n",
       "<head><meta charset=\"utf-8\" /></head>\n",
       "<body>\n",
       "    <div>            <script src=\"https://cdnjs.cloudflare.com/ajax/libs/mathjax/2.7.5/MathJax.js?config=TeX-AMS-MML_SVG\"></script><script type=\"text/javascript\">if (window.MathJax && window.MathJax.Hub && window.MathJax.Hub.Config) {window.MathJax.Hub.Config({SVG: {font: \"STIX-Web\"}});}</script>                <script type=\"text/javascript\">window.PlotlyConfig = {MathJaxConfig: 'local'};</script>\n",
       "        <script charset=\"utf-8\" src=\"https://cdn.plot.ly/plotly-2.35.2.min.js\"></script>                <div id=\"eeebdc3b-5d4b-4b1b-aa8c-6137dee5673b\" class=\"plotly-graph-div\" style=\"height:525px; width:100%;\"></div>            <script type=\"text/javascript\">                                    window.PLOTLYENV=window.PLOTLYENV || {};                                    if (document.getElementById(\"eeebdc3b-5d4b-4b1b-aa8c-6137dee5673b\")) {                    Plotly.newPlot(                        \"eeebdc3b-5d4b-4b1b-aa8c-6137dee5673b\",                        [{\"alignmentgroup\":\"True\",\"bingroup\":\"x\",\"hovertemplate\":\"sex=Male\\u003cbr\\u003eage=%{x}\\u003cbr\\u003ecount=%{y}\\u003cextra\\u003e\\u003c\\u002fextra\\u003e\",\"legendgroup\":\"Male\",\"marker\":{\"color\":\"#636efa\",\"pattern\":{\"shape\":\"\"}},\"name\":\"Male\",\"offsetgroup\":\"Male\",\"orientation\":\"v\",\"showlegend\":true,\"x\":[63,67,67,37,56,63,53,57,56,44,52,57,48,54,49,64,58,58,60,43,40,60,64,59,44,42,43,57,55,61,40,59,58,51,50,53,65,44,44,60,54,50,41,54,51,58,54,60,60,54,59,46,67,62,65,44,60,48,58,45,39,68,52,44,47,66,62,52,59,52,48,45,34,49,54,59,57,61,39,56,52,41,58,63,65,48,51,55,65,54,44,54,51,29,51,70,62,35,51,59,59,52,64,58,47,57,41,45,52,55,64,70,51,58,60,68,46,77,48,57,52,35,70,53,64,57,52,56,43,53,48,42,59,42,66,54,69,50,51,43,67,69,59,57,43,45,58,50,55,38,41,52,56,59,53,47,54,66,49,54,56,46,42,41,61,67,58,47,52,62,57,58,64,43,70,57,44,61,42,52,59,40,42,61,66,46,59,64,57,57,47,35,61,58,58,56,56,67,44,63,41,59,45,68,57,38,28,29,29,32,32,33,34,34,35,35,36,36,36,36,37,37,37,37,38,38,39,39,39,39,39,39,39,39,39,40,40,40,40,40,41,41,41,41,42,42,42,42,42,42,43,44,44,44,45,45,45,45,46,46,46,46,46,46,47,47,47,48,48,48,48,49,49,49,49,50,50,50,50,50,51,51,51,52,52,52,52,53,53,53,53,53,53,54,54,54,54,54,54,54,54,54,55,55,55,55,55,55,55,56,56,56,56,57,58,58,58,58,59,59,59,59,60,61,62,31,34,35,36,37,38,38,38,40,41,41,43,46,46,46,47,47,48,48,48,49,49,50,52,54,54,55,57,58,60,63,65,32,38,39,43,45,46,46,48,48,48,48,50,52,52,53,54,54,54,54,54,55,56,57,58,58,41,43,44,44,46,49,49,51,52,52,52,52,53,53,54,55,55,55,56,56,58,59,59,65,66,41,43,44,47,49,49,50,50,52,52,56,65,32,34,35,36,38,38,38,38,40,41,42,42,43,43,43,45,46,46,47,47,47,47,48,50,50,50,51,51,51,51,51,51,52,52,52,52,53,53,53,53,53,53,53,53,54,54,54,55,55,55,55,56,56,56,56,56,56,56,56,57,57,57,57,57,57,58,58,58,59,59,59,59,59,60,60,60,60,60,60,61,61,61,61,61,61,61,61,61,62,62,62,62,62,63,63,63,63,63,64,65,65,65,65,66,67,68,68,69,69,70,70,72,74,63,44,60,55,66,66,65,60,60,60,56,59,62,63,57,62,63,46,63,60,58,64,63,74,52,69,51,60,56,55,54,77,63,55,52,64,60,60,58,59,61,40,61,41,57,63,59,51,59,42,55,62,56,53,68,53,60,62,59,51,61,57,56,58,69,67,58,65,63,55,57,65,54,72,75,49,51,60,58,61,67,62,65,63,69,51,62,55,75,40,67,58,60,63,35,62,43,63,68,65,48,63,64,61,50,59,55,45,65,61,49,72,50,64,55,63,59,56,62,74,54,57,62,76,70,48,48,61,66,68,55,62,71,74,53,58,75,56,58,64,54,54,59,55,57,61,41,71,38,55,56,69,64,72,69,56,62,67,57,69,51,48,69,69,64,57,53,37,67,74,63,58,61,64,58,60,57,55,55,56,57,61,61,58,74,68,62,53,62,46,62,55,58,62],\"xaxis\":\"x\",\"yaxis\":\"y\",\"type\":\"histogram\"},{\"alignmentgroup\":\"True\",\"bingroup\":\"x\",\"hovertemplate\":\"sex=Female\\u003cbr\\u003eage=%{x}\\u003cbr\\u003ecount=%{y}\\u003cextra\\u003e\\u003c\\u002fextra\\u003e\",\"legendgroup\":\"Female\",\"marker\":{\"color\":\"#EF553B\",\"pattern\":{\"shape\":\"\"}},\"name\":\"Female\",\"offsetgroup\":\"Female\",\"orientation\":\"v\",\"showlegend\":true,\"x\":[41,62,57,56,48,58,50,58,66,69,65,71,61,65,41,51,46,54,65,65,51,53,53,53,51,62,44,63,60,57,71,61,43,62,35,63,45,56,62,43,55,60,42,67,54,58,54,45,59,62,56,60,63,62,68,45,50,50,64,64,62,37,66,46,46,64,41,54,39,63,34,67,52,55,74,54,49,41,49,60,51,42,67,76,44,58,60,71,66,39,58,55,58,55,63,57,57,30,31,32,34,35,35,37,37,37,38,39,41,41,41,42,43,43,43,43,43,43,43,44,45,45,45,46,47,47,48,48,48,48,48,48,48,49,49,49,49,50,50,51,51,51,51,52,52,52,52,53,53,53,54,54,54,54,54,54,54,55,55,55,56,57,57,59,61,62,33,49,50,51,59,40,47,48,56,47,54,58,38,38,50,51,62,62,64,64,66,73,63,64,54,61,51,54],\"xaxis\":\"x\",\"yaxis\":\"y\",\"type\":\"histogram\"}],                        {\"template\":{\"data\":{\"histogram2dcontour\":[{\"type\":\"histogram2dcontour\",\"colorbar\":{\"outlinewidth\":0,\"ticks\":\"\"},\"colorscale\":[[0.0,\"#0d0887\"],[0.1111111111111111,\"#46039f\"],[0.2222222222222222,\"#7201a8\"],[0.3333333333333333,\"#9c179e\"],[0.4444444444444444,\"#bd3786\"],[0.5555555555555556,\"#d8576b\"],[0.6666666666666666,\"#ed7953\"],[0.7777777777777778,\"#fb9f3a\"],[0.8888888888888888,\"#fdca26\"],[1.0,\"#f0f921\"]]}],\"choropleth\":[{\"type\":\"choropleth\",\"colorbar\":{\"outlinewidth\":0,\"ticks\":\"\"}}],\"histogram2d\":[{\"type\":\"histogram2d\",\"colorbar\":{\"outlinewidth\":0,\"ticks\":\"\"},\"colorscale\":[[0.0,\"#0d0887\"],[0.1111111111111111,\"#46039f\"],[0.2222222222222222,\"#7201a8\"],[0.3333333333333333,\"#9c179e\"],[0.4444444444444444,\"#bd3786\"],[0.5555555555555556,\"#d8576b\"],[0.6666666666666666,\"#ed7953\"],[0.7777777777777778,\"#fb9f3a\"],[0.8888888888888888,\"#fdca26\"],[1.0,\"#f0f921\"]]}],\"heatmap\":[{\"type\":\"heatmap\",\"colorbar\":{\"outlinewidth\":0,\"ticks\":\"\"},\"colorscale\":[[0.0,\"#0d0887\"],[0.1111111111111111,\"#46039f\"],[0.2222222222222222,\"#7201a8\"],[0.3333333333333333,\"#9c179e\"],[0.4444444444444444,\"#bd3786\"],[0.5555555555555556,\"#d8576b\"],[0.6666666666666666,\"#ed7953\"],[0.7777777777777778,\"#fb9f3a\"],[0.8888888888888888,\"#fdca26\"],[1.0,\"#f0f921\"]]}],\"heatmapgl\":[{\"type\":\"heatmapgl\",\"colorbar\":{\"outlinewidth\":0,\"ticks\":\"\"},\"colorscale\":[[0.0,\"#0d0887\"],[0.1111111111111111,\"#46039f\"],[0.2222222222222222,\"#7201a8\"],[0.3333333333333333,\"#9c179e\"],[0.4444444444444444,\"#bd3786\"],[0.5555555555555556,\"#d8576b\"],[0.6666666666666666,\"#ed7953\"],[0.7777777777777778,\"#fb9f3a\"],[0.8888888888888888,\"#fdca26\"],[1.0,\"#f0f921\"]]}],\"contourcarpet\":[{\"type\":\"contourcarpet\",\"colorbar\":{\"outlinewidth\":0,\"ticks\":\"\"}}],\"contour\":[{\"type\":\"contour\",\"colorbar\":{\"outlinewidth\":0,\"ticks\":\"\"},\"colorscale\":[[0.0,\"#0d0887\"],[0.1111111111111111,\"#46039f\"],[0.2222222222222222,\"#7201a8\"],[0.3333333333333333,\"#9c179e\"],[0.4444444444444444,\"#bd3786\"],[0.5555555555555556,\"#d8576b\"],[0.6666666666666666,\"#ed7953\"],[0.7777777777777778,\"#fb9f3a\"],[0.8888888888888888,\"#fdca26\"],[1.0,\"#f0f921\"]]}],\"surface\":[{\"type\":\"surface\",\"colorbar\":{\"outlinewidth\":0,\"ticks\":\"\"},\"colorscale\":[[0.0,\"#0d0887\"],[0.1111111111111111,\"#46039f\"],[0.2222222222222222,\"#7201a8\"],[0.3333333333333333,\"#9c179e\"],[0.4444444444444444,\"#bd3786\"],[0.5555555555555556,\"#d8576b\"],[0.6666666666666666,\"#ed7953\"],[0.7777777777777778,\"#fb9f3a\"],[0.8888888888888888,\"#fdca26\"],[1.0,\"#f0f921\"]]}],\"mesh3d\":[{\"type\":\"mesh3d\",\"colorbar\":{\"outlinewidth\":0,\"ticks\":\"\"}}],\"scatter\":[{\"fillpattern\":{\"fillmode\":\"overlay\",\"size\":10,\"solidity\":0.2},\"type\":\"scatter\"}],\"parcoords\":[{\"type\":\"parcoords\",\"line\":{\"colorbar\":{\"outlinewidth\":0,\"ticks\":\"\"}}}],\"scatterpolargl\":[{\"type\":\"scatterpolargl\",\"marker\":{\"colorbar\":{\"outlinewidth\":0,\"ticks\":\"\"}}}],\"bar\":[{\"error_x\":{\"color\":\"#2a3f5f\"},\"error_y\":{\"color\":\"#2a3f5f\"},\"marker\":{\"line\":{\"color\":\"#E5ECF6\",\"width\":0.5},\"pattern\":{\"fillmode\":\"overlay\",\"size\":10,\"solidity\":0.2}},\"type\":\"bar\"}],\"scattergeo\":[{\"type\":\"scattergeo\",\"marker\":{\"colorbar\":{\"outlinewidth\":0,\"ticks\":\"\"}}}],\"scatterpolar\":[{\"type\":\"scatterpolar\",\"marker\":{\"colorbar\":{\"outlinewidth\":0,\"ticks\":\"\"}}}],\"histogram\":[{\"marker\":{\"pattern\":{\"fillmode\":\"overlay\",\"size\":10,\"solidity\":0.2}},\"type\":\"histogram\"}],\"scattergl\":[{\"type\":\"scattergl\",\"marker\":{\"colorbar\":{\"outlinewidth\":0,\"ticks\":\"\"}}}],\"scatter3d\":[{\"type\":\"scatter3d\",\"line\":{\"colorbar\":{\"outlinewidth\":0,\"ticks\":\"\"}},\"marker\":{\"colorbar\":{\"outlinewidth\":0,\"ticks\":\"\"}}}],\"scattermapbox\":[{\"type\":\"scattermapbox\",\"marker\":{\"colorbar\":{\"outlinewidth\":0,\"ticks\":\"\"}}}],\"scatterternary\":[{\"type\":\"scatterternary\",\"marker\":{\"colorbar\":{\"outlinewidth\":0,\"ticks\":\"\"}}}],\"scattercarpet\":[{\"type\":\"scattercarpet\",\"marker\":{\"colorbar\":{\"outlinewidth\":0,\"ticks\":\"\"}}}],\"carpet\":[{\"aaxis\":{\"endlinecolor\":\"#2a3f5f\",\"gridcolor\":\"white\",\"linecolor\":\"white\",\"minorgridcolor\":\"white\",\"startlinecolor\":\"#2a3f5f\"},\"baxis\":{\"endlinecolor\":\"#2a3f5f\",\"gridcolor\":\"white\",\"linecolor\":\"white\",\"minorgridcolor\":\"white\",\"startlinecolor\":\"#2a3f5f\"},\"type\":\"carpet\"}],\"table\":[{\"cells\":{\"fill\":{\"color\":\"#EBF0F8\"},\"line\":{\"color\":\"white\"}},\"header\":{\"fill\":{\"color\":\"#C8D4E3\"},\"line\":{\"color\":\"white\"}},\"type\":\"table\"}],\"barpolar\":[{\"marker\":{\"line\":{\"color\":\"#E5ECF6\",\"width\":0.5},\"pattern\":{\"fillmode\":\"overlay\",\"size\":10,\"solidity\":0.2}},\"type\":\"barpolar\"}],\"pie\":[{\"automargin\":true,\"type\":\"pie\"}]},\"layout\":{\"autotypenumbers\":\"strict\",\"colorway\":[\"#636efa\",\"#EF553B\",\"#00cc96\",\"#ab63fa\",\"#FFA15A\",\"#19d3f3\",\"#FF6692\",\"#B6E880\",\"#FF97FF\",\"#FECB52\"],\"font\":{\"color\":\"#2a3f5f\"},\"hovermode\":\"closest\",\"hoverlabel\":{\"align\":\"left\"},\"paper_bgcolor\":\"white\",\"plot_bgcolor\":\"#E5ECF6\",\"polar\":{\"bgcolor\":\"#E5ECF6\",\"angularaxis\":{\"gridcolor\":\"white\",\"linecolor\":\"white\",\"ticks\":\"\"},\"radialaxis\":{\"gridcolor\":\"white\",\"linecolor\":\"white\",\"ticks\":\"\"}},\"ternary\":{\"bgcolor\":\"#E5ECF6\",\"aaxis\":{\"gridcolor\":\"white\",\"linecolor\":\"white\",\"ticks\":\"\"},\"baxis\":{\"gridcolor\":\"white\",\"linecolor\":\"white\",\"ticks\":\"\"},\"caxis\":{\"gridcolor\":\"white\",\"linecolor\":\"white\",\"ticks\":\"\"}},\"coloraxis\":{\"colorbar\":{\"outlinewidth\":0,\"ticks\":\"\"}},\"colorscale\":{\"sequential\":[[0.0,\"#0d0887\"],[0.1111111111111111,\"#46039f\"],[0.2222222222222222,\"#7201a8\"],[0.3333333333333333,\"#9c179e\"],[0.4444444444444444,\"#bd3786\"],[0.5555555555555556,\"#d8576b\"],[0.6666666666666666,\"#ed7953\"],[0.7777777777777778,\"#fb9f3a\"],[0.8888888888888888,\"#fdca26\"],[1.0,\"#f0f921\"]],\"sequentialminus\":[[0.0,\"#0d0887\"],[0.1111111111111111,\"#46039f\"],[0.2222222222222222,\"#7201a8\"],[0.3333333333333333,\"#9c179e\"],[0.4444444444444444,\"#bd3786\"],[0.5555555555555556,\"#d8576b\"],[0.6666666666666666,\"#ed7953\"],[0.7777777777777778,\"#fb9f3a\"],[0.8888888888888888,\"#fdca26\"],[1.0,\"#f0f921\"]],\"diverging\":[[0,\"#8e0152\"],[0.1,\"#c51b7d\"],[0.2,\"#de77ae\"],[0.3,\"#f1b6da\"],[0.4,\"#fde0ef\"],[0.5,\"#f7f7f7\"],[0.6,\"#e6f5d0\"],[0.7,\"#b8e186\"],[0.8,\"#7fbc41\"],[0.9,\"#4d9221\"],[1,\"#276419\"]]},\"xaxis\":{\"gridcolor\":\"white\",\"linecolor\":\"white\",\"ticks\":\"\",\"title\":{\"standoff\":15},\"zerolinecolor\":\"white\",\"automargin\":true,\"zerolinewidth\":2},\"yaxis\":{\"gridcolor\":\"white\",\"linecolor\":\"white\",\"ticks\":\"\",\"title\":{\"standoff\":15},\"zerolinecolor\":\"white\",\"automargin\":true,\"zerolinewidth\":2},\"scene\":{\"xaxis\":{\"backgroundcolor\":\"#E5ECF6\",\"gridcolor\":\"white\",\"linecolor\":\"white\",\"showbackground\":true,\"ticks\":\"\",\"zerolinecolor\":\"white\",\"gridwidth\":2},\"yaxis\":{\"backgroundcolor\":\"#E5ECF6\",\"gridcolor\":\"white\",\"linecolor\":\"white\",\"showbackground\":true,\"ticks\":\"\",\"zerolinecolor\":\"white\",\"gridwidth\":2},\"zaxis\":{\"backgroundcolor\":\"#E5ECF6\",\"gridcolor\":\"white\",\"linecolor\":\"white\",\"showbackground\":true,\"ticks\":\"\",\"zerolinecolor\":\"white\",\"gridwidth\":2}},\"shapedefaults\":{\"line\":{\"color\":\"#2a3f5f\"}},\"annotationdefaults\":{\"arrowcolor\":\"#2a3f5f\",\"arrowhead\":0,\"arrowwidth\":1},\"geo\":{\"bgcolor\":\"white\",\"landcolor\":\"#E5ECF6\",\"subunitcolor\":\"white\",\"showland\":true,\"showlakes\":true,\"lakecolor\":\"white\"},\"title\":{\"x\":0.05},\"mapbox\":{\"style\":\"light\"}}},\"xaxis\":{\"anchor\":\"y\",\"domain\":[0.0,1.0],\"title\":{\"text\":\"age\"}},\"yaxis\":{\"anchor\":\"x\",\"domain\":[0.0,1.0],\"title\":{\"text\":\"count\"}},\"legend\":{\"title\":{\"text\":\"sex\"},\"tracegroupgap\":0},\"margin\":{\"t\":60},\"barmode\":\"relative\"},                        {\"responsive\": true}                    ).then(function(){\n",
       "                            \n",
       "var gd = document.getElementById('eeebdc3b-5d4b-4b1b-aa8c-6137dee5673b');\n",
       "var x = new MutationObserver(function (mutations, observer) {{\n",
       "        var display = window.getComputedStyle(gd).display;\n",
       "        if (!display || display === 'none') {{\n",
       "            console.log([gd, 'removed!']);\n",
       "            Plotly.purge(gd);\n",
       "            observer.disconnect();\n",
       "        }}\n",
       "}});\n",
       "\n",
       "// Listen for the removal of the full notebook cells\n",
       "var notebookContainer = gd.closest('#notebook-container');\n",
       "if (notebookContainer) {{\n",
       "    x.observe(notebookContainer, {childList: true});\n",
       "}}\n",
       "\n",
       "// Listen for the clearing of the current output cell\n",
       "var outputEl = gd.closest('.output');\n",
       "if (outputEl) {{\n",
       "    x.observe(outputEl, {childList: true});\n",
       "}}\n",
       "\n",
       "                        })                };                            </script>        </div>\n",
       "</body>\n",
       "</html>"
      ]
     },
     "metadata": {},
     "output_type": "display_data"
    }
   ],
   "source": [
    "# plot the histogram of age column using plotly and coloring this by sex\n",
    "\n",
    "fig = px.histogram(data_frame=df, x='age', color='sex')\n",
    "fig.show()"
   ]
  },
  {
   "cell_type": "code",
   "execution_count": 12,
   "id": "48e26f29",
   "metadata": {
    "execution": {
     "iopub.execute_input": "2025-08-22T17:49:08.088153Z",
     "iopub.status.busy": "2025-08-22T17:49:08.087869Z",
     "iopub.status.idle": "2025-08-22T17:49:08.094361Z",
     "shell.execute_reply": "2025-08-22T17:49:08.093738Z"
    },
    "papermill": {
     "duration": 0.022485,
     "end_time": "2025-08-22T17:49:08.095431",
     "exception": false,
     "start_time": "2025-08-22T17:49:08.072946",
     "status": "completed"
    },
    "tags": []
   },
   "outputs": [
    {
     "data": {
      "text/plain": [
       "sex\n",
       "Male      726\n",
       "Female    194\n",
       "Name: count, dtype: int64"
      ]
     },
     "execution_count": 12,
     "metadata": {},
     "output_type": "execute_result"
    }
   ],
   "source": [
    "# find the values of sex column\n",
    "df['sex'].value_counts()"
   ]
  },
  {
   "cell_type": "code",
   "execution_count": 13,
   "id": "2c0e203c",
   "metadata": {
    "execution": {
     "iopub.execute_input": "2025-08-22T17:49:08.124653Z",
     "iopub.status.busy": "2025-08-22T17:49:08.124345Z",
     "iopub.status.idle": "2025-08-22T17:49:08.129891Z",
     "shell.execute_reply": "2025-08-22T17:49:08.129025Z"
    },
    "papermill": {
     "duration": 0.021545,
     "end_time": "2025-08-22T17:49:08.131087",
     "exception": false,
     "start_time": "2025-08-22T17:49:08.109542",
     "status": "completed"
    },
    "tags": []
   },
   "outputs": [
    {
     "name": "stdout",
     "output_type": "stream",
     "text": [
      "Male percentage in the data: 78.91%\n",
      "Female Percentage in the data: 21.09%\n",
      "Males are 274.23% more than females in the data.\n"
     ]
    }
   ],
   "source": [
    "# calculate the percentages of male and female value counts in the data\n",
    "male_count = 726\n",
    "female_count = 194\n",
    "total_count = male_count + female_count\n",
    "\n",
    "# calculate percentages\n",
    "male_percentage = (male_count / total_count) * 100\n",
    "female_percentage = (female_count / total_count) * 100\n",
    "\n",
    "# display the results\n",
    "print(f\"Male percentage in the data: {male_percentage:.2f}%\")\n",
    "print(f\"Female Percentage in the data: {female_percentage:.2f}%\")\n",
    "\n",
    "# difference\n",
    "difference_percentage = ((male_count - female_count) / female_count) * 100\n",
    "print(f\"Males are {difference_percentage:.2f}% more than females in the data.\")"
   ]
  },
  {
   "cell_type": "code",
   "execution_count": 14,
   "id": "0f4a5697",
   "metadata": {
    "execution": {
     "iopub.execute_input": "2025-08-22T17:49:08.161105Z",
     "iopub.status.busy": "2025-08-22T17:49:08.160610Z",
     "iopub.status.idle": "2025-08-22T17:49:08.226953Z",
     "shell.execute_reply": "2025-08-22T17:49:08.226129Z"
    },
    "papermill": {
     "duration": 0.083088,
     "end_time": "2025-08-22T17:49:08.228366",
     "exception": false,
     "start_time": "2025-08-22T17:49:08.145278",
     "status": "completed"
    },
    "tags": []
   },
   "outputs": [
    {
     "data": {
      "text/html": [
       "<html>\n",
       "<head><meta charset=\"utf-8\" /></head>\n",
       "<body>\n",
       "    <div>            <script src=\"https://cdnjs.cloudflare.com/ajax/libs/mathjax/2.7.5/MathJax.js?config=TeX-AMS-MML_SVG\"></script><script type=\"text/javascript\">if (window.MathJax && window.MathJax.Hub && window.MathJax.Hub.Config) {window.MathJax.Hub.Config({SVG: {font: \"STIX-Web\"}});}</script>                <script type=\"text/javascript\">window.PlotlyConfig = {MathJaxConfig: 'local'};</script>\n",
       "        <script charset=\"utf-8\" src=\"https://cdn.plot.ly/plotly-2.35.2.min.js\"></script>                <div id=\"466f15fe-4f2f-4471-b313-3cfbd850f1c5\" class=\"plotly-graph-div\" style=\"height:525px; width:100%;\"></div>            <script type=\"text/javascript\">                                    window.PLOTLYENV=window.PLOTLYENV || {};                                    if (document.getElementById(\"466f15fe-4f2f-4471-b313-3cfbd850f1c5\")) {                    Plotly.newPlot(                        \"466f15fe-4f2f-4471-b313-3cfbd850f1c5\",                        [{\"customdata\":[[\"Male\"],[\"Male\"],[\"Male\"],[\"Male\"],[\"Female\"],[\"Male\"],[\"Female\"],[\"Female\"],[\"Male\"],[\"Male\"],[\"Male\"],[\"Female\"],[\"Male\"],[\"Male\"],[\"Male\"],[\"Male\"],[\"Male\"],[\"Male\"],[\"Female\"],[\"Male\"],[\"Male\"],[\"Female\"],[\"Male\"],[\"Male\"],[\"Male\"],[\"Female\"],[\"Female\"],[\"Female\"],[\"Male\"],[\"Male\"],[\"Female\"],[\"Male\"],[\"Male\"],[\"Male\"],[\"Male\"],[\"Male\"],[\"Male\"],[\"Male\"],[\"Male\"],[\"Male\"],[\"Female\"],[\"Male\"],[\"Female\"],[\"Male\"],[\"Female\"],[\"Male\"],[\"Male\"],[\"Male\"],[\"Female\"],[\"Male\"],[\"Female\"],[\"Male\"],[\"Male\"],[\"Male\"],[\"Male\"],[\"Male\"],[\"Male\"],[\"Male\"],[\"Male\"],[\"Male\"],[\"Female\"],[\"Female\"],[\"Male\"],[\"Female\"],[\"Male\"],[\"Male\"],[\"Male\"],[\"Male\"],[\"Male\"],[\"Male\"],[\"Female\"],[\"Male\"],[\"Male\"],[\"Male\"],[\"Male\"],[\"Female\"],[\"Male\"],[\"Female\"],[\"Male\"],[\"Male\"],[\"Male\"],[\"Female\"],[\"Male\"],[\"Male\"],[\"Male\"],[\"Male\"],[\"Male\"],[\"Female\"],[\"Female\"],[\"Female\"],[\"Male\"],[\"Female\"],[\"Male\"],[\"Female\"],[\"Female\"],[\"Male\"],[\"Male\"],[\"Female\"],[\"Male\"],[\"Male\"],[\"Male\"],[\"Male\"],[\"Female\"],[\"Female\"],[\"Male\"],[\"Male\"],[\"Male\"],[\"Male\"],[\"Male\"],[\"Male\"],[\"Female\"],[\"Male\"],[\"Male\"],[\"Female\"],[\"Female\"],[\"Male\"],[\"Male\"],[\"Female\"],[\"Male\"],[\"Male\"],[\"Male\"],[\"Female\"],[\"Male\"],[\"Male\"],[\"Male\"],[\"Female\"],[\"Female\"],[\"Male\"],[\"Male\"],[\"Female\"],[\"Male\"],[\"Male\"],[\"Male\"],[\"Male\"],[\"Female\"],[\"Female\"],[\"Male\"],[\"Male\"],[\"Male\"],[\"Male\"],[\"Male\"],[\"Male\"],[\"Male\"],[\"Male\"],[\"Male\"],[\"Male\"],[\"Male\"],[\"Male\"],[\"Male\"],[\"Female\"],[\"Male\"],[\"Female\"],[\"Female\"],[\"Male\"],[\"Male\"],[\"Male\"],[\"Male\"],[\"Male\"],[\"Male\"],[\"Male\"],[\"Male\"],[\"Male\"],[\"Female\"],[\"Female\"],[\"Male\"],[\"Male\"],[\"Male\"],[\"Female\"],[\"Male\"],[\"Female\"],[\"Male\"],[\"Male\"],[\"Female\"],[\"Female\"],[\"Male\"],[\"Male\"],[\"Male\"],[\"Male\"],[\"Male\"],[\"Male\"],[\"Male\"],[\"Female\"],[\"Male\"],[\"Male\"],[\"Female\"],[\"Female\"],[\"Male\"],[\"Male\"],[\"Male\"],[\"Male\"],[\"Male\"],[\"Male\"],[\"Male\"],[\"Female\"],[\"Female\"],[\"Male\"],[\"Male\"],[\"Female\"],[\"Female\"],[\"Male\"],[\"Female\"],[\"Female\"],[\"Male\"],[\"Female\"],[\"Male\"],[\"Male\"],[\"Male\"],[\"Male\"],[\"Male\"],[\"Female\"],[\"Female\"],[\"Male\"],[\"Male\"],[\"Female\"],[\"Male\"],[\"Male\"],[\"Female\"],[\"Female\"],[\"Female\"],[\"Male\"],[\"Female\"],[\"Female\"],[\"Female\"],[\"Male\"],[\"Female\"],[\"Female\"],[\"Male\"],[\"Female\"],[\"Male\"],[\"Male\"],[\"Female\"],[\"Female\"],[\"Male\"],[\"Female\"],[\"Female\"],[\"Male\"],[\"Male\"],[\"Male\"],[\"Female\"],[\"Male\"],[\"Male\"],[\"Female\"],[\"Female\"],[\"Male\"],[\"Female\"],[\"Male\"],[\"Male\"],[\"Male\"],[\"Male\"],[\"Male\"],[\"Male\"],[\"Male\"],[\"Male\"],[\"Female\"],[\"Male\"],[\"Female\"],[\"Female\"],[\"Female\"],[\"Male\"],[\"Male\"],[\"Female\"],[\"Female\"],[\"Female\"],[\"Male\"],[\"Male\"],[\"Male\"],[\"Male\"],[\"Male\"],[\"Male\"],[\"Male\"],[\"Male\"],[\"Male\"],[\"Male\"],[\"Female\"],[\"Male\"],[\"Male\"],[\"Female\"],[\"Female\"],[\"Male\"],[\"Female\"],[\"Male\"],[\"Male\"],[\"Female\"],[\"Male\"],[\"Male\"],[\"Male\"],[\"Female\"],[\"Male\"],[\"Male\"],[\"Male\"],[\"Male\"],[\"Female\"],[\"Male\"],[\"Male\"],[\"Female\"],[\"Male\"],[\"Male\"],[\"Female\"],[\"Male\"],[\"Male\"],[\"Male\"],[\"Female\"],[\"Male\"],[\"Male\"],[\"Male\"],[\"Male\"],[\"Female\"],[\"Female\"],[\"Female\"],[\"Male\"],[\"Male\"],[\"Male\"],[\"Female\"],[\"Male\"],[\"Male\"],[\"Female\"],[\"Female\"],[\"Male\"],[\"Male\"],[\"Male\"],[\"Male\"],[\"Male\"],[\"Male\"],[\"Female\"],[\"Female\"],[\"Female\"],[\"Male\"],[\"Male\"],[\"Male\"],[\"Male\"],[\"Female\"],[\"Male\"],[\"Male\"],[\"Female\"],[\"Male\"],[\"Male\"],[\"Male\"],[\"Male\"],[\"Male\"],[\"Male\"],[\"Male\"],[\"Male\"],[\"Male\"],[\"Male\"],[\"Male\"],[\"Male\"],[\"Male\"],[\"Male\"],[\"Female\"],[\"Female\"],[\"Female\"],[\"Male\"],[\"Male\"],[\"Male\"],[\"Male\"],[\"Female\"],[\"Male\"],[\"Male\"],[\"Male\"],[\"Male\"],[\"Male\"],[\"Male\"],[\"Female\"],[\"Female\"],[\"Female\"],[\"Female\"],[\"Female\"],[\"Female\"],[\"Female\"],[\"Male\"],[\"Female\"],[\"Male\"],[\"Male\"],[\"Male\"],[\"Female\"],[\"Female\"],[\"Female\"],[\"Male\"],[\"Male\"],[\"Male\"],[\"Male\"],[\"Female\"],[\"Male\"],[\"Male\"],[\"Male\"],[\"Male\"],[\"Male\"],[\"Male\"],[\"Female\"],[\"Female\"],[\"Male\"],[\"Male\"],[\"Male\"],[\"Female\"],[\"Female\"],[\"Female\"],[\"Female\"],[\"Female\"],[\"Female\"],[\"Female\"],[\"Male\"],[\"Male\"],[\"Male\"],[\"Male\"],[\"Female\"],[\"Female\"],[\"Female\"],[\"Female\"],[\"Male\"],[\"Male\"],[\"Male\"],[\"Male\"],[\"Female\"],[\"Female\"],[\"Male\"],[\"Male\"],[\"Male\"],[\"Male\"],[\"Male\"],[\"Female\"],[\"Female\"],[\"Female\"],[\"Female\"],[\"Male\"],[\"Male\"],[\"Male\"],[\"Female\"],[\"Female\"],[\"Female\"],[\"Female\"],[\"Male\"],[\"Male\"],[\"Male\"],[\"Male\"],[\"Female\"],[\"Female\"],[\"Female\"],[\"Male\"],[\"Male\"],[\"Male\"],[\"Male\"],[\"Male\"],[\"Male\"],[\"Female\"],[\"Female\"],[\"Female\"],[\"Female\"],[\"Female\"],[\"Female\"],[\"Female\"],[\"Male\"],[\"Male\"],[\"Male\"],[\"Male\"],[\"Male\"],[\"Male\"],[\"Male\"],[\"Male\"],[\"Male\"],[\"Female\"],[\"Female\"],[\"Female\"],[\"Male\"],[\"Male\"],[\"Male\"],[\"Male\"],[\"Male\"],[\"Male\"],[\"Male\"],[\"Female\"],[\"Male\"],[\"Male\"],[\"Male\"],[\"Male\"],[\"Female\"],[\"Female\"],[\"Male\"],[\"Male\"],[\"Male\"],[\"Male\"],[\"Male\"],[\"Female\"],[\"Male\"],[\"Male\"],[\"Male\"],[\"Male\"],[\"Male\"],[\"Female\"],[\"Male\"],[\"Female\"],[\"Male\"],[\"Male\"],[\"Female\"],[\"Male\"],[\"Male\"],[\"Male\"],[\"Male\"],[\"Male\"],[\"Male\"],[\"Male\"],[\"Male\"],[\"Male\"],[\"Male\"],[\"Male\"],[\"Male\"],[\"Male\"],[\"Male\"],[\"Male\"],[\"Male\"],[\"Male\"],[\"Male\"],[\"Male\"],[\"Female\"],[\"Male\"],[\"Male\"],[\"Female\"],[\"Male\"],[\"Female\"],[\"Male\"],[\"Male\"],[\"Male\"],[\"Male\"],[\"Male\"],[\"Male\"],[\"Female\"],[\"Male\"],[\"Male\"],[\"Male\"],[\"Male\"],[\"Male\"],[\"Male\"],[\"Female\"],[\"Male\"],[\"Male\"],[\"Male\"],[\"Male\"],[\"Male\"],[\"Male\"],[\"Male\"],[\"Male\"],[\"Male\"],[\"Male\"],[\"Male\"],[\"Male\"],[\"Male\"],[\"Male\"],[\"Male\"],[\"Male\"],[\"Male\"],[\"Male\"],[\"Male\"],[\"Male\"],[\"Male\"],[\"Male\"],[\"Male\"],[\"Male\"],[\"Male\"],[\"Male\"],[\"Male\"],[\"Female\"],[\"Female\"],[\"Male\"],[\"Male\"],[\"Male\"],[\"Male\"],[\"Male\"],[\"Male\"],[\"Male\"],[\"Male\"],[\"Male\"],[\"Male\"],[\"Male\"],[\"Male\"],[\"Male\"],[\"Female\"],[\"Male\"],[\"Male\"],[\"Male\"],[\"Male\"],[\"Male\"],[\"Male\"],[\"Male\"],[\"Male\"],[\"Male\"],[\"Male\"],[\"Female\"],[\"Male\"],[\"Male\"],[\"Male\"],[\"Male\"],[\"Male\"],[\"Male\"],[\"Male\"],[\"Female\"],[\"Male\"],[\"Female\"],[\"Male\"],[\"Male\"],[\"Male\"],[\"Male\"],[\"Male\"],[\"Female\"],[\"Female\"],[\"Male\"],[\"Male\"],[\"Male\"],[\"Male\"],[\"Male\"],[\"Male\"],[\"Male\"],[\"Male\"],[\"Male\"],[\"Male\"],[\"Male\"],[\"Male\"],[\"Male\"],[\"Male\"],[\"Male\"],[\"Male\"],[\"Male\"],[\"Male\"],[\"Male\"],[\"Female\"],[\"Male\"],[\"Male\"],[\"Male\"],[\"Female\"],[\"Male\"],[\"Male\"],[\"Male\"],[\"Male\"],[\"Male\"],[\"Male\"],[\"Male\"],[\"Male\"],[\"Male\"],[\"Male\"],[\"Male\"],[\"Male\"],[\"Male\"],[\"Male\"],[\"Male\"],[\"Male\"],[\"Male\"],[\"Male\"],[\"Male\"],[\"Male\"],[\"Male\"],[\"Male\"],[\"Male\"],[\"Male\"],[\"Male\"],[\"Male\"],[\"Male\"],[\"Male\"],[\"Male\"],[\"Male\"],[\"Male\"],[\"Male\"],[\"Male\"],[\"Male\"],[\"Male\"],[\"Male\"],[\"Male\"],[\"Male\"],[\"Male\"],[\"Male\"],[\"Male\"],[\"Male\"],[\"Male\"],[\"Male\"],[\"Male\"],[\"Male\"],[\"Male\"],[\"Male\"],[\"Male\"],[\"Male\"],[\"Male\"],[\"Male\"],[\"Male\"],[\"Male\"],[\"Male\"],[\"Male\"],[\"Male\"],[\"Male\"],[\"Male\"],[\"Male\"],[\"Male\"],[\"Male\"],[\"Female\"],[\"Female\"],[\"Male\"],[\"Male\"],[\"Male\"],[\"Male\"],[\"Male\"],[\"Male\"],[\"Male\"],[\"Male\"],[\"Male\"],[\"Male\"],[\"Female\"],[\"Female\"],[\"Male\"],[\"Male\"],[\"Male\"],[\"Male\"],[\"Male\"],[\"Female\"],[\"Male\"],[\"Male\"],[\"Male\"],[\"Male\"],[\"Male\"],[\"Male\"],[\"Male\"],[\"Male\"],[\"Male\"],[\"Female\"],[\"Male\"],[\"Male\"],[\"Male\"],[\"Male\"],[\"Male\"],[\"Male\"],[\"Male\"],[\"Male\"],[\"Male\"],[\"Male\"],[\"Male\"],[\"Male\"],[\"Male\"],[\"Male\"],[\"Male\"],[\"Male\"],[\"Male\"],[\"Male\"],[\"Male\"],[\"Male\"],[\"Male\"],[\"Male\"],[\"Male\"],[\"Male\"],[\"Male\"],[\"Male\"],[\"Male\"],[\"Male\"],[\"Male\"],[\"Male\"],[\"Male\"],[\"Male\"],[\"Male\"],[\"Male\"],[\"Male\"],[\"Male\"],[\"Male\"],[\"Male\"],[\"Male\"],[\"Male\"],[\"Male\"],[\"Male\"],[\"Male\"],[\"Male\"],[\"Male\"],[\"Male\"],[\"Male\"],[\"Male\"],[\"Male\"],[\"Male\"],[\"Male\"],[\"Male\"],[\"Female\"],[\"Male\"],[\"Male\"],[\"Male\"],[\"Male\"],[\"Male\"],[\"Male\"],[\"Male\"],[\"Male\"],[\"Male\"],[\"Male\"],[\"Male\"],[\"Male\"],[\"Male\"],[\"Male\"],[\"Male\"],[\"Male\"],[\"Male\"],[\"Male\"],[\"Male\"],[\"Male\"],[\"Male\"],[\"Male\"],[\"Male\"],[\"Male\"],[\"Male\"],[\"Male\"],[\"Male\"],[\"Female\"],[\"Male\"],[\"Male\"],[\"Male\"],[\"Male\"],[\"Male\"],[\"Male\"],[\"Male\"],[\"Male\"],[\"Male\"],[\"Male\"],[\"Male\"],[\"Male\"],[\"Male\"],[\"Male\"],[\"Male\"],[\"Male\"],[\"Male\"],[\"Male\"],[\"Male\"],[\"Male\"],[\"Male\"],[\"Male\"],[\"Male\"],[\"Male\"],[\"Male\"],[\"Male\"],[\"Male\"],[\"Male\"],[\"Male\"],[\"Male\"],[\"Male\"],[\"Male\"],[\"Male\"],[\"Male\"],[\"Male\"],[\"Male\"],[\"Male\"],[\"Male\"],[\"Male\"],[\"Male\"],[\"Male\"],[\"Male\"],[\"Male\"],[\"Male\"],[\"Male\"],[\"Male\"],[\"Female\"],[\"Male\"],[\"Female\"],[\"Male\"],[\"Male\"],[\"Male\"],[\"Male\"],[\"Male\"],[\"Male\"],[\"Male\"],[\"Male\"],[\"Male\"],[\"Male\"],[\"Male\"],[\"Male\"],[\"Male\"],[\"Male\"],[\"Male\"],[\"Male\"],[\"Male\"],[\"Male\"],[\"Male\"],[\"Male\"],[\"Male\"],[\"Male\"],[\"Male\"],[\"Male\"],[\"Male\"],[\"Male\"],[\"Male\"],[\"Male\"],[\"Male\"],[\"Male\"],[\"Male\"],[\"Male\"],[\"Male\"],[\"Male\"],[\"Male\"],[\"Male\"],[\"Male\"],[\"Male\"],[\"Male\"],[\"Male\"],[\"Male\"],[\"Male\"],[\"Male\"],[\"Male\"],[\"Male\"],[\"Male\"],[\"Male\"],[\"Male\"],[\"Male\"],[\"Male\"],[\"Male\"],[\"Male\"],[\"Male\"],[\"Male\"],[\"Male\"],[\"Male\"],[\"Male\"],[\"Male\"],[\"Male\"],[\"Male\"],[\"Male\"],[\"Female\"],[\"Male\"],[\"Male\"],[\"Male\"],[\"Male\"],[\"Female\"],[\"Male\"],[\"Male\"],[\"Male\"],[\"Male\"]],\"domain\":{\"x\":[0.0,1.0],\"y\":[0.0,1.0]},\"hovertemplate\":\"sex=%{customdata[0]}\\u003cextra\\u003e\\u003c\\u002fextra\\u003e\",\"labels\":[\"Male\",\"Male\",\"Male\",\"Male\",\"Female\",\"Male\",\"Female\",\"Female\",\"Male\",\"Male\",\"Male\",\"Female\",\"Male\",\"Male\",\"Male\",\"Male\",\"Male\",\"Male\",\"Female\",\"Male\",\"Male\",\"Female\",\"Male\",\"Male\",\"Male\",\"Female\",\"Female\",\"Female\",\"Male\",\"Male\",\"Female\",\"Male\",\"Male\",\"Male\",\"Male\",\"Male\",\"Male\",\"Male\",\"Male\",\"Male\",\"Female\",\"Male\",\"Female\",\"Male\",\"Female\",\"Male\",\"Male\",\"Male\",\"Female\",\"Male\",\"Female\",\"Male\",\"Male\",\"Male\",\"Male\",\"Male\",\"Male\",\"Male\",\"Male\",\"Male\",\"Female\",\"Female\",\"Male\",\"Female\",\"Male\",\"Male\",\"Male\",\"Male\",\"Male\",\"Male\",\"Female\",\"Male\",\"Male\",\"Male\",\"Male\",\"Female\",\"Male\",\"Female\",\"Male\",\"Male\",\"Male\",\"Female\",\"Male\",\"Male\",\"Male\",\"Male\",\"Male\",\"Female\",\"Female\",\"Female\",\"Male\",\"Female\",\"Male\",\"Female\",\"Female\",\"Male\",\"Male\",\"Female\",\"Male\",\"Male\",\"Male\",\"Male\",\"Female\",\"Female\",\"Male\",\"Male\",\"Male\",\"Male\",\"Male\",\"Male\",\"Female\",\"Male\",\"Male\",\"Female\",\"Female\",\"Male\",\"Male\",\"Female\",\"Male\",\"Male\",\"Male\",\"Female\",\"Male\",\"Male\",\"Male\",\"Female\",\"Female\",\"Male\",\"Male\",\"Female\",\"Male\",\"Male\",\"Male\",\"Male\",\"Female\",\"Female\",\"Male\",\"Male\",\"Male\",\"Male\",\"Male\",\"Male\",\"Male\",\"Male\",\"Male\",\"Male\",\"Male\",\"Male\",\"Male\",\"Female\",\"Male\",\"Female\",\"Female\",\"Male\",\"Male\",\"Male\",\"Male\",\"Male\",\"Male\",\"Male\",\"Male\",\"Male\",\"Female\",\"Female\",\"Male\",\"Male\",\"Male\",\"Female\",\"Male\",\"Female\",\"Male\",\"Male\",\"Female\",\"Female\",\"Male\",\"Male\",\"Male\",\"Male\",\"Male\",\"Male\",\"Male\",\"Female\",\"Male\",\"Male\",\"Female\",\"Female\",\"Male\",\"Male\",\"Male\",\"Male\",\"Male\",\"Male\",\"Male\",\"Female\",\"Female\",\"Male\",\"Male\",\"Female\",\"Female\",\"Male\",\"Female\",\"Female\",\"Male\",\"Female\",\"Male\",\"Male\",\"Male\",\"Male\",\"Male\",\"Female\",\"Female\",\"Male\",\"Male\",\"Female\",\"Male\",\"Male\",\"Female\",\"Female\",\"Female\",\"Male\",\"Female\",\"Female\",\"Female\",\"Male\",\"Female\",\"Female\",\"Male\",\"Female\",\"Male\",\"Male\",\"Female\",\"Female\",\"Male\",\"Female\",\"Female\",\"Male\",\"Male\",\"Male\",\"Female\",\"Male\",\"Male\",\"Female\",\"Female\",\"Male\",\"Female\",\"Male\",\"Male\",\"Male\",\"Male\",\"Male\",\"Male\",\"Male\",\"Male\",\"Female\",\"Male\",\"Female\",\"Female\",\"Female\",\"Male\",\"Male\",\"Female\",\"Female\",\"Female\",\"Male\",\"Male\",\"Male\",\"Male\",\"Male\",\"Male\",\"Male\",\"Male\",\"Male\",\"Male\",\"Female\",\"Male\",\"Male\",\"Female\",\"Female\",\"Male\",\"Female\",\"Male\",\"Male\",\"Female\",\"Male\",\"Male\",\"Male\",\"Female\",\"Male\",\"Male\",\"Male\",\"Male\",\"Female\",\"Male\",\"Male\",\"Female\",\"Male\",\"Male\",\"Female\",\"Male\",\"Male\",\"Male\",\"Female\",\"Male\",\"Male\",\"Male\",\"Male\",\"Female\",\"Female\",\"Female\",\"Male\",\"Male\",\"Male\",\"Female\",\"Male\",\"Male\",\"Female\",\"Female\",\"Male\",\"Male\",\"Male\",\"Male\",\"Male\",\"Male\",\"Female\",\"Female\",\"Female\",\"Male\",\"Male\",\"Male\",\"Male\",\"Female\",\"Male\",\"Male\",\"Female\",\"Male\",\"Male\",\"Male\",\"Male\",\"Male\",\"Male\",\"Male\",\"Male\",\"Male\",\"Male\",\"Male\",\"Male\",\"Male\",\"Male\",\"Female\",\"Female\",\"Female\",\"Male\",\"Male\",\"Male\",\"Male\",\"Female\",\"Male\",\"Male\",\"Male\",\"Male\",\"Male\",\"Male\",\"Female\",\"Female\",\"Female\",\"Female\",\"Female\",\"Female\",\"Female\",\"Male\",\"Female\",\"Male\",\"Male\",\"Male\",\"Female\",\"Female\",\"Female\",\"Male\",\"Male\",\"Male\",\"Male\",\"Female\",\"Male\",\"Male\",\"Male\",\"Male\",\"Male\",\"Male\",\"Female\",\"Female\",\"Male\",\"Male\",\"Male\",\"Female\",\"Female\",\"Female\",\"Female\",\"Female\",\"Female\",\"Female\",\"Male\",\"Male\",\"Male\",\"Male\",\"Female\",\"Female\",\"Female\",\"Female\",\"Male\",\"Male\",\"Male\",\"Male\",\"Female\",\"Female\",\"Male\",\"Male\",\"Male\",\"Male\",\"Male\",\"Female\",\"Female\",\"Female\",\"Female\",\"Male\",\"Male\",\"Male\",\"Female\",\"Female\",\"Female\",\"Female\",\"Male\",\"Male\",\"Male\",\"Male\",\"Female\",\"Female\",\"Female\",\"Male\",\"Male\",\"Male\",\"Male\",\"Male\",\"Male\",\"Female\",\"Female\",\"Female\",\"Female\",\"Female\",\"Female\",\"Female\",\"Male\",\"Male\",\"Male\",\"Male\",\"Male\",\"Male\",\"Male\",\"Male\",\"Male\",\"Female\",\"Female\",\"Female\",\"Male\",\"Male\",\"Male\",\"Male\",\"Male\",\"Male\",\"Male\",\"Female\",\"Male\",\"Male\",\"Male\",\"Male\",\"Female\",\"Female\",\"Male\",\"Male\",\"Male\",\"Male\",\"Male\",\"Female\",\"Male\",\"Male\",\"Male\",\"Male\",\"Male\",\"Female\",\"Male\",\"Female\",\"Male\",\"Male\",\"Female\",\"Male\",\"Male\",\"Male\",\"Male\",\"Male\",\"Male\",\"Male\",\"Male\",\"Male\",\"Male\",\"Male\",\"Male\",\"Male\",\"Male\",\"Male\",\"Male\",\"Male\",\"Male\",\"Male\",\"Female\",\"Male\",\"Male\",\"Female\",\"Male\",\"Female\",\"Male\",\"Male\",\"Male\",\"Male\",\"Male\",\"Male\",\"Female\",\"Male\",\"Male\",\"Male\",\"Male\",\"Male\",\"Male\",\"Female\",\"Male\",\"Male\",\"Male\",\"Male\",\"Male\",\"Male\",\"Male\",\"Male\",\"Male\",\"Male\",\"Male\",\"Male\",\"Male\",\"Male\",\"Male\",\"Male\",\"Male\",\"Male\",\"Male\",\"Male\",\"Male\",\"Male\",\"Male\",\"Male\",\"Male\",\"Male\",\"Male\",\"Female\",\"Female\",\"Male\",\"Male\",\"Male\",\"Male\",\"Male\",\"Male\",\"Male\",\"Male\",\"Male\",\"Male\",\"Male\",\"Male\",\"Male\",\"Female\",\"Male\",\"Male\",\"Male\",\"Male\",\"Male\",\"Male\",\"Male\",\"Male\",\"Male\",\"Male\",\"Female\",\"Male\",\"Male\",\"Male\",\"Male\",\"Male\",\"Male\",\"Male\",\"Female\",\"Male\",\"Female\",\"Male\",\"Male\",\"Male\",\"Male\",\"Male\",\"Female\",\"Female\",\"Male\",\"Male\",\"Male\",\"Male\",\"Male\",\"Male\",\"Male\",\"Male\",\"Male\",\"Male\",\"Male\",\"Male\",\"Male\",\"Male\",\"Male\",\"Male\",\"Male\",\"Male\",\"Male\",\"Female\",\"Male\",\"Male\",\"Male\",\"Female\",\"Male\",\"Male\",\"Male\",\"Male\",\"Male\",\"Male\",\"Male\",\"Male\",\"Male\",\"Male\",\"Male\",\"Male\",\"Male\",\"Male\",\"Male\",\"Male\",\"Male\",\"Male\",\"Male\",\"Male\",\"Male\",\"Male\",\"Male\",\"Male\",\"Male\",\"Male\",\"Male\",\"Male\",\"Male\",\"Male\",\"Male\",\"Male\",\"Male\",\"Male\",\"Male\",\"Male\",\"Male\",\"Male\",\"Male\",\"Male\",\"Male\",\"Male\",\"Male\",\"Male\",\"Male\",\"Male\",\"Male\",\"Male\",\"Male\",\"Male\",\"Male\",\"Male\",\"Male\",\"Male\",\"Male\",\"Male\",\"Male\",\"Male\",\"Male\",\"Male\",\"Male\",\"Male\",\"Female\",\"Female\",\"Male\",\"Male\",\"Male\",\"Male\",\"Male\",\"Male\",\"Male\",\"Male\",\"Male\",\"Male\",\"Female\",\"Female\",\"Male\",\"Male\",\"Male\",\"Male\",\"Male\",\"Female\",\"Male\",\"Male\",\"Male\",\"Male\",\"Male\",\"Male\",\"Male\",\"Male\",\"Male\",\"Female\",\"Male\",\"Male\",\"Male\",\"Male\",\"Male\",\"Male\",\"Male\",\"Male\",\"Male\",\"Male\",\"Male\",\"Male\",\"Male\",\"Male\",\"Male\",\"Male\",\"Male\",\"Male\",\"Male\",\"Male\",\"Male\",\"Male\",\"Male\",\"Male\",\"Male\",\"Male\",\"Male\",\"Male\",\"Male\",\"Male\",\"Male\",\"Male\",\"Male\",\"Male\",\"Male\",\"Male\",\"Male\",\"Male\",\"Male\",\"Male\",\"Male\",\"Male\",\"Male\",\"Male\",\"Male\",\"Male\",\"Male\",\"Male\",\"Male\",\"Male\",\"Male\",\"Male\",\"Female\",\"Male\",\"Male\",\"Male\",\"Male\",\"Male\",\"Male\",\"Male\",\"Male\",\"Male\",\"Male\",\"Male\",\"Male\",\"Male\",\"Male\",\"Male\",\"Male\",\"Male\",\"Male\",\"Male\",\"Male\",\"Male\",\"Male\",\"Male\",\"Male\",\"Male\",\"Male\",\"Male\",\"Female\",\"Male\",\"Male\",\"Male\",\"Male\",\"Male\",\"Male\",\"Male\",\"Male\",\"Male\",\"Male\",\"Male\",\"Male\",\"Male\",\"Male\",\"Male\",\"Male\",\"Male\",\"Male\",\"Male\",\"Male\",\"Male\",\"Male\",\"Male\",\"Male\",\"Male\",\"Male\",\"Male\",\"Male\",\"Male\",\"Male\",\"Male\",\"Male\",\"Male\",\"Male\",\"Male\",\"Male\",\"Male\",\"Male\",\"Male\",\"Male\",\"Male\",\"Male\",\"Male\",\"Male\",\"Male\",\"Male\",\"Female\",\"Male\",\"Female\",\"Male\",\"Male\",\"Male\",\"Male\",\"Male\",\"Male\",\"Male\",\"Male\",\"Male\",\"Male\",\"Male\",\"Male\",\"Male\",\"Male\",\"Male\",\"Male\",\"Male\",\"Male\",\"Male\",\"Male\",\"Male\",\"Male\",\"Male\",\"Male\",\"Male\",\"Male\",\"Male\",\"Male\",\"Male\",\"Male\",\"Male\",\"Male\",\"Male\",\"Male\",\"Male\",\"Male\",\"Male\",\"Male\",\"Male\",\"Male\",\"Male\",\"Male\",\"Male\",\"Male\",\"Male\",\"Male\",\"Male\",\"Male\",\"Male\",\"Male\",\"Male\",\"Male\",\"Male\",\"Male\",\"Male\",\"Male\",\"Male\",\"Male\",\"Male\",\"Male\",\"Male\",\"Female\",\"Male\",\"Male\",\"Male\",\"Male\",\"Female\",\"Male\",\"Male\",\"Male\",\"Male\"],\"legendgroup\":\"\",\"marker\":{\"colors\":[\"#636efa\",\"#636efa\",\"#636efa\",\"#636efa\",\"#EF553B\",\"#636efa\",\"#EF553B\",\"#EF553B\",\"#636efa\",\"#636efa\",\"#636efa\",\"#EF553B\",\"#636efa\",\"#636efa\",\"#636efa\",\"#636efa\",\"#636efa\",\"#636efa\",\"#EF553B\",\"#636efa\",\"#636efa\",\"#EF553B\",\"#636efa\",\"#636efa\",\"#636efa\",\"#EF553B\",\"#EF553B\",\"#EF553B\",\"#636efa\",\"#636efa\",\"#EF553B\",\"#636efa\",\"#636efa\",\"#636efa\",\"#636efa\",\"#636efa\",\"#636efa\",\"#636efa\",\"#636efa\",\"#636efa\",\"#EF553B\",\"#636efa\",\"#EF553B\",\"#636efa\",\"#EF553B\",\"#636efa\",\"#636efa\",\"#636efa\",\"#EF553B\",\"#636efa\",\"#EF553B\",\"#636efa\",\"#636efa\",\"#636efa\",\"#636efa\",\"#636efa\",\"#636efa\",\"#636efa\",\"#636efa\",\"#636efa\",\"#EF553B\",\"#EF553B\",\"#636efa\",\"#EF553B\",\"#636efa\",\"#636efa\",\"#636efa\",\"#636efa\",\"#636efa\",\"#636efa\",\"#EF553B\",\"#636efa\",\"#636efa\",\"#636efa\",\"#636efa\",\"#EF553B\",\"#636efa\",\"#EF553B\",\"#636efa\",\"#636efa\",\"#636efa\",\"#EF553B\",\"#636efa\",\"#636efa\",\"#636efa\",\"#636efa\",\"#636efa\",\"#EF553B\",\"#EF553B\",\"#EF553B\",\"#636efa\",\"#EF553B\",\"#636efa\",\"#EF553B\",\"#EF553B\",\"#636efa\",\"#636efa\",\"#EF553B\",\"#636efa\",\"#636efa\",\"#636efa\",\"#636efa\",\"#EF553B\",\"#EF553B\",\"#636efa\",\"#636efa\",\"#636efa\",\"#636efa\",\"#636efa\",\"#636efa\",\"#EF553B\",\"#636efa\",\"#636efa\",\"#EF553B\",\"#EF553B\",\"#636efa\",\"#636efa\",\"#EF553B\",\"#636efa\",\"#636efa\",\"#636efa\",\"#EF553B\",\"#636efa\",\"#636efa\",\"#636efa\",\"#EF553B\",\"#EF553B\",\"#636efa\",\"#636efa\",\"#EF553B\",\"#636efa\",\"#636efa\",\"#636efa\",\"#636efa\",\"#EF553B\",\"#EF553B\",\"#636efa\",\"#636efa\",\"#636efa\",\"#636efa\",\"#636efa\",\"#636efa\",\"#636efa\",\"#636efa\",\"#636efa\",\"#636efa\",\"#636efa\",\"#636efa\",\"#636efa\",\"#EF553B\",\"#636efa\",\"#EF553B\",\"#EF553B\",\"#636efa\",\"#636efa\",\"#636efa\",\"#636efa\",\"#636efa\",\"#636efa\",\"#636efa\",\"#636efa\",\"#636efa\",\"#EF553B\",\"#EF553B\",\"#636efa\",\"#636efa\",\"#636efa\",\"#EF553B\",\"#636efa\",\"#EF553B\",\"#636efa\",\"#636efa\",\"#EF553B\",\"#EF553B\",\"#636efa\",\"#636efa\",\"#636efa\",\"#636efa\",\"#636efa\",\"#636efa\",\"#636efa\",\"#EF553B\",\"#636efa\",\"#636efa\",\"#EF553B\",\"#EF553B\",\"#636efa\",\"#636efa\",\"#636efa\",\"#636efa\",\"#636efa\",\"#636efa\",\"#636efa\",\"#EF553B\",\"#EF553B\",\"#636efa\",\"#636efa\",\"#EF553B\",\"#EF553B\",\"#636efa\",\"#EF553B\",\"#EF553B\",\"#636efa\",\"#EF553B\",\"#636efa\",\"#636efa\",\"#636efa\",\"#636efa\",\"#636efa\",\"#EF553B\",\"#EF553B\",\"#636efa\",\"#636efa\",\"#EF553B\",\"#636efa\",\"#636efa\",\"#EF553B\",\"#EF553B\",\"#EF553B\",\"#636efa\",\"#EF553B\",\"#EF553B\",\"#EF553B\",\"#636efa\",\"#EF553B\",\"#EF553B\",\"#636efa\",\"#EF553B\",\"#636efa\",\"#636efa\",\"#EF553B\",\"#EF553B\",\"#636efa\",\"#EF553B\",\"#EF553B\",\"#636efa\",\"#636efa\",\"#636efa\",\"#EF553B\",\"#636efa\",\"#636efa\",\"#EF553B\",\"#EF553B\",\"#636efa\",\"#EF553B\",\"#636efa\",\"#636efa\",\"#636efa\",\"#636efa\",\"#636efa\",\"#636efa\",\"#636efa\",\"#636efa\",\"#EF553B\",\"#636efa\",\"#EF553B\",\"#EF553B\",\"#EF553B\",\"#636efa\",\"#636efa\",\"#EF553B\",\"#EF553B\",\"#EF553B\",\"#636efa\",\"#636efa\",\"#636efa\",\"#636efa\",\"#636efa\",\"#636efa\",\"#636efa\",\"#636efa\",\"#636efa\",\"#636efa\",\"#EF553B\",\"#636efa\",\"#636efa\",\"#EF553B\",\"#EF553B\",\"#636efa\",\"#EF553B\",\"#636efa\",\"#636efa\",\"#EF553B\",\"#636efa\",\"#636efa\",\"#636efa\",\"#EF553B\",\"#636efa\",\"#636efa\",\"#636efa\",\"#636efa\",\"#EF553B\",\"#636efa\",\"#636efa\",\"#EF553B\",\"#636efa\",\"#636efa\",\"#EF553B\",\"#636efa\",\"#636efa\",\"#636efa\",\"#EF553B\",\"#636efa\",\"#636efa\",\"#636efa\",\"#636efa\",\"#EF553B\",\"#EF553B\",\"#EF553B\",\"#636efa\",\"#636efa\",\"#636efa\",\"#EF553B\",\"#636efa\",\"#636efa\",\"#EF553B\",\"#EF553B\",\"#636efa\",\"#636efa\",\"#636efa\",\"#636efa\",\"#636efa\",\"#636efa\",\"#EF553B\",\"#EF553B\",\"#EF553B\",\"#636efa\",\"#636efa\",\"#636efa\",\"#636efa\",\"#EF553B\",\"#636efa\",\"#636efa\",\"#EF553B\",\"#636efa\",\"#636efa\",\"#636efa\",\"#636efa\",\"#636efa\",\"#636efa\",\"#636efa\",\"#636efa\",\"#636efa\",\"#636efa\",\"#636efa\",\"#636efa\",\"#636efa\",\"#636efa\",\"#EF553B\",\"#EF553B\",\"#EF553B\",\"#636efa\",\"#636efa\",\"#636efa\",\"#636efa\",\"#EF553B\",\"#636efa\",\"#636efa\",\"#636efa\",\"#636efa\",\"#636efa\",\"#636efa\",\"#EF553B\",\"#EF553B\",\"#EF553B\",\"#EF553B\",\"#EF553B\",\"#EF553B\",\"#EF553B\",\"#636efa\",\"#EF553B\",\"#636efa\",\"#636efa\",\"#636efa\",\"#EF553B\",\"#EF553B\",\"#EF553B\",\"#636efa\",\"#636efa\",\"#636efa\",\"#636efa\",\"#EF553B\",\"#636efa\",\"#636efa\",\"#636efa\",\"#636efa\",\"#636efa\",\"#636efa\",\"#EF553B\",\"#EF553B\",\"#636efa\",\"#636efa\",\"#636efa\",\"#EF553B\",\"#EF553B\",\"#EF553B\",\"#EF553B\",\"#EF553B\",\"#EF553B\",\"#EF553B\",\"#636efa\",\"#636efa\",\"#636efa\",\"#636efa\",\"#EF553B\",\"#EF553B\",\"#EF553B\",\"#EF553B\",\"#636efa\",\"#636efa\",\"#636efa\",\"#636efa\",\"#EF553B\",\"#EF553B\",\"#636efa\",\"#636efa\",\"#636efa\",\"#636efa\",\"#636efa\",\"#EF553B\",\"#EF553B\",\"#EF553B\",\"#EF553B\",\"#636efa\",\"#636efa\",\"#636efa\",\"#EF553B\",\"#EF553B\",\"#EF553B\",\"#EF553B\",\"#636efa\",\"#636efa\",\"#636efa\",\"#636efa\",\"#EF553B\",\"#EF553B\",\"#EF553B\",\"#636efa\",\"#636efa\",\"#636efa\",\"#636efa\",\"#636efa\",\"#636efa\",\"#EF553B\",\"#EF553B\",\"#EF553B\",\"#EF553B\",\"#EF553B\",\"#EF553B\",\"#EF553B\",\"#636efa\",\"#636efa\",\"#636efa\",\"#636efa\",\"#636efa\",\"#636efa\",\"#636efa\",\"#636efa\",\"#636efa\",\"#EF553B\",\"#EF553B\",\"#EF553B\",\"#636efa\",\"#636efa\",\"#636efa\",\"#636efa\",\"#636efa\",\"#636efa\",\"#636efa\",\"#EF553B\",\"#636efa\",\"#636efa\",\"#636efa\",\"#636efa\",\"#EF553B\",\"#EF553B\",\"#636efa\",\"#636efa\",\"#636efa\",\"#636efa\",\"#636efa\",\"#EF553B\",\"#636efa\",\"#636efa\",\"#636efa\",\"#636efa\",\"#636efa\",\"#EF553B\",\"#636efa\",\"#EF553B\",\"#636efa\",\"#636efa\",\"#EF553B\",\"#636efa\",\"#636efa\",\"#636efa\",\"#636efa\",\"#636efa\",\"#636efa\",\"#636efa\",\"#636efa\",\"#636efa\",\"#636efa\",\"#636efa\",\"#636efa\",\"#636efa\",\"#636efa\",\"#636efa\",\"#636efa\",\"#636efa\",\"#636efa\",\"#636efa\",\"#EF553B\",\"#636efa\",\"#636efa\",\"#EF553B\",\"#636efa\",\"#EF553B\",\"#636efa\",\"#636efa\",\"#636efa\",\"#636efa\",\"#636efa\",\"#636efa\",\"#EF553B\",\"#636efa\",\"#636efa\",\"#636efa\",\"#636efa\",\"#636efa\",\"#636efa\",\"#EF553B\",\"#636efa\",\"#636efa\",\"#636efa\",\"#636efa\",\"#636efa\",\"#636efa\",\"#636efa\",\"#636efa\",\"#636efa\",\"#636efa\",\"#636efa\",\"#636efa\",\"#636efa\",\"#636efa\",\"#636efa\",\"#636efa\",\"#636efa\",\"#636efa\",\"#636efa\",\"#636efa\",\"#636efa\",\"#636efa\",\"#636efa\",\"#636efa\",\"#636efa\",\"#636efa\",\"#636efa\",\"#EF553B\",\"#EF553B\",\"#636efa\",\"#636efa\",\"#636efa\",\"#636efa\",\"#636efa\",\"#636efa\",\"#636efa\",\"#636efa\",\"#636efa\",\"#636efa\",\"#636efa\",\"#636efa\",\"#636efa\",\"#EF553B\",\"#636efa\",\"#636efa\",\"#636efa\",\"#636efa\",\"#636efa\",\"#636efa\",\"#636efa\",\"#636efa\",\"#636efa\",\"#636efa\",\"#EF553B\",\"#636efa\",\"#636efa\",\"#636efa\",\"#636efa\",\"#636efa\",\"#636efa\",\"#636efa\",\"#EF553B\",\"#636efa\",\"#EF553B\",\"#636efa\",\"#636efa\",\"#636efa\",\"#636efa\",\"#636efa\",\"#EF553B\",\"#EF553B\",\"#636efa\",\"#636efa\",\"#636efa\",\"#636efa\",\"#636efa\",\"#636efa\",\"#636efa\",\"#636efa\",\"#636efa\",\"#636efa\",\"#636efa\",\"#636efa\",\"#636efa\",\"#636efa\",\"#636efa\",\"#636efa\",\"#636efa\",\"#636efa\",\"#636efa\",\"#EF553B\",\"#636efa\",\"#636efa\",\"#636efa\",\"#EF553B\",\"#636efa\",\"#636efa\",\"#636efa\",\"#636efa\",\"#636efa\",\"#636efa\",\"#636efa\",\"#636efa\",\"#636efa\",\"#636efa\",\"#636efa\",\"#636efa\",\"#636efa\",\"#636efa\",\"#636efa\",\"#636efa\",\"#636efa\",\"#636efa\",\"#636efa\",\"#636efa\",\"#636efa\",\"#636efa\",\"#636efa\",\"#636efa\",\"#636efa\",\"#636efa\",\"#636efa\",\"#636efa\",\"#636efa\",\"#636efa\",\"#636efa\",\"#636efa\",\"#636efa\",\"#636efa\",\"#636efa\",\"#636efa\",\"#636efa\",\"#636efa\",\"#636efa\",\"#636efa\",\"#636efa\",\"#636efa\",\"#636efa\",\"#636efa\",\"#636efa\",\"#636efa\",\"#636efa\",\"#636efa\",\"#636efa\",\"#636efa\",\"#636efa\",\"#636efa\",\"#636efa\",\"#636efa\",\"#636efa\",\"#636efa\",\"#636efa\",\"#636efa\",\"#636efa\",\"#636efa\",\"#636efa\",\"#636efa\",\"#EF553B\",\"#EF553B\",\"#636efa\",\"#636efa\",\"#636efa\",\"#636efa\",\"#636efa\",\"#636efa\",\"#636efa\",\"#636efa\",\"#636efa\",\"#636efa\",\"#EF553B\",\"#EF553B\",\"#636efa\",\"#636efa\",\"#636efa\",\"#636efa\",\"#636efa\",\"#EF553B\",\"#636efa\",\"#636efa\",\"#636efa\",\"#636efa\",\"#636efa\",\"#636efa\",\"#636efa\",\"#636efa\",\"#636efa\",\"#EF553B\",\"#636efa\",\"#636efa\",\"#636efa\",\"#636efa\",\"#636efa\",\"#636efa\",\"#636efa\",\"#636efa\",\"#636efa\",\"#636efa\",\"#636efa\",\"#636efa\",\"#636efa\",\"#636efa\",\"#636efa\",\"#636efa\",\"#636efa\",\"#636efa\",\"#636efa\",\"#636efa\",\"#636efa\",\"#636efa\",\"#636efa\",\"#636efa\",\"#636efa\",\"#636efa\",\"#636efa\",\"#636efa\",\"#636efa\",\"#636efa\",\"#636efa\",\"#636efa\",\"#636efa\",\"#636efa\",\"#636efa\",\"#636efa\",\"#636efa\",\"#636efa\",\"#636efa\",\"#636efa\",\"#636efa\",\"#636efa\",\"#636efa\",\"#636efa\",\"#636efa\",\"#636efa\",\"#636efa\",\"#636efa\",\"#636efa\",\"#636efa\",\"#636efa\",\"#636efa\",\"#EF553B\",\"#636efa\",\"#636efa\",\"#636efa\",\"#636efa\",\"#636efa\",\"#636efa\",\"#636efa\",\"#636efa\",\"#636efa\",\"#636efa\",\"#636efa\",\"#636efa\",\"#636efa\",\"#636efa\",\"#636efa\",\"#636efa\",\"#636efa\",\"#636efa\",\"#636efa\",\"#636efa\",\"#636efa\",\"#636efa\",\"#636efa\",\"#636efa\",\"#636efa\",\"#636efa\",\"#636efa\",\"#EF553B\",\"#636efa\",\"#636efa\",\"#636efa\",\"#636efa\",\"#636efa\",\"#636efa\",\"#636efa\",\"#636efa\",\"#636efa\",\"#636efa\",\"#636efa\",\"#636efa\",\"#636efa\",\"#636efa\",\"#636efa\",\"#636efa\",\"#636efa\",\"#636efa\",\"#636efa\",\"#636efa\",\"#636efa\",\"#636efa\",\"#636efa\",\"#636efa\",\"#636efa\",\"#636efa\",\"#636efa\",\"#636efa\",\"#636efa\",\"#636efa\",\"#636efa\",\"#636efa\",\"#636efa\",\"#636efa\",\"#636efa\",\"#636efa\",\"#636efa\",\"#636efa\",\"#636efa\",\"#636efa\",\"#636efa\",\"#636efa\",\"#636efa\",\"#636efa\",\"#636efa\",\"#636efa\",\"#EF553B\",\"#636efa\",\"#EF553B\",\"#636efa\",\"#636efa\",\"#636efa\",\"#636efa\",\"#636efa\",\"#636efa\",\"#636efa\",\"#636efa\",\"#636efa\",\"#636efa\",\"#636efa\",\"#636efa\",\"#636efa\",\"#636efa\",\"#636efa\",\"#636efa\",\"#636efa\",\"#636efa\",\"#636efa\",\"#636efa\",\"#636efa\",\"#636efa\",\"#636efa\",\"#636efa\",\"#636efa\",\"#636efa\",\"#636efa\",\"#636efa\",\"#636efa\",\"#636efa\",\"#636efa\",\"#636efa\",\"#636efa\",\"#636efa\",\"#636efa\",\"#636efa\",\"#636efa\",\"#636efa\",\"#636efa\",\"#636efa\",\"#636efa\",\"#636efa\",\"#636efa\",\"#636efa\",\"#636efa\",\"#636efa\",\"#636efa\",\"#636efa\",\"#636efa\",\"#636efa\",\"#636efa\",\"#636efa\",\"#636efa\",\"#636efa\",\"#636efa\",\"#636efa\",\"#636efa\",\"#636efa\",\"#636efa\",\"#636efa\",\"#636efa\",\"#EF553B\",\"#636efa\",\"#636efa\",\"#636efa\",\"#636efa\",\"#EF553B\",\"#636efa\",\"#636efa\",\"#636efa\",\"#636efa\"]},\"name\":\"\",\"showlegend\":true,\"type\":\"pie\"}],                        {\"template\":{\"data\":{\"histogram2dcontour\":[{\"type\":\"histogram2dcontour\",\"colorbar\":{\"outlinewidth\":0,\"ticks\":\"\"},\"colorscale\":[[0.0,\"#0d0887\"],[0.1111111111111111,\"#46039f\"],[0.2222222222222222,\"#7201a8\"],[0.3333333333333333,\"#9c179e\"],[0.4444444444444444,\"#bd3786\"],[0.5555555555555556,\"#d8576b\"],[0.6666666666666666,\"#ed7953\"],[0.7777777777777778,\"#fb9f3a\"],[0.8888888888888888,\"#fdca26\"],[1.0,\"#f0f921\"]]}],\"choropleth\":[{\"type\":\"choropleth\",\"colorbar\":{\"outlinewidth\":0,\"ticks\":\"\"}}],\"histogram2d\":[{\"type\":\"histogram2d\",\"colorbar\":{\"outlinewidth\":0,\"ticks\":\"\"},\"colorscale\":[[0.0,\"#0d0887\"],[0.1111111111111111,\"#46039f\"],[0.2222222222222222,\"#7201a8\"],[0.3333333333333333,\"#9c179e\"],[0.4444444444444444,\"#bd3786\"],[0.5555555555555556,\"#d8576b\"],[0.6666666666666666,\"#ed7953\"],[0.7777777777777778,\"#fb9f3a\"],[0.8888888888888888,\"#fdca26\"],[1.0,\"#f0f921\"]]}],\"heatmap\":[{\"type\":\"heatmap\",\"colorbar\":{\"outlinewidth\":0,\"ticks\":\"\"},\"colorscale\":[[0.0,\"#0d0887\"],[0.1111111111111111,\"#46039f\"],[0.2222222222222222,\"#7201a8\"],[0.3333333333333333,\"#9c179e\"],[0.4444444444444444,\"#bd3786\"],[0.5555555555555556,\"#d8576b\"],[0.6666666666666666,\"#ed7953\"],[0.7777777777777778,\"#fb9f3a\"],[0.8888888888888888,\"#fdca26\"],[1.0,\"#f0f921\"]]}],\"heatmapgl\":[{\"type\":\"heatmapgl\",\"colorbar\":{\"outlinewidth\":0,\"ticks\":\"\"},\"colorscale\":[[0.0,\"#0d0887\"],[0.1111111111111111,\"#46039f\"],[0.2222222222222222,\"#7201a8\"],[0.3333333333333333,\"#9c179e\"],[0.4444444444444444,\"#bd3786\"],[0.5555555555555556,\"#d8576b\"],[0.6666666666666666,\"#ed7953\"],[0.7777777777777778,\"#fb9f3a\"],[0.8888888888888888,\"#fdca26\"],[1.0,\"#f0f921\"]]}],\"contourcarpet\":[{\"type\":\"contourcarpet\",\"colorbar\":{\"outlinewidth\":0,\"ticks\":\"\"}}],\"contour\":[{\"type\":\"contour\",\"colorbar\":{\"outlinewidth\":0,\"ticks\":\"\"},\"colorscale\":[[0.0,\"#0d0887\"],[0.1111111111111111,\"#46039f\"],[0.2222222222222222,\"#7201a8\"],[0.3333333333333333,\"#9c179e\"],[0.4444444444444444,\"#bd3786\"],[0.5555555555555556,\"#d8576b\"],[0.6666666666666666,\"#ed7953\"],[0.7777777777777778,\"#fb9f3a\"],[0.8888888888888888,\"#fdca26\"],[1.0,\"#f0f921\"]]}],\"surface\":[{\"type\":\"surface\",\"colorbar\":{\"outlinewidth\":0,\"ticks\":\"\"},\"colorscale\":[[0.0,\"#0d0887\"],[0.1111111111111111,\"#46039f\"],[0.2222222222222222,\"#7201a8\"],[0.3333333333333333,\"#9c179e\"],[0.4444444444444444,\"#bd3786\"],[0.5555555555555556,\"#d8576b\"],[0.6666666666666666,\"#ed7953\"],[0.7777777777777778,\"#fb9f3a\"],[0.8888888888888888,\"#fdca26\"],[1.0,\"#f0f921\"]]}],\"mesh3d\":[{\"type\":\"mesh3d\",\"colorbar\":{\"outlinewidth\":0,\"ticks\":\"\"}}],\"scatter\":[{\"fillpattern\":{\"fillmode\":\"overlay\",\"size\":10,\"solidity\":0.2},\"type\":\"scatter\"}],\"parcoords\":[{\"type\":\"parcoords\",\"line\":{\"colorbar\":{\"outlinewidth\":0,\"ticks\":\"\"}}}],\"scatterpolargl\":[{\"type\":\"scatterpolargl\",\"marker\":{\"colorbar\":{\"outlinewidth\":0,\"ticks\":\"\"}}}],\"bar\":[{\"error_x\":{\"color\":\"#2a3f5f\"},\"error_y\":{\"color\":\"#2a3f5f\"},\"marker\":{\"line\":{\"color\":\"#E5ECF6\",\"width\":0.5},\"pattern\":{\"fillmode\":\"overlay\",\"size\":10,\"solidity\":0.2}},\"type\":\"bar\"}],\"scattergeo\":[{\"type\":\"scattergeo\",\"marker\":{\"colorbar\":{\"outlinewidth\":0,\"ticks\":\"\"}}}],\"scatterpolar\":[{\"type\":\"scatterpolar\",\"marker\":{\"colorbar\":{\"outlinewidth\":0,\"ticks\":\"\"}}}],\"histogram\":[{\"marker\":{\"pattern\":{\"fillmode\":\"overlay\",\"size\":10,\"solidity\":0.2}},\"type\":\"histogram\"}],\"scattergl\":[{\"type\":\"scattergl\",\"marker\":{\"colorbar\":{\"outlinewidth\":0,\"ticks\":\"\"}}}],\"scatter3d\":[{\"type\":\"scatter3d\",\"line\":{\"colorbar\":{\"outlinewidth\":0,\"ticks\":\"\"}},\"marker\":{\"colorbar\":{\"outlinewidth\":0,\"ticks\":\"\"}}}],\"scattermapbox\":[{\"type\":\"scattermapbox\",\"marker\":{\"colorbar\":{\"outlinewidth\":0,\"ticks\":\"\"}}}],\"scatterternary\":[{\"type\":\"scatterternary\",\"marker\":{\"colorbar\":{\"outlinewidth\":0,\"ticks\":\"\"}}}],\"scattercarpet\":[{\"type\":\"scattercarpet\",\"marker\":{\"colorbar\":{\"outlinewidth\":0,\"ticks\":\"\"}}}],\"carpet\":[{\"aaxis\":{\"endlinecolor\":\"#2a3f5f\",\"gridcolor\":\"white\",\"linecolor\":\"white\",\"minorgridcolor\":\"white\",\"startlinecolor\":\"#2a3f5f\"},\"baxis\":{\"endlinecolor\":\"#2a3f5f\",\"gridcolor\":\"white\",\"linecolor\":\"white\",\"minorgridcolor\":\"white\",\"startlinecolor\":\"#2a3f5f\"},\"type\":\"carpet\"}],\"table\":[{\"cells\":{\"fill\":{\"color\":\"#EBF0F8\"},\"line\":{\"color\":\"white\"}},\"header\":{\"fill\":{\"color\":\"#C8D4E3\"},\"line\":{\"color\":\"white\"}},\"type\":\"table\"}],\"barpolar\":[{\"marker\":{\"line\":{\"color\":\"#E5ECF6\",\"width\":0.5},\"pattern\":{\"fillmode\":\"overlay\",\"size\":10,\"solidity\":0.2}},\"type\":\"barpolar\"}],\"pie\":[{\"automargin\":true,\"type\":\"pie\"}]},\"layout\":{\"autotypenumbers\":\"strict\",\"colorway\":[\"#636efa\",\"#EF553B\",\"#00cc96\",\"#ab63fa\",\"#FFA15A\",\"#19d3f3\",\"#FF6692\",\"#B6E880\",\"#FF97FF\",\"#FECB52\"],\"font\":{\"color\":\"#2a3f5f\"},\"hovermode\":\"closest\",\"hoverlabel\":{\"align\":\"left\"},\"paper_bgcolor\":\"white\",\"plot_bgcolor\":\"#E5ECF6\",\"polar\":{\"bgcolor\":\"#E5ECF6\",\"angularaxis\":{\"gridcolor\":\"white\",\"linecolor\":\"white\",\"ticks\":\"\"},\"radialaxis\":{\"gridcolor\":\"white\",\"linecolor\":\"white\",\"ticks\":\"\"}},\"ternary\":{\"bgcolor\":\"#E5ECF6\",\"aaxis\":{\"gridcolor\":\"white\",\"linecolor\":\"white\",\"ticks\":\"\"},\"baxis\":{\"gridcolor\":\"white\",\"linecolor\":\"white\",\"ticks\":\"\"},\"caxis\":{\"gridcolor\":\"white\",\"linecolor\":\"white\",\"ticks\":\"\"}},\"coloraxis\":{\"colorbar\":{\"outlinewidth\":0,\"ticks\":\"\"}},\"colorscale\":{\"sequential\":[[0.0,\"#0d0887\"],[0.1111111111111111,\"#46039f\"],[0.2222222222222222,\"#7201a8\"],[0.3333333333333333,\"#9c179e\"],[0.4444444444444444,\"#bd3786\"],[0.5555555555555556,\"#d8576b\"],[0.6666666666666666,\"#ed7953\"],[0.7777777777777778,\"#fb9f3a\"],[0.8888888888888888,\"#fdca26\"],[1.0,\"#f0f921\"]],\"sequentialminus\":[[0.0,\"#0d0887\"],[0.1111111111111111,\"#46039f\"],[0.2222222222222222,\"#7201a8\"],[0.3333333333333333,\"#9c179e\"],[0.4444444444444444,\"#bd3786\"],[0.5555555555555556,\"#d8576b\"],[0.6666666666666666,\"#ed7953\"],[0.7777777777777778,\"#fb9f3a\"],[0.8888888888888888,\"#fdca26\"],[1.0,\"#f0f921\"]],\"diverging\":[[0,\"#8e0152\"],[0.1,\"#c51b7d\"],[0.2,\"#de77ae\"],[0.3,\"#f1b6da\"],[0.4,\"#fde0ef\"],[0.5,\"#f7f7f7\"],[0.6,\"#e6f5d0\"],[0.7,\"#b8e186\"],[0.8,\"#7fbc41\"],[0.9,\"#4d9221\"],[1,\"#276419\"]]},\"xaxis\":{\"gridcolor\":\"white\",\"linecolor\":\"white\",\"ticks\":\"\",\"title\":{\"standoff\":15},\"zerolinecolor\":\"white\",\"automargin\":true,\"zerolinewidth\":2},\"yaxis\":{\"gridcolor\":\"white\",\"linecolor\":\"white\",\"ticks\":\"\",\"title\":{\"standoff\":15},\"zerolinecolor\":\"white\",\"automargin\":true,\"zerolinewidth\":2},\"scene\":{\"xaxis\":{\"backgroundcolor\":\"#E5ECF6\",\"gridcolor\":\"white\",\"linecolor\":\"white\",\"showbackground\":true,\"ticks\":\"\",\"zerolinecolor\":\"white\",\"gridwidth\":2},\"yaxis\":{\"backgroundcolor\":\"#E5ECF6\",\"gridcolor\":\"white\",\"linecolor\":\"white\",\"showbackground\":true,\"ticks\":\"\",\"zerolinecolor\":\"white\",\"gridwidth\":2},\"zaxis\":{\"backgroundcolor\":\"#E5ECF6\",\"gridcolor\":\"white\",\"linecolor\":\"white\",\"showbackground\":true,\"ticks\":\"\",\"zerolinecolor\":\"white\",\"gridwidth\":2}},\"shapedefaults\":{\"line\":{\"color\":\"#2a3f5f\"}},\"annotationdefaults\":{\"arrowcolor\":\"#2a3f5f\",\"arrowhead\":0,\"arrowwidth\":1},\"geo\":{\"bgcolor\":\"white\",\"landcolor\":\"#E5ECF6\",\"subunitcolor\":\"white\",\"showland\":true,\"showlakes\":true,\"lakecolor\":\"white\"},\"title\":{\"x\":0.05},\"mapbox\":{\"style\":\"light\"}}},\"legend\":{\"tracegroupgap\":0},\"margin\":{\"t\":60}},                        {\"responsive\": true}                    ).then(function(){\n",
       "                            \n",
       "var gd = document.getElementById('466f15fe-4f2f-4471-b313-3cfbd850f1c5');\n",
       "var x = new MutationObserver(function (mutations, observer) {{\n",
       "        var display = window.getComputedStyle(gd).display;\n",
       "        if (!display || display === 'none') {{\n",
       "            console.log([gd, 'removed!']);\n",
       "            Plotly.purge(gd);\n",
       "            observer.disconnect();\n",
       "        }}\n",
       "}});\n",
       "\n",
       "// Listen for the removal of the full notebook cells\n",
       "var notebookContainer = gd.closest('#notebook-container');\n",
       "if (notebookContainer) {{\n",
       "    x.observe(notebookContainer, {childList: true});\n",
       "}}\n",
       "\n",
       "// Listen for the clearing of the current output cell\n",
       "var outputEl = gd.closest('.output');\n",
       "if (outputEl) {{\n",
       "    x.observe(outputEl, {childList: true});\n",
       "}}\n",
       "\n",
       "                        })                };                            </script>        </div>\n",
       "</body>\n",
       "</html>"
      ]
     },
     "metadata": {},
     "output_type": "display_data"
    }
   ],
   "source": [
    "# Plot Same Plot Using Plotly and Coloring this by sex\n",
    "fig = px.pie(df, names='sex', color='sex')\n",
    "fig.show()"
   ]
  },
  {
   "cell_type": "code",
   "execution_count": 15,
   "id": "170f59b2",
   "metadata": {
    "execution": {
     "iopub.execute_input": "2025-08-22T17:49:08.259917Z",
     "iopub.status.busy": "2025-08-22T17:49:08.259275Z",
     "iopub.status.idle": "2025-08-22T17:49:08.271375Z",
     "shell.execute_reply": "2025-08-22T17:49:08.270590Z"
    },
    "papermill": {
     "duration": 0.029224,
     "end_time": "2025-08-22T17:49:08.272828",
     "exception": false,
     "start_time": "2025-08-22T17:49:08.243604",
     "status": "completed"
    },
    "tags": []
   },
   "outputs": [
    {
     "data": {
      "text/plain": [
       "sex     age\n",
       "Female  54     15\n",
       "        51     11\n",
       "        62     10\n",
       "        43      9\n",
       "        48      9\n",
       "               ..\n",
       "Male    77      2\n",
       "        28      1\n",
       "        31      1\n",
       "        33      1\n",
       "        76      1\n",
       "Name: count, Length: 91, dtype: int64"
      ]
     },
     "execution_count": 15,
     "metadata": {},
     "output_type": "execute_result"
    }
   ],
   "source": [
    "# find the values count of age column grouping by sex column\n",
    "df.groupby('sex')['age'].value_counts()"
   ]
  },
  {
   "cell_type": "markdown",
   "id": "761a12d9",
   "metadata": {
    "papermill": {
     "duration": 0.01492,
     "end_time": "2025-08-22T17:49:08.303689",
     "exception": false,
     "start_time": "2025-08-22T17:49:08.288769",
     "status": "completed"
    },
    "tags": []
   },
   "source": [
    "# - **Dataset Column**"
   ]
  },
  {
   "cell_type": "code",
   "execution_count": 16,
   "id": "e864be2f",
   "metadata": {
    "execution": {
     "iopub.execute_input": "2025-08-22T17:49:08.335050Z",
     "iopub.status.busy": "2025-08-22T17:49:08.334537Z",
     "iopub.status.idle": "2025-08-22T17:49:08.340015Z",
     "shell.execute_reply": "2025-08-22T17:49:08.339308Z"
    },
    "papermill": {
     "duration": 0.022541,
     "end_time": "2025-08-22T17:49:08.341292",
     "exception": false,
     "start_time": "2025-08-22T17:49:08.318751",
     "status": "completed"
    },
    "tags": []
   },
   "outputs": [
    {
     "data": {
      "text/plain": [
       "array(['Cleveland', 'Hungary', 'Switzerland', 'VA Long Beach'],\n",
       "      dtype=object)"
      ]
     },
     "execution_count": 16,
     "metadata": {},
     "output_type": "execute_result"
    }
   ],
   "source": [
    "# Lets deal with dataset column\n",
    "# find the unique values in dataset column\n",
    "df['dataset'].unique()"
   ]
  },
  {
   "cell_type": "code",
   "execution_count": 17,
   "id": "f0454256",
   "metadata": {
    "execution": {
     "iopub.execute_input": "2025-08-22T17:49:08.373091Z",
     "iopub.status.busy": "2025-08-22T17:49:08.372467Z",
     "iopub.status.idle": "2025-08-22T17:49:08.378722Z",
     "shell.execute_reply": "2025-08-22T17:49:08.378066Z"
    },
    "papermill": {
     "duration": 0.023336,
     "end_time": "2025-08-22T17:49:08.379918",
     "exception": false,
     "start_time": "2025-08-22T17:49:08.356582",
     "status": "completed"
    },
    "tags": []
   },
   "outputs": [
    {
     "data": {
      "text/plain": [
       "dataset\n",
       "Cleveland        304\n",
       "Hungary          293\n",
       "VA Long Beach    200\n",
       "Switzerland      123\n",
       "Name: count, dtype: int64"
      ]
     },
     "execution_count": 17,
     "metadata": {},
     "output_type": "execute_result"
    }
   ],
   "source": [
    "# find unique values count in dataset column\n",
    "df['dataset'].value_counts()"
   ]
  },
  {
   "cell_type": "code",
   "execution_count": 18,
   "id": "ad341154",
   "metadata": {
    "execution": {
     "iopub.execute_input": "2025-08-22T17:49:08.412320Z",
     "iopub.status.busy": "2025-08-22T17:49:08.411614Z",
     "iopub.status.idle": "2025-08-22T17:49:08.479985Z",
     "shell.execute_reply": "2025-08-22T17:49:08.478886Z"
    },
    "papermill": {
     "duration": 0.085833,
     "end_time": "2025-08-22T17:49:08.481456",
     "exception": false,
     "start_time": "2025-08-22T17:49:08.395623",
     "status": "completed"
    },
    "tags": []
   },
   "outputs": [
    {
     "data": {
      "text/html": [
       "<html>\n",
       "<head><meta charset=\"utf-8\" /></head>\n",
       "<body>\n",
       "    <div>            <script src=\"https://cdnjs.cloudflare.com/ajax/libs/mathjax/2.7.5/MathJax.js?config=TeX-AMS-MML_SVG\"></script><script type=\"text/javascript\">if (window.MathJax && window.MathJax.Hub && window.MathJax.Hub.Config) {window.MathJax.Hub.Config({SVG: {font: \"STIX-Web\"}});}</script>                <script type=\"text/javascript\">window.PlotlyConfig = {MathJaxConfig: 'local'};</script>\n",
       "        <script charset=\"utf-8\" src=\"https://cdn.plot.ly/plotly-2.35.2.min.js\"></script>                <div id=\"a0bb0524-cd82-4c22-8dd4-ca3abc27a6e7\" class=\"plotly-graph-div\" style=\"height:525px; width:100%;\"></div>            <script type=\"text/javascript\">                                    window.PLOTLYENV=window.PLOTLYENV || {};                                    if (document.getElementById(\"a0bb0524-cd82-4c22-8dd4-ca3abc27a6e7\")) {                    Plotly.newPlot(                        \"a0bb0524-cd82-4c22-8dd4-ca3abc27a6e7\",                        [{\"alignmentgroup\":\"True\",\"hovertemplate\":\"sex=Male\\u003cbr\\u003edataset=%{x}\\u003cbr\\u003ecount=%{y}\\u003cextra\\u003e\\u003c\\u002fextra\\u003e\",\"legendgroup\":\"Male\",\"marker\":{\"color\":\"#636efa\",\"pattern\":{\"shape\":\"\"}},\"name\":\"Male\",\"offsetgroup\":\"Male\",\"orientation\":\"v\",\"showlegend\":true,\"textposition\":\"auto\",\"x\":[\"Cleveland\",\"Cleveland\",\"Cleveland\",\"Cleveland\",\"Cleveland\",\"Cleveland\",\"Cleveland\",\"Cleveland\",\"Cleveland\",\"Cleveland\",\"Cleveland\",\"Cleveland\",\"Cleveland\",\"Cleveland\",\"Cleveland\",\"Cleveland\",\"Cleveland\",\"Cleveland\",\"Cleveland\",\"Cleveland\",\"Cleveland\",\"Cleveland\",\"Cleveland\",\"Cleveland\",\"Cleveland\",\"Cleveland\",\"Cleveland\",\"Cleveland\",\"Cleveland\",\"Cleveland\",\"Cleveland\",\"Cleveland\",\"Cleveland\",\"Cleveland\",\"Cleveland\",\"Cleveland\",\"Cleveland\",\"Cleveland\",\"Cleveland\",\"Cleveland\",\"Cleveland\",\"Cleveland\",\"Cleveland\",\"Cleveland\",\"Cleveland\",\"Cleveland\",\"Cleveland\",\"Cleveland\",\"Cleveland\",\"Cleveland\",\"Cleveland\",\"Cleveland\",\"Cleveland\",\"Cleveland\",\"Cleveland\",\"Cleveland\",\"Cleveland\",\"Cleveland\",\"Cleveland\",\"Cleveland\",\"Cleveland\",\"Cleveland\",\"Cleveland\",\"Cleveland\",\"Cleveland\",\"Cleveland\",\"Cleveland\",\"Cleveland\",\"Cleveland\",\"Cleveland\",\"Cleveland\",\"Cleveland\",\"Cleveland\",\"Cleveland\",\"Cleveland\",\"Cleveland\",\"Cleveland\",\"Cleveland\",\"Cleveland\",\"Cleveland\",\"Cleveland\",\"Cleveland\",\"Cleveland\",\"Cleveland\",\"Cleveland\",\"Cleveland\",\"Cleveland\",\"Cleveland\",\"Cleveland\",\"Cleveland\",\"Cleveland\",\"Cleveland\",\"Cleveland\",\"Cleveland\",\"Cleveland\",\"Cleveland\",\"Cleveland\",\"Cleveland\",\"Cleveland\",\"Cleveland\",\"Cleveland\",\"Cleveland\",\"Cleveland\",\"Cleveland\",\"Cleveland\",\"Cleveland\",\"Cleveland\",\"Cleveland\",\"Cleveland\",\"Cleveland\",\"Cleveland\",\"Cleveland\",\"Cleveland\",\"Cleveland\",\"Cleveland\",\"Cleveland\",\"Cleveland\",\"Cleveland\",\"Cleveland\",\"Cleveland\",\"Cleveland\",\"Cleveland\",\"Cleveland\",\"Cleveland\",\"Cleveland\",\"Cleveland\",\"Cleveland\",\"Cleveland\",\"Cleveland\",\"Cleveland\",\"Cleveland\",\"Cleveland\",\"Cleveland\",\"Cleveland\",\"Cleveland\",\"Cleveland\",\"Cleveland\",\"Cleveland\",\"Cleveland\",\"Cleveland\",\"Cleveland\",\"Cleveland\",\"Cleveland\",\"Cleveland\",\"Cleveland\",\"Cleveland\",\"Cleveland\",\"Cleveland\",\"Cleveland\",\"Cleveland\",\"Cleveland\",\"Cleveland\",\"Cleveland\",\"Cleveland\",\"Cleveland\",\"Cleveland\",\"Cleveland\",\"Cleveland\",\"Cleveland\",\"Cleveland\",\"Cleveland\",\"Cleveland\",\"Cleveland\",\"Cleveland\",\"Cleveland\",\"Cleveland\",\"Cleveland\",\"Cleveland\",\"Cleveland\",\"Cleveland\",\"Cleveland\",\"Cleveland\",\"Cleveland\",\"Cleveland\",\"Cleveland\",\"Cleveland\",\"Cleveland\",\"Cleveland\",\"Cleveland\",\"Cleveland\",\"Cleveland\",\"Cleveland\",\"Cleveland\",\"Cleveland\",\"Cleveland\",\"Cleveland\",\"Cleveland\",\"Cleveland\",\"Cleveland\",\"Cleveland\",\"Cleveland\",\"Cleveland\",\"Cleveland\",\"Cleveland\",\"Cleveland\",\"Cleveland\",\"Cleveland\",\"Cleveland\",\"Cleveland\",\"Cleveland\",\"Cleveland\",\"Cleveland\",\"Cleveland\",\"Cleveland\",\"Cleveland\",\"Cleveland\",\"Cleveland\",\"Hungary\",\"Hungary\",\"Hungary\",\"Hungary\",\"Hungary\",\"Hungary\",\"Hungary\",\"Hungary\",\"Hungary\",\"Hungary\",\"Hungary\",\"Hungary\",\"Hungary\",\"Hungary\",\"Hungary\",\"Hungary\",\"Hungary\",\"Hungary\",\"Hungary\",\"Hungary\",\"Hungary\",\"Hungary\",\"Hungary\",\"Hungary\",\"Hungary\",\"Hungary\",\"Hungary\",\"Hungary\",\"Hungary\",\"Hungary\",\"Hungary\",\"Hungary\",\"Hungary\",\"Hungary\",\"Hungary\",\"Hungary\",\"Hungary\",\"Hungary\",\"Hungary\",\"Hungary\",\"Hungary\",\"Hungary\",\"Hungary\",\"Hungary\",\"Hungary\",\"Hungary\",\"Hungary\",\"Hungary\",\"Hungary\",\"Hungary\",\"Hungary\",\"Hungary\",\"Hungary\",\"Hungary\",\"Hungary\",\"Hungary\",\"Hungary\",\"Hungary\",\"Hungary\",\"Hungary\",\"Hungary\",\"Hungary\",\"Hungary\",\"Hungary\",\"Hungary\",\"Hungary\",\"Hungary\",\"Hungary\",\"Hungary\",\"Hungary\",\"Hungary\",\"Hungary\",\"Hungary\",\"Hungary\",\"Hungary\",\"Hungary\",\"Hungary\",\"Hungary\",\"Hungary\",\"Hungary\",\"Hungary\",\"Hungary\",\"Hungary\",\"Hungary\",\"Hungary\",\"Hungary\",\"Hungary\",\"Hungary\",\"Hungary\",\"Hungary\",\"Hungary\",\"Hungary\",\"Hungary\",\"Hungary\",\"Hungary\",\"Hungary\",\"Hungary\",\"Hungary\",\"Hungary\",\"Hungary\",\"Hungary\",\"Hungary\",\"Hungary\",\"Hungary\",\"Hungary\",\"Hungary\",\"Hungary\",\"Hungary\",\"Hungary\",\"Hungary\",\"Hungary\",\"Hungary\",\"Hungary\",\"Hungary\",\"Hungary\",\"Hungary\",\"Hungary\",\"Hungary\",\"Hungary\",\"Hungary\",\"Hungary\",\"Hungary\",\"Hungary\",\"Hungary\",\"Hungary\",\"Hungary\",\"Hungary\",\"Hungary\",\"Hungary\",\"Hungary\",\"Hungary\",\"Hungary\",\"Hungary\",\"Hungary\",\"Hungary\",\"Hungary\",\"Hungary\",\"Hungary\",\"Hungary\",\"Hungary\",\"Hungary\",\"Hungary\",\"Hungary\",\"Hungary\",\"Hungary\",\"Hungary\",\"Hungary\",\"Hungary\",\"Hungary\",\"Hungary\",\"Hungary\",\"Hungary\",\"Hungary\",\"Hungary\",\"Hungary\",\"Hungary\",\"Hungary\",\"Hungary\",\"Hungary\",\"Hungary\",\"Hungary\",\"Hungary\",\"Hungary\",\"Hungary\",\"Hungary\",\"Hungary\",\"Hungary\",\"Hungary\",\"Hungary\",\"Hungary\",\"Hungary\",\"Hungary\",\"Hungary\",\"Hungary\",\"Hungary\",\"Hungary\",\"Hungary\",\"Hungary\",\"Hungary\",\"Hungary\",\"Hungary\",\"Hungary\",\"Hungary\",\"Hungary\",\"Hungary\",\"Hungary\",\"Hungary\",\"Hungary\",\"Hungary\",\"Hungary\",\"Hungary\",\"Hungary\",\"Hungary\",\"Hungary\",\"Hungary\",\"Hungary\",\"Hungary\",\"Hungary\",\"Hungary\",\"Hungary\",\"Hungary\",\"Hungary\",\"Hungary\",\"Hungary\",\"Hungary\",\"Hungary\",\"Hungary\",\"Hungary\",\"Hungary\",\"Hungary\",\"Hungary\",\"Hungary\",\"Switzerland\",\"Switzerland\",\"Switzerland\",\"Switzerland\",\"Switzerland\",\"Switzerland\",\"Switzerland\",\"Switzerland\",\"Switzerland\",\"Switzerland\",\"Switzerland\",\"Switzerland\",\"Switzerland\",\"Switzerland\",\"Switzerland\",\"Switzerland\",\"Switzerland\",\"Switzerland\",\"Switzerland\",\"Switzerland\",\"Switzerland\",\"Switzerland\",\"Switzerland\",\"Switzerland\",\"Switzerland\",\"Switzerland\",\"Switzerland\",\"Switzerland\",\"Switzerland\",\"Switzerland\",\"Switzerland\",\"Switzerland\",\"Switzerland\",\"Switzerland\",\"Switzerland\",\"Switzerland\",\"Switzerland\",\"Switzerland\",\"Switzerland\",\"Switzerland\",\"Switzerland\",\"Switzerland\",\"Switzerland\",\"Switzerland\",\"Switzerland\",\"Switzerland\",\"Switzerland\",\"Switzerland\",\"Switzerland\",\"Switzerland\",\"Switzerland\",\"Switzerland\",\"Switzerland\",\"Switzerland\",\"Switzerland\",\"Switzerland\",\"Switzerland\",\"Switzerland\",\"Switzerland\",\"Switzerland\",\"Switzerland\",\"Switzerland\",\"Switzerland\",\"Switzerland\",\"Switzerland\",\"Switzerland\",\"Switzerland\",\"Switzerland\",\"Switzerland\",\"Switzerland\",\"Switzerland\",\"Switzerland\",\"Switzerland\",\"Switzerland\",\"Switzerland\",\"Switzerland\",\"Switzerland\",\"Switzerland\",\"Switzerland\",\"Switzerland\",\"Switzerland\",\"Switzerland\",\"Switzerland\",\"Switzerland\",\"Switzerland\",\"Switzerland\",\"Switzerland\",\"Switzerland\",\"Switzerland\",\"Switzerland\",\"Switzerland\",\"Switzerland\",\"Switzerland\",\"Switzerland\",\"Switzerland\",\"Switzerland\",\"Switzerland\",\"Switzerland\",\"Switzerland\",\"Switzerland\",\"Switzerland\",\"Switzerland\",\"Switzerland\",\"Switzerland\",\"Switzerland\",\"Switzerland\",\"Switzerland\",\"Switzerland\",\"Switzerland\",\"Switzerland\",\"Switzerland\",\"Switzerland\",\"Switzerland\",\"VA Long Beach\",\"VA Long Beach\",\"VA Long Beach\",\"VA Long Beach\",\"VA Long Beach\",\"VA Long Beach\",\"VA Long Beach\",\"VA Long Beach\",\"VA Long Beach\",\"VA Long Beach\",\"VA Long Beach\",\"VA Long Beach\",\"VA Long Beach\",\"VA Long Beach\",\"VA Long Beach\",\"VA Long Beach\",\"VA Long Beach\",\"VA Long Beach\",\"VA Long Beach\",\"VA Long Beach\",\"VA Long Beach\",\"VA Long Beach\",\"VA Long Beach\",\"VA Long Beach\",\"VA Long Beach\",\"VA Long Beach\",\"VA Long Beach\",\"VA Long Beach\",\"VA Long Beach\",\"VA Long Beach\",\"VA Long Beach\",\"VA Long Beach\",\"VA Long Beach\",\"VA Long Beach\",\"VA Long Beach\",\"VA Long Beach\",\"VA Long Beach\",\"VA Long Beach\",\"VA Long Beach\",\"VA Long Beach\",\"VA Long Beach\",\"VA Long Beach\",\"VA Long Beach\",\"VA Long Beach\",\"VA Long Beach\",\"VA Long Beach\",\"VA Long Beach\",\"VA Long Beach\",\"VA Long Beach\",\"VA Long Beach\",\"VA Long Beach\",\"VA Long Beach\",\"VA Long Beach\",\"VA Long Beach\",\"VA Long Beach\",\"VA Long Beach\",\"VA Long Beach\",\"VA Long Beach\",\"VA Long Beach\",\"VA Long Beach\",\"VA Long Beach\",\"VA Long Beach\",\"VA Long Beach\",\"VA Long Beach\",\"VA Long Beach\",\"VA Long Beach\",\"VA Long Beach\",\"VA Long Beach\",\"VA Long Beach\",\"VA Long Beach\",\"VA Long Beach\",\"VA Long Beach\",\"VA Long Beach\",\"VA Long Beach\",\"VA Long Beach\",\"VA Long Beach\",\"VA Long Beach\",\"VA Long Beach\",\"VA Long Beach\",\"VA Long Beach\",\"VA Long Beach\",\"VA Long Beach\",\"VA Long Beach\",\"VA Long Beach\",\"VA Long Beach\",\"VA Long Beach\",\"VA Long Beach\",\"VA Long Beach\",\"VA Long Beach\",\"VA Long Beach\",\"VA Long Beach\",\"VA Long Beach\",\"VA Long Beach\",\"VA Long Beach\",\"VA Long Beach\",\"VA Long Beach\",\"VA Long Beach\",\"VA Long Beach\",\"VA Long Beach\",\"VA Long Beach\",\"VA Long Beach\",\"VA Long Beach\",\"VA Long Beach\",\"VA Long Beach\",\"VA Long Beach\",\"VA Long Beach\",\"VA Long Beach\",\"VA Long Beach\",\"VA Long Beach\",\"VA Long Beach\",\"VA Long Beach\",\"VA Long Beach\",\"VA Long Beach\",\"VA Long Beach\",\"VA Long Beach\",\"VA Long Beach\",\"VA Long Beach\",\"VA Long Beach\",\"VA Long Beach\",\"VA Long Beach\",\"VA Long Beach\",\"VA Long Beach\",\"VA Long Beach\",\"VA Long Beach\",\"VA Long Beach\",\"VA Long Beach\",\"VA Long Beach\",\"VA Long Beach\",\"VA Long Beach\",\"VA Long Beach\",\"VA Long Beach\",\"VA Long Beach\",\"VA Long Beach\",\"VA Long Beach\",\"VA Long Beach\",\"VA Long Beach\",\"VA Long Beach\",\"VA Long Beach\",\"VA Long Beach\",\"VA Long Beach\",\"VA Long Beach\",\"VA Long Beach\",\"VA Long Beach\",\"VA Long Beach\",\"VA Long Beach\",\"VA Long Beach\",\"VA Long Beach\",\"VA Long Beach\",\"VA Long Beach\",\"VA Long Beach\",\"VA Long Beach\",\"VA Long Beach\",\"VA Long Beach\",\"VA Long Beach\",\"VA Long Beach\",\"VA Long Beach\",\"VA Long Beach\",\"VA Long Beach\",\"VA Long Beach\",\"VA Long Beach\",\"VA Long Beach\",\"VA Long Beach\",\"VA Long Beach\",\"VA Long Beach\",\"VA Long Beach\",\"VA Long Beach\",\"VA Long Beach\",\"VA Long Beach\",\"VA Long Beach\",\"VA Long Beach\",\"VA Long Beach\",\"VA Long Beach\",\"VA Long Beach\",\"VA Long Beach\",\"VA Long Beach\",\"VA Long Beach\",\"VA Long Beach\",\"VA Long Beach\",\"VA Long Beach\",\"VA Long Beach\",\"VA Long Beach\",\"VA Long Beach\",\"VA Long Beach\",\"VA Long Beach\",\"VA Long Beach\",\"VA Long Beach\",\"VA Long Beach\",\"VA Long Beach\",\"VA Long Beach\",\"VA Long Beach\",\"VA Long Beach\",\"VA Long Beach\",\"VA Long Beach\",\"VA Long Beach\"],\"xaxis\":\"x\",\"y\":[1,1,1,1,1,1,1,1,1,1,1,1,1,1,1,1,1,1,1,1,1,1,1,1,1,1,1,1,1,1,1,1,1,1,1,1,1,1,1,1,1,1,1,1,1,1,1,1,1,1,1,1,1,1,1,1,1,1,1,1,1,1,1,1,1,1,1,1,1,1,1,1,1,1,1,1,1,1,1,1,1,1,1,1,1,1,1,1,1,1,1,1,1,1,1,1,1,1,1,1,1,1,1,1,1,1,1,1,1,1,1,1,1,1,1,1,1,1,1,1,1,1,1,1,1,1,1,1,1,1,1,1,1,1,1,1,1,1,1,1,1,1,1,1,1,1,1,1,1,1,1,1,1,1,1,1,1,1,1,1,1,1,1,1,1,1,1,1,1,1,1,1,1,1,1,1,1,1,1,1,1,1,1,1,1,1,1,1,1,1,1,1,1,1,1,1,1,1,1,1,1,1,1,1,1,1,1,1,1,1,1,1,1,1,1,1,1,1,1,1,1,1,1,1,1,1,1,1,1,1,1,1,1,1,1,1,1,1,1,1,1,1,1,1,1,1,1,1,1,1,1,1,1,1,1,1,1,1,1,1,1,1,1,1,1,1,1,1,1,1,1,1,1,1,1,1,1,1,1,1,1,1,1,1,1,1,1,1,1,1,1,1,1,1,1,1,1,1,1,1,1,1,1,1,1,1,1,1,1,1,1,1,1,1,1,1,1,1,1,1,1,1,1,1,1,1,1,1,1,1,1,1,1,1,1,1,1,1,1,1,1,1,1,1,1,1,1,1,1,1,1,1,1,1,1,1,1,1,1,1,1,1,1,1,1,1,1,1,1,1,1,1,1,1,1,1,1,1,1,1,1,1,1,1,1,1,1,1,1,1,1,1,1,1,1,1,1,1,1,1,1,1,1,1,1,1,1,1,1,1,1,1,1,1,1,1,1,1,1,1,1,1,1,1,1,1,1,1,1,1,1,1,1,1,1,1,1,1,1,1,1,1,1,1,1,1,1,1,1,1,1,1,1,1,1,1,1,1,1,1,1,1,1,1,1,1,1,1,1,1,1,1,1,1,1,1,1,1,1,1,1,1,1,1,1,1,1,1,1,1,1,1,1,1,1,1,1,1,1,1,1,1,1,1,1,1,1,1,1,1,1,1,1,1,1,1,1,1,1,1,1,1,1,1,1,1,1,1,1,1,1,1,1,1,1,1,1,1,1,1,1,1,1,1,1,1,1,1,1,1,1,1,1,1,1,1,1,1,1,1,1,1,1,1,1,1,1,1,1,1,1,1,1,1,1,1,1,1,1,1,1,1,1,1,1,1,1,1,1,1,1,1,1,1,1,1,1,1,1,1,1,1,1,1,1,1,1,1,1,1,1,1,1,1,1,1,1,1,1,1,1,1,1,1,1,1,1,1,1,1,1,1,1,1,1,1,1,1,1,1,1,1,1,1,1,1,1,1,1,1,1,1,1,1,1,1,1,1,1,1,1,1,1,1,1,1,1,1,1,1,1,1,1,1,1,1,1,1,1,1,1,1,1,1,1,1,1,1,1,1,1,1,1,1,1,1,1,1,1,1,1,1,1,1,1,1,1,1,1,1,1,1,1,1,1,1,1,1,1,1,1,1,1,1,1,1],\"yaxis\":\"y\",\"type\":\"bar\"},{\"alignmentgroup\":\"True\",\"hovertemplate\":\"sex=Female\\u003cbr\\u003edataset=%{x}\\u003cbr\\u003ecount=%{y}\\u003cextra\\u003e\\u003c\\u002fextra\\u003e\",\"legendgroup\":\"Female\",\"marker\":{\"color\":\"#EF553B\",\"pattern\":{\"shape\":\"\"}},\"name\":\"Female\",\"offsetgroup\":\"Female\",\"orientation\":\"v\",\"showlegend\":true,\"textposition\":\"auto\",\"x\":[\"Cleveland\",\"Cleveland\",\"Cleveland\",\"Cleveland\",\"Cleveland\",\"Cleveland\",\"Cleveland\",\"Cleveland\",\"Cleveland\",\"Cleveland\",\"Cleveland\",\"Cleveland\",\"Cleveland\",\"Cleveland\",\"Cleveland\",\"Cleveland\",\"Cleveland\",\"Cleveland\",\"Cleveland\",\"Cleveland\",\"Cleveland\",\"Cleveland\",\"Cleveland\",\"Cleveland\",\"Cleveland\",\"Cleveland\",\"Cleveland\",\"Cleveland\",\"Cleveland\",\"Cleveland\",\"Cleveland\",\"Cleveland\",\"Cleveland\",\"Cleveland\",\"Cleveland\",\"Cleveland\",\"Cleveland\",\"Cleveland\",\"Cleveland\",\"Cleveland\",\"Cleveland\",\"Cleveland\",\"Cleveland\",\"Cleveland\",\"Cleveland\",\"Cleveland\",\"Cleveland\",\"Cleveland\",\"Cleveland\",\"Cleveland\",\"Cleveland\",\"Cleveland\",\"Cleveland\",\"Cleveland\",\"Cleveland\",\"Cleveland\",\"Cleveland\",\"Cleveland\",\"Cleveland\",\"Cleveland\",\"Cleveland\",\"Cleveland\",\"Cleveland\",\"Cleveland\",\"Cleveland\",\"Cleveland\",\"Cleveland\",\"Cleveland\",\"Cleveland\",\"Cleveland\",\"Cleveland\",\"Cleveland\",\"Cleveland\",\"Cleveland\",\"Cleveland\",\"Cleveland\",\"Cleveland\",\"Cleveland\",\"Cleveland\",\"Cleveland\",\"Cleveland\",\"Cleveland\",\"Cleveland\",\"Cleveland\",\"Cleveland\",\"Cleveland\",\"Cleveland\",\"Cleveland\",\"Cleveland\",\"Cleveland\",\"Cleveland\",\"Cleveland\",\"Cleveland\",\"Cleveland\",\"Cleveland\",\"Cleveland\",\"Cleveland\",\"Hungary\",\"Hungary\",\"Hungary\",\"Hungary\",\"Hungary\",\"Hungary\",\"Hungary\",\"Hungary\",\"Hungary\",\"Hungary\",\"Hungary\",\"Hungary\",\"Hungary\",\"Hungary\",\"Hungary\",\"Hungary\",\"Hungary\",\"Hungary\",\"Hungary\",\"Hungary\",\"Hungary\",\"Hungary\",\"Hungary\",\"Hungary\",\"Hungary\",\"Hungary\",\"Hungary\",\"Hungary\",\"Hungary\",\"Hungary\",\"Hungary\",\"Hungary\",\"Hungary\",\"Hungary\",\"Hungary\",\"Hungary\",\"Hungary\",\"Hungary\",\"Hungary\",\"Hungary\",\"Hungary\",\"Hungary\",\"Hungary\",\"Hungary\",\"Hungary\",\"Hungary\",\"Hungary\",\"Hungary\",\"Hungary\",\"Hungary\",\"Hungary\",\"Hungary\",\"Hungary\",\"Hungary\",\"Hungary\",\"Hungary\",\"Hungary\",\"Hungary\",\"Hungary\",\"Hungary\",\"Hungary\",\"Hungary\",\"Hungary\",\"Hungary\",\"Hungary\",\"Hungary\",\"Hungary\",\"Hungary\",\"Hungary\",\"Hungary\",\"Hungary\",\"Hungary\",\"Hungary\",\"Hungary\",\"Hungary\",\"Hungary\",\"Hungary\",\"Hungary\",\"Hungary\",\"Hungary\",\"Hungary\",\"Switzerland\",\"Switzerland\",\"Switzerland\",\"Switzerland\",\"Switzerland\",\"Switzerland\",\"Switzerland\",\"Switzerland\",\"Switzerland\",\"Switzerland\",\"VA Long Beach\",\"VA Long Beach\",\"VA Long Beach\",\"VA Long Beach\",\"VA Long Beach\",\"VA Long Beach\"],\"xaxis\":\"x\",\"y\":[1,1,1,1,1,1,1,1,1,1,1,1,1,1,1,1,1,1,1,1,1,1,1,1,1,1,1,1,1,1,1,1,1,1,1,1,1,1,1,1,1,1,1,1,1,1,1,1,1,1,1,1,1,1,1,1,1,1,1,1,1,1,1,1,1,1,1,1,1,1,1,1,1,1,1,1,1,1,1,1,1,1,1,1,1,1,1,1,1,1,1,1,1,1,1,1,1,1,1,1,1,1,1,1,1,1,1,1,1,1,1,1,1,1,1,1,1,1,1,1,1,1,1,1,1,1,1,1,1,1,1,1,1,1,1,1,1,1,1,1,1,1,1,1,1,1,1,1,1,1,1,1,1,1,1,1,1,1,1,1,1,1,1,1,1,1,1,1,1,1,1,1,1,1,1,1,1,1,1,1,1,1,1,1,1,1,1,1,1,1,1,1,1,1],\"yaxis\":\"y\",\"type\":\"bar\"}],                        {\"template\":{\"data\":{\"histogram2dcontour\":[{\"type\":\"histogram2dcontour\",\"colorbar\":{\"outlinewidth\":0,\"ticks\":\"\"},\"colorscale\":[[0.0,\"#0d0887\"],[0.1111111111111111,\"#46039f\"],[0.2222222222222222,\"#7201a8\"],[0.3333333333333333,\"#9c179e\"],[0.4444444444444444,\"#bd3786\"],[0.5555555555555556,\"#d8576b\"],[0.6666666666666666,\"#ed7953\"],[0.7777777777777778,\"#fb9f3a\"],[0.8888888888888888,\"#fdca26\"],[1.0,\"#f0f921\"]]}],\"choropleth\":[{\"type\":\"choropleth\",\"colorbar\":{\"outlinewidth\":0,\"ticks\":\"\"}}],\"histogram2d\":[{\"type\":\"histogram2d\",\"colorbar\":{\"outlinewidth\":0,\"ticks\":\"\"},\"colorscale\":[[0.0,\"#0d0887\"],[0.1111111111111111,\"#46039f\"],[0.2222222222222222,\"#7201a8\"],[0.3333333333333333,\"#9c179e\"],[0.4444444444444444,\"#bd3786\"],[0.5555555555555556,\"#d8576b\"],[0.6666666666666666,\"#ed7953\"],[0.7777777777777778,\"#fb9f3a\"],[0.8888888888888888,\"#fdca26\"],[1.0,\"#f0f921\"]]}],\"heatmap\":[{\"type\":\"heatmap\",\"colorbar\":{\"outlinewidth\":0,\"ticks\":\"\"},\"colorscale\":[[0.0,\"#0d0887\"],[0.1111111111111111,\"#46039f\"],[0.2222222222222222,\"#7201a8\"],[0.3333333333333333,\"#9c179e\"],[0.4444444444444444,\"#bd3786\"],[0.5555555555555556,\"#d8576b\"],[0.6666666666666666,\"#ed7953\"],[0.7777777777777778,\"#fb9f3a\"],[0.8888888888888888,\"#fdca26\"],[1.0,\"#f0f921\"]]}],\"heatmapgl\":[{\"type\":\"heatmapgl\",\"colorbar\":{\"outlinewidth\":0,\"ticks\":\"\"},\"colorscale\":[[0.0,\"#0d0887\"],[0.1111111111111111,\"#46039f\"],[0.2222222222222222,\"#7201a8\"],[0.3333333333333333,\"#9c179e\"],[0.4444444444444444,\"#bd3786\"],[0.5555555555555556,\"#d8576b\"],[0.6666666666666666,\"#ed7953\"],[0.7777777777777778,\"#fb9f3a\"],[0.8888888888888888,\"#fdca26\"],[1.0,\"#f0f921\"]]}],\"contourcarpet\":[{\"type\":\"contourcarpet\",\"colorbar\":{\"outlinewidth\":0,\"ticks\":\"\"}}],\"contour\":[{\"type\":\"contour\",\"colorbar\":{\"outlinewidth\":0,\"ticks\":\"\"},\"colorscale\":[[0.0,\"#0d0887\"],[0.1111111111111111,\"#46039f\"],[0.2222222222222222,\"#7201a8\"],[0.3333333333333333,\"#9c179e\"],[0.4444444444444444,\"#bd3786\"],[0.5555555555555556,\"#d8576b\"],[0.6666666666666666,\"#ed7953\"],[0.7777777777777778,\"#fb9f3a\"],[0.8888888888888888,\"#fdca26\"],[1.0,\"#f0f921\"]]}],\"surface\":[{\"type\":\"surface\",\"colorbar\":{\"outlinewidth\":0,\"ticks\":\"\"},\"colorscale\":[[0.0,\"#0d0887\"],[0.1111111111111111,\"#46039f\"],[0.2222222222222222,\"#7201a8\"],[0.3333333333333333,\"#9c179e\"],[0.4444444444444444,\"#bd3786\"],[0.5555555555555556,\"#d8576b\"],[0.6666666666666666,\"#ed7953\"],[0.7777777777777778,\"#fb9f3a\"],[0.8888888888888888,\"#fdca26\"],[1.0,\"#f0f921\"]]}],\"mesh3d\":[{\"type\":\"mesh3d\",\"colorbar\":{\"outlinewidth\":0,\"ticks\":\"\"}}],\"scatter\":[{\"fillpattern\":{\"fillmode\":\"overlay\",\"size\":10,\"solidity\":0.2},\"type\":\"scatter\"}],\"parcoords\":[{\"type\":\"parcoords\",\"line\":{\"colorbar\":{\"outlinewidth\":0,\"ticks\":\"\"}}}],\"scatterpolargl\":[{\"type\":\"scatterpolargl\",\"marker\":{\"colorbar\":{\"outlinewidth\":0,\"ticks\":\"\"}}}],\"bar\":[{\"error_x\":{\"color\":\"#2a3f5f\"},\"error_y\":{\"color\":\"#2a3f5f\"},\"marker\":{\"line\":{\"color\":\"#E5ECF6\",\"width\":0.5},\"pattern\":{\"fillmode\":\"overlay\",\"size\":10,\"solidity\":0.2}},\"type\":\"bar\"}],\"scattergeo\":[{\"type\":\"scattergeo\",\"marker\":{\"colorbar\":{\"outlinewidth\":0,\"ticks\":\"\"}}}],\"scatterpolar\":[{\"type\":\"scatterpolar\",\"marker\":{\"colorbar\":{\"outlinewidth\":0,\"ticks\":\"\"}}}],\"histogram\":[{\"marker\":{\"pattern\":{\"fillmode\":\"overlay\",\"size\":10,\"solidity\":0.2}},\"type\":\"histogram\"}],\"scattergl\":[{\"type\":\"scattergl\",\"marker\":{\"colorbar\":{\"outlinewidth\":0,\"ticks\":\"\"}}}],\"scatter3d\":[{\"type\":\"scatter3d\",\"line\":{\"colorbar\":{\"outlinewidth\":0,\"ticks\":\"\"}},\"marker\":{\"colorbar\":{\"outlinewidth\":0,\"ticks\":\"\"}}}],\"scattermapbox\":[{\"type\":\"scattermapbox\",\"marker\":{\"colorbar\":{\"outlinewidth\":0,\"ticks\":\"\"}}}],\"scatterternary\":[{\"type\":\"scatterternary\",\"marker\":{\"colorbar\":{\"outlinewidth\":0,\"ticks\":\"\"}}}],\"scattercarpet\":[{\"type\":\"scattercarpet\",\"marker\":{\"colorbar\":{\"outlinewidth\":0,\"ticks\":\"\"}}}],\"carpet\":[{\"aaxis\":{\"endlinecolor\":\"#2a3f5f\",\"gridcolor\":\"white\",\"linecolor\":\"white\",\"minorgridcolor\":\"white\",\"startlinecolor\":\"#2a3f5f\"},\"baxis\":{\"endlinecolor\":\"#2a3f5f\",\"gridcolor\":\"white\",\"linecolor\":\"white\",\"minorgridcolor\":\"white\",\"startlinecolor\":\"#2a3f5f\"},\"type\":\"carpet\"}],\"table\":[{\"cells\":{\"fill\":{\"color\":\"#EBF0F8\"},\"line\":{\"color\":\"white\"}},\"header\":{\"fill\":{\"color\":\"#C8D4E3\"},\"line\":{\"color\":\"white\"}},\"type\":\"table\"}],\"barpolar\":[{\"marker\":{\"line\":{\"color\":\"#E5ECF6\",\"width\":0.5},\"pattern\":{\"fillmode\":\"overlay\",\"size\":10,\"solidity\":0.2}},\"type\":\"barpolar\"}],\"pie\":[{\"automargin\":true,\"type\":\"pie\"}]},\"layout\":{\"autotypenumbers\":\"strict\",\"colorway\":[\"#636efa\",\"#EF553B\",\"#00cc96\",\"#ab63fa\",\"#FFA15A\",\"#19d3f3\",\"#FF6692\",\"#B6E880\",\"#FF97FF\",\"#FECB52\"],\"font\":{\"color\":\"#2a3f5f\"},\"hovermode\":\"closest\",\"hoverlabel\":{\"align\":\"left\"},\"paper_bgcolor\":\"white\",\"plot_bgcolor\":\"#E5ECF6\",\"polar\":{\"bgcolor\":\"#E5ECF6\",\"angularaxis\":{\"gridcolor\":\"white\",\"linecolor\":\"white\",\"ticks\":\"\"},\"radialaxis\":{\"gridcolor\":\"white\",\"linecolor\":\"white\",\"ticks\":\"\"}},\"ternary\":{\"bgcolor\":\"#E5ECF6\",\"aaxis\":{\"gridcolor\":\"white\",\"linecolor\":\"white\",\"ticks\":\"\"},\"baxis\":{\"gridcolor\":\"white\",\"linecolor\":\"white\",\"ticks\":\"\"},\"caxis\":{\"gridcolor\":\"white\",\"linecolor\":\"white\",\"ticks\":\"\"}},\"coloraxis\":{\"colorbar\":{\"outlinewidth\":0,\"ticks\":\"\"}},\"colorscale\":{\"sequential\":[[0.0,\"#0d0887\"],[0.1111111111111111,\"#46039f\"],[0.2222222222222222,\"#7201a8\"],[0.3333333333333333,\"#9c179e\"],[0.4444444444444444,\"#bd3786\"],[0.5555555555555556,\"#d8576b\"],[0.6666666666666666,\"#ed7953\"],[0.7777777777777778,\"#fb9f3a\"],[0.8888888888888888,\"#fdca26\"],[1.0,\"#f0f921\"]],\"sequentialminus\":[[0.0,\"#0d0887\"],[0.1111111111111111,\"#46039f\"],[0.2222222222222222,\"#7201a8\"],[0.3333333333333333,\"#9c179e\"],[0.4444444444444444,\"#bd3786\"],[0.5555555555555556,\"#d8576b\"],[0.6666666666666666,\"#ed7953\"],[0.7777777777777778,\"#fb9f3a\"],[0.8888888888888888,\"#fdca26\"],[1.0,\"#f0f921\"]],\"diverging\":[[0,\"#8e0152\"],[0.1,\"#c51b7d\"],[0.2,\"#de77ae\"],[0.3,\"#f1b6da\"],[0.4,\"#fde0ef\"],[0.5,\"#f7f7f7\"],[0.6,\"#e6f5d0\"],[0.7,\"#b8e186\"],[0.8,\"#7fbc41\"],[0.9,\"#4d9221\"],[1,\"#276419\"]]},\"xaxis\":{\"gridcolor\":\"white\",\"linecolor\":\"white\",\"ticks\":\"\",\"title\":{\"standoff\":15},\"zerolinecolor\":\"white\",\"automargin\":true,\"zerolinewidth\":2},\"yaxis\":{\"gridcolor\":\"white\",\"linecolor\":\"white\",\"ticks\":\"\",\"title\":{\"standoff\":15},\"zerolinecolor\":\"white\",\"automargin\":true,\"zerolinewidth\":2},\"scene\":{\"xaxis\":{\"backgroundcolor\":\"#E5ECF6\",\"gridcolor\":\"white\",\"linecolor\":\"white\",\"showbackground\":true,\"ticks\":\"\",\"zerolinecolor\":\"white\",\"gridwidth\":2},\"yaxis\":{\"backgroundcolor\":\"#E5ECF6\",\"gridcolor\":\"white\",\"linecolor\":\"white\",\"showbackground\":true,\"ticks\":\"\",\"zerolinecolor\":\"white\",\"gridwidth\":2},\"zaxis\":{\"backgroundcolor\":\"#E5ECF6\",\"gridcolor\":\"white\",\"linecolor\":\"white\",\"showbackground\":true,\"ticks\":\"\",\"zerolinecolor\":\"white\",\"gridwidth\":2}},\"shapedefaults\":{\"line\":{\"color\":\"#2a3f5f\"}},\"annotationdefaults\":{\"arrowcolor\":\"#2a3f5f\",\"arrowhead\":0,\"arrowwidth\":1},\"geo\":{\"bgcolor\":\"white\",\"landcolor\":\"#E5ECF6\",\"subunitcolor\":\"white\",\"showland\":true,\"showlakes\":true,\"lakecolor\":\"white\"},\"title\":{\"x\":0.05},\"mapbox\":{\"style\":\"light\"}}},\"xaxis\":{\"anchor\":\"y\",\"domain\":[0.0,1.0],\"title\":{\"text\":\"dataset\"}},\"yaxis\":{\"anchor\":\"x\",\"domain\":[0.0,1.0],\"title\":{\"text\":\"count\"}},\"legend\":{\"title\":{\"text\":\"sex\"},\"tracegroupgap\":0},\"margin\":{\"t\":60},\"barmode\":\"relative\"},                        {\"responsive\": true}                    ).then(function(){\n",
       "                            \n",
       "var gd = document.getElementById('a0bb0524-cd82-4c22-8dd4-ca3abc27a6e7');\n",
       "var x = new MutationObserver(function (mutations, observer) {{\n",
       "        var display = window.getComputedStyle(gd).display;\n",
       "        if (!display || display === 'none') {{\n",
       "            console.log([gd, 'removed!']);\n",
       "            Plotly.purge(gd);\n",
       "            observer.disconnect();\n",
       "        }}\n",
       "}});\n",
       "\n",
       "// Listen for the removal of the full notebook cells\n",
       "var notebookContainer = gd.closest('#notebook-container');\n",
       "if (notebookContainer) {{\n",
       "    x.observe(notebookContainer, {childList: true});\n",
       "}}\n",
       "\n",
       "// Listen for the clearing of the current output cell\n",
       "var outputEl = gd.closest('.output');\n",
       "if (outputEl) {{\n",
       "    x.observe(outputEl, {childList: true});\n",
       "}}\n",
       "\n",
       "                        })                };                            </script>        </div>\n",
       "</body>\n",
       "</html>"
      ]
     },
     "metadata": {},
     "output_type": "display_data"
    },
    {
     "name": "stdout",
     "output_type": "stream",
     "text": [
      "sex     dataset      \n",
      "Female  Cleveland         97\n",
      "        Hungary           81\n",
      "        Switzerland       10\n",
      "        VA Long Beach      6\n",
      "Male    Hungary          212\n",
      "        Cleveland        207\n",
      "        VA Long Beach    194\n",
      "        Switzerland      113\n",
      "Name: count, dtype: int64\n"
     ]
    }
   ],
   "source": [
    "# plot the countplot of dataset column\n",
    "# sns.countplot(data=df, x='dataset', hue = 'sex')\n",
    "\n",
    "# better plots with plotly\n",
    "fig = px.bar(df, x='dataset', color='sex')\n",
    "fig.show()\n",
    "\n",
    "# print the values count of dataset column grouped by sex\n",
    "print(df.groupby('sex')['dataset'].value_counts())"
   ]
  },
  {
   "cell_type": "code",
   "execution_count": 19,
   "id": "63517d85",
   "metadata": {
    "execution": {
     "iopub.execute_input": "2025-08-22T17:49:08.514957Z",
     "iopub.status.busy": "2025-08-22T17:49:08.514411Z",
     "iopub.status.idle": "2025-08-22T17:49:08.574611Z",
     "shell.execute_reply": "2025-08-22T17:49:08.573672Z"
    },
    "papermill": {
     "duration": 0.078449,
     "end_time": "2025-08-22T17:49:08.575992",
     "exception": false,
     "start_time": "2025-08-22T17:49:08.497543",
     "status": "completed"
    },
    "tags": []
   },
   "outputs": [
    {
     "data": {
      "text/html": [
       "<html>\n",
       "<head><meta charset=\"utf-8\" /></head>\n",
       "<body>\n",
       "    <div>            <script src=\"https://cdnjs.cloudflare.com/ajax/libs/mathjax/2.7.5/MathJax.js?config=TeX-AMS-MML_SVG\"></script><script type=\"text/javascript\">if (window.MathJax && window.MathJax.Hub && window.MathJax.Hub.Config) {window.MathJax.Hub.Config({SVG: {font: \"STIX-Web\"}});}</script>                <script type=\"text/javascript\">window.PlotlyConfig = {MathJaxConfig: 'local'};</script>\n",
       "        <script charset=\"utf-8\" src=\"https://cdn.plot.ly/plotly-2.35.2.min.js\"></script>                <div id=\"8dd94639-bb05-41ce-82a4-228e4fa3662e\" class=\"plotly-graph-div\" style=\"height:525px; width:100%;\"></div>            <script type=\"text/javascript\">                                    window.PLOTLYENV=window.PLOTLYENV || {};                                    if (document.getElementById(\"8dd94639-bb05-41ce-82a4-228e4fa3662e\")) {                    Plotly.newPlot(                        \"8dd94639-bb05-41ce-82a4-228e4fa3662e\",                        [{\"alignmentgroup\":\"True\",\"bingroup\":\"x\",\"hovertemplate\":\"dataset=Cleveland\\u003cbr\\u003eage=%{x}\\u003cbr\\u003ecount=%{y}\\u003cextra\\u003e\\u003c\\u002fextra\\u003e\",\"legendgroup\":\"Cleveland\",\"marker\":{\"color\":\"#636efa\",\"pattern\":{\"shape\":\"\"}},\"name\":\"Cleveland\",\"offsetgroup\":\"Cleveland\",\"orientation\":\"v\",\"showlegend\":true,\"x\":[63,67,67,37,41,56,62,57,63,53,57,56,56,44,52,57,48,54,48,49,64,58,58,58,60,50,58,66,43,40,69,60,64,59,44,42,43,57,55,61,65,40,71,59,61,58,51,50,65,53,41,65,44,44,60,54,50,41,54,51,51,46,58,54,54,60,60,54,59,46,65,67,62,65,44,65,60,51,48,58,45,53,39,68,52,44,47,53,53,51,66,62,62,44,63,52,59,60,52,48,45,34,57,71,49,54,59,57,61,39,61,56,52,43,62,41,58,35,63,65,48,63,51,55,65,45,56,54,44,62,54,51,29,51,43,55,70,62,35,51,59,59,52,64,58,47,57,41,45,60,52,42,67,55,64,70,51,58,60,68,46,77,54,58,48,57,52,54,35,45,70,53,59,62,64,57,52,56,43,53,48,56,42,59,60,63,42,66,54,69,50,51,43,62,68,67,69,45,50,59,50,64,57,64,43,45,58,50,55,62,37,38,41,66,52,56,46,46,64,59,41,54,39,53,63,34,47,67,54,66,52,55,49,74,54,54,56,46,49,42,41,41,49,61,60,67,58,47,52,62,57,58,64,51,43,42,67,76,70,57,44,58,60,44,61,42,52,59,40,42,61,66,46,71,59,64,66,39,57,58,57,47,55,35,61,58,58,58,56,56,67,55,44,63,63,41,59,57,45,68,57,57,38,28],\"xaxis\":\"x\",\"yaxis\":\"y\",\"type\":\"histogram\"},{\"alignmentgroup\":\"True\",\"bingroup\":\"x\",\"hovertemplate\":\"dataset=Hungary\\u003cbr\\u003eage=%{x}\\u003cbr\\u003ecount=%{y}\\u003cextra\\u003e\\u003c\\u002fextra\\u003e\",\"legendgroup\":\"Hungary\",\"marker\":{\"color\":\"#EF553B\",\"pattern\":{\"shape\":\"\"}},\"name\":\"Hungary\",\"offsetgroup\":\"Hungary\",\"orientation\":\"v\",\"showlegend\":true,\"x\":[29,29,30,31,32,32,32,33,34,34,34,35,35,35,35,36,36,36,36,37,37,37,37,37,37,37,38,38,38,39,39,39,39,39,39,39,39,39,39,40,40,40,40,40,41,41,41,41,41,41,41,42,42,42,42,42,42,42,43,43,43,43,43,43,43,43,44,44,44,44,45,45,45,45,45,45,45,46,46,46,46,46,46,46,47,47,47,47,47,48,48,48,48,48,48,48,48,48,48,48,49,49,49,49,49,49,49,49,50,50,50,50,50,50,50,51,51,51,51,51,51,51,52,52,52,52,52,52,52,52,53,53,53,53,53,53,53,53,53,54,54,54,54,54,54,54,54,54,54,54,54,54,54,54,54,55,55,55,55,55,55,55,55,55,55,56,56,56,56,56,57,57,57,58,58,58,58,59,59,59,59,59,60,61,61,62,62,31,33,34,35,36,37,38,38,38,40,41,41,43,46,46,46,47,47,48,48,48,49,49,49,50,50,51,52,54,54,55,57,58,59,60,63,65,32,38,39,40,43,45,46,46,48,48,48,48,50,52,52,53,54,54,54,54,54,55,56,57,58,58,41,43,44,44,46,47,48,49,49,51,52,52,52,52,53,53,54,55,55,55,56,56,56,58,59,59,65,66,41,43,44,47,47,49,49,50,50,52,52,54,56,58,65],\"xaxis\":\"x\",\"yaxis\":\"y\",\"type\":\"histogram\"},{\"alignmentgroup\":\"True\",\"bingroup\":\"x\",\"hovertemplate\":\"dataset=Switzerland\\u003cbr\\u003eage=%{x}\\u003cbr\\u003ecount=%{y}\\u003cextra\\u003e\\u003c\\u002fextra\\u003e\",\"legendgroup\":\"Switzerland\",\"marker\":{\"color\":\"#00cc96\",\"pattern\":{\"shape\":\"\"}},\"name\":\"Switzerland\",\"offsetgroup\":\"Switzerland\",\"orientation\":\"v\",\"showlegend\":true,\"x\":[32,34,35,36,38,38,38,38,38,38,40,41,42,42,43,43,43,45,46,46,47,47,47,47,48,50,50,50,50,51,51,51,51,51,51,51,52,52,52,52,53,53,53,53,53,53,53,53,54,54,54,55,55,55,55,56,56,56,56,56,56,56,56,57,57,57,57,57,57,58,58,58,59,59,59,59,59,60,60,60,60,60,60,61,61,61,61,61,61,61,61,61,62,62,62,62,62,62,62,63,63,63,63,63,64,64,64,65,65,65,65,66,66,67,68,68,69,69,70,70,72,73,74],\"xaxis\":\"x\",\"yaxis\":\"y\",\"type\":\"histogram\"},{\"alignmentgroup\":\"True\",\"bingroup\":\"x\",\"hovertemplate\":\"dataset=VA Long Beach\\u003cbr\\u003eage=%{x}\\u003cbr\\u003ecount=%{y}\\u003cextra\\u003e\\u003c\\u002fextra\\u003e\",\"legendgroup\":\"VA Long Beach\",\"marker\":{\"color\":\"#ab63fa\",\"pattern\":{\"shape\":\"\"}},\"name\":\"VA Long Beach\",\"offsetgroup\":\"VA Long Beach\",\"orientation\":\"v\",\"showlegend\":true,\"x\":[63,44,60,55,66,66,65,60,60,60,56,59,62,63,57,62,63,46,63,60,58,64,63,74,52,69,51,60,56,55,54,77,63,55,52,64,60,60,58,59,61,40,61,41,57,63,59,51,59,42,55,63,62,56,53,68,53,60,62,59,51,61,57,56,58,69,67,58,65,63,55,57,65,54,72,75,49,51,60,64,58,61,67,62,65,63,69,51,62,55,75,40,67,58,60,63,35,62,43,63,68,65,48,63,64,61,50,59,55,45,65,61,49,72,50,64,55,63,59,56,62,74,54,57,62,76,54,70,61,48,48,61,66,68,55,62,71,74,53,58,75,56,58,64,54,54,59,55,57,61,41,71,38,55,56,69,64,72,69,56,62,67,57,69,51,48,69,69,64,57,53,37,67,74,63,58,61,64,58,60,57,55,55,56,57,61,61,58,74,68,51,62,53,62,46,54,62,55,58,62],\"xaxis\":\"x\",\"yaxis\":\"y\",\"type\":\"histogram\"}],                        {\"template\":{\"data\":{\"histogram2dcontour\":[{\"type\":\"histogram2dcontour\",\"colorbar\":{\"outlinewidth\":0,\"ticks\":\"\"},\"colorscale\":[[0.0,\"#0d0887\"],[0.1111111111111111,\"#46039f\"],[0.2222222222222222,\"#7201a8\"],[0.3333333333333333,\"#9c179e\"],[0.4444444444444444,\"#bd3786\"],[0.5555555555555556,\"#d8576b\"],[0.6666666666666666,\"#ed7953\"],[0.7777777777777778,\"#fb9f3a\"],[0.8888888888888888,\"#fdca26\"],[1.0,\"#f0f921\"]]}],\"choropleth\":[{\"type\":\"choropleth\",\"colorbar\":{\"outlinewidth\":0,\"ticks\":\"\"}}],\"histogram2d\":[{\"type\":\"histogram2d\",\"colorbar\":{\"outlinewidth\":0,\"ticks\":\"\"},\"colorscale\":[[0.0,\"#0d0887\"],[0.1111111111111111,\"#46039f\"],[0.2222222222222222,\"#7201a8\"],[0.3333333333333333,\"#9c179e\"],[0.4444444444444444,\"#bd3786\"],[0.5555555555555556,\"#d8576b\"],[0.6666666666666666,\"#ed7953\"],[0.7777777777777778,\"#fb9f3a\"],[0.8888888888888888,\"#fdca26\"],[1.0,\"#f0f921\"]]}],\"heatmap\":[{\"type\":\"heatmap\",\"colorbar\":{\"outlinewidth\":0,\"ticks\":\"\"},\"colorscale\":[[0.0,\"#0d0887\"],[0.1111111111111111,\"#46039f\"],[0.2222222222222222,\"#7201a8\"],[0.3333333333333333,\"#9c179e\"],[0.4444444444444444,\"#bd3786\"],[0.5555555555555556,\"#d8576b\"],[0.6666666666666666,\"#ed7953\"],[0.7777777777777778,\"#fb9f3a\"],[0.8888888888888888,\"#fdca26\"],[1.0,\"#f0f921\"]]}],\"heatmapgl\":[{\"type\":\"heatmapgl\",\"colorbar\":{\"outlinewidth\":0,\"ticks\":\"\"},\"colorscale\":[[0.0,\"#0d0887\"],[0.1111111111111111,\"#46039f\"],[0.2222222222222222,\"#7201a8\"],[0.3333333333333333,\"#9c179e\"],[0.4444444444444444,\"#bd3786\"],[0.5555555555555556,\"#d8576b\"],[0.6666666666666666,\"#ed7953\"],[0.7777777777777778,\"#fb9f3a\"],[0.8888888888888888,\"#fdca26\"],[1.0,\"#f0f921\"]]}],\"contourcarpet\":[{\"type\":\"contourcarpet\",\"colorbar\":{\"outlinewidth\":0,\"ticks\":\"\"}}],\"contour\":[{\"type\":\"contour\",\"colorbar\":{\"outlinewidth\":0,\"ticks\":\"\"},\"colorscale\":[[0.0,\"#0d0887\"],[0.1111111111111111,\"#46039f\"],[0.2222222222222222,\"#7201a8\"],[0.3333333333333333,\"#9c179e\"],[0.4444444444444444,\"#bd3786\"],[0.5555555555555556,\"#d8576b\"],[0.6666666666666666,\"#ed7953\"],[0.7777777777777778,\"#fb9f3a\"],[0.8888888888888888,\"#fdca26\"],[1.0,\"#f0f921\"]]}],\"surface\":[{\"type\":\"surface\",\"colorbar\":{\"outlinewidth\":0,\"ticks\":\"\"},\"colorscale\":[[0.0,\"#0d0887\"],[0.1111111111111111,\"#46039f\"],[0.2222222222222222,\"#7201a8\"],[0.3333333333333333,\"#9c179e\"],[0.4444444444444444,\"#bd3786\"],[0.5555555555555556,\"#d8576b\"],[0.6666666666666666,\"#ed7953\"],[0.7777777777777778,\"#fb9f3a\"],[0.8888888888888888,\"#fdca26\"],[1.0,\"#f0f921\"]]}],\"mesh3d\":[{\"type\":\"mesh3d\",\"colorbar\":{\"outlinewidth\":0,\"ticks\":\"\"}}],\"scatter\":[{\"fillpattern\":{\"fillmode\":\"overlay\",\"size\":10,\"solidity\":0.2},\"type\":\"scatter\"}],\"parcoords\":[{\"type\":\"parcoords\",\"line\":{\"colorbar\":{\"outlinewidth\":0,\"ticks\":\"\"}}}],\"scatterpolargl\":[{\"type\":\"scatterpolargl\",\"marker\":{\"colorbar\":{\"outlinewidth\":0,\"ticks\":\"\"}}}],\"bar\":[{\"error_x\":{\"color\":\"#2a3f5f\"},\"error_y\":{\"color\":\"#2a3f5f\"},\"marker\":{\"line\":{\"color\":\"#E5ECF6\",\"width\":0.5},\"pattern\":{\"fillmode\":\"overlay\",\"size\":10,\"solidity\":0.2}},\"type\":\"bar\"}],\"scattergeo\":[{\"type\":\"scattergeo\",\"marker\":{\"colorbar\":{\"outlinewidth\":0,\"ticks\":\"\"}}}],\"scatterpolar\":[{\"type\":\"scatterpolar\",\"marker\":{\"colorbar\":{\"outlinewidth\":0,\"ticks\":\"\"}}}],\"histogram\":[{\"marker\":{\"pattern\":{\"fillmode\":\"overlay\",\"size\":10,\"solidity\":0.2}},\"type\":\"histogram\"}],\"scattergl\":[{\"type\":\"scattergl\",\"marker\":{\"colorbar\":{\"outlinewidth\":0,\"ticks\":\"\"}}}],\"scatter3d\":[{\"type\":\"scatter3d\",\"line\":{\"colorbar\":{\"outlinewidth\":0,\"ticks\":\"\"}},\"marker\":{\"colorbar\":{\"outlinewidth\":0,\"ticks\":\"\"}}}],\"scattermapbox\":[{\"type\":\"scattermapbox\",\"marker\":{\"colorbar\":{\"outlinewidth\":0,\"ticks\":\"\"}}}],\"scatterternary\":[{\"type\":\"scatterternary\",\"marker\":{\"colorbar\":{\"outlinewidth\":0,\"ticks\":\"\"}}}],\"scattercarpet\":[{\"type\":\"scattercarpet\",\"marker\":{\"colorbar\":{\"outlinewidth\":0,\"ticks\":\"\"}}}],\"carpet\":[{\"aaxis\":{\"endlinecolor\":\"#2a3f5f\",\"gridcolor\":\"white\",\"linecolor\":\"white\",\"minorgridcolor\":\"white\",\"startlinecolor\":\"#2a3f5f\"},\"baxis\":{\"endlinecolor\":\"#2a3f5f\",\"gridcolor\":\"white\",\"linecolor\":\"white\",\"minorgridcolor\":\"white\",\"startlinecolor\":\"#2a3f5f\"},\"type\":\"carpet\"}],\"table\":[{\"cells\":{\"fill\":{\"color\":\"#EBF0F8\"},\"line\":{\"color\":\"white\"}},\"header\":{\"fill\":{\"color\":\"#C8D4E3\"},\"line\":{\"color\":\"white\"}},\"type\":\"table\"}],\"barpolar\":[{\"marker\":{\"line\":{\"color\":\"#E5ECF6\",\"width\":0.5},\"pattern\":{\"fillmode\":\"overlay\",\"size\":10,\"solidity\":0.2}},\"type\":\"barpolar\"}],\"pie\":[{\"automargin\":true,\"type\":\"pie\"}]},\"layout\":{\"autotypenumbers\":\"strict\",\"colorway\":[\"#636efa\",\"#EF553B\",\"#00cc96\",\"#ab63fa\",\"#FFA15A\",\"#19d3f3\",\"#FF6692\",\"#B6E880\",\"#FF97FF\",\"#FECB52\"],\"font\":{\"color\":\"#2a3f5f\"},\"hovermode\":\"closest\",\"hoverlabel\":{\"align\":\"left\"},\"paper_bgcolor\":\"white\",\"plot_bgcolor\":\"#E5ECF6\",\"polar\":{\"bgcolor\":\"#E5ECF6\",\"angularaxis\":{\"gridcolor\":\"white\",\"linecolor\":\"white\",\"ticks\":\"\"},\"radialaxis\":{\"gridcolor\":\"white\",\"linecolor\":\"white\",\"ticks\":\"\"}},\"ternary\":{\"bgcolor\":\"#E5ECF6\",\"aaxis\":{\"gridcolor\":\"white\",\"linecolor\":\"white\",\"ticks\":\"\"},\"baxis\":{\"gridcolor\":\"white\",\"linecolor\":\"white\",\"ticks\":\"\"},\"caxis\":{\"gridcolor\":\"white\",\"linecolor\":\"white\",\"ticks\":\"\"}},\"coloraxis\":{\"colorbar\":{\"outlinewidth\":0,\"ticks\":\"\"}},\"colorscale\":{\"sequential\":[[0.0,\"#0d0887\"],[0.1111111111111111,\"#46039f\"],[0.2222222222222222,\"#7201a8\"],[0.3333333333333333,\"#9c179e\"],[0.4444444444444444,\"#bd3786\"],[0.5555555555555556,\"#d8576b\"],[0.6666666666666666,\"#ed7953\"],[0.7777777777777778,\"#fb9f3a\"],[0.8888888888888888,\"#fdca26\"],[1.0,\"#f0f921\"]],\"sequentialminus\":[[0.0,\"#0d0887\"],[0.1111111111111111,\"#46039f\"],[0.2222222222222222,\"#7201a8\"],[0.3333333333333333,\"#9c179e\"],[0.4444444444444444,\"#bd3786\"],[0.5555555555555556,\"#d8576b\"],[0.6666666666666666,\"#ed7953\"],[0.7777777777777778,\"#fb9f3a\"],[0.8888888888888888,\"#fdca26\"],[1.0,\"#f0f921\"]],\"diverging\":[[0,\"#8e0152\"],[0.1,\"#c51b7d\"],[0.2,\"#de77ae\"],[0.3,\"#f1b6da\"],[0.4,\"#fde0ef\"],[0.5,\"#f7f7f7\"],[0.6,\"#e6f5d0\"],[0.7,\"#b8e186\"],[0.8,\"#7fbc41\"],[0.9,\"#4d9221\"],[1,\"#276419\"]]},\"xaxis\":{\"gridcolor\":\"white\",\"linecolor\":\"white\",\"ticks\":\"\",\"title\":{\"standoff\":15},\"zerolinecolor\":\"white\",\"automargin\":true,\"zerolinewidth\":2},\"yaxis\":{\"gridcolor\":\"white\",\"linecolor\":\"white\",\"ticks\":\"\",\"title\":{\"standoff\":15},\"zerolinecolor\":\"white\",\"automargin\":true,\"zerolinewidth\":2},\"scene\":{\"xaxis\":{\"backgroundcolor\":\"#E5ECF6\",\"gridcolor\":\"white\",\"linecolor\":\"white\",\"showbackground\":true,\"ticks\":\"\",\"zerolinecolor\":\"white\",\"gridwidth\":2},\"yaxis\":{\"backgroundcolor\":\"#E5ECF6\",\"gridcolor\":\"white\",\"linecolor\":\"white\",\"showbackground\":true,\"ticks\":\"\",\"zerolinecolor\":\"white\",\"gridwidth\":2},\"zaxis\":{\"backgroundcolor\":\"#E5ECF6\",\"gridcolor\":\"white\",\"linecolor\":\"white\",\"showbackground\":true,\"ticks\":\"\",\"zerolinecolor\":\"white\",\"gridwidth\":2}},\"shapedefaults\":{\"line\":{\"color\":\"#2a3f5f\"}},\"annotationdefaults\":{\"arrowcolor\":\"#2a3f5f\",\"arrowhead\":0,\"arrowwidth\":1},\"geo\":{\"bgcolor\":\"white\",\"landcolor\":\"#E5ECF6\",\"subunitcolor\":\"white\",\"showland\":true,\"showlakes\":true,\"lakecolor\":\"white\"},\"title\":{\"x\":0.05},\"mapbox\":{\"style\":\"light\"}}},\"xaxis\":{\"anchor\":\"y\",\"domain\":[0.0,1.0],\"title\":{\"text\":\"age\"}},\"yaxis\":{\"anchor\":\"x\",\"domain\":[0.0,1.0],\"title\":{\"text\":\"count\"}},\"legend\":{\"title\":{\"text\":\"dataset\"},\"tracegroupgap\":0},\"margin\":{\"t\":60},\"barmode\":\"relative\"},                        {\"responsive\": true}                    ).then(function(){\n",
       "                            \n",
       "var gd = document.getElementById('8dd94639-bb05-41ce-82a4-228e4fa3662e');\n",
       "var x = new MutationObserver(function (mutations, observer) {{\n",
       "        var display = window.getComputedStyle(gd).display;\n",
       "        if (!display || display === 'none') {{\n",
       "            console.log([gd, 'removed!']);\n",
       "            Plotly.purge(gd);\n",
       "            observer.disconnect();\n",
       "        }}\n",
       "}});\n",
       "\n",
       "// Listen for the removal of the full notebook cells\n",
       "var notebookContainer = gd.closest('#notebook-container');\n",
       "if (notebookContainer) {{\n",
       "    x.observe(notebookContainer, {childList: true});\n",
       "}}\n",
       "\n",
       "// Listen for the clearing of the current output cell\n",
       "var outputEl = gd.closest('.output');\n",
       "if (outputEl) {{\n",
       "    x.observe(outputEl, {childList: true});\n",
       "}}\n",
       "\n",
       "                        })                };                            </script>        </div>\n",
       "</body>\n",
       "</html>"
      ]
     },
     "metadata": {},
     "output_type": "display_data"
    },
    {
     "name": "stdout",
     "output_type": "stream",
     "text": [
      "Mean of Data Set: dataset\n",
      "Cleveland        54.351974\n",
      "Hungary          47.894198\n",
      "Switzerland      55.317073\n",
      "VA Long Beach    59.350000\n",
      "Name: age, dtype: float64\n",
      "-------------------------------------\n",
      "Median of Data Set: dataset\n",
      "Cleveland        55.5\n",
      "Hungary          49.0\n",
      "Switzerland      56.0\n",
      "VA Long Beach    60.0\n",
      "Name: age, dtype: float64\n",
      "-------------------------------------\n",
      "Mode of Data Set: dataset\n",
      "Cleveland              58\n",
      "Hungary                54\n",
      "Switzerland            61\n",
      "VA Long Beach    [62, 63]\n",
      "Name: age, dtype: object\n",
      "-------------------------------------\n"
     ]
    }
   ],
   "source": [
    "# make a plot of age column using plotly and coloring this by dataset column\n",
    "fig = px.histogram(data_frame=df, x='age', color='dataset')\n",
    "fig.show()\n",
    "\n",
    "# print the mean median and mode of age column grouped by dataset column\n",
    "print(f\"Mean of Data Set: {df.groupby('dataset')['age'].mean()}\")\n",
    "print(\"-------------------------------------\")\n",
    "print(f\"Median of Data Set: {df.groupby('dataset')['age'].median()}\")\n",
    "print(\"-------------------------------------\")\n",
    "print(f\"Mode of Data Set: {df.groupby('dataset')['age'].agg(pd.Series.mode)}\")\n",
    "print(\"-------------------------------------\")\n"
   ]
  },
  {
   "cell_type": "markdown",
   "id": "7b229b1c",
   "metadata": {
    "papermill": {
     "duration": 0.016247,
     "end_time": "2025-08-22T17:49:08.608672",
     "exception": false,
     "start_time": "2025-08-22T17:49:08.592425",
     "status": "completed"
    },
    "tags": []
   },
   "source": [
    "- **Let's explore cp (Chest Pain) column:** \n",
    "\n",
    " **Types of Chest pain :**\n",
    "\n",
    "    1. Asymptomatic: No chest pain or discomfort.\n",
    "    2. Non-Anginal: Chest pain not typical of heart-related issues; requires further investigation.\n",
    "    3. Atypical Angina: Chest pain with characteristics different from typical heart-related chest pain.\n",
    "    4. Typical Angina: Classic chest pain indicating potential insufficient blood supply to the heart."
   ]
  },
  {
   "cell_type": "code",
   "execution_count": 20,
   "id": "ac20a2a3",
   "metadata": {
    "execution": {
     "iopub.execute_input": "2025-08-22T17:49:08.646375Z",
     "iopub.status.busy": "2025-08-22T17:49:08.646049Z",
     "iopub.status.idle": "2025-08-22T17:49:08.653099Z",
     "shell.execute_reply": "2025-08-22T17:49:08.652323Z"
    },
    "papermill": {
     "duration": 0.029685,
     "end_time": "2025-08-22T17:49:08.654495",
     "exception": false,
     "start_time": "2025-08-22T17:49:08.624810",
     "status": "completed"
    },
    "tags": []
   },
   "outputs": [
    {
     "data": {
      "text/plain": [
       "cp\n",
       "asymptomatic       496\n",
       "non-anginal        204\n",
       "atypical angina    174\n",
       "typical angina      46\n",
       "Name: count, dtype: int64"
      ]
     },
     "execution_count": 20,
     "metadata": {},
     "output_type": "execute_result"
    }
   ],
   "source": [
    "# value count of cp column\n",
    "df['cp'].value_counts()"
   ]
  },
  {
   "cell_type": "code",
   "execution_count": 21,
   "id": "53ae67f4",
   "metadata": {
    "execution": {
     "iopub.execute_input": "2025-08-22T17:49:08.688886Z",
     "iopub.status.busy": "2025-08-22T17:49:08.688166Z",
     "iopub.status.idle": "2025-08-22T17:49:08.713722Z",
     "shell.execute_reply": "2025-08-22T17:49:08.712906Z"
    },
    "papermill": {
     "duration": 0.043925,
     "end_time": "2025-08-22T17:49:08.715161",
     "exception": false,
     "start_time": "2025-08-22T17:49:08.671236",
     "status": "completed"
    },
    "tags": []
   },
   "outputs": [
    {
     "data": {
      "text/html": [
       "<div>\n",
       "<style scoped>\n",
       "    .dataframe tbody tr th:only-of-type {\n",
       "        vertical-align: middle;\n",
       "    }\n",
       "\n",
       "    .dataframe tbody tr th {\n",
       "        vertical-align: top;\n",
       "    }\n",
       "\n",
       "    .dataframe thead th {\n",
       "        text-align: right;\n",
       "    }\n",
       "</style>\n",
       "<table border=\"1\" class=\"dataframe\">\n",
       "  <thead>\n",
       "    <tr style=\"text-align: right;\">\n",
       "      <th>num</th>\n",
       "      <th>0</th>\n",
       "      <th>1</th>\n",
       "      <th>2</th>\n",
       "      <th>3</th>\n",
       "      <th>4</th>\n",
       "    </tr>\n",
       "    <tr>\n",
       "      <th>cp</th>\n",
       "      <th></th>\n",
       "      <th></th>\n",
       "      <th></th>\n",
       "      <th></th>\n",
       "      <th></th>\n",
       "    </tr>\n",
       "  </thead>\n",
       "  <tbody>\n",
       "    <tr>\n",
       "      <th>asymptomatic</th>\n",
       "      <td>104</td>\n",
       "      <td>197</td>\n",
       "      <td>89</td>\n",
       "      <td>83</td>\n",
       "      <td>23</td>\n",
       "    </tr>\n",
       "    <tr>\n",
       "      <th>atypical angina</th>\n",
       "      <td>150</td>\n",
       "      <td>19</td>\n",
       "      <td>2</td>\n",
       "      <td>3</td>\n",
       "      <td>0</td>\n",
       "    </tr>\n",
       "    <tr>\n",
       "      <th>non-anginal</th>\n",
       "      <td>131</td>\n",
       "      <td>37</td>\n",
       "      <td>14</td>\n",
       "      <td>18</td>\n",
       "      <td>4</td>\n",
       "    </tr>\n",
       "    <tr>\n",
       "      <th>typical angina</th>\n",
       "      <td>26</td>\n",
       "      <td>12</td>\n",
       "      <td>4</td>\n",
       "      <td>3</td>\n",
       "      <td>1</td>\n",
       "    </tr>\n",
       "  </tbody>\n",
       "</table>\n",
       "</div>"
      ],
      "text/plain": [
       "num                0    1   2   3   4\n",
       "cp                                   \n",
       "asymptomatic     104  197  89  83  23\n",
       "atypical angina  150   19   2   3   0\n",
       "non-anginal      131   37  14  18   4\n",
       "typical angina    26   12   4   3   1"
      ]
     },
     "execution_count": 21,
     "metadata": {},
     "output_type": "execute_result"
    }
   ],
   "source": [
    "cp_num = pd.crosstab(df.cp,df.num)\n",
    "cp_num"
   ]
  },
  {
   "cell_type": "code",
   "execution_count": 22,
   "id": "eb980e73",
   "metadata": {
    "execution": {
     "iopub.execute_input": "2025-08-22T17:49:08.750454Z",
     "iopub.status.busy": "2025-08-22T17:49:08.749525Z",
     "iopub.status.idle": "2025-08-22T17:49:09.126819Z",
     "shell.execute_reply": "2025-08-22T17:49:09.126010Z"
    },
    "papermill": {
     "duration": 0.396579,
     "end_time": "2025-08-22T17:49:09.128486",
     "exception": false,
     "start_time": "2025-08-22T17:49:08.731907",
     "status": "completed"
    },
    "tags": []
   },
   "outputs": [
    {
     "data": {
      "text/plain": [
       "<matplotlib.legend.Legend at 0x79bb0c19f050>"
      ]
     },
     "execution_count": 22,
     "metadata": {},
     "output_type": "execute_result"
    },
    {
     "data": {
      "image/png": "[encoded data removed]",
      "text/plain": [
       "<Figure size 1000x600 with 1 Axes>"
      ]
     },
     "metadata": {},
     "output_type": "display_data"
    }
   ],
   "source": [
    "# Add Some Helpful info\n",
    "pd.crosstab(df.cp,df.num).plot(kind=\"bar\",figsize=(10,6), \n",
    "                               color = ['salmon','blue','pink','lightblue','green'])\n",
    "plt.title('Heart disease frequency for Chest Pain type')\n",
    "plt.xlabel('Chest Pain type')\n",
    "plt.ylabel('Amount')\n",
    "plt.legend(['No Disease', 'Stage 1', 'Stage 2', 'Stage 3', 'Stage 4'])"
   ]
  },
  {
   "cell_type": "code",
   "execution_count": 23,
   "id": "d6b40078",
   "metadata": {
    "execution": {
     "iopub.execute_input": "2025-08-22T17:49:09.179035Z",
     "iopub.status.busy": "2025-08-22T17:49:09.178442Z",
     "iopub.status.idle": "2025-08-22T17:49:09.226581Z",
     "shell.execute_reply": "2025-08-22T17:49:09.225763Z"
    },
    "papermill": {
     "duration": 0.067241,
     "end_time": "2025-08-22T17:49:09.227966",
     "exception": false,
     "start_time": "2025-08-22T17:49:09.160725",
     "status": "completed"
    },
    "tags": []
   },
   "outputs": [
    {
     "data": {
      "text/html": [
       "<html>\n",
       "<head><meta charset=\"utf-8\" /></head>\n",
       "<body>\n",
       "    <div>            <script src=\"https://cdnjs.cloudflare.com/ajax/libs/mathjax/2.7.5/MathJax.js?config=TeX-AMS-MML_SVG\"></script><script type=\"text/javascript\">if (window.MathJax && window.MathJax.Hub && window.MathJax.Hub.Config) {window.MathJax.Hub.Config({SVG: {font: \"STIX-Web\"}});}</script>                <script type=\"text/javascript\">window.PlotlyConfig = {MathJaxConfig: 'local'};</script>\n",
       "        <script charset=\"utf-8\" src=\"https://cdn.plot.ly/plotly-2.35.2.min.js\"></script>                <div id=\"d07a9626-5bc0-4d29-922d-1bab773ad3a5\" class=\"plotly-graph-div\" style=\"height:525px; width:100%;\"></div>            <script type=\"text/javascript\">                                    window.PLOTLYENV=window.PLOTLYENV || {};                                    if (document.getElementById(\"d07a9626-5bc0-4d29-922d-1bab773ad3a5\")) {                    Plotly.newPlot(                        \"d07a9626-5bc0-4d29-922d-1bab773ad3a5\",                        [{\"alignmentgroup\":\"True\",\"bingroup\":\"x\",\"hovertemplate\":\"sex=Male\\u003cbr\\u003ecp=%{x}\\u003cbr\\u003ecount=%{y}\\u003cextra\\u003e\\u003c\\u002fextra\\u003e\",\"legendgroup\":\"Male\",\"marker\":{\"color\":\"#636efa\",\"pattern\":{\"shape\":\"\"}},\"name\":\"Male\",\"offsetgroup\":\"Male\",\"orientation\":\"v\",\"showlegend\":true,\"x\":[\"typical angina\",\"asymptomatic\",\"asymptomatic\",\"non-anginal\",\"atypical angina\",\"asymptomatic\",\"asymptomatic\",\"asymptomatic\",\"non-anginal\",\"atypical angina\",\"non-anginal\",\"non-anginal\",\"atypical angina\",\"asymptomatic\",\"atypical angina\",\"typical angina\",\"atypical angina\",\"non-anginal\",\"asymptomatic\",\"asymptomatic\",\"asymptomatic\",\"asymptomatic\",\"non-anginal\",\"asymptomatic\",\"non-anginal\",\"asymptomatic\",\"asymptomatic\",\"asymptomatic\",\"asymptomatic\",\"non-anginal\",\"typical angina\",\"non-anginal\",\"non-anginal\",\"non-anginal\",\"asymptomatic\",\"non-anginal\",\"asymptomatic\",\"asymptomatic\",\"atypical angina\",\"asymptomatic\",\"asymptomatic\",\"non-anginal\",\"asymptomatic\",\"non-anginal\",\"typical angina\",\"asymptomatic\",\"asymptomatic\",\"asymptomatic\",\"non-anginal\",\"non-anginal\",\"asymptomatic\",\"non-anginal\",\"asymptomatic\",\"asymptomatic\",\"asymptomatic\",\"asymptomatic\",\"asymptomatic\",\"atypical angina\",\"asymptomatic\",\"asymptomatic\",\"non-anginal\",\"non-anginal\",\"atypical angina\",\"non-anginal\",\"non-anginal\",\"asymptomatic\",\"non-anginal\",\"asymptomatic\",\"asymptomatic\",\"atypical angina\",\"asymptomatic\",\"asymptomatic\",\"typical angina\",\"non-anginal\",\"atypical angina\",\"asymptomatic\",\"non-anginal\",\"asymptomatic\",\"asymptomatic\",\"asymptomatic\",\"typical angina\",\"atypical angina\",\"non-anginal\",\"asymptomatic\",\"asymptomatic\",\"asymptomatic\",\"non-anginal\",\"asymptomatic\",\"typical angina\",\"asymptomatic\",\"atypical angina\",\"non-anginal\",\"non-anginal\",\"atypical angina\",\"asymptomatic\",\"asymptomatic\",\"atypical angina\",\"asymptomatic\",\"non-anginal\",\"atypical angina\",\"typical angina\",\"atypical angina\",\"non-anginal\",\"non-anginal\",\"non-anginal\",\"asymptomatic\",\"non-anginal\",\"atypical angina\",\"typical angina\",\"asymptomatic\",\"asymptomatic\",\"asymptomatic\",\"asymptomatic\",\"asymptomatic\",\"asymptomatic\",\"non-anginal\",\"atypical angina\",\"asymptomatic\",\"non-anginal\",\"asymptomatic\",\"non-anginal\",\"asymptomatic\",\"non-anginal\",\"asymptomatic\",\"asymptomatic\",\"asymptomatic\",\"asymptomatic\",\"asymptomatic\",\"non-anginal\",\"non-anginal\",\"asymptomatic\",\"typical angina\",\"typical angina\",\"non-anginal\",\"atypical angina\",\"atypical angina\",\"non-anginal\",\"non-anginal\",\"asymptomatic\",\"asymptomatic\",\"asymptomatic\",\"typical angina\",\"typical angina\",\"non-anginal\",\"asymptomatic\",\"asymptomatic\",\"asymptomatic\",\"asymptomatic\",\"atypical angina\",\"typical angina\",\"non-anginal\",\"asymptomatic\",\"typical angina\",\"asymptomatic\",\"asymptomatic\",\"asymptomatic\",\"asymptomatic\",\"asymptomatic\",\"non-anginal\",\"asymptomatic\",\"asymptomatic\",\"asymptomatic\",\"atypical angina\",\"atypical angina\",\"typical angina\",\"asymptomatic\",\"asymptomatic\",\"asymptomatic\",\"asymptomatic\",\"atypical angina\",\"asymptomatic\",\"asymptomatic\",\"asymptomatic\",\"asymptomatic\",\"atypical angina\",\"atypical angina\",\"non-anginal\",\"asymptomatic\",\"asymptomatic\",\"asymptomatic\",\"non-anginal\",\"asymptomatic\",\"non-anginal\",\"asymptomatic\",\"asymptomatic\",\"asymptomatic\",\"typical angina\",\"typical angina\",\"atypical angina\",\"asymptomatic\",\"non-anginal\",\"atypical angina\",\"asymptomatic\",\"asymptomatic\",\"atypical angina\",\"atypical angina\",\"atypical angina\",\"non-anginal\",\"asymptomatic\",\"asymptomatic\",\"atypical angina\",\"asymptomatic\",\"typical angina\",\"asymptomatic\",\"asymptomatic\",\"non-anginal\",\"atypical angina\",\"atypical angina\",\"atypical angina\",\"atypical angina\",\"atypical angina\",\"non-anginal\",\"atypical angina\",\"atypical angina\",\"atypical angina\",\"atypical angina\",\"atypical angina\",\"non-anginal\",\"non-anginal\",\"non-anginal\",\"atypical angina\",\"non-anginal\",\"asymptomatic\",\"asymptomatic\",\"atypical angina\",\"non-anginal\",\"atypical angina\",\"atypical angina\",\"atypical angina\",\"atypical angina\",\"atypical angina\",\"non-anginal\",\"non-anginal\",\"asymptomatic\",\"asymptomatic\",\"atypical angina\",\"atypical angina\",\"non-anginal\",\"non-anginal\",\"non-anginal\",\"atypical angina\",\"atypical angina\",\"atypical angina\",\"asymptomatic\",\"atypical angina\",\"atypical angina\",\"atypical angina\",\"non-anginal\",\"non-anginal\",\"asymptomatic\",\"atypical angina\",\"atypical angina\",\"atypical angina\",\"asymptomatic\",\"atypical angina\",\"non-anginal\",\"asymptomatic\",\"asymptomatic\",\"atypical angina\",\"non-anginal\",\"non-anginal\",\"asymptomatic\",\"asymptomatic\",\"asymptomatic\",\"typical angina\",\"atypical angina\",\"asymptomatic\",\"atypical angina\",\"atypical angina\",\"atypical angina\",\"non-anginal\",\"atypical angina\",\"non-anginal\",\"asymptomatic\",\"asymptomatic\",\"atypical angina\",\"atypical angina\",\"atypical angina\",\"asymptomatic\",\"asymptomatic\",\"atypical angina\",\"atypical angina\",\"asymptomatic\",\"atypical angina\",\"atypical angina\",\"atypical angina\",\"non-anginal\",\"atypical angina\",\"atypical angina\",\"non-anginal\",\"asymptomatic\",\"asymptomatic\",\"asymptomatic\",\"typical angina\",\"atypical angina\",\"atypical angina\",\"atypical angina\",\"atypical angina\",\"atypical angina\",\"non-anginal\",\"non-anginal\",\"asymptomatic\",\"atypical angina\",\"atypical angina\",\"atypical angina\",\"non-anginal\",\"non-anginal\",\"asymptomatic\",\"asymptomatic\",\"atypical angina\",\"non-anginal\",\"non-anginal\",\"asymptomatic\",\"atypical angina\",\"atypical angina\",\"atypical angina\",\"non-anginal\",\"asymptomatic\",\"atypical angina\",\"non-anginal\",\"non-anginal\",\"asymptomatic\",\"non-anginal\",\"asymptomatic\",\"atypical angina\",\"asymptomatic\",\"typical angina\",\"atypical angina\",\"atypical angina\",\"asymptomatic\",\"asymptomatic\",\"asymptomatic\",\"asymptomatic\",\"asymptomatic\",\"asymptomatic\",\"asymptomatic\",\"asymptomatic\",\"asymptomatic\",\"asymptomatic\",\"asymptomatic\",\"non-anginal\",\"asymptomatic\",\"asymptomatic\",\"asymptomatic\",\"asymptomatic\",\"non-anginal\",\"asymptomatic\",\"asymptomatic\",\"asymptomatic\",\"asymptomatic\",\"asymptomatic\",\"asymptomatic\",\"atypical angina\",\"non-anginal\",\"asymptomatic\",\"asymptomatic\",\"asymptomatic\",\"asymptomatic\",\"asymptomatic\",\"asymptomatic\",\"typical angina\",\"asymptomatic\",\"asymptomatic\",\"asymptomatic\",\"asymptomatic\",\"asymptomatic\",\"asymptomatic\",\"asymptomatic\",\"asymptomatic\",\"asymptomatic\",\"asymptomatic\",\"asymptomatic\",\"non-anginal\",\"asymptomatic\",\"asymptomatic\",\"asymptomatic\",\"asymptomatic\",\"asymptomatic\",\"asymptomatic\",\"asymptomatic\",\"non-anginal\",\"asymptomatic\",\"asymptomatic\",\"asymptomatic\",\"atypical angina\",\"asymptomatic\",\"typical angina\",\"asymptomatic\",\"asymptomatic\",\"non-anginal\",\"asymptomatic\",\"asymptomatic\",\"asymptomatic\",\"asymptomatic\",\"non-anginal\",\"asymptomatic\",\"asymptomatic\",\"typical angina\",\"atypical angina\",\"asymptomatic\",\"asymptomatic\",\"asymptomatic\",\"atypical angina\",\"asymptomatic\",\"asymptomatic\",\"asymptomatic\",\"asymptomatic\",\"asymptomatic\",\"asymptomatic\",\"asymptomatic\",\"asymptomatic\",\"asymptomatic\",\"asymptomatic\",\"asymptomatic\",\"asymptomatic\",\"asymptomatic\",\"asymptomatic\",\"asymptomatic\",\"asymptomatic\",\"typical angina\",\"asymptomatic\",\"asymptomatic\",\"asymptomatic\",\"non-anginal\",\"non-anginal\",\"asymptomatic\",\"asymptomatic\",\"asymptomatic\",\"asymptomatic\",\"asymptomatic\",\"asymptomatic\",\"asymptomatic\",\"asymptomatic\",\"asymptomatic\",\"non-anginal\",\"asymptomatic\",\"asymptomatic\",\"non-anginal\",\"non-anginal\",\"asymptomatic\",\"asymptomatic\",\"asymptomatic\",\"asymptomatic\",\"asymptomatic\",\"asymptomatic\",\"asymptomatic\",\"asymptomatic\",\"asymptomatic\",\"asymptomatic\",\"asymptomatic\",\"asymptomatic\",\"asymptomatic\",\"asymptomatic\",\"asymptomatic\",\"asymptomatic\",\"atypical angina\",\"atypical angina\",\"non-anginal\",\"non-anginal\",\"asymptomatic\",\"asymptomatic\",\"asymptomatic\",\"asymptomatic\",\"asymptomatic\",\"asymptomatic\",\"asymptomatic\",\"atypical angina\",\"asymptomatic\",\"asymptomatic\",\"asymptomatic\",\"non-anginal\",\"non-anginal\",\"non-anginal\",\"asymptomatic\",\"asymptomatic\",\"asymptomatic\",\"asymptomatic\",\"asymptomatic\",\"non-anginal\",\"asymptomatic\",\"asymptomatic\",\"asymptomatic\",\"asymptomatic\",\"asymptomatic\",\"asymptomatic\",\"asymptomatic\",\"asymptomatic\",\"non-anginal\",\"asymptomatic\",\"asymptomatic\",\"asymptomatic\",\"asymptomatic\",\"non-anginal\",\"asymptomatic\",\"asymptomatic\",\"asymptomatic\",\"asymptomatic\",\"asymptomatic\",\"non-anginal\",\"asymptomatic\",\"asymptomatic\",\"asymptomatic\",\"asymptomatic\",\"asymptomatic\",\"asymptomatic\",\"asymptomatic\",\"asymptomatic\",\"typical angina\",\"non-anginal\",\"asymptomatic\",\"asymptomatic\",\"asymptomatic\",\"asymptomatic\",\"asymptomatic\",\"asymptomatic\",\"asymptomatic\",\"asymptomatic\",\"asymptomatic\",\"asymptomatic\",\"asymptomatic\",\"asymptomatic\",\"asymptomatic\",\"asymptomatic\",\"typical angina\",\"asymptomatic\",\"asymptomatic\",\"asymptomatic\",\"asymptomatic\",\"asymptomatic\",\"asymptomatic\",\"non-anginal\",\"atypical angina\",\"asymptomatic\",\"asymptomatic\",\"asymptomatic\",\"asymptomatic\",\"non-anginal\",\"non-anginal\",\"asymptomatic\",\"non-anginal\",\"non-anginal\",\"atypical angina\",\"atypical angina\",\"asymptomatic\",\"asymptomatic\",\"non-anginal\",\"asymptomatic\",\"asymptomatic\",\"asymptomatic\",\"asymptomatic\",\"asymptomatic\",\"asymptomatic\",\"asymptomatic\",\"asymptomatic\",\"non-anginal\",\"non-anginal\",\"non-anginal\",\"asymptomatic\",\"asymptomatic\",\"asymptomatic\",\"asymptomatic\",\"non-anginal\",\"asymptomatic\",\"asymptomatic\",\"asymptomatic\",\"non-anginal\",\"non-anginal\",\"asymptomatic\",\"asymptomatic\",\"asymptomatic\",\"asymptomatic\",\"asymptomatic\",\"non-anginal\",\"asymptomatic\",\"asymptomatic\",\"asymptomatic\",\"asymptomatic\",\"asymptomatic\",\"asymptomatic\",\"asymptomatic\",\"non-anginal\",\"non-anginal\",\"non-anginal\",\"asymptomatic\",\"atypical angina\",\"asymptomatic\",\"asymptomatic\",\"asymptomatic\",\"non-anginal\",\"atypical angina\",\"asymptomatic\",\"asymptomatic\",\"asymptomatic\",\"asymptomatic\",\"non-anginal\",\"atypical angina\",\"non-anginal\",\"typical angina\",\"asymptomatic\",\"asymptomatic\",\"atypical angina\",\"atypical angina\",\"asymptomatic\",\"typical angina\",\"asymptomatic\",\"non-anginal\",\"asymptomatic\",\"typical angina\",\"non-anginal\",\"asymptomatic\",\"asymptomatic\",\"asymptomatic\",\"asymptomatic\",\"asymptomatic\",\"asymptomatic\",\"asymptomatic\",\"asymptomatic\",\"asymptomatic\",\"asymptomatic\",\"non-anginal\",\"asymptomatic\",\"non-anginal\",\"asymptomatic\",\"asymptomatic\",\"asymptomatic\",\"asymptomatic\",\"non-anginal\",\"typical angina\",\"asymptomatic\",\"non-anginal\",\"non-anginal\",\"asymptomatic\",\"non-anginal\",\"asymptomatic\",\"asymptomatic\",\"asymptomatic\",\"asymptomatic\",\"asymptomatic\",\"asymptomatic\",\"non-anginal\",\"asymptomatic\",\"atypical angina\",\"non-anginal\",\"asymptomatic\",\"asymptomatic\",\"asymptomatic\",\"asymptomatic\",\"asymptomatic\",\"asymptomatic\",\"asymptomatic\",\"non-anginal\",\"asymptomatic\",\"asymptomatic\",\"asymptomatic\",\"non-anginal\",\"non-anginal\",\"asymptomatic\",\"asymptomatic\",\"non-anginal\",\"typical angina\",\"asymptomatic\",\"typical angina\",\"asymptomatic\",\"non-anginal\",\"non-anginal\",\"typical angina\",\"non-anginal\",\"non-anginal\",\"asymptomatic\",\"non-anginal\",\"non-anginal\",\"asymptomatic\",\"non-anginal\",\"atypical angina\",\"asymptomatic\",\"asymptomatic\",\"asymptomatic\",\"asymptomatic\",\"asymptomatic\",\"asymptomatic\",\"asymptomatic\",\"asymptomatic\",\"asymptomatic\",\"asymptomatic\",\"asymptomatic\",\"asymptomatic\",\"asymptomatic\",\"asymptomatic\",\"asymptomatic\",\"asymptomatic\",\"asymptomatic\",\"asymptomatic\",\"asymptomatic\",\"asymptomatic\",\"asymptomatic\",\"non-anginal\",\"asymptomatic\",\"atypical angina\",\"asymptomatic\",\"non-anginal\",\"asymptomatic\",\"non-anginal\",\"atypical angina\",\"asymptomatic\",\"asymptomatic\",\"asymptomatic\",\"asymptomatic\",\"asymptomatic\",\"asymptomatic\",\"non-anginal\",\"asymptomatic\",\"asymptomatic\",\"asymptomatic\",\"non-anginal\",\"non-anginal\",\"non-anginal\",\"asymptomatic\",\"non-anginal\",\"asymptomatic\",\"asymptomatic\",\"asymptomatic\",\"asymptomatic\",\"typical angina\",\"asymptomatic\",\"asymptomatic\",\"atypical angina\"],\"xaxis\":\"x\",\"yaxis\":\"y\",\"type\":\"histogram\"},{\"alignmentgroup\":\"True\",\"bingroup\":\"x\",\"hovertemplate\":\"sex=Female\\u003cbr\\u003ecp=%{x}\\u003cbr\\u003ecount=%{y}\\u003cextra\\u003e\\u003c\\u002fextra\\u003e\",\"legendgroup\":\"Female\",\"marker\":{\"color\":\"#EF553B\",\"pattern\":{\"shape\":\"\"}},\"name\":\"Female\",\"offsetgroup\":\"Female\",\"orientation\":\"v\",\"showlegend\":true,\"x\":[\"atypical angina\",\"asymptomatic\",\"asymptomatic\",\"atypical angina\",\"non-anginal\",\"typical angina\",\"non-anginal\",\"non-anginal\",\"typical angina\",\"typical angina\",\"asymptomatic\",\"atypical angina\",\"asymptomatic\",\"non-anginal\",\"atypical angina\",\"asymptomatic\",\"non-anginal\",\"non-anginal\",\"non-anginal\",\"non-anginal\",\"non-anginal\",\"asymptomatic\",\"non-anginal\",\"asymptomatic\",\"non-anginal\",\"asymptomatic\",\"non-anginal\",\"non-anginal\",\"asymptomatic\",\"asymptomatic\",\"non-anginal\",\"asymptomatic\",\"asymptomatic\",\"non-anginal\",\"asymptomatic\",\"asymptomatic\",\"atypical angina\",\"asymptomatic\",\"asymptomatic\",\"non-anginal\",\"atypical angina\",\"non-anginal\",\"asymptomatic\",\"non-anginal\",\"non-anginal\",\"asymptomatic\",\"atypical angina\",\"atypical angina\",\"asymptomatic\",\"asymptomatic\",\"asymptomatic\",\"asymptomatic\",\"atypical angina\",\"asymptomatic\",\"non-anginal\",\"asymptomatic\",\"atypical angina\",\"asymptomatic\",\"asymptomatic\",\"non-anginal\",\"asymptomatic\",\"non-anginal\",\"asymptomatic\",\"atypical angina\",\"asymptomatic\",\"asymptomatic\",\"non-anginal\",\"non-anginal\",\"non-anginal\",\"asymptomatic\",\"atypical angina\",\"non-anginal\",\"non-anginal\",\"asymptomatic\",\"atypical angina\",\"non-anginal\",\"atypical angina\",\"atypical angina\",\"asymptomatic\",\"non-anginal\",\"non-anginal\",\"non-anginal\",\"asymptomatic\",\"non-anginal\",\"non-anginal\",\"atypical angina\",\"typical angina\",\"asymptomatic\",\"non-anginal\",\"non-anginal\",\"asymptomatic\",\"asymptomatic\",\"asymptomatic\",\"atypical angina\",\"asymptomatic\",\"asymptomatic\",\"atypical angina\",\"typical angina\",\"atypical angina\",\"atypical angina\",\"atypical angina\",\"typical angina\",\"asymptomatic\",\"atypical angina\",\"non-anginal\",\"asymptomatic\",\"atypical angina\",\"non-anginal\",\"atypical angina\",\"atypical angina\",\"atypical angina\",\"non-anginal\",\"typical angina\",\"atypical angina\",\"atypical angina\",\"atypical angina\",\"atypical angina\",\"atypical angina\",\"non-anginal\",\"asymptomatic\",\"atypical angina\",\"atypical angina\",\"asymptomatic\",\"asymptomatic\",\"atypical angina\",\"non-anginal\",\"atypical angina\",\"atypical angina\",\"atypical angina\",\"non-anginal\",\"asymptomatic\",\"asymptomatic\",\"asymptomatic\",\"atypical angina\",\"atypical angina\",\"atypical angina\",\"non-anginal\",\"atypical angina\",\"asymptomatic\",\"atypical angina\",\"non-anginal\",\"non-anginal\",\"non-anginal\",\"atypical angina\",\"atypical angina\",\"non-anginal\",\"asymptomatic\",\"atypical angina\",\"atypical angina\",\"non-anginal\",\"atypical angina\",\"atypical angina\",\"atypical angina\",\"atypical angina\",\"atypical angina\",\"atypical angina\",\"atypical angina\",\"atypical angina\",\"atypical angina\",\"atypical angina\",\"non-anginal\",\"typical angina\",\"asymptomatic\",\"atypical angina\",\"asymptomatic\",\"typical angina\",\"asymptomatic\",\"non-anginal\",\"non-anginal\",\"asymptomatic\",\"asymptomatic\",\"asymptomatic\",\"non-anginal\",\"asymptomatic\",\"atypical angina\",\"asymptomatic\",\"non-anginal\",\"atypical angina\",\"asymptomatic\",\"asymptomatic\",\"asymptomatic\",\"asymptomatic\",\"typical angina\",\"asymptomatic\",\"asymptomatic\",\"asymptomatic\",\"asymptomatic\",\"non-anginal\",\"atypical angina\",\"asymptomatic\",\"asymptomatic\",\"atypical angina\",\"asymptomatic\",\"asymptomatic\"],\"xaxis\":\"x\",\"yaxis\":\"y\",\"type\":\"histogram\"}],                        {\"template\":{\"data\":{\"histogram2dcontour\":[{\"type\":\"histogram2dcontour\",\"colorbar\":{\"outlinewidth\":0,\"ticks\":\"\"},\"colorscale\":[[0.0,\"#0d0887\"],[0.1111111111111111,\"#46039f\"],[0.2222222222222222,\"#7201a8\"],[0.3333333333333333,\"#9c179e\"],[0.4444444444444444,\"#bd3786\"],[0.5555555555555556,\"#d8576b\"],[0.6666666666666666,\"#ed7953\"],[0.7777777777777778,\"#fb9f3a\"],[0.8888888888888888,\"#fdca26\"],[1.0,\"#f0f921\"]]}],\"choropleth\":[{\"type\":\"choropleth\",\"colorbar\":{\"outlinewidth\":0,\"ticks\":\"\"}}],\"histogram2d\":[{\"type\":\"histogram2d\",\"colorbar\":{\"outlinewidth\":0,\"ticks\":\"\"},\"colorscale\":[[0.0,\"#0d0887\"],[0.1111111111111111,\"#46039f\"],[0.2222222222222222,\"#7201a8\"],[0.3333333333333333,\"#9c179e\"],[0.4444444444444444,\"#bd3786\"],[0.5555555555555556,\"#d8576b\"],[0.6666666666666666,\"#ed7953\"],[0.7777777777777778,\"#fb9f3a\"],[0.8888888888888888,\"#fdca26\"],[1.0,\"#f0f921\"]]}],\"heatmap\":[{\"type\":\"heatmap\",\"colorbar\":{\"outlinewidth\":0,\"ticks\":\"\"},\"colorscale\":[[0.0,\"#0d0887\"],[0.1111111111111111,\"#46039f\"],[0.2222222222222222,\"#7201a8\"],[0.3333333333333333,\"#9c179e\"],[0.4444444444444444,\"#bd3786\"],[0.5555555555555556,\"#d8576b\"],[0.6666666666666666,\"#ed7953\"],[0.7777777777777778,\"#fb9f3a\"],[0.8888888888888888,\"#fdca26\"],[1.0,\"#f0f921\"]]}],\"heatmapgl\":[{\"type\":\"heatmapgl\",\"colorbar\":{\"outlinewidth\":0,\"ticks\":\"\"},\"colorscale\":[[0.0,\"#0d0887\"],[0.1111111111111111,\"#46039f\"],[0.2222222222222222,\"#7201a8\"],[0.3333333333333333,\"#9c179e\"],[0.4444444444444444,\"#bd3786\"],[0.5555555555555556,\"#d8576b\"],[0.6666666666666666,\"#ed7953\"],[0.7777777777777778,\"#fb9f3a\"],[0.8888888888888888,\"#fdca26\"],[1.0,\"#f0f921\"]]}],\"contourcarpet\":[{\"type\":\"contourcarpet\",\"colorbar\":{\"outlinewidth\":0,\"ticks\":\"\"}}],\"contour\":[{\"type\":\"contour\",\"colorbar\":{\"outlinewidth\":0,\"ticks\":\"\"},\"colorscale\":[[0.0,\"#0d0887\"],[0.1111111111111111,\"#46039f\"],[0.2222222222222222,\"#7201a8\"],[0.3333333333333333,\"#9c179e\"],[0.4444444444444444,\"#bd3786\"],[0.5555555555555556,\"#d8576b\"],[0.6666666666666666,\"#ed7953\"],[0.7777777777777778,\"#fb9f3a\"],[0.8888888888888888,\"#fdca26\"],[1.0,\"#f0f921\"]]}],\"surface\":[{\"type\":\"surface\",\"colorbar\":{\"outlinewidth\":0,\"ticks\":\"\"},\"colorscale\":[[0.0,\"#0d0887\"],[0.1111111111111111,\"#46039f\"],[0.2222222222222222,\"#7201a8\"],[0.3333333333333333,\"#9c179e\"],[0.4444444444444444,\"#bd3786\"],[0.5555555555555556,\"#d8576b\"],[0.6666666666666666,\"#ed7953\"],[0.7777777777777778,\"#fb9f3a\"],[0.8888888888888888,\"#fdca26\"],[1.0,\"#f0f921\"]]}],\"mesh3d\":[{\"type\":\"mesh3d\",\"colorbar\":{\"outlinewidth\":0,\"ticks\":\"\"}}],\"scatter\":[{\"fillpattern\":{\"fillmode\":\"overlay\",\"size\":10,\"solidity\":0.2},\"type\":\"scatter\"}],\"parcoords\":[{\"type\":\"parcoords\",\"line\":{\"colorbar\":{\"outlinewidth\":0,\"ticks\":\"\"}}}],\"scatterpolargl\":[{\"type\":\"scatterpolargl\",\"marker\":{\"colorbar\":{\"outlinewidth\":0,\"ticks\":\"\"}}}],\"bar\":[{\"error_x\":{\"color\":\"#2a3f5f\"},\"error_y\":{\"color\":\"#2a3f5f\"},\"marker\":{\"line\":{\"color\":\"#E5ECF6\",\"width\":0.5},\"pattern\":{\"fillmode\":\"overlay\",\"size\":10,\"solidity\":0.2}},\"type\":\"bar\"}],\"scattergeo\":[{\"type\":\"scattergeo\",\"marker\":{\"colorbar\":{\"outlinewidth\":0,\"ticks\":\"\"}}}],\"scatterpolar\":[{\"type\":\"scatterpolar\",\"marker\":{\"colorbar\":{\"outlinewidth\":0,\"ticks\":\"\"}}}],\"histogram\":[{\"marker\":{\"pattern\":{\"fillmode\":\"overlay\",\"size\":10,\"solidity\":0.2}},\"type\":\"histogram\"}],\"scattergl\":[{\"type\":\"scattergl\",\"marker\":{\"colorbar\":{\"outlinewidth\":0,\"ticks\":\"\"}}}],\"scatter3d\":[{\"type\":\"scatter3d\",\"line\":{\"colorbar\":{\"outlinewidth\":0,\"ticks\":\"\"}},\"marker\":{\"colorbar\":{\"outlinewidth\":0,\"ticks\":\"\"}}}],\"scattermapbox\":[{\"type\":\"scattermapbox\",\"marker\":{\"colorbar\":{\"outlinewidth\":0,\"ticks\":\"\"}}}],\"scatterternary\":[{\"type\":\"scatterternary\",\"marker\":{\"colorbar\":{\"outlinewidth\":0,\"ticks\":\"\"}}}],\"scattercarpet\":[{\"type\":\"scattercarpet\",\"marker\":{\"colorbar\":{\"outlinewidth\":0,\"ticks\":\"\"}}}],\"carpet\":[{\"aaxis\":{\"endlinecolor\":\"#2a3f5f\",\"gridcolor\":\"white\",\"linecolor\":\"white\",\"minorgridcolor\":\"white\",\"startlinecolor\":\"#2a3f5f\"},\"baxis\":{\"endlinecolor\":\"#2a3f5f\",\"gridcolor\":\"white\",\"linecolor\":\"white\",\"minorgridcolor\":\"white\",\"startlinecolor\":\"#2a3f5f\"},\"type\":\"carpet\"}],\"table\":[{\"cells\":{\"fill\":{\"color\":\"#EBF0F8\"},\"line\":{\"color\":\"white\"}},\"header\":{\"fill\":{\"color\":\"#C8D4E3\"},\"line\":{\"color\":\"white\"}},\"type\":\"table\"}],\"barpolar\":[{\"marker\":{\"line\":{\"color\":\"#E5ECF6\",\"width\":0.5},\"pattern\":{\"fillmode\":\"overlay\",\"size\":10,\"solidity\":0.2}},\"type\":\"barpolar\"}],\"pie\":[{\"automargin\":true,\"type\":\"pie\"}]},\"layout\":{\"autotypenumbers\":\"strict\",\"colorway\":[\"#636efa\",\"#EF553B\",\"#00cc96\",\"#ab63fa\",\"#FFA15A\",\"#19d3f3\",\"#FF6692\",\"#B6E880\",\"#FF97FF\",\"#FECB52\"],\"font\":{\"color\":\"#2a3f5f\"},\"hovermode\":\"closest\",\"hoverlabel\":{\"align\":\"left\"},\"paper_bgcolor\":\"white\",\"plot_bgcolor\":\"#E5ECF6\",\"polar\":{\"bgcolor\":\"#E5ECF6\",\"angularaxis\":{\"gridcolor\":\"white\",\"linecolor\":\"white\",\"ticks\":\"\"},\"radialaxis\":{\"gridcolor\":\"white\",\"linecolor\":\"white\",\"ticks\":\"\"}},\"ternary\":{\"bgcolor\":\"#E5ECF6\",\"aaxis\":{\"gridcolor\":\"white\",\"linecolor\":\"white\",\"ticks\":\"\"},\"baxis\":{\"gridcolor\":\"white\",\"linecolor\":\"white\",\"ticks\":\"\"},\"caxis\":{\"gridcolor\":\"white\",\"linecolor\":\"white\",\"ticks\":\"\"}},\"coloraxis\":{\"colorbar\":{\"outlinewidth\":0,\"ticks\":\"\"}},\"colorscale\":{\"sequential\":[[0.0,\"#0d0887\"],[0.1111111111111111,\"#46039f\"],[0.2222222222222222,\"#7201a8\"],[0.3333333333333333,\"#9c179e\"],[0.4444444444444444,\"#bd3786\"],[0.5555555555555556,\"#d8576b\"],[0.6666666666666666,\"#ed7953\"],[0.7777777777777778,\"#fb9f3a\"],[0.8888888888888888,\"#fdca26\"],[1.0,\"#f0f921\"]],\"sequentialminus\":[[0.0,\"#0d0887\"],[0.1111111111111111,\"#46039f\"],[0.2222222222222222,\"#7201a8\"],[0.3333333333333333,\"#9c179e\"],[0.4444444444444444,\"#bd3786\"],[0.5555555555555556,\"#d8576b\"],[0.6666666666666666,\"#ed7953\"],[0.7777777777777778,\"#fb9f3a\"],[0.8888888888888888,\"#fdca26\"],[1.0,\"#f0f921\"]],\"diverging\":[[0,\"#8e0152\"],[0.1,\"#c51b7d\"],[0.2,\"#de77ae\"],[0.3,\"#f1b6da\"],[0.4,\"#fde0ef\"],[0.5,\"#f7f7f7\"],[0.6,\"#e6f5d0\"],[0.7,\"#b8e186\"],[0.8,\"#7fbc41\"],[0.9,\"#4d9221\"],[1,\"#276419\"]]},\"xaxis\":{\"gridcolor\":\"white\",\"linecolor\":\"white\",\"ticks\":\"\",\"title\":{\"standoff\":15},\"zerolinecolor\":\"white\",\"automargin\":true,\"zerolinewidth\":2},\"yaxis\":{\"gridcolor\":\"white\",\"linecolor\":\"white\",\"ticks\":\"\",\"title\":{\"standoff\":15},\"zerolinecolor\":\"white\",\"automargin\":true,\"zerolinewidth\":2},\"scene\":{\"xaxis\":{\"backgroundcolor\":\"#E5ECF6\",\"gridcolor\":\"white\",\"linecolor\":\"white\",\"showbackground\":true,\"ticks\":\"\",\"zerolinecolor\":\"white\",\"gridwidth\":2},\"yaxis\":{\"backgroundcolor\":\"#E5ECF6\",\"gridcolor\":\"white\",\"linecolor\":\"white\",\"showbackground\":true,\"ticks\":\"\",\"zerolinecolor\":\"white\",\"gridwidth\":2},\"zaxis\":{\"backgroundcolor\":\"#E5ECF6\",\"gridcolor\":\"white\",\"linecolor\":\"white\",\"showbackground\":true,\"ticks\":\"\",\"zerolinecolor\":\"white\",\"gridwidth\":2}},\"shapedefaults\":{\"line\":{\"color\":\"#2a3f5f\"}},\"annotationdefaults\":{\"arrowcolor\":\"#2a3f5f\",\"arrowhead\":0,\"arrowwidth\":1},\"geo\":{\"bgcolor\":\"white\",\"landcolor\":\"#E5ECF6\",\"subunitcolor\":\"white\",\"showland\":true,\"showlakes\":true,\"lakecolor\":\"white\"},\"title\":{\"x\":0.05},\"mapbox\":{\"style\":\"light\"}}},\"xaxis\":{\"anchor\":\"y\",\"domain\":[0.0,1.0],\"title\":{\"text\":\"cp\"}},\"yaxis\":{\"anchor\":\"x\",\"domain\":[0.0,1.0],\"title\":{\"text\":\"count\"}},\"legend\":{\"title\":{\"text\":\"sex\"},\"tracegroupgap\":0},\"margin\":{\"t\":60},\"barmode\":\"relative\"},                        {\"responsive\": true}                    ).then(function(){\n",
       "                            \n",
       "var gd = document.getElementById('d07a9626-5bc0-4d29-922d-1bab773ad3a5');\n",
       "var x = new MutationObserver(function (mutations, observer) {{\n",
       "        var display = window.getComputedStyle(gd).display;\n",
       "        if (!display || display === 'none') {{\n",
       "            console.log([gd, 'removed!']);\n",
       "            Plotly.purge(gd);\n",
       "            observer.disconnect();\n",
       "        }}\n",
       "}});\n",
       "\n",
       "// Listen for the removal of the full notebook cells\n",
       "var notebookContainer = gd.closest('#notebook-container');\n",
       "if (notebookContainer) {{\n",
       "    x.observe(notebookContainer, {childList: true});\n",
       "}}\n",
       "\n",
       "// Listen for the clearing of the current output cell\n",
       "var outputEl = gd.closest('.output');\n",
       "if (outputEl) {{\n",
       "    x.observe(outputEl, {childList: true});\n",
       "}}\n",
       "\n",
       "                        })                };                            </script>        </div>\n",
       "</body>\n",
       "</html>"
      ]
     },
     "metadata": {},
     "output_type": "display_data"
    }
   ],
   "source": [
    "# draw the plot of age column grouped by cp column using plotly\n",
    "fig = px.histogram(data_frame=df, x='cp', color='sex')\n",
    "fig.show()"
   ]
  },
  {
   "cell_type": "code",
   "execution_count": 24,
   "id": "1a3982bd",
   "metadata": {
    "execution": {
     "iopub.execute_input": "2025-08-22T17:49:09.265249Z",
     "iopub.status.busy": "2025-08-22T17:49:09.264626Z",
     "iopub.status.idle": "2025-08-22T17:49:09.482173Z",
     "shell.execute_reply": "2025-08-22T17:49:09.481301Z"
    },
    "papermill": {
     "duration": 0.237427,
     "end_time": "2025-08-22T17:49:09.483637",
     "exception": false,
     "start_time": "2025-08-22T17:49:09.246210",
     "status": "completed"
    },
    "tags": []
   },
   "outputs": [
    {
     "data": {
      "text/plain": [
       "<Axes: xlabel='cp', ylabel='count'>"
      ]
     },
     "execution_count": 24,
     "metadata": {},
     "output_type": "execute_result"
    },
    {
     "data": {
      "image/png": "[encoded data removed]",
      "text/plain": [
       "<Figure size 640x480 with 1 Axes>"
      ]
     },
     "metadata": {},
     "output_type": "display_data"
    }
   ],
   "source": [
    "# count plot of cp column by dataset column\n",
    "sns.countplot(df, x='cp', hue='dataset')"
   ]
  },
  {
   "cell_type": "code",
   "execution_count": 25,
   "id": "a5ee33fe",
   "metadata": {
    "execution": {
     "iopub.execute_input": "2025-08-22T17:49:09.521682Z",
     "iopub.status.busy": "2025-08-22T17:49:09.521366Z",
     "iopub.status.idle": "2025-08-22T17:49:09.574025Z",
     "shell.execute_reply": "2025-08-22T17:49:09.573226Z"
    },
    "papermill": {
     "duration": 0.07294,
     "end_time": "2025-08-22T17:49:09.575279",
     "exception": false,
     "start_time": "2025-08-22T17:49:09.502339",
     "status": "completed"
    },
    "tags": []
   },
   "outputs": [
    {
     "data": {
      "text/html": [
       "<html>\n",
       "<head><meta charset=\"utf-8\" /></head>\n",
       "<body>\n",
       "    <div>            <script src=\"https://cdnjs.cloudflare.com/ajax/libs/mathjax/2.7.5/MathJax.js?config=TeX-AMS-MML_SVG\"></script><script type=\"text/javascript\">if (window.MathJax && window.MathJax.Hub && window.MathJax.Hub.Config) {window.MathJax.Hub.Config({SVG: {font: \"STIX-Web\"}});}</script>                <script type=\"text/javascript\">window.PlotlyConfig = {MathJaxConfig: 'local'};</script>\n",
       "        <script charset=\"utf-8\" src=\"https://cdn.plot.ly/plotly-2.35.2.min.js\"></script>                <div id=\"f31a87dd-b4a2-4f07-887a-09ab28ac212f\" class=\"plotly-graph-div\" style=\"height:525px; width:100%;\"></div>            <script type=\"text/javascript\">                                    window.PLOTLYENV=window.PLOTLYENV || {};                                    if (document.getElementById(\"f31a87dd-b4a2-4f07-887a-09ab28ac212f\")) {                    Plotly.newPlot(                        \"f31a87dd-b4a2-4f07-887a-09ab28ac212f\",                        [{\"alignmentgroup\":\"True\",\"bingroup\":\"x\",\"hovertemplate\":\"cp=typical angina\\u003cbr\\u003eage=%{x}\\u003cbr\\u003ecount=%{y}\\u003cextra\\u003e\\u003c\\u002fextra\\u003e\",\"legendgroup\":\"typical angina\",\"marker\":{\"color\":\"#636efa\",\"pattern\":{\"shape\":\"\"}},\"name\":\"typical angina\",\"offsetgroup\":\"typical angina\",\"orientation\":\"v\",\"showlegend\":true,\"x\":[63,64,58,66,69,40,51,34,52,65,59,52,42,59,69,59,38,56,61,60,59,64,45,30,35,43,47,54,57,62,34,43,46,55,32,62,62,67,67,65,49,62,61,68,74,62],\"xaxis\":\"x\",\"yaxis\":\"y\",\"type\":\"histogram\"},{\"alignmentgroup\":\"True\",\"bingroup\":\"x\",\"hovertemplate\":\"cp=asymptomatic\\u003cbr\\u003eage=%{x}\\u003cbr\\u003ecount=%{y}\\u003cextra\\u003e\\u003c\\u002fextra\\u003e\",\"legendgroup\":\"asymptomatic\",\"marker\":{\"color\":\"#EF553B\",\"pattern\":{\"shape\":\"\"}},\"name\":\"asymptomatic\",\"offsetgroup\":\"asymptomatic\",\"orientation\":\"v\",\"showlegend\":true,\"x\":[67,67,62,57,63,53,57,54,60,43,40,60,59,42,43,57,55,65,61,50,65,44,60,54,41,51,58,54,60,59,67,62,65,44,60,58,45,53,53,66,62,52,59,60,48,45,57,59,61,39,61,56,43,35,63,65,48,63,55,56,54,62,51,70,35,57,42,55,64,70,51,58,60,77,58,57,35,53,59,62,64,57,52,56,48,56,60,51,43,62,67,45,50,64,43,45,58,50,62,66,52,46,64,59,53,63,47,54,66,55,54,56,46,49,67,58,47,52,57,58,64,43,67,61,42,52,40,61,66,46,71,58,57,55,61,58,58,44,63,63,59,57,68,57,35,37,37,37,39,39,41,42,44,44,45,45,45,46,46,46,46,47,48,48,48,49,49,50,50,50,51,52,53,53,53,54,55,55,56,57,58,59,61,61,31,33,37,38,38,38,40,41,41,43,46,46,46,47,48,48,48,49,50,51,52,54,54,55,59,60,63,65,32,38,39,40,45,46,46,48,48,48,48,50,52,52,53,54,54,54,54,55,56,57,58,41,43,44,48,49,49,52,52,52,52,53,54,55,56,56,59,59,65,66,41,43,44,47,47,49,49,50,50,52,52,56,65,34,35,36,38,38,38,38,40,41,42,42,43,43,43,46,46,47,47,48,50,50,50,50,51,51,51,51,51,51,51,52,52,52,52,53,53,53,53,54,54,54,55,55,55,56,56,56,56,56,57,57,57,57,57,58,58,58,59,59,59,59,60,60,60,60,60,61,61,61,61,61,61,61,61,62,62,62,62,63,63,63,63,63,64,64,64,65,65,65,65,66,66,68,68,69,69,70,70,63,44,60,55,65,59,62,57,62,63,46,63,60,58,64,69,51,60,56,54,77,63,64,60,60,58,59,40,61,41,57,63,59,51,62,53,68,53,59,51,61,57,58,65,57,54,75,60,64,58,61,67,62,65,63,69,51,62,75,67,58,60,63,43,65,63,64,61,50,59,55,65,72,50,64,55,63,59,56,74,54,57,54,70,48,66,55,75,64,59,55,57,61,41,71,38,55,56,69,64,72,69,56,62,67,57,69,51,48,69,64,53,67,58,61,64,58,60,57,55,56,57,74,51,62,53,62,46,54,55,58],\"xaxis\":\"x\",\"yaxis\":\"y\",\"type\":\"histogram\"},{\"alignmentgroup\":\"True\",\"bingroup\":\"x\",\"hovertemplate\":\"cp=non-anginal\\u003cbr\\u003eage=%{x}\\u003cbr\\u003ecount=%{y}\\u003cextra\\u003e\\u003c\\u002fextra\\u003e\",\"legendgroup\":\"non-anginal\",\"marker\":{\"color\":\"#00cc96\",\"pattern\":{\"shape\":\"\"}},\"name\":\"non-anginal\",\"offsetgroup\":\"non-anginal\",\"orientation\":\"v\",\"showlegend\":true,\"x\":[37,56,52,57,48,58,50,58,64,44,61,59,58,51,65,53,50,54,46,54,60,54,46,65,65,51,39,68,44,47,53,51,62,44,63,71,49,57,62,58,51,54,51,43,51,64,58,47,41,60,67,68,54,48,52,70,43,53,42,69,50,68,57,64,37,41,41,54,39,67,52,49,54,60,51,42,76,44,44,59,42,66,39,47,67,38,33,36,36,36,37,37,38,39,39,39,40,40,40,42,42,42,43,45,46,46,47,48,48,49,49,51,51,51,52,52,53,53,54,54,55,55,56,56,56,58,59,59,60,47,49,49,50,58,54,58,47,51,53,54,38,38,45,47,47,53,53,56,56,56,57,59,60,61,62,72,73,66,66,60,60,63,63,74,52,55,55,52,61,59,42,55,60,56,69,72,51,55,40,35,63,68,48,45,49,62,62,76,48,62,71,53,58,56,58,54,69,37,74,55,61,61,58,68],\"xaxis\":\"x\",\"yaxis\":\"y\",\"type\":\"histogram\"},{\"alignmentgroup\":\"True\",\"bingroup\":\"x\",\"hovertemplate\":\"cp=atypical angina\\u003cbr\\u003eage=%{x}\\u003cbr\\u003ecount=%{y}\\u003cextra\\u003e\\u003c\\u002fextra\\u003e\",\"legendgroup\":\"atypical angina\",\"marker\":{\"color\":\"#ab63fa\",\"pattern\":{\"shape\":\"\"}},\"name\":\"atypical angina\",\"offsetgroup\":\"atypical angina\",\"orientation\":\"v\",\"showlegend\":true,\"x\":[41,56,56,44,48,49,58,71,41,44,48,52,52,54,41,45,44,29,55,62,59,52,45,46,54,45,63,66,54,50,55,46,34,74,49,42,41,41,62,70,57,58,57,35,58,56,56,55,41,57,28,29,29,31,32,32,32,34,34,34,35,35,36,37,37,38,38,39,39,39,39,39,40,40,41,41,41,41,41,41,42,42,42,43,43,43,43,43,43,44,44,45,45,45,46,47,47,48,48,48,48,48,48,49,49,49,49,50,50,50,50,51,51,51,52,52,52,52,52,53,53,53,53,54,54,54,54,54,54,54,54,54,54,54,54,55,55,55,55,55,55,56,57,58,58,59,59,62,35,36,57,44,55,56,58,58,53,53,55,74,60,56,63,56,62,58,63,55,61,61,54,57,63,62],\"xaxis\":\"x\",\"yaxis\":\"y\",\"type\":\"histogram\"}],                        {\"template\":{\"data\":{\"histogram2dcontour\":[{\"type\":\"histogram2dcontour\",\"colorbar\":{\"outlinewidth\":0,\"ticks\":\"\"},\"colorscale\":[[0.0,\"#0d0887\"],[0.1111111111111111,\"#46039f\"],[0.2222222222222222,\"#7201a8\"],[0.3333333333333333,\"#9c179e\"],[0.4444444444444444,\"#bd3786\"],[0.5555555555555556,\"#d8576b\"],[0.6666666666666666,\"#ed7953\"],[0.7777777777777778,\"#fb9f3a\"],[0.8888888888888888,\"#fdca26\"],[1.0,\"#f0f921\"]]}],\"choropleth\":[{\"type\":\"choropleth\",\"colorbar\":{\"outlinewidth\":0,\"ticks\":\"\"}}],\"histogram2d\":[{\"type\":\"histogram2d\",\"colorbar\":{\"outlinewidth\":0,\"ticks\":\"\"},\"colorscale\":[[0.0,\"#0d0887\"],[0.1111111111111111,\"#46039f\"],[0.2222222222222222,\"#7201a8\"],[0.3333333333333333,\"#9c179e\"],[0.4444444444444444,\"#bd3786\"],[0.5555555555555556,\"#d8576b\"],[0.6666666666666666,\"#ed7953\"],[0.7777777777777778,\"#fb9f3a\"],[0.8888888888888888,\"#fdca26\"],[1.0,\"#f0f921\"]]}],\"heatmap\":[{\"type\":\"heatmap\",\"colorbar\":{\"outlinewidth\":0,\"ticks\":\"\"},\"colorscale\":[[0.0,\"#0d0887\"],[0.1111111111111111,\"#46039f\"],[0.2222222222222222,\"#7201a8\"],[0.3333333333333333,\"#9c179e\"],[0.4444444444444444,\"#bd3786\"],[0.5555555555555556,\"#d8576b\"],[0.6666666666666666,\"#ed7953\"],[0.7777777777777778,\"#fb9f3a\"],[0.8888888888888888,\"#fdca26\"],[1.0,\"#f0f921\"]]}],\"heatmapgl\":[{\"type\":\"heatmapgl\",\"colorbar\":{\"outlinewidth\":0,\"ticks\":\"\"},\"colorscale\":[[0.0,\"#0d0887\"],[0.1111111111111111,\"#46039f\"],[0.2222222222222222,\"#7201a8\"],[0.3333333333333333,\"#9c179e\"],[0.4444444444444444,\"#bd3786\"],[0.5555555555555556,\"#d8576b\"],[0.6666666666666666,\"#ed7953\"],[0.7777777777777778,\"#fb9f3a\"],[0.8888888888888888,\"#fdca26\"],[1.0,\"#f0f921\"]]}],\"contourcarpet\":[{\"type\":\"contourcarpet\",\"colorbar\":{\"outlinewidth\":0,\"ticks\":\"\"}}],\"contour\":[{\"type\":\"contour\",\"colorbar\":{\"outlinewidth\":0,\"ticks\":\"\"},\"colorscale\":[[0.0,\"#0d0887\"],[0.1111111111111111,\"#46039f\"],[0.2222222222222222,\"#7201a8\"],[0.3333333333333333,\"#9c179e\"],[0.4444444444444444,\"#bd3786\"],[0.5555555555555556,\"#d8576b\"],[0.6666666666666666,\"#ed7953\"],[0.7777777777777778,\"#fb9f3a\"],[0.8888888888888888,\"#fdca26\"],[1.0,\"#f0f921\"]]}],\"surface\":[{\"type\":\"surface\",\"colorbar\":{\"outlinewidth\":0,\"ticks\":\"\"},\"colorscale\":[[0.0,\"#0d0887\"],[0.1111111111111111,\"#46039f\"],[0.2222222222222222,\"#7201a8\"],[0.3333333333333333,\"#9c179e\"],[0.4444444444444444,\"#bd3786\"],[0.5555555555555556,\"#d8576b\"],[0.6666666666666666,\"#ed7953\"],[0.7777777777777778,\"#fb9f3a\"],[0.8888888888888888,\"#fdca26\"],[1.0,\"#f0f921\"]]}],\"mesh3d\":[{\"type\":\"mesh3d\",\"colorbar\":{\"outlinewidth\":0,\"ticks\":\"\"}}],\"scatter\":[{\"fillpattern\":{\"fillmode\":\"overlay\",\"size\":10,\"solidity\":0.2},\"type\":\"scatter\"}],\"parcoords\":[{\"type\":\"parcoords\",\"line\":{\"colorbar\":{\"outlinewidth\":0,\"ticks\":\"\"}}}],\"scatterpolargl\":[{\"type\":\"scatterpolargl\",\"marker\":{\"colorbar\":{\"outlinewidth\":0,\"ticks\":\"\"}}}],\"bar\":[{\"error_x\":{\"color\":\"#2a3f5f\"},\"error_y\":{\"color\":\"#2a3f5f\"},\"marker\":{\"line\":{\"color\":\"#E5ECF6\",\"width\":0.5},\"pattern\":{\"fillmode\":\"overlay\",\"size\":10,\"solidity\":0.2}},\"type\":\"bar\"}],\"scattergeo\":[{\"type\":\"scattergeo\",\"marker\":{\"colorbar\":{\"outlinewidth\":0,\"ticks\":\"\"}}}],\"scatterpolar\":[{\"type\":\"scatterpolar\",\"marker\":{\"colorbar\":{\"outlinewidth\":0,\"ticks\":\"\"}}}],\"histogram\":[{\"marker\":{\"pattern\":{\"fillmode\":\"overlay\",\"size\":10,\"solidity\":0.2}},\"type\":\"histogram\"}],\"scattergl\":[{\"type\":\"scattergl\",\"marker\":{\"colorbar\":{\"outlinewidth\":0,\"ticks\":\"\"}}}],\"scatter3d\":[{\"type\":\"scatter3d\",\"line\":{\"colorbar\":{\"outlinewidth\":0,\"ticks\":\"\"}},\"marker\":{\"colorbar\":{\"outlinewidth\":0,\"ticks\":\"\"}}}],\"scattermapbox\":[{\"type\":\"scattermapbox\",\"marker\":{\"colorbar\":{\"outlinewidth\":0,\"ticks\":\"\"}}}],\"scatterternary\":[{\"type\":\"scatterternary\",\"marker\":{\"colorbar\":{\"outlinewidth\":0,\"ticks\":\"\"}}}],\"scattercarpet\":[{\"type\":\"scattercarpet\",\"marker\":{\"colorbar\":{\"outlinewidth\":0,\"ticks\":\"\"}}}],\"carpet\":[{\"aaxis\":{\"endlinecolor\":\"#2a3f5f\",\"gridcolor\":\"white\",\"linecolor\":\"white\",\"minorgridcolor\":\"white\",\"startlinecolor\":\"#2a3f5f\"},\"baxis\":{\"endlinecolor\":\"#2a3f5f\",\"gridcolor\":\"white\",\"linecolor\":\"white\",\"minorgridcolor\":\"white\",\"startlinecolor\":\"#2a3f5f\"},\"type\":\"carpet\"}],\"table\":[{\"cells\":{\"fill\":{\"color\":\"#EBF0F8\"},\"line\":{\"color\":\"white\"}},\"header\":{\"fill\":{\"color\":\"#C8D4E3\"},\"line\":{\"color\":\"white\"}},\"type\":\"table\"}],\"barpolar\":[{\"marker\":{\"line\":{\"color\":\"#E5ECF6\",\"width\":0.5},\"pattern\":{\"fillmode\":\"overlay\",\"size\":10,\"solidity\":0.2}},\"type\":\"barpolar\"}],\"pie\":[{\"automargin\":true,\"type\":\"pie\"}]},\"layout\":{\"autotypenumbers\":\"strict\",\"colorway\":[\"#636efa\",\"#EF553B\",\"#00cc96\",\"#ab63fa\",\"#FFA15A\",\"#19d3f3\",\"#FF6692\",\"#B6E880\",\"#FF97FF\",\"#FECB52\"],\"font\":{\"color\":\"#2a3f5f\"},\"hovermode\":\"closest\",\"hoverlabel\":{\"align\":\"left\"},\"paper_bgcolor\":\"white\",\"plot_bgcolor\":\"#E5ECF6\",\"polar\":{\"bgcolor\":\"#E5ECF6\",\"angularaxis\":{\"gridcolor\":\"white\",\"linecolor\":\"white\",\"ticks\":\"\"},\"radialaxis\":{\"gridcolor\":\"white\",\"linecolor\":\"white\",\"ticks\":\"\"}},\"ternary\":{\"bgcolor\":\"#E5ECF6\",\"aaxis\":{\"gridcolor\":\"white\",\"linecolor\":\"white\",\"ticks\":\"\"},\"baxis\":{\"gridcolor\":\"white\",\"linecolor\":\"white\",\"ticks\":\"\"},\"caxis\":{\"gridcolor\":\"white\",\"linecolor\":\"white\",\"ticks\":\"\"}},\"coloraxis\":{\"colorbar\":{\"outlinewidth\":0,\"ticks\":\"\"}},\"colorscale\":{\"sequential\":[[0.0,\"#0d0887\"],[0.1111111111111111,\"#46039f\"],[0.2222222222222222,\"#7201a8\"],[0.3333333333333333,\"#9c179e\"],[0.4444444444444444,\"#bd3786\"],[0.5555555555555556,\"#d8576b\"],[0.6666666666666666,\"#ed7953\"],[0.7777777777777778,\"#fb9f3a\"],[0.8888888888888888,\"#fdca26\"],[1.0,\"#f0f921\"]],\"sequentialminus\":[[0.0,\"#0d0887\"],[0.1111111111111111,\"#46039f\"],[0.2222222222222222,\"#7201a8\"],[0.3333333333333333,\"#9c179e\"],[0.4444444444444444,\"#bd3786\"],[0.5555555555555556,\"#d8576b\"],[0.6666666666666666,\"#ed7953\"],[0.7777777777777778,\"#fb9f3a\"],[0.8888888888888888,\"#fdca26\"],[1.0,\"#f0f921\"]],\"diverging\":[[0,\"#8e0152\"],[0.1,\"#c51b7d\"],[0.2,\"#de77ae\"],[0.3,\"#f1b6da\"],[0.4,\"#fde0ef\"],[0.5,\"#f7f7f7\"],[0.6,\"#e6f5d0\"],[0.7,\"#b8e186\"],[0.8,\"#7fbc41\"],[0.9,\"#4d9221\"],[1,\"#276419\"]]},\"xaxis\":{\"gridcolor\":\"white\",\"linecolor\":\"white\",\"ticks\":\"\",\"title\":{\"standoff\":15},\"zerolinecolor\":\"white\",\"automargin\":true,\"zerolinewidth\":2},\"yaxis\":{\"gridcolor\":\"white\",\"linecolor\":\"white\",\"ticks\":\"\",\"title\":{\"standoff\":15},\"zerolinecolor\":\"white\",\"automargin\":true,\"zerolinewidth\":2},\"scene\":{\"xaxis\":{\"backgroundcolor\":\"#E5ECF6\",\"gridcolor\":\"white\",\"linecolor\":\"white\",\"showbackground\":true,\"ticks\":\"\",\"zerolinecolor\":\"white\",\"gridwidth\":2},\"yaxis\":{\"backgroundcolor\":\"#E5ECF6\",\"gridcolor\":\"white\",\"linecolor\":\"white\",\"showbackground\":true,\"ticks\":\"\",\"zerolinecolor\":\"white\",\"gridwidth\":2},\"zaxis\":{\"backgroundcolor\":\"#E5ECF6\",\"gridcolor\":\"white\",\"linecolor\":\"white\",\"showbackground\":true,\"ticks\":\"\",\"zerolinecolor\":\"white\",\"gridwidth\":2}},\"shapedefaults\":{\"line\":{\"color\":\"#2a3f5f\"}},\"annotationdefaults\":{\"arrowcolor\":\"#2a3f5f\",\"arrowhead\":0,\"arrowwidth\":1},\"geo\":{\"bgcolor\":\"white\",\"landcolor\":\"#E5ECF6\",\"subunitcolor\":\"white\",\"showland\":true,\"showlakes\":true,\"lakecolor\":\"white\"},\"title\":{\"x\":0.05},\"mapbox\":{\"style\":\"light\"}}},\"xaxis\":{\"anchor\":\"y\",\"domain\":[0.0,1.0],\"title\":{\"text\":\"age\"}},\"yaxis\":{\"anchor\":\"x\",\"domain\":[0.0,1.0],\"title\":{\"text\":\"count\"}},\"legend\":{\"title\":{\"text\":\"cp\"},\"tracegroupgap\":0},\"margin\":{\"t\":60},\"barmode\":\"relative\"},                        {\"responsive\": true}                    ).then(function(){\n",
       "                            \n",
       "var gd = document.getElementById('f31a87dd-b4a2-4f07-887a-09ab28ac212f');\n",
       "var x = new MutationObserver(function (mutations, observer) {{\n",
       "        var display = window.getComputedStyle(gd).display;\n",
       "        if (!display || display === 'none') {{\n",
       "            console.log([gd, 'removed!']);\n",
       "            Plotly.purge(gd);\n",
       "            observer.disconnect();\n",
       "        }}\n",
       "}});\n",
       "\n",
       "// Listen for the removal of the full notebook cells\n",
       "var notebookContainer = gd.closest('#notebook-container');\n",
       "if (notebookContainer) {{\n",
       "    x.observe(notebookContainer, {childList: true});\n",
       "}}\n",
       "\n",
       "// Listen for the clearing of the current output cell\n",
       "var outputEl = gd.closest('.output');\n",
       "if (outputEl) {{\n",
       "    x.observe(outputEl, {childList: true});\n",
       "}}\n",
       "\n",
       "                        })                };                            </script>        </div>\n",
       "</body>\n",
       "</html>"
      ]
     },
     "metadata": {},
     "output_type": "display_data"
    }
   ],
   "source": [
    "# draw the plot of age column grouped by cp column using plotly\n",
    "fig = px.histogram(data_frame=df, x='age', color='cp')\n",
    "fig.show()"
   ]
  },
  {
   "cell_type": "code",
   "execution_count": 26,
   "id": "d0eda459",
   "metadata": {
    "execution": {
     "iopub.execute_input": "2025-08-22T17:49:09.613328Z",
     "iopub.status.busy": "2025-08-22T17:49:09.612780Z",
     "iopub.status.idle": "2025-08-22T17:49:09.668263Z",
     "shell.execute_reply": "2025-08-22T17:49:09.667428Z"
    },
    "papermill": {
     "duration": 0.075778,
     "end_time": "2025-08-22T17:49:09.669551",
     "exception": false,
     "start_time": "2025-08-22T17:49:09.593773",
     "status": "completed"
    },
    "tags": []
   },
   "outputs": [
    {
     "data": {
      "text/html": [
       "<html>\n",
       "<head><meta charset=\"utf-8\" /></head>\n",
       "<body>\n",
       "    <div>            <script src=\"https://cdnjs.cloudflare.com/ajax/libs/mathjax/2.7.5/MathJax.js?config=TeX-AMS-MML_SVG\"></script><script type=\"text/javascript\">if (window.MathJax && window.MathJax.Hub && window.MathJax.Hub.Config) {window.MathJax.Hub.Config({SVG: {font: \"STIX-Web\"}});}</script>                <script type=\"text/javascript\">window.PlotlyConfig = {MathJaxConfig: 'local'};</script>\n",
       "        <script charset=\"utf-8\" src=\"https://cdn.plot.ly/plotly-2.35.2.min.js\"></script>                <div id=\"38a15d73-695a-4b26-934d-e5e185cc9a99\" class=\"plotly-graph-div\" style=\"height:525px; width:100%;\"></div>            <script type=\"text/javascript\">                                    window.PLOTLYENV=window.PLOTLYENV || {};                                    if (document.getElementById(\"38a15d73-695a-4b26-934d-e5e185cc9a99\")) {                    Plotly.newPlot(                        \"38a15d73-695a-4b26-934d-e5e185cc9a99\",                        [{\"alignmentgroup\":\"True\",\"bingroup\":\"x\",\"hovertemplate\":\"num=0\\u003cbr\\u003ecp=%{x}\\u003cbr\\u003ecount=%{y}\\u003cextra\\u003e\\u003c\\u002fextra\\u003e\",\"legendgroup\":\"0\",\"marker\":{\"color\":\"#636efa\",\"pattern\":{\"shape\":\"\"}},\"name\":\"0\",\"offsetgroup\":\"0\",\"orientation\":\"v\",\"showlegend\":true,\"x\":[\"typical angina\",\"non-anginal\",\"atypical angina\",\"atypical angina\",\"asymptomatic\",\"asymptomatic\",\"atypical angina\",\"atypical angina\",\"non-anginal\",\"non-anginal\",\"asymptomatic\",\"non-anginal\",\"atypical angina\",\"typical angina\",\"typical angina\",\"non-anginal\",\"non-anginal\",\"typical angina\",\"asymptomatic\",\"typical angina\",\"asymptomatic\",\"non-anginal\",\"asymptomatic\",\"non-anginal\",\"typical angina\",\"atypical angina\",\"non-anginal\",\"non-anginal\",\"non-anginal\",\"non-anginal\",\"atypical angina\",\"asymptomatic\",\"atypical angina\",\"non-anginal\",\"typical angina\",\"non-anginal\",\"non-anginal\",\"non-anginal\",\"non-anginal\",\"non-anginal\",\"non-anginal\",\"atypical angina\",\"asymptomatic\",\"asymptomatic\",\"non-anginal\",\"atypical angina\",\"non-anginal\",\"non-anginal\",\"non-anginal\",\"asymptomatic\",\"non-anginal\",\"asymptomatic\",\"non-anginal\",\"non-anginal\",\"non-anginal\",\"atypical angina\",\"asymptomatic\",\"asymptomatic\",\"typical angina\",\"asymptomatic\",\"non-anginal\",\"atypical angina\",\"typical angina\",\"atypical angina\",\"non-anginal\",\"asymptomatic\",\"non-anginal\",\"atypical angina\",\"atypical angina\",\"asymptomatic\",\"non-anginal\",\"non-anginal\",\"atypical angina\",\"asymptomatic\",\"non-anginal\",\"atypical angina\",\"non-anginal\",\"atypical angina\",\"atypical angina\",\"non-anginal\",\"non-anginal\",\"atypical angina\",\"non-anginal\",\"typical angina\",\"asymptomatic\",\"non-anginal\",\"non-anginal\",\"atypical angina\",\"non-anginal\",\"asymptomatic\",\"non-anginal\",\"asymptomatic\",\"non-anginal\",\"atypical angina\",\"atypical angina\",\"asymptomatic\",\"asymptomatic\",\"asymptomatic\",\"non-anginal\",\"non-anginal\",\"typical angina\",\"typical angina\",\"atypical angina\",\"non-anginal\",\"non-anginal\",\"non-anginal\",\"typical angina\",\"asymptomatic\",\"atypical angina\",\"asymptomatic\",\"asymptomatic\",\"non-anginal\",\"non-anginal\",\"asymptomatic\",\"atypical angina\",\"non-anginal\",\"non-anginal\",\"typical angina\",\"atypical angina\",\"asymptomatic\",\"asymptomatic\",\"asymptomatic\",\"non-anginal\",\"non-anginal\",\"non-anginal\",\"atypical angina\",\"asymptomatic\",\"non-anginal\",\"non-anginal\",\"atypical angina\",\"non-anginal\",\"atypical angina\",\"atypical angina\",\"atypical angina\",\"atypical angina\",\"asymptomatic\",\"non-anginal\",\"atypical angina\",\"asymptomatic\",\"asymptomatic\",\"non-anginal\",\"asymptomatic\",\"non-anginal\",\"asymptomatic\",\"non-anginal\",\"atypical angina\",\"non-anginal\",\"typical angina\",\"non-anginal\",\"non-anginal\",\"asymptomatic\",\"asymptomatic\",\"typical angina\",\"non-anginal\",\"non-anginal\",\"asymptomatic\",\"non-anginal\",\"atypical angina\",\"atypical angina\",\"atypical angina\",\"atypical angina\",\"atypical angina\",\"atypical angina\",\"non-anginal\",\"atypical angina\",\"atypical angina\",\"atypical angina\",\"typical angina\",\"atypical angina\",\"atypical angina\",\"atypical angina\",\"atypical angina\",\"non-anginal\",\"atypical angina\",\"atypical angina\",\"atypical angina\",\"typical angina\",\"asymptomatic\",\"atypical angina\",\"atypical angina\",\"atypical angina\",\"non-anginal\",\"non-anginal\",\"non-anginal\",\"atypical angina\",\"non-anginal\",\"asymptomatic\",\"atypical angina\",\"non-anginal\",\"asymptomatic\",\"asymptomatic\",\"atypical angina\",\"atypical angina\",\"non-anginal\",\"non-anginal\",\"atypical angina\",\"atypical angina\",\"atypical angina\",\"atypical angina\",\"atypical angina\",\"non-anginal\",\"non-anginal\",\"asymptomatic\",\"asymptomatic\",\"atypical angina\",\"atypical angina\",\"non-anginal\",\"non-anginal\",\"non-anginal\",\"atypical angina\",\"atypical angina\",\"atypical angina\",\"atypical angina\",\"atypical angina\",\"atypical angina\",\"asymptomatic\",\"non-anginal\",\"atypical angina\",\"atypical angina\",\"atypical angina\",\"non-anginal\",\"non-anginal\",\"asymptomatic\",\"typical angina\",\"atypical angina\",\"atypical angina\",\"atypical angina\",\"atypical angina\",\"atypical angina\",\"non-anginal\",\"atypical angina\",\"asymptomatic\",\"atypical angina\",\"atypical angina\",\"asymptomatic\",\"atypical angina\",\"atypical angina\",\"asymptomatic\",\"atypical angina\",\"non-anginal\",\"asymptomatic\",\"asymptomatic\",\"asymptomatic\",\"atypical angina\",\"non-anginal\",\"non-anginal\",\"asymptomatic\",\"asymptomatic\",\"asymptomatic\",\"atypical angina\",\"non-anginal\",\"typical angina\",\"atypical angina\",\"asymptomatic\",\"atypical angina\",\"atypical angina\",\"atypical angina\",\"non-anginal\",\"asymptomatic\",\"asymptomatic\",\"asymptomatic\",\"atypical angina\",\"atypical angina\",\"atypical angina\",\"non-anginal\",\"atypical angina\",\"atypical angina\",\"atypical angina\",\"non-anginal\",\"atypical angina\",\"non-anginal\",\"asymptomatic\",\"asymptomatic\",\"atypical angina\",\"asymptomatic\",\"atypical angina\",\"atypical angina\",\"atypical angina\",\"asymptomatic\",\"asymptomatic\",\"atypical angina\",\"non-anginal\",\"non-anginal\",\"non-anginal\",\"atypical angina\",\"atypical angina\",\"asymptomatic\",\"atypical angina\",\"atypical angina\",\"non-anginal\",\"asymptomatic\",\"atypical angina\",\"atypical angina\",\"atypical angina\",\"non-anginal\",\"atypical angina\",\"atypical angina\",\"non-anginal\",\"atypical angina\",\"atypical angina\",\"non-anginal\",\"asymptomatic\",\"asymptomatic\",\"asymptomatic\",\"atypical angina\",\"atypical angina\",\"atypical angina\",\"atypical angina\",\"atypical angina\",\"atypical angina\",\"atypical angina\",\"typical angina\",\"atypical angina\",\"atypical angina\",\"atypical angina\",\"atypical angina\",\"atypical angina\",\"non-anginal\",\"non-anginal\",\"asymptomatic\",\"atypical angina\",\"atypical angina\",\"atypical angina\",\"atypical angina\",\"atypical angina\",\"atypical angina\",\"non-anginal\",\"non-anginal\",\"asymptomatic\",\"asymptomatic\",\"non-anginal\",\"atypical angina\",\"non-anginal\",\"non-anginal\",\"asymptomatic\",\"typical angina\",\"asymptomatic\",\"atypical angina\",\"atypical angina\",\"atypical angina\",\"non-anginal\",\"asymptomatic\",\"atypical angina\",\"atypical angina\",\"non-anginal\",\"non-anginal\",\"asymptomatic\",\"non-anginal\",\"asymptomatic\",\"asymptomatic\",\"typical angina\",\"atypical angina\",\"non-anginal\",\"non-anginal\",\"atypical angina\",\"asymptomatic\",\"atypical angina\",\"non-anginal\",\"asymptomatic\",\"non-anginal\",\"asymptomatic\",\"non-anginal\",\"non-anginal\",\"non-anginal\",\"atypical angina\",\"asymptomatic\",\"asymptomatic\",\"asymptomatic\",\"non-anginal\",\"asymptomatic\",\"asymptomatic\",\"asymptomatic\",\"asymptomatic\",\"non-anginal\",\"atypical angina\",\"atypical angina\",\"atypical angina\",\"asymptomatic\",\"atypical angina\",\"typical angina\",\"asymptomatic\",\"asymptomatic\",\"non-anginal\",\"asymptomatic\",\"non-anginal\",\"non-anginal\",\"asymptomatic\",\"asymptomatic\",\"non-anginal\",\"atypical angina\",\"asymptomatic\",\"atypical angina\",\"asymptomatic\",\"typical angina\",\"non-anginal\",\"non-anginal\",\"asymptomatic\",\"non-anginal\",\"atypical angina\",\"asymptomatic\",\"asymptomatic\",\"non-anginal\",\"non-anginal\",\"atypical angina\",\"asymptomatic\",\"non-anginal\",\"asymptomatic\",\"non-anginal\",\"asymptomatic\",\"typical angina\",\"asymptomatic\"],\"xaxis\":\"x\",\"yaxis\":\"y\",\"type\":\"histogram\"},{\"alignmentgroup\":\"True\",\"bingroup\":\"x\",\"hovertemplate\":\"num=2\\u003cbr\\u003ecp=%{x}\\u003cbr\\u003ecount=%{y}\\u003cextra\\u003e\\u003c\\u002fextra\\u003e\",\"legendgroup\":\"2\",\"marker\":{\"color\":\"#EF553B\",\"pattern\":{\"shape\":\"\"}},\"name\":\"2\",\"offsetgroup\":\"2\",\"orientation\":\"v\",\"showlegend\":true,\"x\":[\"asymptomatic\",\"asymptomatic\",\"non-anginal\",\"asymptomatic\",\"asymptomatic\",\"asymptomatic\",\"asymptomatic\",\"asymptomatic\",\"asymptomatic\",\"asymptomatic\",\"asymptomatic\",\"asymptomatic\",\"asymptomatic\",\"non-anginal\",\"asymptomatic\",\"asymptomatic\",\"asymptomatic\",\"atypical angina\",\"non-anginal\",\"asymptomatic\",\"asymptomatic\",\"asymptomatic\",\"asymptomatic\",\"typical angina\",\"asymptomatic\",\"asymptomatic\",\"asymptomatic\",\"asymptomatic\",\"non-anginal\",\"asymptomatic\",\"asymptomatic\",\"asymptomatic\",\"asymptomatic\",\"asymptomatic\",\"asymptomatic\",\"asymptomatic\",\"asymptomatic\",\"asymptomatic\",\"asymptomatic\",\"asymptomatic\",\"asymptomatic\",\"asymptomatic\",\"asymptomatic\",\"asymptomatic\",\"asymptomatic\",\"asymptomatic\",\"asymptomatic\",\"asymptomatic\",\"asymptomatic\",\"asymptomatic\",\"asymptomatic\",\"asymptomatic\",\"asymptomatic\",\"asymptomatic\",\"asymptomatic\",\"non-anginal\",\"non-anginal\",\"asymptomatic\",\"asymptomatic\",\"asymptomatic\",\"asymptomatic\",\"asymptomatic\",\"asymptomatic\",\"asymptomatic\",\"typical angina\",\"asymptomatic\",\"asymptomatic\",\"typical angina\",\"asymptomatic\",\"asymptomatic\",\"asymptomatic\",\"non-anginal\",\"asymptomatic\",\"asymptomatic\",\"non-anginal\",\"asymptomatic\",\"asymptomatic\",\"non-anginal\",\"asymptomatic\",\"asymptomatic\",\"asymptomatic\",\"asymptomatic\",\"atypical angina\",\"non-anginal\",\"asymptomatic\",\"typical angina\",\"asymptomatic\",\"asymptomatic\",\"asymptomatic\",\"asymptomatic\",\"asymptomatic\",\"asymptomatic\",\"asymptomatic\",\"non-anginal\",\"asymptomatic\",\"non-anginal\",\"non-anginal\",\"asymptomatic\",\"asymptomatic\",\"asymptomatic\",\"asymptomatic\",\"asymptomatic\",\"asymptomatic\",\"asymptomatic\",\"asymptomatic\",\"non-anginal\",\"asymptomatic\",\"asymptomatic\",\"asymptomatic\"],\"xaxis\":\"x\",\"yaxis\":\"y\",\"type\":\"histogram\"},{\"alignmentgroup\":\"True\",\"bingroup\":\"x\",\"hovertemplate\":\"num=1\\u003cbr\\u003ecp=%{x}\\u003cbr\\u003ecount=%{y}\\u003cextra\\u003e\\u003c\\u002fextra\\u003e\",\"legendgroup\":\"1\",\"marker\":{\"color\":\"#00cc96\",\"pattern\":{\"shape\":\"\"}},\"name\":\"1\",\"offsetgroup\":\"1\",\"orientation\":\"v\",\"showlegend\":true,\"x\":[\"asymptomatic\",\"asymptomatic\",\"atypical angina\",\"atypical angina\",\"non-anginal\",\"asymptomatic\",\"asymptomatic\",\"asymptomatic\",\"asymptomatic\",\"non-anginal\",\"asymptomatic\",\"asymptomatic\",\"non-anginal\",\"non-anginal\",\"asymptomatic\",\"asymptomatic\",\"asymptomatic\",\"asymptomatic\",\"asymptomatic\",\"non-anginal\",\"asymptomatic\",\"asymptomatic\",\"typical angina\",\"asymptomatic\",\"typical angina\",\"non-anginal\",\"non-anginal\",\"asymptomatic\",\"asymptomatic\",\"asymptomatic\",\"asymptomatic\",\"asymptomatic\",\"asymptomatic\",\"asymptomatic\",\"asymptomatic\",\"atypical angina\",\"asymptomatic\",\"typical angina\",\"asymptomatic\",\"asymptomatic\",\"asymptomatic\",\"non-anginal\",\"asymptomatic\",\"asymptomatic\",\"asymptomatic\",\"atypical angina\",\"asymptomatic\",\"asymptomatic\",\"typical angina\",\"atypical angina\",\"non-anginal\",\"asymptomatic\",\"asymptomatic\",\"typical angina\",\"atypical angina\",\"asymptomatic\",\"asymptomatic\",\"typical angina\",\"atypical angina\",\"atypical angina\",\"asymptomatic\",\"asymptomatic\",\"asymptomatic\",\"asymptomatic\",\"asymptomatic\",\"asymptomatic\",\"asymptomatic\",\"asymptomatic\",\"asymptomatic\",\"asymptomatic\",\"asymptomatic\",\"non-anginal\",\"asymptomatic\",\"asymptomatic\",\"asymptomatic\",\"asymptomatic\",\"non-anginal\",\"non-anginal\",\"asymptomatic\",\"non-anginal\",\"asymptomatic\",\"asymptomatic\",\"asymptomatic\",\"asymptomatic\",\"asymptomatic\",\"asymptomatic\",\"atypical angina\",\"non-anginal\",\"asymptomatic\",\"asymptomatic\",\"asymptomatic\",\"asymptomatic\",\"asymptomatic\",\"asymptomatic\",\"asymptomatic\",\"asymptomatic\",\"typical angina\",\"asymptomatic\",\"asymptomatic\",\"asymptomatic\",\"asymptomatic\",\"asymptomatic\",\"asymptomatic\",\"asymptomatic\",\"asymptomatic\",\"asymptomatic\",\"asymptomatic\",\"asymptomatic\",\"non-anginal\",\"asymptomatic\",\"asymptomatic\",\"asymptomatic\",\"asymptomatic\",\"asymptomatic\",\"asymptomatic\",\"asymptomatic\",\"non-anginal\",\"asymptomatic\",\"asymptomatic\",\"asymptomatic\",\"atypical angina\",\"asymptomatic\",\"typical angina\",\"non-anginal\",\"asymptomatic\",\"asymptomatic\",\"asymptomatic\",\"non-anginal\",\"asymptomatic\",\"asymptomatic\",\"asymptomatic\",\"asymptomatic\",\"non-anginal\",\"asymptomatic\",\"asymptomatic\",\"typical angina\",\"atypical angina\",\"asymptomatic\",\"atypical angina\",\"asymptomatic\",\"asymptomatic\",\"atypical angina\",\"asymptomatic\",\"asymptomatic\",\"asymptomatic\",\"asymptomatic\",\"asymptomatic\",\"asymptomatic\",\"asymptomatic\",\"asymptomatic\",\"asymptomatic\",\"asymptomatic\",\"asymptomatic\",\"asymptomatic\",\"asymptomatic\",\"asymptomatic\",\"asymptomatic\",\"non-anginal\",\"asymptomatic\",\"atypical angina\",\"asymptomatic\",\"typical angina\",\"asymptomatic\",\"asymptomatic\",\"asymptomatic\",\"non-anginal\",\"asymptomatic\",\"asymptomatic\",\"asymptomatic\",\"asymptomatic\",\"non-anginal\",\"asymptomatic\",\"asymptomatic\",\"asymptomatic\",\"asymptomatic\",\"non-anginal\",\"non-anginal\",\"asymptomatic\",\"asymptomatic\",\"asymptomatic\",\"asymptomatic\",\"asymptomatic\",\"non-anginal\",\"asymptomatic\",\"asymptomatic\",\"asymptomatic\",\"non-anginal\",\"asymptomatic\",\"asymptomatic\",\"non-anginal\",\"asymptomatic\",\"asymptomatic\",\"asymptomatic\",\"asymptomatic\",\"asymptomatic\",\"asymptomatic\",\"typical angina\",\"asymptomatic\",\"asymptomatic\",\"asymptomatic\",\"asymptomatic\",\"asymptomatic\",\"asymptomatic\",\"asymptomatic\",\"asymptomatic\",\"asymptomatic\",\"asymptomatic\",\"non-anginal\",\"atypical angina\",\"asymptomatic\",\"atypical angina\",\"asymptomatic\",\"asymptomatic\",\"non-anginal\",\"asymptomatic\",\"asymptomatic\",\"asymptomatic\",\"asymptomatic\",\"asymptomatic\",\"asymptomatic\",\"asymptomatic\",\"asymptomatic\",\"non-anginal\",\"asymptomatic\",\"asymptomatic\",\"asymptomatic\",\"asymptomatic\",\"asymptomatic\",\"atypical angina\",\"asymptomatic\",\"asymptomatic\",\"asymptomatic\",\"non-anginal\",\"asymptomatic\",\"typical angina\",\"asymptomatic\",\"non-anginal\",\"non-anginal\",\"asymptomatic\",\"asymptomatic\",\"asymptomatic\",\"asymptomatic\",\"asymptomatic\",\"asymptomatic\",\"asymptomatic\",\"non-anginal\",\"asymptomatic\",\"non-anginal\",\"asymptomatic\",\"asymptomatic\",\"asymptomatic\",\"asymptomatic\",\"asymptomatic\",\"asymptomatic\",\"atypical angina\",\"asymptomatic\",\"non-anginal\",\"asymptomatic\",\"asymptomatic\",\"asymptomatic\",\"asymptomatic\",\"non-anginal\",\"asymptomatic\",\"asymptomatic\",\"atypical angina\"],\"xaxis\":\"x\",\"yaxis\":\"y\",\"type\":\"histogram\"},{\"alignmentgroup\":\"True\",\"bingroup\":\"x\",\"hovertemplate\":\"num=3\\u003cbr\\u003ecp=%{x}\\u003cbr\\u003ecount=%{y}\\u003cextra\\u003e\\u003c\\u002fextra\\u003e\",\"legendgroup\":\"3\",\"marker\":{\"color\":\"#ab63fa\",\"pattern\":{\"shape\":\"\"}},\"name\":\"3\",\"offsetgroup\":\"3\",\"orientation\":\"v\",\"showlegend\":true,\"x\":[\"asymptomatic\",\"non-anginal\",\"asymptomatic\",\"asymptomatic\",\"asymptomatic\",\"asymptomatic\",\"asymptomatic\",\"non-anginal\",\"asymptomatic\",\"asymptomatic\",\"non-anginal\",\"asymptomatic\",\"asymptomatic\",\"asymptomatic\",\"asymptomatic\",\"asymptomatic\",\"asymptomatic\",\"atypical angina\",\"asymptomatic\",\"non-anginal\",\"asymptomatic\",\"asymptomatic\",\"asymptomatic\",\"asymptomatic\",\"asymptomatic\",\"asymptomatic\",\"asymptomatic\",\"asymptomatic\",\"asymptomatic\",\"asymptomatic\",\"asymptomatic\",\"atypical angina\",\"asymptomatic\",\"asymptomatic\",\"asymptomatic\",\"asymptomatic\",\"asymptomatic\",\"non-anginal\",\"asymptomatic\",\"asymptomatic\",\"asymptomatic\",\"atypical angina\",\"asymptomatic\",\"asymptomatic\",\"asymptomatic\",\"asymptomatic\",\"asymptomatic\",\"asymptomatic\",\"asymptomatic\",\"asymptomatic\",\"non-anginal\",\"asymptomatic\",\"asymptomatic\",\"asymptomatic\",\"non-anginal\",\"asymptomatic\",\"asymptomatic\",\"asymptomatic\",\"asymptomatic\",\"asymptomatic\",\"asymptomatic\",\"asymptomatic\",\"asymptomatic\",\"asymptomatic\",\"asymptomatic\",\"asymptomatic\",\"non-anginal\",\"non-anginal\",\"non-anginal\",\"asymptomatic\",\"asymptomatic\",\"asymptomatic\",\"non-anginal\",\"asymptomatic\",\"non-anginal\",\"asymptomatic\",\"non-anginal\",\"typical angina\",\"asymptomatic\",\"non-anginal\",\"non-anginal\",\"asymptomatic\",\"asymptomatic\",\"asymptomatic\",\"asymptomatic\",\"asymptomatic\",\"asymptomatic\",\"asymptomatic\",\"non-anginal\",\"asymptomatic\",\"asymptomatic\",\"asymptomatic\",\"typical angina\",\"asymptomatic\",\"non-anginal\",\"typical angina\",\"asymptomatic\",\"asymptomatic\",\"asymptomatic\",\"asymptomatic\",\"asymptomatic\",\"asymptomatic\",\"asymptomatic\",\"asymptomatic\",\"asymptomatic\",\"non-anginal\",\"asymptomatic\"],\"xaxis\":\"x\",\"yaxis\":\"y\",\"type\":\"histogram\"},{\"alignmentgroup\":\"True\",\"bingroup\":\"x\",\"hovertemplate\":\"num=4\\u003cbr\\u003ecp=%{x}\\u003cbr\\u003ecount=%{y}\\u003cextra\\u003e\\u003c\\u002fextra\\u003e\",\"legendgroup\":\"4\",\"marker\":{\"color\":\"#FFA15A\",\"pattern\":{\"shape\":\"\"}},\"name\":\"4\",\"offsetgroup\":\"4\",\"orientation\":\"v\",\"showlegend\":true,\"x\":[\"asymptomatic\",\"asymptomatic\",\"non-anginal\",\"asymptomatic\",\"asymptomatic\",\"asymptomatic\",\"asymptomatic\",\"asymptomatic\",\"asymptomatic\",\"asymptomatic\",\"typical angina\",\"asymptomatic\",\"asymptomatic\",\"asymptomatic\",\"asymptomatic\",\"asymptomatic\",\"asymptomatic\",\"asymptomatic\",\"asymptomatic\",\"asymptomatic\",\"non-anginal\",\"asymptomatic\",\"non-anginal\",\"non-anginal\",\"asymptomatic\",\"asymptomatic\",\"asymptomatic\",\"asymptomatic\"],\"xaxis\":\"x\",\"yaxis\":\"y\",\"type\":\"histogram\"}],                        {\"template\":{\"data\":{\"histogram2dcontour\":[{\"type\":\"histogram2dcontour\",\"colorbar\":{\"outlinewidth\":0,\"ticks\":\"\"},\"colorscale\":[[0.0,\"#0d0887\"],[0.1111111111111111,\"#46039f\"],[0.2222222222222222,\"#7201a8\"],[0.3333333333333333,\"#9c179e\"],[0.4444444444444444,\"#bd3786\"],[0.5555555555555556,\"#d8576b\"],[0.6666666666666666,\"#ed7953\"],[0.7777777777777778,\"#fb9f3a\"],[0.8888888888888888,\"#fdca26\"],[1.0,\"#f0f921\"]]}],\"choropleth\":[{\"type\":\"choropleth\",\"colorbar\":{\"outlinewidth\":0,\"ticks\":\"\"}}],\"histogram2d\":[{\"type\":\"histogram2d\",\"colorbar\":{\"outlinewidth\":0,\"ticks\":\"\"},\"colorscale\":[[0.0,\"#0d0887\"],[0.1111111111111111,\"#46039f\"],[0.2222222222222222,\"#7201a8\"],[0.3333333333333333,\"#9c179e\"],[0.4444444444444444,\"#bd3786\"],[0.5555555555555556,\"#d8576b\"],[0.6666666666666666,\"#ed7953\"],[0.7777777777777778,\"#fb9f3a\"],[0.8888888888888888,\"#fdca26\"],[1.0,\"#f0f921\"]]}],\"heatmap\":[{\"type\":\"heatmap\",\"colorbar\":{\"outlinewidth\":0,\"ticks\":\"\"},\"colorscale\":[[0.0,\"#0d0887\"],[0.1111111111111111,\"#46039f\"],[0.2222222222222222,\"#7201a8\"],[0.3333333333333333,\"#9c179e\"],[0.4444444444444444,\"#bd3786\"],[0.5555555555555556,\"#d8576b\"],[0.6666666666666666,\"#ed7953\"],[0.7777777777777778,\"#fb9f3a\"],[0.8888888888888888,\"#fdca26\"],[1.0,\"#f0f921\"]]}],\"heatmapgl\":[{\"type\":\"heatmapgl\",\"colorbar\":{\"outlinewidth\":0,\"ticks\":\"\"},\"colorscale\":[[0.0,\"#0d0887\"],[0.1111111111111111,\"#46039f\"],[0.2222222222222222,\"#7201a8\"],[0.3333333333333333,\"#9c179e\"],[0.4444444444444444,\"#bd3786\"],[0.5555555555555556,\"#d8576b\"],[0.6666666666666666,\"#ed7953\"],[0.7777777777777778,\"#fb9f3a\"],[0.8888888888888888,\"#fdca26\"],[1.0,\"#f0f921\"]]}],\"contourcarpet\":[{\"type\":\"contourcarpet\",\"colorbar\":{\"outlinewidth\":0,\"ticks\":\"\"}}],\"contour\":[{\"type\":\"contour\",\"colorbar\":{\"outlinewidth\":0,\"ticks\":\"\"},\"colorscale\":[[0.0,\"#0d0887\"],[0.1111111111111111,\"#46039f\"],[0.2222222222222222,\"#7201a8\"],[0.3333333333333333,\"#9c179e\"],[0.4444444444444444,\"#bd3786\"],[0.5555555555555556,\"#d8576b\"],[0.6666666666666666,\"#ed7953\"],[0.7777777777777778,\"#fb9f3a\"],[0.8888888888888888,\"#fdca26\"],[1.0,\"#f0f921\"]]}],\"surface\":[{\"type\":\"surface\",\"colorbar\":{\"outlinewidth\":0,\"ticks\":\"\"},\"colorscale\":[[0.0,\"#0d0887\"],[0.1111111111111111,\"#46039f\"],[0.2222222222222222,\"#7201a8\"],[0.3333333333333333,\"#9c179e\"],[0.4444444444444444,\"#bd3786\"],[0.5555555555555556,\"#d8576b\"],[0.6666666666666666,\"#ed7953\"],[0.7777777777777778,\"#fb9f3a\"],[0.8888888888888888,\"#fdca26\"],[1.0,\"#f0f921\"]]}],\"mesh3d\":[{\"type\":\"mesh3d\",\"colorbar\":{\"outlinewidth\":0,\"ticks\":\"\"}}],\"scatter\":[{\"fillpattern\":{\"fillmode\":\"overlay\",\"size\":10,\"solidity\":0.2},\"type\":\"scatter\"}],\"parcoords\":[{\"type\":\"parcoords\",\"line\":{\"colorbar\":{\"outlinewidth\":0,\"ticks\":\"\"}}}],\"scatterpolargl\":[{\"type\":\"scatterpolargl\",\"marker\":{\"colorbar\":{\"outlinewidth\":0,\"ticks\":\"\"}}}],\"bar\":[{\"error_x\":{\"color\":\"#2a3f5f\"},\"error_y\":{\"color\":\"#2a3f5f\"},\"marker\":{\"line\":{\"color\":\"#E5ECF6\",\"width\":0.5},\"pattern\":{\"fillmode\":\"overlay\",\"size\":10,\"solidity\":0.2}},\"type\":\"bar\"}],\"scattergeo\":[{\"type\":\"scattergeo\",\"marker\":{\"colorbar\":{\"outlinewidth\":0,\"ticks\":\"\"}}}],\"scatterpolar\":[{\"type\":\"scatterpolar\",\"marker\":{\"colorbar\":{\"outlinewidth\":0,\"ticks\":\"\"}}}],\"histogram\":[{\"marker\":{\"pattern\":{\"fillmode\":\"overlay\",\"size\":10,\"solidity\":0.2}},\"type\":\"histogram\"}],\"scattergl\":[{\"type\":\"scattergl\",\"marker\":{\"colorbar\":{\"outlinewidth\":0,\"ticks\":\"\"}}}],\"scatter3d\":[{\"type\":\"scatter3d\",\"line\":{\"colorbar\":{\"outlinewidth\":0,\"ticks\":\"\"}},\"marker\":{\"colorbar\":{\"outlinewidth\":0,\"ticks\":\"\"}}}],\"scattermapbox\":[{\"type\":\"scattermapbox\",\"marker\":{\"colorbar\":{\"outlinewidth\":0,\"ticks\":\"\"}}}],\"scatterternary\":[{\"type\":\"scatterternary\",\"marker\":{\"colorbar\":{\"outlinewidth\":0,\"ticks\":\"\"}}}],\"scattercarpet\":[{\"type\":\"scattercarpet\",\"marker\":{\"colorbar\":{\"outlinewidth\":0,\"ticks\":\"\"}}}],\"carpet\":[{\"aaxis\":{\"endlinecolor\":\"#2a3f5f\",\"gridcolor\":\"white\",\"linecolor\":\"white\",\"minorgridcolor\":\"white\",\"startlinecolor\":\"#2a3f5f\"},\"baxis\":{\"endlinecolor\":\"#2a3f5f\",\"gridcolor\":\"white\",\"linecolor\":\"white\",\"minorgridcolor\":\"white\",\"startlinecolor\":\"#2a3f5f\"},\"type\":\"carpet\"}],\"table\":[{\"cells\":{\"fill\":{\"color\":\"#EBF0F8\"},\"line\":{\"color\":\"white\"}},\"header\":{\"fill\":{\"color\":\"#C8D4E3\"},\"line\":{\"color\":\"white\"}},\"type\":\"table\"}],\"barpolar\":[{\"marker\":{\"line\":{\"color\":\"#E5ECF6\",\"width\":0.5},\"pattern\":{\"fillmode\":\"overlay\",\"size\":10,\"solidity\":0.2}},\"type\":\"barpolar\"}],\"pie\":[{\"automargin\":true,\"type\":\"pie\"}]},\"layout\":{\"autotypenumbers\":\"strict\",\"colorway\":[\"#636efa\",\"#EF553B\",\"#00cc96\",\"#ab63fa\",\"#FFA15A\",\"#19d3f3\",\"#FF6692\",\"#B6E880\",\"#FF97FF\",\"#FECB52\"],\"font\":{\"color\":\"#2a3f5f\"},\"hovermode\":\"closest\",\"hoverlabel\":{\"align\":\"left\"},\"paper_bgcolor\":\"white\",\"plot_bgcolor\":\"#E5ECF6\",\"polar\":{\"bgcolor\":\"#E5ECF6\",\"angularaxis\":{\"gridcolor\":\"white\",\"linecolor\":\"white\",\"ticks\":\"\"},\"radialaxis\":{\"gridcolor\":\"white\",\"linecolor\":\"white\",\"ticks\":\"\"}},\"ternary\":{\"bgcolor\":\"#E5ECF6\",\"aaxis\":{\"gridcolor\":\"white\",\"linecolor\":\"white\",\"ticks\":\"\"},\"baxis\":{\"gridcolor\":\"white\",\"linecolor\":\"white\",\"ticks\":\"\"},\"caxis\":{\"gridcolor\":\"white\",\"linecolor\":\"white\",\"ticks\":\"\"}},\"coloraxis\":{\"colorbar\":{\"outlinewidth\":0,\"ticks\":\"\"}},\"colorscale\":{\"sequential\":[[0.0,\"#0d0887\"],[0.1111111111111111,\"#46039f\"],[0.2222222222222222,\"#7201a8\"],[0.3333333333333333,\"#9c179e\"],[0.4444444444444444,\"#bd3786\"],[0.5555555555555556,\"#d8576b\"],[0.6666666666666666,\"#ed7953\"],[0.7777777777777778,\"#fb9f3a\"],[0.8888888888888888,\"#fdca26\"],[1.0,\"#f0f921\"]],\"sequentialminus\":[[0.0,\"#0d0887\"],[0.1111111111111111,\"#46039f\"],[0.2222222222222222,\"#7201a8\"],[0.3333333333333333,\"#9c179e\"],[0.4444444444444444,\"#bd3786\"],[0.5555555555555556,\"#d8576b\"],[0.6666666666666666,\"#ed7953\"],[0.7777777777777778,\"#fb9f3a\"],[0.8888888888888888,\"#fdca26\"],[1.0,\"#f0f921\"]],\"diverging\":[[0,\"#8e0152\"],[0.1,\"#c51b7d\"],[0.2,\"#de77ae\"],[0.3,\"#f1b6da\"],[0.4,\"#fde0ef\"],[0.5,\"#f7f7f7\"],[0.6,\"#e6f5d0\"],[0.7,\"#b8e186\"],[0.8,\"#7fbc41\"],[0.9,\"#4d9221\"],[1,\"#276419\"]]},\"xaxis\":{\"gridcolor\":\"white\",\"linecolor\":\"white\",\"ticks\":\"\",\"title\":{\"standoff\":15},\"zerolinecolor\":\"white\",\"automargin\":true,\"zerolinewidth\":2},\"yaxis\":{\"gridcolor\":\"white\",\"linecolor\":\"white\",\"ticks\":\"\",\"title\":{\"standoff\":15},\"zerolinecolor\":\"white\",\"automargin\":true,\"zerolinewidth\":2},\"scene\":{\"xaxis\":{\"backgroundcolor\":\"#E5ECF6\",\"gridcolor\":\"white\",\"linecolor\":\"white\",\"showbackground\":true,\"ticks\":\"\",\"zerolinecolor\":\"white\",\"gridwidth\":2},\"yaxis\":{\"backgroundcolor\":\"#E5ECF6\",\"gridcolor\":\"white\",\"linecolor\":\"white\",\"showbackground\":true,\"ticks\":\"\",\"zerolinecolor\":\"white\",\"gridwidth\":2},\"zaxis\":{\"backgroundcolor\":\"#E5ECF6\",\"gridcolor\":\"white\",\"linecolor\":\"white\",\"showbackground\":true,\"ticks\":\"\",\"zerolinecolor\":\"white\",\"gridwidth\":2}},\"shapedefaults\":{\"line\":{\"color\":\"#2a3f5f\"}},\"annotationdefaults\":{\"arrowcolor\":\"#2a3f5f\",\"arrowhead\":0,\"arrowwidth\":1},\"geo\":{\"bgcolor\":\"white\",\"landcolor\":\"#E5ECF6\",\"subunitcolor\":\"white\",\"showland\":true,\"showlakes\":true,\"lakecolor\":\"white\"},\"title\":{\"x\":0.05},\"mapbox\":{\"style\":\"light\"}}},\"xaxis\":{\"anchor\":\"y\",\"domain\":[0.0,1.0],\"title\":{\"text\":\"cp\"}},\"yaxis\":{\"anchor\":\"x\",\"domain\":[0.0,1.0],\"title\":{\"text\":\"count\"}},\"legend\":{\"title\":{\"text\":\"num\"},\"tracegroupgap\":0},\"margin\":{\"t\":60},\"barmode\":\"relative\"},                        {\"responsive\": true}                    ).then(function(){\n",
       "                            \n",
       "var gd = document.getElementById('38a15d73-695a-4b26-934d-e5e185cc9a99');\n",
       "var x = new MutationObserver(function (mutations, observer) {{\n",
       "        var display = window.getComputedStyle(gd).display;\n",
       "        if (!display || display === 'none') {{\n",
       "            console.log([gd, 'removed!']);\n",
       "            Plotly.purge(gd);\n",
       "            observer.disconnect();\n",
       "        }}\n",
       "}});\n",
       "\n",
       "// Listen for the removal of the full notebook cells\n",
       "var notebookContainer = gd.closest('#notebook-container');\n",
       "if (notebookContainer) {{\n",
       "    x.observe(notebookContainer, {childList: true});\n",
       "}}\n",
       "\n",
       "// Listen for the clearing of the current output cell\n",
       "var outputEl = gd.closest('.output');\n",
       "if (outputEl) {{\n",
       "    x.observe(outputEl, {childList: true});\n",
       "}}\n",
       "\n",
       "                        })                };                            </script>        </div>\n",
       "</body>\n",
       "</html>"
      ]
     },
     "metadata": {},
     "output_type": "display_data"
    }
   ],
   "source": [
    "# draw the plot of cp column grouped by num column using plotly\n",
    "fig = px.histogram(data_frame=df, x='cp', color='num')\n",
    "fig.show()"
   ]
  },
  {
   "cell_type": "markdown",
   "id": "374df21a",
   "metadata": {
    "papermill": {
     "duration": 0.018327,
     "end_time": "2025-08-22T17:49:09.706767",
     "exception": false,
     "start_time": "2025-08-22T17:49:09.688440",
     "status": "completed"
    },
    "tags": []
   },
   "source": [
    "- **Let'e explore the trestbps (resting blood pressure) column:**\n",
    "\n",
    "The normal resting blood pressure is 120/80 mm Hg.\n",
    "\n",
    "high blood pressure increasing the risk of heart disease and stroke, often asymptomatic, while low blood pressure can lead to dizziness and fainting"
   ]
  },
  {
   "cell_type": "code",
   "execution_count": 27,
   "id": "6b2d1ae6",
   "metadata": {
    "execution": {
     "iopub.execute_input": "2025-08-22T17:49:09.745302Z",
     "iopub.status.busy": "2025-08-22T17:49:09.744959Z",
     "iopub.status.idle": "2025-08-22T17:49:09.753491Z",
     "shell.execute_reply": "2025-08-22T17:49:09.752698Z"
    },
    "papermill": {
     "duration": 0.029597,
     "end_time": "2025-08-22T17:49:09.755052",
     "exception": false,
     "start_time": "2025-08-22T17:49:09.725455",
     "status": "completed"
    },
    "tags": []
   },
   "outputs": [
    {
     "data": {
      "text/plain": [
       "count    861.000000\n",
       "mean     132.132404\n",
       "std       19.066070\n",
       "min        0.000000\n",
       "25%      120.000000\n",
       "50%      130.000000\n",
       "75%      140.000000\n",
       "max      200.000000\n",
       "Name: trestbps, dtype: float64"
      ]
     },
     "execution_count": 27,
     "metadata": {},
     "output_type": "execute_result"
    }
   ],
   "source": [
    "# find the value counts of trestbps column\n",
    "df['trestbps'].describe()"
   ]
  },
  {
   "cell_type": "code",
   "execution_count": 28,
   "id": "6e3e28f6",
   "metadata": {
    "execution": {
     "iopub.execute_input": "2025-08-22T17:49:09.794320Z",
     "iopub.status.busy": "2025-08-22T17:49:09.794034Z",
     "iopub.status.idle": "2025-08-22T17:49:09.835351Z",
     "shell.execute_reply": "2025-08-22T17:49:09.834552Z"
    },
    "papermill": {
     "duration": 0.062323,
     "end_time": "2025-08-22T17:49:09.836945",
     "exception": false,
     "start_time": "2025-08-22T17:49:09.774622",
     "status": "completed"
    },
    "tags": []
   },
   "outputs": [
    {
     "data": {
      "text/html": [
       "<html>\n",
       "<head><meta charset=\"utf-8\" /></head>\n",
       "<body>\n",
       "    <div>            <script src=\"https://cdnjs.cloudflare.com/ajax/libs/mathjax/2.7.5/MathJax.js?config=TeX-AMS-MML_SVG\"></script><script type=\"text/javascript\">if (window.MathJax && window.MathJax.Hub && window.MathJax.Hub.Config) {window.MathJax.Hub.Config({SVG: {font: \"STIX-Web\"}});}</script>                <script type=\"text/javascript\">window.PlotlyConfig = {MathJaxConfig: 'local'};</script>\n",
       "        <script charset=\"utf-8\" src=\"https://cdn.plot.ly/plotly-2.35.2.min.js\"></script>                <div id=\"f3d36a35-74e7-4f0e-981d-8ce8497370e7\" class=\"plotly-graph-div\" style=\"height:525px; width:100%;\"></div>            <script type=\"text/javascript\">                                    window.PLOTLYENV=window.PLOTLYENV || {};                                    if (document.getElementById(\"f3d36a35-74e7-4f0e-981d-8ce8497370e7\")) {                    Plotly.newPlot(                        \"f3d36a35-74e7-4f0e-981d-8ce8497370e7\",                        [{\"boxmean\":true,\"marker\":{\"color\":\"green\"},\"name\":\"BP at Rest for all\",\"y\":[145.0,160.0,120.0,130.0,130.0,120.0,140.0,120.0,130.0,140.0,140.0,140.0,130.0,120.0,172.0,150.0,110.0,140.0,130.0,130.0,110.0,150.0,120.0,132.0,130.0,120.0,120.0,150.0,150.0,110.0,140.0,117.0,140.0,135.0,130.0,140.0,120.0,150.0,132.0,150.0,150.0,140.0,160.0,150.0,130.0,112.0,110.0,150.0,140.0,130.0,105.0,120.0,112.0,130.0,130.0,124.0,140.0,110.0,125.0,125.0,130.0,142.0,128.0,135.0,120.0,145.0,140.0,150.0,170.0,150.0,155.0,125.0,120.0,110.0,110.0,160.0,125.0,140.0,130.0,150.0,104.0,130.0,140.0,180.0,120.0,140.0,138.0,128.0,138.0,130.0,120.0,160.0,130.0,108.0,135.0,128.0,110.0,150.0,134.0,122.0,115.0,118.0,128.0,110.0,120.0,108.0,140.0,128.0,120.0,118.0,145.0,125.0,118.0,132.0,130.0,135.0,140.0,138.0,130.0,135.0,130.0,150.0,100.0,140.0,138.0,130.0,200.0,110.0,120.0,124.0,120.0,94.0,130.0,140.0,122.0,135.0,145.0,120.0,120.0,125.0,140.0,170.0,128.0,125.0,105.0,108.0,165.0,112.0,128.0,102.0,152.0,102.0,115.0,160.0,120.0,130.0,140.0,125.0,140.0,118.0,101.0,125.0,110.0,100.0,124.0,132.0,138.0,132.0,126.0,112.0,160.0,142.0,174.0,140.0,145.0,152.0,108.0,132.0,130.0,130.0,124.0,134.0,148.0,178.0,158.0,140.0,120.0,160.0,192.0,140.0,129.0,140.0,132.0,138.0,120.0,100.0,160.0,138.0,120.0,160.0,110.0,180.0,150.0,140.0,110.0,142.0,128.0,144.0,130.0,150.0,120.0,120.0,130.0,178.0,112.0,120.0,105.0,138.0,130.0,138.0,112.0,108.0,94.0,123.0,108.0,118.0,112.0,152.0,110.0,112.0,136.0,180.0,118.0,120.0,160.0,122.0,130.0,120.0,134.0,120.0,110.0,126.0,130.0,134.0,120.0,120.0,100.0,110.0,125.0,128.0,110.0,146.0,128.0,120.0,115.0,120.0,106.0,140.0,156.0,124.0,118.0,136.0,150.0,120.0,138.0,136.0,128.0,126.0,152.0,130.0,140.0,160.0,140.0,112.0,134.0,170.0,146.0,138.0,154.0,130.0,110.0,130.0,128.0,122.0,148.0,114.0,170.0,125.0,130.0,120.0,152.0,132.0,120.0,140.0,124.0,120.0,164.0,140.0,110.0,144.0,130.0,130.0,138.0,130.0,120.0,140.0,170.0,100.0,105.0,110.0,125.0,120.0,130.0,150.0,98.0,120.0,140.0,120.0,150.0,120.0,112.0,130.0,150.0,120.0,130.0,130.0,130.0,130.0,120.0,130.0,120.0,140.0,145.0,110.0,120.0,120.0,120.0,130.0,190.0,120.0,160.0,110.0,130.0,130.0,140.0,130.0,130.0,140.0,110.0,125.0,130.0,120.0,120.0,125.0,112.0,115.0,120.0,120.0,150.0,120.0,160.0,140.0,100.0,120.0,120.0,120.0,120.0,150.0,150.0,142.0,120.0,120.0,130.0,150.0,130.0,180.0,132.0,140.0,135.0,120.0,140.0,130.0,140.0,120.0,150.0,110.0,110.0,180.0,140.0,130.0,110.0,160.0,140.0,null,120.0,120.0,120.0,108.0,120.0,150.0,100.0,130.0,140.0,110.0,110.0,110.0,124.0,130.0,100.0,140.0,120.0,140.0,110.0,120.0,120.0,140.0,170.0,140.0,150.0,160.0,110.0,130.0,150.0,125.0,130.0,130.0,120.0,140.0,125.0,130.0,120.0,140.0,160.0,140.0,113.0,140.0,120.0,120.0,140.0,120.0,124.0,130.0,140.0,120.0,120.0,120.0,130.0,140.0,150.0,160.0,120.0,110.0,120.0,120.0,160.0,160.0,120.0,150.0,150.0,110.0,122.0,130.0,120.0,140.0,145.0,110.0,120.0,120.0,140.0,130.0,130.0,130.0,130.0,120.0,130.0,180.0,140.0,130.0,130.0,140.0,135.0,130.0,140.0,130.0,180.0,140.0,120.0,130.0,125.0,160.0,140.0,120.0,100.0,140.0,110.0,120.0,140.0,110.0,120.0,92.0,120.0,110.0,120.0,150.0,110.0,118.0,120.0,140.0,150.0,106.0,120.0,160.0,160.0,115.0,130.0,140.0,145.0,160.0,130.0,125.0,125.0,140.0,140.0,130.0,130.0,100.0,150.0,140.0,118.0,110.0,110.0,150.0,120.0,130.0,120.0,130.0,122.0,160.0,160.0,160.0,130.0,120.0,170.0,120.0,120.0,130.0,130.0,140.0,200.0,140.0,150.0,150.0,160.0,130.0,130.0,120.0,150.0,130.0,140.0,135.0,138.0,130.0,140.0,135.0,112.0,130.0,140.0,160.0,145.0,180.0,140.0,140.0,160.0,145.0,120.0,150.0,170.0,136.0,130.0,140.0,170.0,140.0,120.0,140.0,135.0,120.0,160.0,128.0,150.0,140.0,140.0,140.0,160.0,130.0,155.0,180.0,130.0,95.0,115.0,null,110.0,105.0,110.0,100.0,115.0,135.0,150.0,95.0,125.0,105.0,145.0,100.0,115.0,140.0,110.0,100.0,115.0,110.0,155.0,110.0,160.0,115.0,160.0,115.0,120.0,145.0,120.0,110.0,120.0,130.0,130.0,140.0,95.0,130.0,135.0,165.0,95.0,120.0,130.0,105.0,160.0,120.0,125.0,130.0,80.0,120.0,130.0,180.0,140.0,115.0,120.0,140.0,120.0,125.0,155.0,115.0,120.0,120.0,125.0,140.0,105.0,110.0,140.0,140.0,160.0,95.0,115.0,130.0,170.0,125.0,110.0,120.0,125.0,135.0,115.0,125.0,130.0,135.0,160.0,160.0,200.0,105.0,110.0,125.0,130.0,130.0,150.0,150.0,160.0,140.0,120.0,120.0,160.0,115.0,115.0,150.0,100.0,140.0,150.0,150.0,185.0,200.0,95.0,110.0,115.0,145.0,155.0,160.0,155.0,150.0,145.0,135.0,145.0,135.0,null,115.0,140.0,160.0,160.0,145.0,140.0,130.0,132.0,142.0,110.0,120.0,150.0,180.0,120.0,160.0,126.0,140.0,110.0,null,128.0,120.0,170.0,110.0,126.0,152.0,116.0,120.0,130.0,null,128.0,130.0,null,130.0,120.0,null,null,124.0,160.0,0.0,122.0,144.0,null,120.0,null,154.0,120.0,125.0,null,104.0,null,136.0,122.0,128.0,null,134.0,120.0,null,152.0,124.0,126.0,138.0,154.0,null,null,178.0,null,110.0,130.0,170.0,126.0,140.0,142.0,120.0,null,null,110.0,140.0,null,136.0,120.0,170.0,130.0,null,142.0,142.0,132.0,146.0,160.0,135.0,136.0,130.0,140.0,null,158.0,null,136.0,106.0,120.0,110.0,null,160.0,null,112.0,122.0,130.0,150.0,150.0,102.0,96.0,130.0,120.0,144.0,124.0,150.0,null,null,null,null,null,null,null,116.0,110.0,125.0,null,null,150.0,130.0,110.0,null,104.0,138.0,170.0,140.0,null,132.0,142.0,112.0,null,172.0,120.0,null,null,155.0,150.0,160.0,null,null,134.0,null,null,140.0,null,144.0,null,150.0,130.0,110.0,158.0,128.0,null,150.0,160.0,null,null,null,null,156.0,null,null,140.0,122.0,null,null,180.0,124.0,118.0,140.0,140.0,null,100.0,190.0,130.0,160.0,130.0,122.0,null,120.0,130.0,130.0,null,120.0,150.0,155.0,134.0,114.0,160.0,144.0,158.0,134.0,127.0,null,122.0,null,120.0],\"type\":\"box\"},{\"boxmean\":true,\"marker\":{\"color\":\"blue\"},\"name\":\"No Disease\",\"y\":[145.0,130.0,130.0,120.0,120.0,140.0,140.0,120.0,172.0,150.0,140.0,130.0,130.0,110.0,150.0,120.0,120.0,150.0,150.0,140.0,135.0,130.0,140.0,150.0,140.0,160.0,150.0,110.0,140.0,130.0,105.0,120.0,130.0,125.0,125.0,142.0,135.0,150.0,155.0,160.0,140.0,130.0,104.0,130.0,140.0,120.0,140.0,138.0,128.0,138.0,130.0,120.0,130.0,108.0,135.0,134.0,122.0,115.0,118.0,128.0,110.0,108.0,118.0,135.0,140.0,138.0,100.0,130.0,120.0,124.0,120.0,94.0,130.0,140.0,122.0,135.0,125.0,140.0,128.0,105.0,112.0,128.0,102.0,152.0,102.0,115.0,118.0,101.0,110.0,100.0,124.0,132.0,138.0,132.0,112.0,142.0,140.0,108.0,130.0,130.0,148.0,178.0,140.0,120.0,129.0,120.0,160.0,138.0,120.0,110.0,180.0,150.0,140.0,110.0,130.0,120.0,130.0,120.0,105.0,138.0,130.0,138.0,112.0,108.0,94.0,118.0,112.0,152.0,136.0,120.0,160.0,134.0,120.0,110.0,126.0,130.0,120.0,128.0,110.0,128.0,120.0,115.0,120.0,106.0,140.0,156.0,118.0,150.0,120.0,130.0,160.0,112.0,170.0,146.0,138.0,130.0,130.0,122.0,125.0,130.0,120.0,132.0,120.0,138.0,130.0,120.0,140.0,170.0,100.0,105.0,110.0,125.0,120.0,130.0,150.0,98.0,120.0,140.0,120.0,150.0,120.0,112.0,130.0,150.0,120.0,130.0,130.0,130.0,130.0,120.0,130.0,120.0,140.0,145.0,110.0,120.0,120.0,120.0,130.0,190.0,120.0,160.0,110.0,130.0,130.0,140.0,130.0,130.0,140.0,110.0,125.0,130.0,120.0,120.0,125.0,112.0,115.0,120.0,120.0,150.0,120.0,160.0,140.0,100.0,120.0,120.0,120.0,120.0,150.0,150.0,142.0,120.0,120.0,130.0,150.0,130.0,180.0,132.0,140.0,135.0,120.0,140.0,130.0,140.0,120.0,150.0,110.0,110.0,180.0,140.0,130.0,110.0,160.0,140.0,null,120.0,120.0,120.0,108.0,120.0,150.0,100.0,130.0,140.0,110.0,110.0,110.0,124.0,130.0,100.0,140.0,120.0,140.0,110.0,120.0,120.0,140.0,170.0,140.0,150.0,160.0,110.0,130.0,150.0,125.0,130.0,130.0,120.0,140.0,125.0,130.0,120.0,140.0,160.0,140.0,113.0,140.0,120.0,120.0,140.0,120.0,124.0,130.0,140.0,120.0,120.0,120.0,130.0,140.0,150.0,160.0,120.0,110.0,120.0,120.0,160.0,160.0,120.0,150.0,150.0,110.0,122.0,130.0,120.0,140.0,145.0,110.0,120.0,120.0,140.0,130.0,130.0,130.0,130.0,120.0,130.0,180.0,140.0,130.0,130.0,140.0,135.0,130.0,140.0,130.0,180.0,140.0,120.0,130.0,125.0,160.0,140.0,100.0,110.0,130.0,80.0,140.0,120.0,155.0,160.0,130.0,110.0,120.0,180.0,126.0,120.0,126.0,152.0,null,120.0,154.0,104.0,128.0,134.0,null,124.0,null,null,110.0,null,132.0,null,106.0,null,null,130.0,130.0,150.0,null,null,110.0,140.0,null,null,120.0,155.0,160.0,null,null,140.0,150.0,null,118.0,null,100.0,null,130.0,134.0,114.0,null,null],\"type\":\"box\"},{\"boxmean\":true,\"marker\":{\"color\":\"red\"},\"name\":\"Heart Disease\",\"y\":[160.0,120.0,140.0,130.0,140.0,130.0,110.0,120.0,132.0,130.0,110.0,117.0,140.0,120.0,150.0,132.0,150.0,130.0,112.0,150.0,112.0,130.0,124.0,140.0,110.0,130.0,128.0,120.0,145.0,140.0,170.0,150.0,125.0,120.0,110.0,110.0,125.0,150.0,180.0,160.0,128.0,110.0,150.0,120.0,140.0,128.0,120.0,118.0,145.0,125.0,132.0,130.0,130.0,135.0,130.0,150.0,140.0,138.0,200.0,110.0,145.0,120.0,120.0,170.0,125.0,108.0,165.0,160.0,120.0,130.0,140.0,125.0,140.0,125.0,126.0,160.0,174.0,145.0,152.0,132.0,124.0,134.0,158.0,160.0,192.0,140.0,140.0,132.0,138.0,100.0,160.0,142.0,128.0,144.0,150.0,120.0,178.0,112.0,123.0,108.0,110.0,112.0,180.0,118.0,122.0,130.0,120.0,134.0,120.0,100.0,110.0,125.0,146.0,124.0,136.0,138.0,136.0,128.0,126.0,152.0,140.0,140.0,134.0,154.0,110.0,128.0,148.0,114.0,170.0,152.0,120.0,140.0,124.0,164.0,140.0,110.0,144.0,130.0,130.0,120.0,100.0,140.0,110.0,120.0,140.0,110.0,120.0,92.0,120.0,110.0,120.0,150.0,110.0,118.0,120.0,140.0,150.0,106.0,120.0,160.0,160.0,115.0,130.0,140.0,145.0,160.0,130.0,125.0,125.0,140.0,140.0,130.0,130.0,100.0,150.0,140.0,118.0,110.0,110.0,150.0,120.0,130.0,120.0,130.0,122.0,160.0,160.0,160.0,130.0,120.0,170.0,120.0,120.0,130.0,130.0,140.0,200.0,140.0,150.0,150.0,160.0,130.0,130.0,120.0,150.0,130.0,140.0,135.0,138.0,130.0,140.0,135.0,112.0,130.0,140.0,160.0,145.0,180.0,140.0,140.0,160.0,145.0,120.0,150.0,170.0,136.0,130.0,140.0,170.0,140.0,120.0,140.0,135.0,120.0,160.0,128.0,150.0,140.0,140.0,140.0,160.0,130.0,155.0,180.0,130.0,95.0,115.0,null,110.0,105.0,110.0,115.0,135.0,150.0,95.0,125.0,105.0,145.0,100.0,115.0,140.0,100.0,115.0,110.0,155.0,110.0,160.0,115.0,160.0,115.0,120.0,145.0,120.0,110.0,120.0,130.0,130.0,140.0,95.0,130.0,135.0,165.0,95.0,120.0,105.0,160.0,120.0,125.0,130.0,120.0,130.0,180.0,115.0,120.0,140.0,125.0,155.0,115.0,120.0,120.0,125.0,140.0,105.0,110.0,140.0,140.0,160.0,95.0,115.0,130.0,170.0,125.0,110.0,120.0,125.0,135.0,115.0,125.0,130.0,135.0,160.0,160.0,200.0,105.0,110.0,125.0,130.0,130.0,150.0,150.0,160.0,140.0,120.0,120.0,160.0,115.0,115.0,150.0,100.0,140.0,150.0,150.0,185.0,200.0,95.0,110.0,115.0,145.0,160.0,155.0,150.0,145.0,135.0,145.0,135.0,null,115.0,140.0,160.0,145.0,140.0,132.0,142.0,150.0,120.0,160.0,140.0,110.0,null,128.0,170.0,110.0,116.0,120.0,130.0,128.0,130.0,null,130.0,120.0,null,null,124.0,160.0,0.0,122.0,144.0,null,null,120.0,125.0,null,null,136.0,122.0,null,120.0,152.0,126.0,138.0,154.0,null,178.0,110.0,130.0,170.0,126.0,140.0,142.0,120.0,null,null,140.0,136.0,120.0,170.0,130.0,null,142.0,142.0,146.0,160.0,135.0,136.0,130.0,140.0,158.0,null,136.0,120.0,110.0,160.0,112.0,122.0,150.0,150.0,102.0,96.0,120.0,144.0,124.0,null,null,null,null,null,116.0,110.0,125.0,null,null,150.0,130.0,null,104.0,138.0,170.0,132.0,142.0,112.0,172.0,null,null,150.0,null,null,134.0,null,144.0,null,130.0,110.0,158.0,128.0,null,150.0,160.0,null,null,null,null,156.0,null,null,140.0,122.0,null,180.0,124.0,140.0,140.0,190.0,130.0,160.0,130.0,122.0,120.0,130.0,null,120.0,150.0,155.0,160.0,144.0,158.0,134.0,127.0,122.0,120.0],\"type\":\"box\"}],                        {\"template\":{\"data\":{\"histogram2dcontour\":[{\"type\":\"histogram2dcontour\",\"colorbar\":{\"outlinewidth\":0,\"ticks\":\"\"},\"colorscale\":[[0.0,\"#0d0887\"],[0.1111111111111111,\"#46039f\"],[0.2222222222222222,\"#7201a8\"],[0.3333333333333333,\"#9c179e\"],[0.4444444444444444,\"#bd3786\"],[0.5555555555555556,\"#d8576b\"],[0.6666666666666666,\"#ed7953\"],[0.7777777777777778,\"#fb9f3a\"],[0.8888888888888888,\"#fdca26\"],[1.0,\"#f0f921\"]]}],\"choropleth\":[{\"type\":\"choropleth\",\"colorbar\":{\"outlinewidth\":0,\"ticks\":\"\"}}],\"histogram2d\":[{\"type\":\"histogram2d\",\"colorbar\":{\"outlinewidth\":0,\"ticks\":\"\"},\"colorscale\":[[0.0,\"#0d0887\"],[0.1111111111111111,\"#46039f\"],[0.2222222222222222,\"#7201a8\"],[0.3333333333333333,\"#9c179e\"],[0.4444444444444444,\"#bd3786\"],[0.5555555555555556,\"#d8576b\"],[0.6666666666666666,\"#ed7953\"],[0.7777777777777778,\"#fb9f3a\"],[0.8888888888888888,\"#fdca26\"],[1.0,\"#f0f921\"]]}],\"heatmap\":[{\"type\":\"heatmap\",\"colorbar\":{\"outlinewidth\":0,\"ticks\":\"\"},\"colorscale\":[[0.0,\"#0d0887\"],[0.1111111111111111,\"#46039f\"],[0.2222222222222222,\"#7201a8\"],[0.3333333333333333,\"#9c179e\"],[0.4444444444444444,\"#bd3786\"],[0.5555555555555556,\"#d8576b\"],[0.6666666666666666,\"#ed7953\"],[0.7777777777777778,\"#fb9f3a\"],[0.8888888888888888,\"#fdca26\"],[1.0,\"#f0f921\"]]}],\"heatmapgl\":[{\"type\":\"heatmapgl\",\"colorbar\":{\"outlinewidth\":0,\"ticks\":\"\"},\"colorscale\":[[0.0,\"#0d0887\"],[0.1111111111111111,\"#46039f\"],[0.2222222222222222,\"#7201a8\"],[0.3333333333333333,\"#9c179e\"],[0.4444444444444444,\"#bd3786\"],[0.5555555555555556,\"#d8576b\"],[0.6666666666666666,\"#ed7953\"],[0.7777777777777778,\"#fb9f3a\"],[0.8888888888888888,\"#fdca26\"],[1.0,\"#f0f921\"]]}],\"contourcarpet\":[{\"type\":\"contourcarpet\",\"colorbar\":{\"outlinewidth\":0,\"ticks\":\"\"}}],\"contour\":[{\"type\":\"contour\",\"colorbar\":{\"outlinewidth\":0,\"ticks\":\"\"},\"colorscale\":[[0.0,\"#0d0887\"],[0.1111111111111111,\"#46039f\"],[0.2222222222222222,\"#7201a8\"],[0.3333333333333333,\"#9c179e\"],[0.4444444444444444,\"#bd3786\"],[0.5555555555555556,\"#d8576b\"],[0.6666666666666666,\"#ed7953\"],[0.7777777777777778,\"#fb9f3a\"],[0.8888888888888888,\"#fdca26\"],[1.0,\"#f0f921\"]]}],\"surface\":[{\"type\":\"surface\",\"colorbar\":{\"outlinewidth\":0,\"ticks\":\"\"},\"colorscale\":[[0.0,\"#0d0887\"],[0.1111111111111111,\"#46039f\"],[0.2222222222222222,\"#7201a8\"],[0.3333333333333333,\"#9c179e\"],[0.4444444444444444,\"#bd3786\"],[0.5555555555555556,\"#d8576b\"],[0.6666666666666666,\"#ed7953\"],[0.7777777777777778,\"#fb9f3a\"],[0.8888888888888888,\"#fdca26\"],[1.0,\"#f0f921\"]]}],\"mesh3d\":[{\"type\":\"mesh3d\",\"colorbar\":{\"outlinewidth\":0,\"ticks\":\"\"}}],\"scatter\":[{\"fillpattern\":{\"fillmode\":\"overlay\",\"size\":10,\"solidity\":0.2},\"type\":\"scatter\"}],\"parcoords\":[{\"type\":\"parcoords\",\"line\":{\"colorbar\":{\"outlinewidth\":0,\"ticks\":\"\"}}}],\"scatterpolargl\":[{\"type\":\"scatterpolargl\",\"marker\":{\"colorbar\":{\"outlinewidth\":0,\"ticks\":\"\"}}}],\"bar\":[{\"error_x\":{\"color\":\"#2a3f5f\"},\"error_y\":{\"color\":\"#2a3f5f\"},\"marker\":{\"line\":{\"color\":\"#E5ECF6\",\"width\":0.5},\"pattern\":{\"fillmode\":\"overlay\",\"size\":10,\"solidity\":0.2}},\"type\":\"bar\"}],\"scattergeo\":[{\"type\":\"scattergeo\",\"marker\":{\"colorbar\":{\"outlinewidth\":0,\"ticks\":\"\"}}}],\"scatterpolar\":[{\"type\":\"scatterpolar\",\"marker\":{\"colorbar\":{\"outlinewidth\":0,\"ticks\":\"\"}}}],\"histogram\":[{\"marker\":{\"pattern\":{\"fillmode\":\"overlay\",\"size\":10,\"solidity\":0.2}},\"type\":\"histogram\"}],\"scattergl\":[{\"type\":\"scattergl\",\"marker\":{\"colorbar\":{\"outlinewidth\":0,\"ticks\":\"\"}}}],\"scatter3d\":[{\"type\":\"scatter3d\",\"line\":{\"colorbar\":{\"outlinewidth\":0,\"ticks\":\"\"}},\"marker\":{\"colorbar\":{\"outlinewidth\":0,\"ticks\":\"\"}}}],\"scattermapbox\":[{\"type\":\"scattermapbox\",\"marker\":{\"colorbar\":{\"outlinewidth\":0,\"ticks\":\"\"}}}],\"scatterternary\":[{\"type\":\"scatterternary\",\"marker\":{\"colorbar\":{\"outlinewidth\":0,\"ticks\":\"\"}}}],\"scattercarpet\":[{\"type\":\"scattercarpet\",\"marker\":{\"colorbar\":{\"outlinewidth\":0,\"ticks\":\"\"}}}],\"carpet\":[{\"aaxis\":{\"endlinecolor\":\"#2a3f5f\",\"gridcolor\":\"white\",\"linecolor\":\"white\",\"minorgridcolor\":\"white\",\"startlinecolor\":\"#2a3f5f\"},\"baxis\":{\"endlinecolor\":\"#2a3f5f\",\"gridcolor\":\"white\",\"linecolor\":\"white\",\"minorgridcolor\":\"white\",\"startlinecolor\":\"#2a3f5f\"},\"type\":\"carpet\"}],\"table\":[{\"cells\":{\"fill\":{\"color\":\"#EBF0F8\"},\"line\":{\"color\":\"white\"}},\"header\":{\"fill\":{\"color\":\"#C8D4E3\"},\"line\":{\"color\":\"white\"}},\"type\":\"table\"}],\"barpolar\":[{\"marker\":{\"line\":{\"color\":\"#E5ECF6\",\"width\":0.5},\"pattern\":{\"fillmode\":\"overlay\",\"size\":10,\"solidity\":0.2}},\"type\":\"barpolar\"}],\"pie\":[{\"automargin\":true,\"type\":\"pie\"}]},\"layout\":{\"autotypenumbers\":\"strict\",\"colorway\":[\"#636efa\",\"#EF553B\",\"#00cc96\",\"#ab63fa\",\"#FFA15A\",\"#19d3f3\",\"#FF6692\",\"#B6E880\",\"#FF97FF\",\"#FECB52\"],\"font\":{\"color\":\"#2a3f5f\"},\"hovermode\":\"closest\",\"hoverlabel\":{\"align\":\"left\"},\"paper_bgcolor\":\"white\",\"plot_bgcolor\":\"#E5ECF6\",\"polar\":{\"bgcolor\":\"#E5ECF6\",\"angularaxis\":{\"gridcolor\":\"white\",\"linecolor\":\"white\",\"ticks\":\"\"},\"radialaxis\":{\"gridcolor\":\"white\",\"linecolor\":\"white\",\"ticks\":\"\"}},\"ternary\":{\"bgcolor\":\"#E5ECF6\",\"aaxis\":{\"gridcolor\":\"white\",\"linecolor\":\"white\",\"ticks\":\"\"},\"baxis\":{\"gridcolor\":\"white\",\"linecolor\":\"white\",\"ticks\":\"\"},\"caxis\":{\"gridcolor\":\"white\",\"linecolor\":\"white\",\"ticks\":\"\"}},\"coloraxis\":{\"colorbar\":{\"outlinewidth\":0,\"ticks\":\"\"}},\"colorscale\":{\"sequential\":[[0.0,\"#0d0887\"],[0.1111111111111111,\"#46039f\"],[0.2222222222222222,\"#7201a8\"],[0.3333333333333333,\"#9c179e\"],[0.4444444444444444,\"#bd3786\"],[0.5555555555555556,\"#d8576b\"],[0.6666666666666666,\"#ed7953\"],[0.7777777777777778,\"#fb9f3a\"],[0.8888888888888888,\"#fdca26\"],[1.0,\"#f0f921\"]],\"sequentialminus\":[[0.0,\"#0d0887\"],[0.1111111111111111,\"#46039f\"],[0.2222222222222222,\"#7201a8\"],[0.3333333333333333,\"#9c179e\"],[0.4444444444444444,\"#bd3786\"],[0.5555555555555556,\"#d8576b\"],[0.6666666666666666,\"#ed7953\"],[0.7777777777777778,\"#fb9f3a\"],[0.8888888888888888,\"#fdca26\"],[1.0,\"#f0f921\"]],\"diverging\":[[0,\"#8e0152\"],[0.1,\"#c51b7d\"],[0.2,\"#de77ae\"],[0.3,\"#f1b6da\"],[0.4,\"#fde0ef\"],[0.5,\"#f7f7f7\"],[0.6,\"#e6f5d0\"],[0.7,\"#b8e186\"],[0.8,\"#7fbc41\"],[0.9,\"#4d9221\"],[1,\"#276419\"]]},\"xaxis\":{\"gridcolor\":\"white\",\"linecolor\":\"white\",\"ticks\":\"\",\"title\":{\"standoff\":15},\"zerolinecolor\":\"white\",\"automargin\":true,\"zerolinewidth\":2},\"yaxis\":{\"gridcolor\":\"white\",\"linecolor\":\"white\",\"ticks\":\"\",\"title\":{\"standoff\":15},\"zerolinecolor\":\"white\",\"automargin\":true,\"zerolinewidth\":2},\"scene\":{\"xaxis\":{\"backgroundcolor\":\"#E5ECF6\",\"gridcolor\":\"white\",\"linecolor\":\"white\",\"showbackground\":true,\"ticks\":\"\",\"zerolinecolor\":\"white\",\"gridwidth\":2},\"yaxis\":{\"backgroundcolor\":\"#E5ECF6\",\"gridcolor\":\"white\",\"linecolor\":\"white\",\"showbackground\":true,\"ticks\":\"\",\"zerolinecolor\":\"white\",\"gridwidth\":2},\"zaxis\":{\"backgroundcolor\":\"#E5ECF6\",\"gridcolor\":\"white\",\"linecolor\":\"white\",\"showbackground\":true,\"ticks\":\"\",\"zerolinecolor\":\"white\",\"gridwidth\":2}},\"shapedefaults\":{\"line\":{\"color\":\"#2a3f5f\"}},\"annotationdefaults\":{\"arrowcolor\":\"#2a3f5f\",\"arrowhead\":0,\"arrowwidth\":1},\"geo\":{\"bgcolor\":\"white\",\"landcolor\":\"#E5ECF6\",\"subunitcolor\":\"white\",\"showland\":true,\"showlakes\":true,\"lakecolor\":\"white\"},\"title\":{\"x\":0.05},\"mapbox\":{\"style\":\"light\"}}},\"title\":{\"text\":\"BP Distribution (at rest)\",\"x\":0.5},\"yaxis\":{\"title\":{\"text\":\"Blood Pressure (mm\\u002fHg)\"},\"showline\":true,\"linewidth\":2,\"linecolor\":\"black\",\"mirror\":true},\"xaxis\":{\"showline\":true,\"linewidth\":2,\"linecolor\":\"black\",\"mirror\":true}},                        {\"responsive\": true}                    ).then(function(){\n",
       "                            \n",
       "var gd = document.getElementById('f3d36a35-74e7-4f0e-981d-8ce8497370e7');\n",
       "var x = new MutationObserver(function (mutations, observer) {{\n",
       "        var display = window.getComputedStyle(gd).display;\n",
       "        if (!display || display === 'none') {{\n",
       "            console.log([gd, 'removed!']);\n",
       "            Plotly.purge(gd);\n",
       "            observer.disconnect();\n",
       "        }}\n",
       "}});\n",
       "\n",
       "// Listen for the removal of the full notebook cells\n",
       "var notebookContainer = gd.closest('#notebook-container');\n",
       "if (notebookContainer) {{\n",
       "    x.observe(notebookContainer, {childList: true});\n",
       "}}\n",
       "\n",
       "// Listen for the clearing of the current output cell\n",
       "var outputEl = gd.closest('.output');\n",
       "if (outputEl) {{\n",
       "    x.observe(outputEl, {childList: true});\n",
       "}}\n",
       "\n",
       "                        })                };                            </script>        </div>\n",
       "</body>\n",
       "</html>"
      ]
     },
     "metadata": {},
     "output_type": "display_data"
    }
   ],
   "source": [
    "# Plotting Resting Blood Pressure vs Disease\n",
    "fig = go.Figure()\n",
    "fig.add_trace(go.Box(y=df['trestbps'].values , name='BP at Rest for all', marker_color = 'green',boxmean=True))\n",
    "fig.add_trace(go.Box(y=df[df['num']== 0]['trestbps'].values, name ='No Disease', marker_color = 'blue', boxmean = True))\n",
    "fig.add_trace(go.Box(y=df[df['num'] !=0]['trestbps'].values, name ='Heart Disease', marker_color = 'red', boxmean = True))\n",
    "fig.update_layout(title = 'BP Distribution (at rest)', yaxis_title = 'Blood Pressure (mm/Hg)', title_x = 0.5)\n",
    "fig.update_xaxes(showline=True, linewidth=2, linecolor='black', mirror=True)\n",
    "fig.update_yaxes(showline=True, linewidth=2, linecolor='black', mirror=True)\n",
    "fig.show()"
   ]
  },
  {
   "cell_type": "code",
   "execution_count": 29,
   "id": "c31b8f57",
   "metadata": {
    "execution": {
     "iopub.execute_input": "2025-08-22T17:49:09.876992Z",
     "iopub.status.busy": "2025-08-22T17:49:09.876692Z",
     "iopub.status.idle": "2025-08-22T17:49:10.153105Z",
     "shell.execute_reply": "2025-08-22T17:49:10.152076Z"
    },
    "papermill": {
     "duration": 0.298527,
     "end_time": "2025-08-22T17:49:10.154847",
     "exception": false,
     "start_time": "2025-08-22T17:49:09.856320",
     "status": "completed"
    },
    "tags": []
   },
   "outputs": [
    {
     "data": {
      "text/plain": [
       "<Axes: xlabel='trestbps', ylabel='Count'>"
      ]
     },
     "execution_count": 29,
     "metadata": {},
     "output_type": "execute_result"
    },
    {
     "data": {
      "image/png": "[encoded data removed]",
      "text/plain": [
       "<Figure size 640x480 with 1 Axes>"
      ]
     },
     "metadata": {},
     "output_type": "display_data"
    }
   ],
   "source": [
    "# create a histplot of trestbps column\n",
    "sns.histplot(df['trestbps'], kde=True)"
   ]
  },
  {
   "cell_type": "markdown",
   "id": "96f27003",
   "metadata": {
    "papermill": {
     "duration": 0.019399,
     "end_time": "2025-08-22T17:49:10.194721",
     "exception": false,
     "start_time": "2025-08-22T17:49:10.175322",
     "status": "completed"
    },
    "tags": []
   },
   "source": [
    "- **Lets Explore the chol Column**\n",
    "\n",
    "What is the chol :  a fatty substance essential for body function, but elevated levels can contribute to heart disease."
   ]
  },
  {
   "cell_type": "code",
   "execution_count": 30,
   "id": "9f156b8a",
   "metadata": {
    "execution": {
     "iopub.execute_input": "2025-08-22T17:49:10.235200Z",
     "iopub.status.busy": "2025-08-22T17:49:10.234424Z",
     "iopub.status.idle": "2025-08-22T17:49:10.242647Z",
     "shell.execute_reply": "2025-08-22T17:49:10.241892Z"
    },
    "papermill": {
     "duration": 0.029601,
     "end_time": "2025-08-22T17:49:10.243937",
     "exception": false,
     "start_time": "2025-08-22T17:49:10.214336",
     "status": "completed"
    },
    "tags": []
   },
   "outputs": [
    {
     "data": {
      "text/plain": [
       "count    890.000000\n",
       "mean     199.130337\n",
       "std      110.780810\n",
       "min        0.000000\n",
       "25%      175.000000\n",
       "50%      223.000000\n",
       "75%      268.000000\n",
       "max      603.000000\n",
       "Name: chol, dtype: float64"
      ]
     },
     "execution_count": 30,
     "metadata": {},
     "output_type": "execute_result"
    }
   ],
   "source": [
    "# First we Describe Chol\n",
    "df['chol'].describe()"
   ]
  },
  {
   "cell_type": "code",
   "execution_count": 31,
   "id": "fab8b9d9",
   "metadata": {
    "execution": {
     "iopub.execute_input": "2025-08-22T17:49:10.285194Z",
     "iopub.status.busy": "2025-08-22T17:49:10.284698Z",
     "iopub.status.idle": "2025-08-22T17:49:10.446009Z",
     "shell.execute_reply": "2025-08-22T17:49:10.445223Z"
    },
    "papermill": {
     "duration": 0.183908,
     "end_time": "2025-08-22T17:49:10.447500",
     "exception": false,
     "start_time": "2025-08-22T17:49:10.263592",
     "status": "completed"
    },
    "tags": []
   },
   "outputs": [
    {
     "data": {
      "text/html": [
       "<div>\n",
       "<style scoped>\n",
       "    .dataframe tbody tr th:only-of-type {\n",
       "        vertical-align: middle;\n",
       "    }\n",
       "\n",
       "    .dataframe tbody tr th {\n",
       "        vertical-align: top;\n",
       "    }\n",
       "\n",
       "    .dataframe thead th {\n",
       "        text-align: right;\n",
       "    }\n",
       "</style>\n",
       "<table border=\"1\" class=\"dataframe\">\n",
       "  <thead>\n",
       "    <tr style=\"text-align: right;\">\n",
       "      <th>num</th>\n",
       "      <th>0</th>\n",
       "      <th>1</th>\n",
       "      <th>2</th>\n",
       "      <th>3</th>\n",
       "      <th>4</th>\n",
       "    </tr>\n",
       "  </thead>\n",
       "  <tbody>\n",
       "    <tr>\n",
       "      <th>count</th>\n",
       "      <td>217.000000</td>\n",
       "      <td>217.000000</td>\n",
       "      <td>217.000000</td>\n",
       "      <td>217.000000</td>\n",
       "      <td>217.000000</td>\n",
       "    </tr>\n",
       "    <tr>\n",
       "      <th>mean</th>\n",
       "      <td>1.806452</td>\n",
       "      <td>1.188940</td>\n",
       "      <td>0.493088</td>\n",
       "      <td>0.488479</td>\n",
       "      <td>0.124424</td>\n",
       "    </tr>\n",
       "    <tr>\n",
       "      <th>std</th>\n",
       "      <td>2.015990</td>\n",
       "      <td>4.268345</td>\n",
       "      <td>3.152189</td>\n",
       "      <td>2.619568</td>\n",
       "      <td>0.507538</td>\n",
       "    </tr>\n",
       "    <tr>\n",
       "      <th>min</th>\n",
       "      <td>0.000000</td>\n",
       "      <td>0.000000</td>\n",
       "      <td>0.000000</td>\n",
       "      <td>0.000000</td>\n",
       "      <td>0.000000</td>\n",
       "    </tr>\n",
       "    <tr>\n",
       "      <th>25%</th>\n",
       "      <td>1.000000</td>\n",
       "      <td>0.000000</td>\n",
       "      <td>0.000000</td>\n",
       "      <td>0.000000</td>\n",
       "      <td>0.000000</td>\n",
       "    </tr>\n",
       "    <tr>\n",
       "      <th>50%</th>\n",
       "      <td>1.000000</td>\n",
       "      <td>1.000000</td>\n",
       "      <td>0.000000</td>\n",
       "      <td>0.000000</td>\n",
       "      <td>0.000000</td>\n",
       "    </tr>\n",
       "    <tr>\n",
       "      <th>75%</th>\n",
       "      <td>2.000000</td>\n",
       "      <td>1.000000</td>\n",
       "      <td>0.000000</td>\n",
       "      <td>1.000000</td>\n",
       "      <td>0.000000</td>\n",
       "    </tr>\n",
       "    <tr>\n",
       "      <th>max</th>\n",
       "      <td>20.000000</td>\n",
       "      <td>62.000000</td>\n",
       "      <td>46.000000</td>\n",
       "      <td>38.000000</td>\n",
       "      <td>6.000000</td>\n",
       "    </tr>\n",
       "  </tbody>\n",
       "</table>\n",
       "</div>"
      ],
      "text/plain": [
       "num             0           1           2           3           4\n",
       "count  217.000000  217.000000  217.000000  217.000000  217.000000\n",
       "mean     1.806452    1.188940    0.493088    0.488479    0.124424\n",
       "std      2.015990    4.268345    3.152189    2.619568    0.507538\n",
       "min      0.000000    0.000000    0.000000    0.000000    0.000000\n",
       "25%      1.000000    0.000000    0.000000    0.000000    0.000000\n",
       "50%      1.000000    1.000000    0.000000    0.000000    0.000000\n",
       "75%      2.000000    1.000000    0.000000    1.000000    0.000000\n",
       "max     20.000000   62.000000   46.000000   38.000000    6.000000"
      ]
     },
     "execution_count": 31,
     "metadata": {},
     "output_type": "execute_result"
    }
   ],
   "source": [
    "# Cross Tab of chol and num\n",
    "cross = pd.crosstab(df['chol'], df['num']).describe()\n",
    "cross"
   ]
  },
  {
   "cell_type": "code",
   "execution_count": 32,
   "id": "3be7f799",
   "metadata": {
    "execution": {
     "iopub.execute_input": "2025-08-22T17:49:10.490205Z",
     "iopub.status.busy": "2025-08-22T17:49:10.489909Z",
     "iopub.status.idle": "2025-08-22T17:49:10.605970Z",
     "shell.execute_reply": "2025-08-22T17:49:10.605005Z"
    },
    "papermill": {
     "duration": 0.139264,
     "end_time": "2025-08-22T17:49:10.607285",
     "exception": false,
     "start_time": "2025-08-22T17:49:10.468021",
     "status": "completed"
    },
    "tags": []
   },
   "outputs": [
    {
     "data": {
      "text/plain": [
       "<Axes: ylabel='chol'>"
      ]
     },
     "execution_count": 32,
     "metadata": {},
     "output_type": "execute_result"
    },
    {
     "data": {
      "image/png": "[encoded data removed]",
      "text/plain": [
       "<Figure size 640x480 with 1 Axes>"
      ]
     },
     "metadata": {},
     "output_type": "display_data"
    }
   ],
   "source": [
    "sns.boxplot(y=df['chol'], hue=df['num'])"
   ]
  },
  {
   "cell_type": "code",
   "execution_count": 33,
   "id": "70993d32",
   "metadata": {
    "execution": {
     "iopub.execute_input": "2025-08-22T17:49:10.650455Z",
     "iopub.status.busy": "2025-08-22T17:49:10.650159Z",
     "iopub.status.idle": "2025-08-22T17:49:10.683142Z",
     "shell.execute_reply": "2025-08-22T17:49:10.682368Z"
    },
    "papermill": {
     "duration": 0.055815,
     "end_time": "2025-08-22T17:49:10.684740",
     "exception": false,
     "start_time": "2025-08-22T17:49:10.628925",
     "status": "completed"
    },
    "tags": []
   },
   "outputs": [
    {
     "data": {
      "text/html": [
       "<html>\n",
       "<head><meta charset=\"utf-8\" /></head>\n",
       "<body>\n",
       "    <div>            <script src=\"https://cdnjs.cloudflare.com/ajax/libs/mathjax/2.7.5/MathJax.js?config=TeX-AMS-MML_SVG\"></script><script type=\"text/javascript\">if (window.MathJax && window.MathJax.Hub && window.MathJax.Hub.Config) {window.MathJax.Hub.Config({SVG: {font: \"STIX-Web\"}});}</script>                <script type=\"text/javascript\">window.PlotlyConfig = {MathJaxConfig: 'local'};</script>\n",
       "        <script charset=\"utf-8\" src=\"https://cdn.plot.ly/plotly-2.35.2.min.js\"></script>                <div id=\"a1d7fe1e-cc9c-45af-9797-4fdbd69e396e\" class=\"plotly-graph-div\" style=\"height:525px; width:100%;\"></div>            <script type=\"text/javascript\">                                    window.PLOTLYENV=window.PLOTLYENV || {};                                    if (document.getElementById(\"a1d7fe1e-cc9c-45af-9797-4fdbd69e396e\")) {                    Plotly.newPlot(                        \"a1d7fe1e-cc9c-45af-9797-4fdbd69e396e\",                        [{\"marker\":{\"color\":\"green\"},\"name\":\"All Patient\",\"y\":[233.0,286.0,229.0,250.0,204.0,236.0,268.0,354.0,254.0,203.0,192.0,294.0,256.0,263.0,199.0,168.0,229.0,239.0,275.0,266.0,211.0,283.0,284.0,224.0,206.0,219.0,340.0,226.0,247.0,167.0,239.0,230.0,335.0,234.0,233.0,226.0,177.0,276.0,353.0,243.0,225.0,199.0,302.0,212.0,330.0,230.0,175.0,243.0,417.0,197.0,198.0,177.0,290.0,219.0,253.0,266.0,233.0,172.0,273.0,213.0,305.0,177.0,216.0,304.0,188.0,282.0,185.0,232.0,326.0,231.0,269.0,254.0,267.0,248.0,197.0,360.0,258.0,308.0,245.0,270.0,208.0,264.0,321.0,274.0,325.0,235.0,257.0,216.0,234.0,256.0,302.0,164.0,231.0,141.0,252.0,255.0,239.0,258.0,201.0,222.0,260.0,182.0,303.0,265.0,188.0,309.0,177.0,229.0,260.0,219.0,307.0,249.0,186.0,341.0,263.0,203.0,211.0,183.0,330.0,254.0,256.0,407.0,222.0,217.0,282.0,234.0,288.0,239.0,220.0,209.0,258.0,227.0,204.0,261.0,213.0,250.0,174.0,281.0,198.0,245.0,221.0,288.0,205.0,309.0,240.0,243.0,289.0,250.0,308.0,318.0,298.0,265.0,564.0,289.0,246.0,322.0,299.0,300.0,293.0,277.0,197.0,304.0,214.0,248.0,255.0,207.0,223.0,288.0,282.0,160.0,269.0,226.0,249.0,394.0,212.0,274.0,233.0,184.0,315.0,246.0,274.0,409.0,244.0,270.0,305.0,195.0,240.0,246.0,283.0,254.0,196.0,298.0,247.0,294.0,211.0,299.0,234.0,236.0,244.0,273.0,254.0,325.0,126.0,313.0,211.0,309.0,259.0,200.0,262.0,244.0,215.0,231.0,214.0,228.0,230.0,193.0,204.0,243.0,303.0,271.0,268.0,267.0,199.0,282.0,269.0,210.0,204.0,277.0,206.0,212.0,196.0,327.0,149.0,269.0,201.0,286.0,283.0,249.0,271.0,295.0,235.0,306.0,269.0,234.0,178.0,237.0,234.0,275.0,212.0,208.0,201.0,218.0,263.0,295.0,303.0,209.0,223.0,197.0,245.0,261.0,242.0,319.0,240.0,226.0,166.0,315.0,204.0,218.0,223.0,180.0,207.0,228.0,311.0,149.0,204.0,227.0,278.0,220.0,232.0,197.0,335.0,253.0,205.0,192.0,203.0,318.0,225.0,220.0,221.0,240.0,212.0,342.0,169.0,187.0,197.0,157.0,176.0,241.0,264.0,193.0,131.0,236.0,175.0,132.0,243.0,null,237.0,219.0,198.0,225.0,254.0,298.0,161.0,214.0,220.0,160.0,167.0,308.0,264.0,166.0,340.0,209.0,160.0,260.0,211.0,173.0,283.0,194.0,223.0,315.0,275.0,297.0,292.0,182.0,null,200.0,204.0,null,241.0,339.0,147.0,273.0,307.0,275.0,289.0,215.0,281.0,null,250.0,184.0,245.0,291.0,295.0,269.0,250.0,211.0,196.0,198.0,268.0,228.0,147.0,358.0,223.0,201.0,215.0,249.0,266.0,186.0,null,207.0,218.0,184.0,215.0,412.0,237.0,null,297.0,224.0,null,225.0,224.0,238.0,275.0,230.0,163.0,238.0,240.0,280.0,257.0,null,249.0,263.0,276.0,308.0,null,284.0,195.0,163.0,254.0,227.0,null,245.0,238.0,211.0,null,null,201.0,207.0,253.0,187.0,297.0,null,202.0,328.0,168.0,216.0,209.0,129.0,215.0,194.0,190.0,220.0,200.0,188.0,224.0,179.0,210.0,null,272.0,180.0,284.0,100.0,196.0,259.0,468.0,216.0,274.0,null,320.0,195.0,260.0,182.0,243.0,221.0,230.0,273.0,253.0,309.0,230.0,312.0,171.0,208.0,238.0,246.0,195.0,305.0,217.0,null,365.0,344.0,320.0,394.0,256.0,196.0,326.0,277.0,220.0,270.0,229.0,219.0,184.0,null,276.0,85.0,308.0,347.0,260.0,230.0,251.0,179.0,222.0,188.0,287.0,318.0,213.0,null,246.0,294.0,292.0,193.0,271.0,270.0,246.0,156.0,257.0,267.0,207.0,196.0,282.0,117.0,466.0,289.0,237.0,247.0,202.0,186.0,277.0,193.0,226.0,263.0,260.0,268.0,180.0,265.0,206.0,288.0,264.0,303.0,225.0,216.0,224.0,201.0,265.0,213.0,338.0,248.0,223.0,306.0,529.0,null,280.0,392.0,291.0,219.0,231.0,222.0,275.0,193.0,329.0,355.0,233.0,182.0,null,246.0,237.0,242.0,603.0,null,198.0,268.0,213.0,255.0,211.0,263.0,172.0,175.0,288.0,290.0,272.0,248.0,214.0,341.0,234.0,160.0,342.0,298.0,404.0,246.0,518.0,285.0,216.0,295.0,292.0,248.0,279.0,230.0,388.0,164.0,null,264.0,263.0,null,336.0,288.0,491.0,205.0,291.0,212.0,222.0,231.0,341.0,266.0,331.0,294.0,342.0,393.0,275.0,0.0,0.0,0.0,0.0,0.0,0.0,0.0,0.0,0.0,0.0,0.0,0.0,0.0,0.0,0.0,0.0,0.0,0.0,0.0,0.0,0.0,0.0,0.0,0.0,0.0,0.0,0.0,0.0,0.0,0.0,0.0,0.0,0.0,0.0,0.0,0.0,0.0,0.0,0.0,0.0,0.0,0.0,0.0,0.0,0.0,0.0,0.0,0.0,0.0,0.0,0.0,0.0,0.0,0.0,0.0,0.0,0.0,0.0,0.0,0.0,0.0,0.0,0.0,0.0,0.0,0.0,0.0,0.0,0.0,0.0,0.0,0.0,0.0,0.0,0.0,0.0,0.0,0.0,0.0,0.0,0.0,0.0,0.0,0.0,0.0,0.0,0.0,0.0,0.0,0.0,0.0,0.0,0.0,0.0,0.0,0.0,0.0,0.0,0.0,0.0,0.0,0.0,0.0,0.0,0.0,0.0,0.0,0.0,0.0,0.0,0.0,0.0,0.0,0.0,0.0,0.0,0.0,0.0,0.0,0.0,0.0,0.0,0.0,260.0,209.0,218.0,228.0,213.0,0.0,236.0,0.0,0.0,267.0,166.0,0.0,0.0,0.0,0.0,220.0,177.0,236.0,0.0,0.0,0.0,0.0,0.0,0.0,0.0,0.0,0.0,186.0,100.0,228.0,0.0,171.0,230.0,0.0,0.0,0.0,281.0,0.0,203.0,0.0,0.0,0.0,0.0,0.0,277.0,0.0,233.0,0.0,0.0,240.0,0.0,0.0,153.0,224.0,0.0,0.0,0.0,316.0,0.0,0.0,218.0,0.0,311.0,0.0,0.0,0.0,270.0,0.0,0.0,217.0,214.0,214.0,252.0,220.0,214.0,203.0,0.0,339.0,216.0,276.0,458.0,241.0,384.0,297.0,248.0,308.0,208.0,227.0,210.0,245.0,225.0,240.0,0.0,198.0,195.0,267.0,161.0,258.0,0.0,0.0,195.0,235.0,0.0,305.0,223.0,282.0,349.0,null,160.0,236.0,312.0,283.0,142.0,211.0,218.0,306.0,186.0,252.0,222.0,0.0,0.0,258.0,202.0,197.0,204.0,null,274.0,192.0,298.0,272.0,220.0,200.0,261.0,181.0,260.0,220.0,221.0,216.0,175.0,219.0,310.0,208.0,232.0,273.0,203.0,182.0,274.0,204.0,270.0,292.0,171.0,221.0,289.0,217.0,223.0,null,193.0,null,210.0,282.0,170.0,369.0,173.0,289.0,null,null,216.0,271.0,244.0,285.0,243.0,240.0,219.0,237.0,165.0,213.0,287.0,258.0,256.0,186.0,264.0,null,226.0,203.0,207.0,284.0,337.0,219.0,310.0,254.0,258.0,254.0,300.0,170.0,310.0,333.0,139.0,223.0,385.0,254.0],\"type\":\"violin\"},{\"marker\":{\"color\":\"blue\"},\"name\":\"No Disease\",\"y\":[233.0,250.0,204.0,236.0,354.0,192.0,294.0,263.0,199.0,168.0,239.0,275.0,266.0,211.0,283.0,219.0,340.0,226.0,247.0,239.0,234.0,233.0,226.0,243.0,199.0,302.0,212.0,175.0,417.0,197.0,198.0,177.0,219.0,273.0,213.0,177.0,304.0,232.0,269.0,360.0,308.0,245.0,208.0,264.0,321.0,325.0,235.0,257.0,216.0,234.0,256.0,302.0,231.0,141.0,252.0,201.0,222.0,260.0,182.0,303.0,265.0,309.0,186.0,203.0,211.0,183.0,222.0,234.0,220.0,209.0,258.0,227.0,204.0,261.0,213.0,250.0,245.0,221.0,205.0,240.0,250.0,308.0,318.0,298.0,265.0,564.0,277.0,197.0,214.0,248.0,255.0,207.0,223.0,288.0,160.0,226.0,394.0,233.0,315.0,246.0,244.0,270.0,195.0,240.0,196.0,211.0,234.0,236.0,244.0,254.0,325.0,126.0,313.0,211.0,262.0,215.0,214.0,193.0,204.0,243.0,303.0,271.0,268.0,267.0,199.0,210.0,204.0,277.0,196.0,269.0,201.0,271.0,295.0,235.0,306.0,269.0,178.0,208.0,201.0,263.0,295.0,303.0,209.0,223.0,197.0,245.0,242.0,240.0,226.0,180.0,228.0,149.0,227.0,278.0,220.0,197.0,253.0,192.0,220.0,221.0,240.0,342.0,157.0,175.0,132.0,243.0,null,237.0,219.0,198.0,225.0,254.0,298.0,161.0,214.0,220.0,160.0,167.0,308.0,264.0,166.0,340.0,209.0,160.0,260.0,211.0,173.0,283.0,194.0,223.0,315.0,275.0,297.0,292.0,182.0,null,200.0,204.0,null,241.0,339.0,147.0,273.0,307.0,275.0,289.0,215.0,281.0,null,250.0,184.0,245.0,291.0,295.0,269.0,250.0,211.0,196.0,198.0,268.0,228.0,147.0,358.0,223.0,201.0,215.0,249.0,266.0,186.0,null,207.0,218.0,184.0,215.0,412.0,237.0,null,297.0,224.0,null,225.0,224.0,238.0,275.0,230.0,163.0,238.0,240.0,280.0,257.0,null,249.0,263.0,276.0,308.0,null,284.0,195.0,163.0,254.0,227.0,null,245.0,238.0,211.0,null,null,201.0,207.0,253.0,187.0,297.0,null,202.0,328.0,168.0,216.0,209.0,129.0,215.0,194.0,190.0,220.0,200.0,188.0,224.0,179.0,210.0,null,272.0,180.0,284.0,100.0,196.0,259.0,468.0,216.0,274.0,null,320.0,195.0,260.0,182.0,243.0,221.0,230.0,273.0,253.0,309.0,230.0,312.0,171.0,208.0,238.0,246.0,195.0,305.0,217.0,null,365.0,344.0,320.0,394.0,256.0,196.0,326.0,277.0,220.0,270.0,229.0,219.0,184.0,null,276.0,85.0,308.0,347.0,260.0,230.0,251.0,179.0,222.0,188.0,287.0,318.0,213.0,null,246.0,294.0,292.0,193.0,271.0,0.0,0.0,0.0,0.0,0.0,0.0,0.0,0.0,209.0,213.0,0.0,0.0,166.0,220.0,0.0,0.0,0.0,0.0,0.0,0.0,0.0,240.0,0.0,224.0,0.0,218.0,214.0,252.0,458.0,227.0,240.0,195.0,161.0,0.0,223.0,160.0,236.0,283.0,197.0,298.0,272.0,181.0,220.0,175.0,310.0,203.0,182.0,274.0,171.0,271.0,240.0,165.0,213.0,null,207.0,254.0,258.0,139.0,385.0],\"type\":\"violin\"},{\"marker\":{\"color\":\"red\"},\"name\":\"Heart Disease\",\"y\":[206.0,225.0,230.0,243.0,407.0,174.0,289.0,289.0,304.0,212.0,231.0,166.0,318.0,0.0,0.0,0.0,0.0,0.0,177.0,277.0,0.0,248.0,null,208.0,273.0,170.0,287.0,254.0],\"type\":\"violin\"}],                        {\"template\":{\"data\":{\"histogram2dcontour\":[{\"type\":\"histogram2dcontour\",\"colorbar\":{\"outlinewidth\":0,\"ticks\":\"\"},\"colorscale\":[[0.0,\"#0d0887\"],[0.1111111111111111,\"#46039f\"],[0.2222222222222222,\"#7201a8\"],[0.3333333333333333,\"#9c179e\"],[0.4444444444444444,\"#bd3786\"],[0.5555555555555556,\"#d8576b\"],[0.6666666666666666,\"#ed7953\"],[0.7777777777777778,\"#fb9f3a\"],[0.8888888888888888,\"#fdca26\"],[1.0,\"#f0f921\"]]}],\"choropleth\":[{\"type\":\"choropleth\",\"colorbar\":{\"outlinewidth\":0,\"ticks\":\"\"}}],\"histogram2d\":[{\"type\":\"histogram2d\",\"colorbar\":{\"outlinewidth\":0,\"ticks\":\"\"},\"colorscale\":[[0.0,\"#0d0887\"],[0.1111111111111111,\"#46039f\"],[0.2222222222222222,\"#7201a8\"],[0.3333333333333333,\"#9c179e\"],[0.4444444444444444,\"#bd3786\"],[0.5555555555555556,\"#d8576b\"],[0.6666666666666666,\"#ed7953\"],[0.7777777777777778,\"#fb9f3a\"],[0.8888888888888888,\"#fdca26\"],[1.0,\"#f0f921\"]]}],\"heatmap\":[{\"type\":\"heatmap\",\"colorbar\":{\"outlinewidth\":0,\"ticks\":\"\"},\"colorscale\":[[0.0,\"#0d0887\"],[0.1111111111111111,\"#46039f\"],[0.2222222222222222,\"#7201a8\"],[0.3333333333333333,\"#9c179e\"],[0.4444444444444444,\"#bd3786\"],[0.5555555555555556,\"#d8576b\"],[0.6666666666666666,\"#ed7953\"],[0.7777777777777778,\"#fb9f3a\"],[0.8888888888888888,\"#fdca26\"],[1.0,\"#f0f921\"]]}],\"heatmapgl\":[{\"type\":\"heatmapgl\",\"colorbar\":{\"outlinewidth\":0,\"ticks\":\"\"},\"colorscale\":[[0.0,\"#0d0887\"],[0.1111111111111111,\"#46039f\"],[0.2222222222222222,\"#7201a8\"],[0.3333333333333333,\"#9c179e\"],[0.4444444444444444,\"#bd3786\"],[0.5555555555555556,\"#d8576b\"],[0.6666666666666666,\"#ed7953\"],[0.7777777777777778,\"#fb9f3a\"],[0.8888888888888888,\"#fdca26\"],[1.0,\"#f0f921\"]]}],\"contourcarpet\":[{\"type\":\"contourcarpet\",\"colorbar\":{\"outlinewidth\":0,\"ticks\":\"\"}}],\"contour\":[{\"type\":\"contour\",\"colorbar\":{\"outlinewidth\":0,\"ticks\":\"\"},\"colorscale\":[[0.0,\"#0d0887\"],[0.1111111111111111,\"#46039f\"],[0.2222222222222222,\"#7201a8\"],[0.3333333333333333,\"#9c179e\"],[0.4444444444444444,\"#bd3786\"],[0.5555555555555556,\"#d8576b\"],[0.6666666666666666,\"#ed7953\"],[0.7777777777777778,\"#fb9f3a\"],[0.8888888888888888,\"#fdca26\"],[1.0,\"#f0f921\"]]}],\"surface\":[{\"type\":\"surface\",\"colorbar\":{\"outlinewidth\":0,\"ticks\":\"\"},\"colorscale\":[[0.0,\"#0d0887\"],[0.1111111111111111,\"#46039f\"],[0.2222222222222222,\"#7201a8\"],[0.3333333333333333,\"#9c179e\"],[0.4444444444444444,\"#bd3786\"],[0.5555555555555556,\"#d8576b\"],[0.6666666666666666,\"#ed7953\"],[0.7777777777777778,\"#fb9f3a\"],[0.8888888888888888,\"#fdca26\"],[1.0,\"#f0f921\"]]}],\"mesh3d\":[{\"type\":\"mesh3d\",\"colorbar\":{\"outlinewidth\":0,\"ticks\":\"\"}}],\"scatter\":[{\"fillpattern\":{\"fillmode\":\"overlay\",\"size\":10,\"solidity\":0.2},\"type\":\"scatter\"}],\"parcoords\":[{\"type\":\"parcoords\",\"line\":{\"colorbar\":{\"outlinewidth\":0,\"ticks\":\"\"}}}],\"scatterpolargl\":[{\"type\":\"scatterpolargl\",\"marker\":{\"colorbar\":{\"outlinewidth\":0,\"ticks\":\"\"}}}],\"bar\":[{\"error_x\":{\"color\":\"#2a3f5f\"},\"error_y\":{\"color\":\"#2a3f5f\"},\"marker\":{\"line\":{\"color\":\"#E5ECF6\",\"width\":0.5},\"pattern\":{\"fillmode\":\"overlay\",\"size\":10,\"solidity\":0.2}},\"type\":\"bar\"}],\"scattergeo\":[{\"type\":\"scattergeo\",\"marker\":{\"colorbar\":{\"outlinewidth\":0,\"ticks\":\"\"}}}],\"scatterpolar\":[{\"type\":\"scatterpolar\",\"marker\":{\"colorbar\":{\"outlinewidth\":0,\"ticks\":\"\"}}}],\"histogram\":[{\"marker\":{\"pattern\":{\"fillmode\":\"overlay\",\"size\":10,\"solidity\":0.2}},\"type\":\"histogram\"}],\"scattergl\":[{\"type\":\"scattergl\",\"marker\":{\"colorbar\":{\"outlinewidth\":0,\"ticks\":\"\"}}}],\"scatter3d\":[{\"type\":\"scatter3d\",\"line\":{\"colorbar\":{\"outlinewidth\":0,\"ticks\":\"\"}},\"marker\":{\"colorbar\":{\"outlinewidth\":0,\"ticks\":\"\"}}}],\"scattermapbox\":[{\"type\":\"scattermapbox\",\"marker\":{\"colorbar\":{\"outlinewidth\":0,\"ticks\":\"\"}}}],\"scatterternary\":[{\"type\":\"scatterternary\",\"marker\":{\"colorbar\":{\"outlinewidth\":0,\"ticks\":\"\"}}}],\"scattercarpet\":[{\"type\":\"scattercarpet\",\"marker\":{\"colorbar\":{\"outlinewidth\":0,\"ticks\":\"\"}}}],\"carpet\":[{\"aaxis\":{\"endlinecolor\":\"#2a3f5f\",\"gridcolor\":\"white\",\"linecolor\":\"white\",\"minorgridcolor\":\"white\",\"startlinecolor\":\"#2a3f5f\"},\"baxis\":{\"endlinecolor\":\"#2a3f5f\",\"gridcolor\":\"white\",\"linecolor\":\"white\",\"minorgridcolor\":\"white\",\"startlinecolor\":\"#2a3f5f\"},\"type\":\"carpet\"}],\"table\":[{\"cells\":{\"fill\":{\"color\":\"#EBF0F8\"},\"line\":{\"color\":\"white\"}},\"header\":{\"fill\":{\"color\":\"#C8D4E3\"},\"line\":{\"color\":\"white\"}},\"type\":\"table\"}],\"barpolar\":[{\"marker\":{\"line\":{\"color\":\"#E5ECF6\",\"width\":0.5},\"pattern\":{\"fillmode\":\"overlay\",\"size\":10,\"solidity\":0.2}},\"type\":\"barpolar\"}],\"pie\":[{\"automargin\":true,\"type\":\"pie\"}]},\"layout\":{\"autotypenumbers\":\"strict\",\"colorway\":[\"#636efa\",\"#EF553B\",\"#00cc96\",\"#ab63fa\",\"#FFA15A\",\"#19d3f3\",\"#FF6692\",\"#B6E880\",\"#FF97FF\",\"#FECB52\"],\"font\":{\"color\":\"#2a3f5f\"},\"hovermode\":\"closest\",\"hoverlabel\":{\"align\":\"left\"},\"paper_bgcolor\":\"white\",\"plot_bgcolor\":\"#E5ECF6\",\"polar\":{\"bgcolor\":\"#E5ECF6\",\"angularaxis\":{\"gridcolor\":\"white\",\"linecolor\":\"white\",\"ticks\":\"\"},\"radialaxis\":{\"gridcolor\":\"white\",\"linecolor\":\"white\",\"ticks\":\"\"}},\"ternary\":{\"bgcolor\":\"#E5ECF6\",\"aaxis\":{\"gridcolor\":\"white\",\"linecolor\":\"white\",\"ticks\":\"\"},\"baxis\":{\"gridcolor\":\"white\",\"linecolor\":\"white\",\"ticks\":\"\"},\"caxis\":{\"gridcolor\":\"white\",\"linecolor\":\"white\",\"ticks\":\"\"}},\"coloraxis\":{\"colorbar\":{\"outlinewidth\":0,\"ticks\":\"\"}},\"colorscale\":{\"sequential\":[[0.0,\"#0d0887\"],[0.1111111111111111,\"#46039f\"],[0.2222222222222222,\"#7201a8\"],[0.3333333333333333,\"#9c179e\"],[0.4444444444444444,\"#bd3786\"],[0.5555555555555556,\"#d8576b\"],[0.6666666666666666,\"#ed7953\"],[0.7777777777777778,\"#fb9f3a\"],[0.8888888888888888,\"#fdca26\"],[1.0,\"#f0f921\"]],\"sequentialminus\":[[0.0,\"#0d0887\"],[0.1111111111111111,\"#46039f\"],[0.2222222222222222,\"#7201a8\"],[0.3333333333333333,\"#9c179e\"],[0.4444444444444444,\"#bd3786\"],[0.5555555555555556,\"#d8576b\"],[0.6666666666666666,\"#ed7953\"],[0.7777777777777778,\"#fb9f3a\"],[0.8888888888888888,\"#fdca26\"],[1.0,\"#f0f921\"]],\"diverging\":[[0,\"#8e0152\"],[0.1,\"#c51b7d\"],[0.2,\"#de77ae\"],[0.3,\"#f1b6da\"],[0.4,\"#fde0ef\"],[0.5,\"#f7f7f7\"],[0.6,\"#e6f5d0\"],[0.7,\"#b8e186\"],[0.8,\"#7fbc41\"],[0.9,\"#4d9221\"],[1,\"#276419\"]]},\"xaxis\":{\"gridcolor\":\"white\",\"linecolor\":\"white\",\"ticks\":\"\",\"title\":{\"standoff\":15},\"zerolinecolor\":\"white\",\"automargin\":true,\"zerolinewidth\":2},\"yaxis\":{\"gridcolor\":\"white\",\"linecolor\":\"white\",\"ticks\":\"\",\"title\":{\"standoff\":15},\"zerolinecolor\":\"white\",\"automargin\":true,\"zerolinewidth\":2},\"scene\":{\"xaxis\":{\"backgroundcolor\":\"#E5ECF6\",\"gridcolor\":\"white\",\"linecolor\":\"white\",\"showbackground\":true,\"ticks\":\"\",\"zerolinecolor\":\"white\",\"gridwidth\":2},\"yaxis\":{\"backgroundcolor\":\"#E5ECF6\",\"gridcolor\":\"white\",\"linecolor\":\"white\",\"showbackground\":true,\"ticks\":\"\",\"zerolinecolor\":\"white\",\"gridwidth\":2},\"zaxis\":{\"backgroundcolor\":\"#E5ECF6\",\"gridcolor\":\"white\",\"linecolor\":\"white\",\"showbackground\":true,\"ticks\":\"\",\"zerolinecolor\":\"white\",\"gridwidth\":2}},\"shapedefaults\":{\"line\":{\"color\":\"#2a3f5f\"}},\"annotationdefaults\":{\"arrowcolor\":\"#2a3f5f\",\"arrowhead\":0,\"arrowwidth\":1},\"geo\":{\"bgcolor\":\"white\",\"landcolor\":\"#E5ECF6\",\"subunitcolor\":\"white\",\"showland\":true,\"showlakes\":true,\"lakecolor\":\"white\"},\"title\":{\"x\":0.05},\"mapbox\":{\"style\":\"light\"}}},\"title\":{\"text\":\"Cholesterol Level Distribution\",\"x\":0.5},\"yaxis\":{\"title\":{\"text\":\"Cholesterol Level\"},\"showline\":true,\"linewidth\":2,\"linecolor\":\"black\",\"mirror\":true},\"xaxis\":{\"showline\":true,\"linewidth\":2,\"linecolor\":\"black\",\"mirror\":true}},                        {\"responsive\": true}                    ).then(function(){\n",
       "                            \n",
       "var gd = document.getElementById('a1d7fe1e-cc9c-45af-9797-4fdbd69e396e');\n",
       "var x = new MutationObserver(function (mutations, observer) {{\n",
       "        var display = window.getComputedStyle(gd).display;\n",
       "        if (!display || display === 'none') {{\n",
       "            console.log([gd, 'removed!']);\n",
       "            Plotly.purge(gd);\n",
       "            observer.disconnect();\n",
       "        }}\n",
       "}});\n",
       "\n",
       "// Listen for the removal of the full notebook cells\n",
       "var notebookContainer = gd.closest('#notebook-container');\n",
       "if (notebookContainer) {{\n",
       "    x.observe(notebookContainer, {childList: true});\n",
       "}}\n",
       "\n",
       "// Listen for the clearing of the current output cell\n",
       "var outputEl = gd.closest('.output');\n",
       "if (outputEl) {{\n",
       "    x.observe(outputEl, {childList: true});\n",
       "}}\n",
       "\n",
       "                        })                };                            </script>        </div>\n",
       "</body>\n",
       "</html>"
      ]
     },
     "metadata": {},
     "output_type": "display_data"
    }
   ],
   "source": [
    "# draw the plot of chol column grouped by num column using plotly\n",
    "fig = go.Figure()\n",
    "fig.add_trace(go.Violin(y=df['chol'].values , name='All Patient', marker_color = 'green'))\n",
    "fig.add_trace(go.Violin(y=df[df['num']== 0]['chol'].values, name ='No Disease', marker_color = 'blue'))\n",
    "fig.add_trace(go.Violin(y=df[df['num'] == 4]['chol'].values, name ='Heart Disease', marker_color = 'red'))\n",
    "fig.update_layout(title = 'Cholesterol Level Distribution', yaxis_title = 'Cholesterol Level', title_x = 0.5 )\n",
    "fig.update_xaxes(showline=True, linewidth=2, linecolor='black', mirror=True)\n",
    "fig.update_yaxes(showline=True, linewidth=2, linecolor='black', mirror=True)\n",
    "fig.show()"
   ]
  },
  {
   "cell_type": "markdown",
   "id": "9921fa3d",
   "metadata": {
    "papermill": {
     "duration": 0.020256,
     "end_time": "2025-08-22T17:49:10.726064",
     "exception": false,
     "start_time": "2025-08-22T17:49:10.705808",
     "status": "completed"
    },
    "tags": []
   },
   "source": [
    "- **Lets Explore Thal ( Thalesmia)**\n",
    "\n",
    "    Normal: Within expected or healthy parameters.\n",
    "\n",
    "    Reversible Defect: An abnormality that can potentially be corrected or improved.\n",
    "\n",
    "    Fixed Defect: An abnormality that is unlikely to change or be corrected."
   ]
  },
  {
   "cell_type": "code",
   "execution_count": 34,
   "id": "3414a60a",
   "metadata": {
    "execution": {
     "iopub.execute_input": "2025-08-22T17:49:10.767958Z",
     "iopub.status.busy": "2025-08-22T17:49:10.767654Z",
     "iopub.status.idle": "2025-08-22T17:49:10.774334Z",
     "shell.execute_reply": "2025-08-22T17:49:10.773565Z"
    },
    "papermill": {
     "duration": 0.029341,
     "end_time": "2025-08-22T17:49:10.775728",
     "exception": false,
     "start_time": "2025-08-22T17:49:10.746387",
     "status": "completed"
    },
    "tags": []
   },
   "outputs": [
    {
     "data": {
      "text/plain": [
       "thal\n",
       "normal               196\n",
       "reversable defect    192\n",
       "fixed defect          46\n",
       "Name: count, dtype: int64"
      ]
     },
     "execution_count": 34,
     "metadata": {},
     "output_type": "execute_result"
    }
   ],
   "source": [
    "df['thal'].value_counts()"
   ]
  },
  {
   "cell_type": "code",
   "execution_count": 35,
   "id": "cd59c043",
   "metadata": {
    "execution": {
     "iopub.execute_input": "2025-08-22T17:49:10.818999Z",
     "iopub.status.busy": "2025-08-22T17:49:10.818424Z",
     "iopub.status.idle": "2025-08-22T17:49:10.828037Z",
     "shell.execute_reply": "2025-08-22T17:49:10.827211Z"
    },
    "papermill": {
     "duration": 0.032508,
     "end_time": "2025-08-22T17:49:10.829388",
     "exception": false,
     "start_time": "2025-08-22T17:49:10.796880",
     "status": "completed"
    },
    "tags": []
   },
   "outputs": [
    {
     "data": {
      "text/plain": [
       "thal               sex   \n",
       "fixed defect       Male       42\n",
       "                   Female      4\n",
       "normal             Male      110\n",
       "                   Female     86\n",
       "reversable defect  Male      171\n",
       "                   Female     21\n",
       "Name: count, dtype: int64"
      ]
     },
     "execution_count": 35,
     "metadata": {},
     "output_type": "execute_result"
    }
   ],
   "source": [
    "# Group by thal by sex\n",
    "df.groupby('thal')['sex'].value_counts()"
   ]
  },
  {
   "cell_type": "code",
   "execution_count": 36,
   "id": "d4a7b910",
   "metadata": {
    "execution": {
     "iopub.execute_input": "2025-08-22T17:49:10.872075Z",
     "iopub.status.busy": "2025-08-22T17:49:10.871417Z",
     "iopub.status.idle": "2025-08-22T17:49:10.880911Z",
     "shell.execute_reply": "2025-08-22T17:49:10.880158Z"
    },
    "papermill": {
     "duration": 0.032107,
     "end_time": "2025-08-22T17:49:10.882178",
     "exception": false,
     "start_time": "2025-08-22T17:49:10.850071",
     "status": "completed"
    },
    "tags": []
   },
   "outputs": [
    {
     "data": {
      "text/plain": [
       "thal               dataset      \n",
       "fixed defect       Cleveland         18\n",
       "                   Hungary           10\n",
       "                   Switzerland       10\n",
       "                   VA Long Beach      8\n",
       "normal             Cleveland        166\n",
       "                   Switzerland       19\n",
       "                   Hungary            7\n",
       "                   VA Long Beach      4\n",
       "reversable defect  Cleveland        117\n",
       "                   Switzerland       42\n",
       "                   VA Long Beach     22\n",
       "                   Hungary           11\n",
       "Name: count, dtype: int64"
      ]
     },
     "execution_count": 36,
     "metadata": {},
     "output_type": "execute_result"
    }
   ],
   "source": [
    "# Groupby Thal by Dataset\n",
    "df.groupby('thal')['dataset'].value_counts()"
   ]
  },
  {
   "cell_type": "code",
   "execution_count": 37,
   "id": "e4817f6e",
   "metadata": {
    "execution": {
     "iopub.execute_input": "2025-08-22T17:49:10.924697Z",
     "iopub.status.busy": "2025-08-22T17:49:10.924290Z",
     "iopub.status.idle": "2025-08-22T17:49:11.102685Z",
     "shell.execute_reply": "2025-08-22T17:49:11.101984Z"
    },
    "papermill": {
     "duration": 0.201326,
     "end_time": "2025-08-22T17:49:11.104263",
     "exception": false,
     "start_time": "2025-08-22T17:49:10.902937",
     "status": "completed"
    },
    "tags": []
   },
   "outputs": [
    {
     "data": {
      "text/plain": [
       "<Axes: xlabel='thal', ylabel='count'>"
      ]
     },
     "execution_count": 37,
     "metadata": {},
     "output_type": "execute_result"
    },
    {
     "data": {
      "image/png": "[encoded data removed]",
      "text/plain": [
       "<Figure size 640x480 with 1 Axes>"
      ]
     },
     "metadata": {},
     "output_type": "display_data"
    }
   ],
   "source": [
    "# count plot of cp column by dataset column\n",
    "sns.countplot(df, x='thal', hue='sex')"
   ]
  },
  {
   "cell_type": "code",
   "execution_count": 38,
   "id": "fff710a2",
   "metadata": {
    "execution": {
     "iopub.execute_input": "2025-08-22T17:49:11.148226Z",
     "iopub.status.busy": "2025-08-22T17:49:11.147349Z",
     "iopub.status.idle": "2025-08-22T17:49:11.195701Z",
     "shell.execute_reply": "2025-08-22T17:49:11.194917Z"
    },
    "papermill": {
     "duration": 0.071629,
     "end_time": "2025-08-22T17:49:11.197023",
     "exception": false,
     "start_time": "2025-08-22T17:49:11.125394",
     "status": "completed"
    },
    "tags": []
   },
   "outputs": [
    {
     "data": {
      "text/html": [
       "<html>\n",
       "<head><meta charset=\"utf-8\" /></head>\n",
       "<body>\n",
       "    <div>            <script src=\"https://cdnjs.cloudflare.com/ajax/libs/mathjax/2.7.5/MathJax.js?config=TeX-AMS-MML_SVG\"></script><script type=\"text/javascript\">if (window.MathJax && window.MathJax.Hub && window.MathJax.Hub.Config) {window.MathJax.Hub.Config({SVG: {font: \"STIX-Web\"}});}</script>                <script type=\"text/javascript\">window.PlotlyConfig = {MathJaxConfig: 'local'};</script>\n",
       "        <script charset=\"utf-8\" src=\"https://cdn.plot.ly/plotly-2.35.2.min.js\"></script>                <div id=\"897b69c1-9c80-4d11-9cad-0986cf8609d1\" class=\"plotly-graph-div\" style=\"height:525px; width:100%;\"></div>            <script type=\"text/javascript\">                                    window.PLOTLYENV=window.PLOTLYENV || {};                                    if (document.getElementById(\"897b69c1-9c80-4d11-9cad-0986cf8609d1\")) {                    Plotly.newPlot(                        \"897b69c1-9c80-4d11-9cad-0986cf8609d1\",                        [{\"alignmentgroup\":\"True\",\"bingroup\":\"x\",\"hovertemplate\":\"thal=fixed defect\\u003cbr\\u003eage=%{x}\\u003cbr\\u003ecount=%{y}\\u003cextra\\u003e\\u003c\\u002fextra\\u003e\",\"legendgroup\":\"fixed defect\",\"marker\":{\"color\":\"#636efa\",\"pattern\":{\"shape\":\"\"}},\"name\":\"fixed defect\",\"offsetgroup\":\"fixed defect\",\"orientation\":\"v\",\"showlegend\":true,\"x\":[63,57,56,57,65,52,41,64,56,66,57,42,59,66,58,58,44,59,30,48,56,57,40,41,58,39,40,47,36,48,50,50,57,57,58,59,65,69,69,57,68,61,48,53,64,55],\"xaxis\":\"x\",\"yaxis\":\"y\",\"type\":\"histogram\"},{\"alignmentgroup\":\"True\",\"bingroup\":\"x\",\"hovertemplate\":\"thal=normal\\u003cbr\\u003eage=%{x}\\u003cbr\\u003ecount=%{y}\\u003cextra\\u003e\\u003c\\u002fextra\\u003e\",\"legendgroup\":\"normal\",\"marker\":{\"color\":\"#EF553B\",\"pattern\":{\"shape\":\"\"}},\"name\":\"normal\",\"offsetgroup\":\"normal\",\"orientation\":\"v\",\"showlegend\":true,\"x\":[67,37,41,56,62,57,56,57,54,48,49,64,58,58,50,58,66,43,69,64,44,42,61,71,59,61,51,65,53,41,44,44,54,51,46,54,60,46,65,44,65,51,48,45,53,39,52,44,47,53,51,66,44,63,52,48,45,34,57,71,56,58,35,51,65,45,44,62,29,51,43,55,51,59,52,47,41,45,60,42,64,70,77,54,58,48,52,54,45,59,62,43,53,42,60,63,50,62,68,67,69,45,50,59,50,64,55,62,37,41,52,46,46,64,59,41,54,39,63,34,47,67,54,66,52,55,49,74,54,54,49,42,41,41,49,61,60,67,47,62,51,43,42,67,76,70,44,58,60,44,61,42,71,59,66,39,57,58,47,35,56,55,63,41,57,38,36,37,43,46,46,50,59,38,38,38,47,47,50,51,51,53,56,58,59,61,62,62,62,64,67,73,62,37,68,46],\"xaxis\":\"x\",\"yaxis\":\"y\",\"type\":\"histogram\"},{\"alignmentgroup\":\"True\",\"bingroup\":\"x\",\"hovertemplate\":\"thal=reversable defect\\u003cbr\\u003eage=%{x}\\u003cbr\\u003ecount=%{y}\\u003cextra\\u003e\\u003c\\u002fextra\\u003e\",\"legendgroup\":\"reversable defect\",\"marker\":{\"color\":\"#00cc96\",\"pattern\":{\"shape\":\"\"}},\"name\":\"reversable defect\",\"offsetgroup\":\"reversable defect\",\"orientation\":\"v\",\"showlegend\":true,\"x\":[67,63,53,44,52,48,58,60,40,60,59,43,55,65,40,58,50,65,60,54,50,41,51,58,54,60,54,59,67,62,60,58,68,62,62,52,59,60,49,54,59,57,61,39,61,43,62,63,65,48,63,55,56,54,54,51,70,62,35,59,64,58,57,52,67,55,51,58,60,68,46,57,35,70,53,57,52,48,56,59,42,54,69,51,43,57,64,43,45,58,50,38,66,56,53,56,46,58,52,58,64,57,40,61,46,64,57,55,61,58,56,67,63,57,45,68,57,51,55,55,56,46,47,50,50,54,43,58,35,38,43,43,46,47,51,52,52,52,53,53,53,53,54,54,54,55,55,56,56,56,56,57,59,60,60,61,61,61,61,61,62,63,65,65,66,66,68,69,70,70,60,56,60,40,61,63,55,62,59,58,75,64,40,50,61,75,51,69,53,67,55,56],\"xaxis\":\"x\",\"yaxis\":\"y\",\"type\":\"histogram\"}],                        {\"template\":{\"data\":{\"histogram2dcontour\":[{\"type\":\"histogram2dcontour\",\"colorbar\":{\"outlinewidth\":0,\"ticks\":\"\"},\"colorscale\":[[0.0,\"#0d0887\"],[0.1111111111111111,\"#46039f\"],[0.2222222222222222,\"#7201a8\"],[0.3333333333333333,\"#9c179e\"],[0.4444444444444444,\"#bd3786\"],[0.5555555555555556,\"#d8576b\"],[0.6666666666666666,\"#ed7953\"],[0.7777777777777778,\"#fb9f3a\"],[0.8888888888888888,\"#fdca26\"],[1.0,\"#f0f921\"]]}],\"choropleth\":[{\"type\":\"choropleth\",\"colorbar\":{\"outlinewidth\":0,\"ticks\":\"\"}}],\"histogram2d\":[{\"type\":\"histogram2d\",\"colorbar\":{\"outlinewidth\":0,\"ticks\":\"\"},\"colorscale\":[[0.0,\"#0d0887\"],[0.1111111111111111,\"#46039f\"],[0.2222222222222222,\"#7201a8\"],[0.3333333333333333,\"#9c179e\"],[0.4444444444444444,\"#bd3786\"],[0.5555555555555556,\"#d8576b\"],[0.6666666666666666,\"#ed7953\"],[0.7777777777777778,\"#fb9f3a\"],[0.8888888888888888,\"#fdca26\"],[1.0,\"#f0f921\"]]}],\"heatmap\":[{\"type\":\"heatmap\",\"colorbar\":{\"outlinewidth\":0,\"ticks\":\"\"},\"colorscale\":[[0.0,\"#0d0887\"],[0.1111111111111111,\"#46039f\"],[0.2222222222222222,\"#7201a8\"],[0.3333333333333333,\"#9c179e\"],[0.4444444444444444,\"#bd3786\"],[0.5555555555555556,\"#d8576b\"],[0.6666666666666666,\"#ed7953\"],[0.7777777777777778,\"#fb9f3a\"],[0.8888888888888888,\"#fdca26\"],[1.0,\"#f0f921\"]]}],\"heatmapgl\":[{\"type\":\"heatmapgl\",\"colorbar\":{\"outlinewidth\":0,\"ticks\":\"\"},\"colorscale\":[[0.0,\"#0d0887\"],[0.1111111111111111,\"#46039f\"],[0.2222222222222222,\"#7201a8\"],[0.3333333333333333,\"#9c179e\"],[0.4444444444444444,\"#bd3786\"],[0.5555555555555556,\"#d8576b\"],[0.6666666666666666,\"#ed7953\"],[0.7777777777777778,\"#fb9f3a\"],[0.8888888888888888,\"#fdca26\"],[1.0,\"#f0f921\"]]}],\"contourcarpet\":[{\"type\":\"contourcarpet\",\"colorbar\":{\"outlinewidth\":0,\"ticks\":\"\"}}],\"contour\":[{\"type\":\"contour\",\"colorbar\":{\"outlinewidth\":0,\"ticks\":\"\"},\"colorscale\":[[0.0,\"#0d0887\"],[0.1111111111111111,\"#46039f\"],[0.2222222222222222,\"#7201a8\"],[0.3333333333333333,\"#9c179e\"],[0.4444444444444444,\"#bd3786\"],[0.5555555555555556,\"#d8576b\"],[0.6666666666666666,\"#ed7953\"],[0.7777777777777778,\"#fb9f3a\"],[0.8888888888888888,\"#fdca26\"],[1.0,\"#f0f921\"]]}],\"surface\":[{\"type\":\"surface\",\"colorbar\":{\"outlinewidth\":0,\"ticks\":\"\"},\"colorscale\":[[0.0,\"#0d0887\"],[0.1111111111111111,\"#46039f\"],[0.2222222222222222,\"#7201a8\"],[0.3333333333333333,\"#9c179e\"],[0.4444444444444444,\"#bd3786\"],[0.5555555555555556,\"#d8576b\"],[0.6666666666666666,\"#ed7953\"],[0.7777777777777778,\"#fb9f3a\"],[0.8888888888888888,\"#fdca26\"],[1.0,\"#f0f921\"]]}],\"mesh3d\":[{\"type\":\"mesh3d\",\"colorbar\":{\"outlinewidth\":0,\"ticks\":\"\"}}],\"scatter\":[{\"fillpattern\":{\"fillmode\":\"overlay\",\"size\":10,\"solidity\":0.2},\"type\":\"scatter\"}],\"parcoords\":[{\"type\":\"parcoords\",\"line\":{\"colorbar\":{\"outlinewidth\":0,\"ticks\":\"\"}}}],\"scatterpolargl\":[{\"type\":\"scatterpolargl\",\"marker\":{\"colorbar\":{\"outlinewidth\":0,\"ticks\":\"\"}}}],\"bar\":[{\"error_x\":{\"color\":\"#2a3f5f\"},\"error_y\":{\"color\":\"#2a3f5f\"},\"marker\":{\"line\":{\"color\":\"#E5ECF6\",\"width\":0.5},\"pattern\":{\"fillmode\":\"overlay\",\"size\":10,\"solidity\":0.2}},\"type\":\"bar\"}],\"scattergeo\":[{\"type\":\"scattergeo\",\"marker\":{\"colorbar\":{\"outlinewidth\":0,\"ticks\":\"\"}}}],\"scatterpolar\":[{\"type\":\"scatterpolar\",\"marker\":{\"colorbar\":{\"outlinewidth\":0,\"ticks\":\"\"}}}],\"histogram\":[{\"marker\":{\"pattern\":{\"fillmode\":\"overlay\",\"size\":10,\"solidity\":0.2}},\"type\":\"histogram\"}],\"scattergl\":[{\"type\":\"scattergl\",\"marker\":{\"colorbar\":{\"outlinewidth\":0,\"ticks\":\"\"}}}],\"scatter3d\":[{\"type\":\"scatter3d\",\"line\":{\"colorbar\":{\"outlinewidth\":0,\"ticks\":\"\"}},\"marker\":{\"colorbar\":{\"outlinewidth\":0,\"ticks\":\"\"}}}],\"scattermapbox\":[{\"type\":\"scattermapbox\",\"marker\":{\"colorbar\":{\"outlinewidth\":0,\"ticks\":\"\"}}}],\"scatterternary\":[{\"type\":\"scatterternary\",\"marker\":{\"colorbar\":{\"outlinewidth\":0,\"ticks\":\"\"}}}],\"scattercarpet\":[{\"type\":\"scattercarpet\",\"marker\":{\"colorbar\":{\"outlinewidth\":0,\"ticks\":\"\"}}}],\"carpet\":[{\"aaxis\":{\"endlinecolor\":\"#2a3f5f\",\"gridcolor\":\"white\",\"linecolor\":\"white\",\"minorgridcolor\":\"white\",\"startlinecolor\":\"#2a3f5f\"},\"baxis\":{\"endlinecolor\":\"#2a3f5f\",\"gridcolor\":\"white\",\"linecolor\":\"white\",\"minorgridcolor\":\"white\",\"startlinecolor\":\"#2a3f5f\"},\"type\":\"carpet\"}],\"table\":[{\"cells\":{\"fill\":{\"color\":\"#EBF0F8\"},\"line\":{\"color\":\"white\"}},\"header\":{\"fill\":{\"color\":\"#C8D4E3\"},\"line\":{\"color\":\"white\"}},\"type\":\"table\"}],\"barpolar\":[{\"marker\":{\"line\":{\"color\":\"#E5ECF6\",\"width\":0.5},\"pattern\":{\"fillmode\":\"overlay\",\"size\":10,\"solidity\":0.2}},\"type\":\"barpolar\"}],\"pie\":[{\"automargin\":true,\"type\":\"pie\"}]},\"layout\":{\"autotypenumbers\":\"strict\",\"colorway\":[\"#636efa\",\"#EF553B\",\"#00cc96\",\"#ab63fa\",\"#FFA15A\",\"#19d3f3\",\"#FF6692\",\"#B6E880\",\"#FF97FF\",\"#FECB52\"],\"font\":{\"color\":\"#2a3f5f\"},\"hovermode\":\"closest\",\"hoverlabel\":{\"align\":\"left\"},\"paper_bgcolor\":\"white\",\"plot_bgcolor\":\"#E5ECF6\",\"polar\":{\"bgcolor\":\"#E5ECF6\",\"angularaxis\":{\"gridcolor\":\"white\",\"linecolor\":\"white\",\"ticks\":\"\"},\"radialaxis\":{\"gridcolor\":\"white\",\"linecolor\":\"white\",\"ticks\":\"\"}},\"ternary\":{\"bgcolor\":\"#E5ECF6\",\"aaxis\":{\"gridcolor\":\"white\",\"linecolor\":\"white\",\"ticks\":\"\"},\"baxis\":{\"gridcolor\":\"white\",\"linecolor\":\"white\",\"ticks\":\"\"},\"caxis\":{\"gridcolor\":\"white\",\"linecolor\":\"white\",\"ticks\":\"\"}},\"coloraxis\":{\"colorbar\":{\"outlinewidth\":0,\"ticks\":\"\"}},\"colorscale\":{\"sequential\":[[0.0,\"#0d0887\"],[0.1111111111111111,\"#46039f\"],[0.2222222222222222,\"#7201a8\"],[0.3333333333333333,\"#9c179e\"],[0.4444444444444444,\"#bd3786\"],[0.5555555555555556,\"#d8576b\"],[0.6666666666666666,\"#ed7953\"],[0.7777777777777778,\"#fb9f3a\"],[0.8888888888888888,\"#fdca26\"],[1.0,\"#f0f921\"]],\"sequentialminus\":[[0.0,\"#0d0887\"],[0.1111111111111111,\"#46039f\"],[0.2222222222222222,\"#7201a8\"],[0.3333333333333333,\"#9c179e\"],[0.4444444444444444,\"#bd3786\"],[0.5555555555555556,\"#d8576b\"],[0.6666666666666666,\"#ed7953\"],[0.7777777777777778,\"#fb9f3a\"],[0.8888888888888888,\"#fdca26\"],[1.0,\"#f0f921\"]],\"diverging\":[[0,\"#8e0152\"],[0.1,\"#c51b7d\"],[0.2,\"#de77ae\"],[0.3,\"#f1b6da\"],[0.4,\"#fde0ef\"],[0.5,\"#f7f7f7\"],[0.6,\"#e6f5d0\"],[0.7,\"#b8e186\"],[0.8,\"#7fbc41\"],[0.9,\"#4d9221\"],[1,\"#276419\"]]},\"xaxis\":{\"gridcolor\":\"white\",\"linecolor\":\"white\",\"ticks\":\"\",\"title\":{\"standoff\":15},\"zerolinecolor\":\"white\",\"automargin\":true,\"zerolinewidth\":2},\"yaxis\":{\"gridcolor\":\"white\",\"linecolor\":\"white\",\"ticks\":\"\",\"title\":{\"standoff\":15},\"zerolinecolor\":\"white\",\"automargin\":true,\"zerolinewidth\":2},\"scene\":{\"xaxis\":{\"backgroundcolor\":\"#E5ECF6\",\"gridcolor\":\"white\",\"linecolor\":\"white\",\"showbackground\":true,\"ticks\":\"\",\"zerolinecolor\":\"white\",\"gridwidth\":2},\"yaxis\":{\"backgroundcolor\":\"#E5ECF6\",\"gridcolor\":\"white\",\"linecolor\":\"white\",\"showbackground\":true,\"ticks\":\"\",\"zerolinecolor\":\"white\",\"gridwidth\":2},\"zaxis\":{\"backgroundcolor\":\"#E5ECF6\",\"gridcolor\":\"white\",\"linecolor\":\"white\",\"showbackground\":true,\"ticks\":\"\",\"zerolinecolor\":\"white\",\"gridwidth\":2}},\"shapedefaults\":{\"line\":{\"color\":\"#2a3f5f\"}},\"annotationdefaults\":{\"arrowcolor\":\"#2a3f5f\",\"arrowhead\":0,\"arrowwidth\":1},\"geo\":{\"bgcolor\":\"white\",\"landcolor\":\"#E5ECF6\",\"subunitcolor\":\"white\",\"showland\":true,\"showlakes\":true,\"lakecolor\":\"white\"},\"title\":{\"x\":0.05},\"mapbox\":{\"style\":\"light\"}}},\"xaxis\":{\"anchor\":\"y\",\"domain\":[0.0,1.0],\"title\":{\"text\":\"age\"}},\"yaxis\":{\"anchor\":\"x\",\"domain\":[0.0,1.0],\"title\":{\"text\":\"count\"}},\"legend\":{\"title\":{\"text\":\"thal\"},\"tracegroupgap\":0},\"margin\":{\"t\":60},\"barmode\":\"relative\"},                        {\"responsive\": true}                    ).then(function(){\n",
       "                            \n",
       "var gd = document.getElementById('897b69c1-9c80-4d11-9cad-0986cf8609d1');\n",
       "var x = new MutationObserver(function (mutations, observer) {{\n",
       "        var display = window.getComputedStyle(gd).display;\n",
       "        if (!display || display === 'none') {{\n",
       "            console.log([gd, 'removed!']);\n",
       "            Plotly.purge(gd);\n",
       "            observer.disconnect();\n",
       "        }}\n",
       "}});\n",
       "\n",
       "// Listen for the removal of the full notebook cells\n",
       "var notebookContainer = gd.closest('#notebook-container');\n",
       "if (notebookContainer) {{\n",
       "    x.observe(notebookContainer, {childList: true});\n",
       "}}\n",
       "\n",
       "// Listen for the clearing of the current output cell\n",
       "var outputEl = gd.closest('.output');\n",
       "if (outputEl) {{\n",
       "    x.observe(outputEl, {childList: true});\n",
       "}}\n",
       "\n",
       "                        })                };                            </script>        </div>\n",
       "</body>\n",
       "</html>"
      ]
     },
     "metadata": {},
     "output_type": "display_data"
    }
   ],
   "source": [
    "# draw the plot of thal column grouped by age column using plotly\n",
    "fig = px.histogram(data_frame=df, x='age', color='thal')\n",
    "fig.show()"
   ]
  },
  {
   "cell_type": "code",
   "execution_count": 39,
   "id": "2f70eb8b",
   "metadata": {
    "execution": {
     "iopub.execute_input": "2025-08-22T17:49:11.241359Z",
     "iopub.status.busy": "2025-08-22T17:49:11.241070Z",
     "iopub.status.idle": "2025-08-22T17:49:11.293145Z",
     "shell.execute_reply": "2025-08-22T17:49:11.292347Z"
    },
    "papermill": {
     "duration": 0.075679,
     "end_time": "2025-08-22T17:49:11.294719",
     "exception": false,
     "start_time": "2025-08-22T17:49:11.219040",
     "status": "completed"
    },
    "tags": []
   },
   "outputs": [
    {
     "data": {
      "text/html": [
       "<html>\n",
       "<head><meta charset=\"utf-8\" /></head>\n",
       "<body>\n",
       "    <div>            <script src=\"https://cdnjs.cloudflare.com/ajax/libs/mathjax/2.7.5/MathJax.js?config=TeX-AMS-MML_SVG\"></script><script type=\"text/javascript\">if (window.MathJax && window.MathJax.Hub && window.MathJax.Hub.Config) {window.MathJax.Hub.Config({SVG: {font: \"STIX-Web\"}});}</script>                <script type=\"text/javascript\">window.PlotlyConfig = {MathJaxConfig: 'local'};</script>\n",
       "        <script charset=\"utf-8\" src=\"https://cdn.plot.ly/plotly-2.35.2.min.js\"></script>                <div id=\"51af4d2e-0610-470d-8a83-7c6a62ab7441\" class=\"plotly-graph-div\" style=\"height:525px; width:100%;\"></div>            <script type=\"text/javascript\">                                    window.PLOTLYENV=window.PLOTLYENV || {};                                    if (document.getElementById(\"51af4d2e-0610-470d-8a83-7c6a62ab7441\")) {                    Plotly.newPlot(                        \"51af4d2e-0610-470d-8a83-7c6a62ab7441\",                        [{\"alignmentgroup\":\"True\",\"bingroup\":\"x\",\"hovertemplate\":\"dataset=Cleveland\\u003cbr\\u003ethal=%{x}\\u003cbr\\u003ecount=%{y}\\u003cextra\\u003e\\u003c\\u002fextra\\u003e\",\"legendgroup\":\"Cleveland\",\"marker\":{\"color\":\"#636efa\",\"pattern\":{\"shape\":\"\"}},\"name\":\"Cleveland\",\"offsetgroup\":\"Cleveland\",\"orientation\":\"v\",\"showlegend\":true,\"x\":[\"fixed defect\",\"normal\",\"reversable defect\",\"normal\",\"normal\",\"normal\",\"normal\",\"normal\",\"reversable defect\",\"reversable defect\",\"fixed defect\",\"normal\",\"fixed defect\",\"reversable defect\",\"reversable defect\",\"normal\",\"reversable defect\",\"normal\",\"normal\",\"normal\",\"normal\",\"normal\",\"normal\",\"reversable defect\",\"reversable defect\",\"normal\",\"normal\",\"normal\",\"normal\",\"reversable defect\",\"normal\",\"reversable defect\",\"normal\",\"reversable defect\",\"normal\",\"normal\",\"reversable defect\",\"fixed defect\",\"reversable defect\",\"normal\",\"reversable defect\",\"reversable defect\",\"normal\",\"normal\",\"normal\",\"reversable defect\",\"normal\",\"reversable defect\",\"normal\",\"normal\",\"normal\",\"reversable defect\",\"normal\",\"normal\",\"reversable defect\",\"reversable defect\",\"reversable defect\",\"reversable defect\",\"normal\",\"normal\",\"reversable defect\",\"normal\",\"reversable defect\",\"normal\",\"reversable defect\",\"reversable defect\",\"normal\",\"reversable defect\",\"reversable defect\",\"normal\",\"normal\",\"reversable defect\",\"reversable defect\",\"fixed defect\",\"normal\",\"normal\",\"reversable defect\",\"normal\",\"normal\",\"reversable defect\",\"normal\",\"normal\",\"normal\",\"reversable defect\",\"normal\",\"normal\",\"normal\",null,\"normal\",\"normal\",\"normal\",\"reversable defect\",\"reversable defect\",\"normal\",\"normal\",\"reversable defect\",\"reversable defect\",\"reversable defect\",\"normal\",\"normal\",\"normal\",\"normal\",\"normal\",\"normal\",\"reversable defect\",\"reversable defect\",\"reversable defect\",\"reversable defect\",\"reversable defect\",\"reversable defect\",\"reversable defect\",\"normal\",\"fixed defect\",\"reversable defect\",\"reversable defect\",\"fixed defect\",\"normal\",\"normal\",\"reversable defect\",\"reversable defect\",\"reversable defect\",\"reversable defect\",\"normal\",\"reversable defect\",\"normal\",\"normal\",\"reversable defect\",\"reversable defect\",\"normal\",\"normal\",\"reversable defect\",\"reversable defect\",\"normal\",\"normal\",\"normal\",\"normal\",\"reversable defect\",\"reversable defect\",\"reversable defect\",\"normal\",\"normal\",\"reversable defect\",\"normal\",\"reversable defect\",\"reversable defect\",\"normal\",\"reversable defect\",\"normal\",\"normal\",\"normal\",\"reversable defect\",\"normal\",\"reversable defect\",\"reversable defect\",\"normal\",\"normal\",\"reversable defect\",\"reversable defect\",\"reversable defect\",\"reversable defect\",\"reversable defect\",\"normal\",\"normal\",\"normal\",\"normal\",\"reversable defect\",\"normal\",\"normal\",\"reversable defect\",\"normal\",\"reversable defect\",\"reversable defect\",\"normal\",\"normal\",\"fixed defect\",\"reversable defect\",\"reversable defect\",\"fixed defect\",\"normal\",\"normal\",\"reversable defect\",\"reversable defect\",\"normal\",\"reversable defect\",\"normal\",\"normal\",\"reversable defect\",\"fixed defect\",\"reversable defect\",\"reversable defect\",\"normal\",\"reversable defect\",\"reversable defect\",\"normal\",\"normal\",\"normal\",\"normal\",\"normal\",\"normal\",\"normal\",\"normal\",\"normal\",\"reversable defect\",\"reversable defect\",\"reversable defect\",\"reversable defect\",\"reversable defect\",\"reversable defect\",\"normal\",\"normal\",\"normal\",\"reversable defect\",\"normal\",\"reversable defect\",\"normal\",\"reversable defect\",\"normal\",\"normal\",\"normal\",\"normal\",\"normal\",\"normal\",\"normal\",\"reversable defect\",\"normal\",\"normal\",\"normal\",\"normal\",\"normal\",\"normal\",\"normal\",\"normal\",\"normal\",\"normal\",\"normal\",\"normal\",\"reversable defect\",\"reversable defect\",\"normal\",\"normal\",\"normal\",\"normal\",\"normal\",\"normal\",\"normal\",\"normal\",\"reversable defect\",\"normal\",\"reversable defect\",\"normal\",\"fixed defect\",\"reversable defect\",\"reversable defect\",\"normal\",\"normal\",\"normal\",\"normal\",\"normal\",\"normal\",\"reversable defect\",\"normal\",\"normal\",\"normal\",\"normal\",\"normal\",\"fixed defect\",null,\"fixed defect\",\"reversable defect\",\"normal\",\"reversable defect\",\"fixed defect\",\"reversable defect\",\"normal\",\"normal\",\"reversable defect\",\"normal\",\"normal\",\"normal\",\"normal\",\"reversable defect\",\"normal\",\"reversable defect\",\"normal\",\"reversable defect\",\"fixed defect\",\"fixed defect\",\"reversable defect\",\"reversable defect\",\"normal\",\"reversable defect\",\"normal\",\"fixed defect\",\"reversable defect\",\"normal\",\"normal\",\"fixed defect\",\"reversable defect\",\"reversable defect\",\"reversable defect\",\"reversable defect\",\"normal\",\"normal\",null],\"xaxis\":\"x\",\"yaxis\":\"y\",\"type\":\"histogram\"},{\"alignmentgroup\":\"True\",\"bingroup\":\"x\",\"hovertemplate\":\"dataset=Hungary\\u003cbr\\u003ethal=%{x}\\u003cbr\\u003ecount=%{y}\\u003cextra\\u003e\\u003c\\u002fextra\\u003e\",\"legendgroup\":\"Hungary\",\"marker\":{\"color\":\"#EF553B\",\"pattern\":{\"shape\":\"\"}},\"name\":\"Hungary\",\"offsetgroup\":\"Hungary\",\"orientation\":\"v\",\"showlegend\":true,\"x\":[null,null,\"fixed defect\",null,null,null,null,null,null,null,null,null,null,null,null,null,\"normal\",null,null,null,null,null,null,null,\"normal\",null,null,null,null,null,null,null,null,null,null,null,null,null,null,null,null,null,null,null,null,null,null,null,null,null,null,null,null,null,null,null,null,null,null,null,null,null,null,null,\"normal\",null,null,null,null,null,null,null,null,null,null,null,null,null,null,null,null,\"normal\",\"normal\",null,null,null,null,null,null,null,null,null,null,null,null,null,null,null,null,\"fixed defect\",null,null,null,null,null,null,null,null,null,null,null,\"normal\",null,null,null,null,null,null,null,null,null,\"reversable defect\",null,null,null,null,null,null,null,null,null,null,null,null,null,null,null,null,null,null,null,null,null,null,null,null,null,null,null,null,null,null,null,null,null,null,null,null,\"reversable defect\",\"reversable defect\",null,null,null,null,null,\"reversable defect\",null,null,\"fixed defect\",null,null,null,\"fixed defect\",null,null,null,null,null,null,\"normal\",null,null,null,null,null,null,null,null,null,null,null,null,null,null,null,null,\"fixed defect\",\"fixed defect\",null,null,null,\"reversable defect\",null,null,\"reversable defect\",null,null,null,null,null,null,\"reversable defect\",null,null,null,null,null,null,null,\"fixed defect\",null,null,null,null,null,null,\"fixed defect\",\"fixed defect\",null,null,null,null,null,null,null,null,\"reversable defect\",null,null,null,\"reversable defect\",null,null,null,null,null,null,null,null,null,null,\"reversable defect\",null,null,null,null,null,null,null,null,null,null,null,null,null,null,null,null,null,null,null,null,null,null,null,null,null,null,null,null,null,\"fixed defect\",null,null,null,null,null,null,null,null,null,\"reversable defect\",null],\"xaxis\":\"x\",\"yaxis\":\"y\",\"type\":\"histogram\"},{\"alignmentgroup\":\"True\",\"bingroup\":\"x\",\"hovertemplate\":\"dataset=Switzerland\\u003cbr\\u003ethal=%{x}\\u003cbr\\u003ecount=%{y}\\u003cextra\\u003e\\u003c\\u002fextra\\u003e\",\"legendgroup\":\"Switzerland\",\"marker\":{\"color\":\"#00cc96\",\"pattern\":{\"shape\":\"\"}},\"name\":\"Switzerland\",\"offsetgroup\":\"Switzerland\",\"orientation\":\"v\",\"showlegend\":true,\"x\":[null,null,\"reversable defect\",\"fixed defect\",null,\"normal\",null,\"reversable defect\",\"normal\",\"normal\",null,null,null,null,null,\"reversable defect\",\"reversable defect\",null,null,\"reversable defect\",\"normal\",\"normal\",null,\"reversable defect\",\"fixed defect\",\"normal\",\"fixed defect\",\"fixed defect\",null,null,null,\"normal\",null,\"reversable defect\",\"normal\",null,\"reversable defect\",\"reversable defect\",\"reversable defect\",null,\"normal\",null,\"reversable defect\",\"reversable defect\",\"reversable defect\",null,\"reversable defect\",null,\"reversable defect\",\"reversable defect\",\"reversable defect\",null,null,\"reversable defect\",\"reversable defect\",\"reversable defect\",\"reversable defect\",\"normal\",null,\"reversable defect\",null,\"reversable defect\",null,null,null,\"fixed defect\",\"fixed defect\",\"reversable defect\",null,null,\"fixed defect\",\"normal\",null,\"fixed defect\",\"normal\",null,\"reversable defect\",null,null,null,\"reversable defect\",\"reversable defect\",null,\"normal\",null,null,\"reversable defect\",\"reversable defect\",null,\"reversable defect\",\"reversable defect\",\"reversable defect\",\"normal\",null,null,\"normal\",null,\"normal\",\"reversable defect\",null,null,null,null,\"reversable defect\",\"normal\",null,null,\"reversable defect\",\"fixed defect\",null,\"reversable defect\",\"reversable defect\",\"reversable defect\",\"normal\",\"reversable defect\",null,\"fixed defect\",\"reversable defect\",\"reversable defect\",\"reversable defect\",null,\"normal\",null],\"xaxis\":\"x\",\"yaxis\":\"y\",\"type\":\"histogram\"},{\"alignmentgroup\":\"True\",\"bingroup\":\"x\",\"hovertemplate\":\"dataset=VA Long Beach\\u003cbr\\u003ethal=%{x}\\u003cbr\\u003ecount=%{y}\\u003cextra\\u003e\\u003c\\u002fextra\\u003e\",\"legendgroup\":\"VA Long Beach\",\"marker\":{\"color\":\"#ab63fa\",\"pattern\":{\"shape\":\"\"}},\"name\":\"VA Long Beach\",\"offsetgroup\":\"VA Long Beach\",\"orientation\":\"v\",\"showlegend\":true,\"x\":[null,null,null,null,null,null,null,null,null,null,null,null,\"normal\",null,null,null,null,null,null,\"reversable defect\",null,null,null,null,null,\"fixed defect\",null,null,\"reversable defect\",null,null,null,null,null,null,null,null,\"reversable defect\",null,null,null,\"reversable defect\",\"reversable defect\",null,null,\"reversable defect\",null,null,null,null,\"reversable defect\",null,\"reversable defect\",null,null,null,null,null,null,\"reversable defect\",null,null,null,null,null,null,null,\"reversable defect\",null,null,null,\"fixed defect\",null,null,null,\"reversable defect\",null,null,null,\"reversable defect\",null,null,null,null,null,null,null,null,null,null,null,\"reversable defect\",null,null,null,null,null,null,null,null,\"fixed defect\",null,null,null,null,\"fixed defect\",\"reversable defect\",null,null,null,null,null,null,null,null,null,null,null,null,null,null,null,null,null,null,null,null,null,\"reversable defect\",null,\"fixed defect\",null,null,null,null,null,null,null,\"fixed defect\",null,\"reversable defect\",null,null,null,null,null,null,null,null,null,null,null,null,null,null,null,null,null,null,null,null,null,null,null,\"reversable defect\",null,\"reversable defect\",null,null,null,\"reversable defect\",\"normal\",\"reversable defect\",null,null,null,null,\"fixed defect\",null,null,null,null,\"reversable defect\",\"reversable defect\",null,null,null,null,null,\"normal\",null,null,null,null,\"normal\",null,null,\"fixed defect\",null,null],\"xaxis\":\"x\",\"yaxis\":\"y\",\"type\":\"histogram\"}],                        {\"template\":{\"data\":{\"histogram2dcontour\":[{\"type\":\"histogram2dcontour\",\"colorbar\":{\"outlinewidth\":0,\"ticks\":\"\"},\"colorscale\":[[0.0,\"#0d0887\"],[0.1111111111111111,\"#46039f\"],[0.2222222222222222,\"#7201a8\"],[0.3333333333333333,\"#9c179e\"],[0.4444444444444444,\"#bd3786\"],[0.5555555555555556,\"#d8576b\"],[0.6666666666666666,\"#ed7953\"],[0.7777777777777778,\"#fb9f3a\"],[0.8888888888888888,\"#fdca26\"],[1.0,\"#f0f921\"]]}],\"choropleth\":[{\"type\":\"choropleth\",\"colorbar\":{\"outlinewidth\":0,\"ticks\":\"\"}}],\"histogram2d\":[{\"type\":\"histogram2d\",\"colorbar\":{\"outlinewidth\":0,\"ticks\":\"\"},\"colorscale\":[[0.0,\"#0d0887\"],[0.1111111111111111,\"#46039f\"],[0.2222222222222222,\"#7201a8\"],[0.3333333333333333,\"#9c179e\"],[0.4444444444444444,\"#bd3786\"],[0.5555555555555556,\"#d8576b\"],[0.6666666666666666,\"#ed7953\"],[0.7777777777777778,\"#fb9f3a\"],[0.8888888888888888,\"#fdca26\"],[1.0,\"#f0f921\"]]}],\"heatmap\":[{\"type\":\"heatmap\",\"colorbar\":{\"outlinewidth\":0,\"ticks\":\"\"},\"colorscale\":[[0.0,\"#0d0887\"],[0.1111111111111111,\"#46039f\"],[0.2222222222222222,\"#7201a8\"],[0.3333333333333333,\"#9c179e\"],[0.4444444444444444,\"#bd3786\"],[0.5555555555555556,\"#d8576b\"],[0.6666666666666666,\"#ed7953\"],[0.7777777777777778,\"#fb9f3a\"],[0.8888888888888888,\"#fdca26\"],[1.0,\"#f0f921\"]]}],\"heatmapgl\":[{\"type\":\"heatmapgl\",\"colorbar\":{\"outlinewidth\":0,\"ticks\":\"\"},\"colorscale\":[[0.0,\"#0d0887\"],[0.1111111111111111,\"#46039f\"],[0.2222222222222222,\"#7201a8\"],[0.3333333333333333,\"#9c179e\"],[0.4444444444444444,\"#bd3786\"],[0.5555555555555556,\"#d8576b\"],[0.6666666666666666,\"#ed7953\"],[0.7777777777777778,\"#fb9f3a\"],[0.8888888888888888,\"#fdca26\"],[1.0,\"#f0f921\"]]}],\"contourcarpet\":[{\"type\":\"contourcarpet\",\"colorbar\":{\"outlinewidth\":0,\"ticks\":\"\"}}],\"contour\":[{\"type\":\"contour\",\"colorbar\":{\"outlinewidth\":0,\"ticks\":\"\"},\"colorscale\":[[0.0,\"#0d0887\"],[0.1111111111111111,\"#46039f\"],[0.2222222222222222,\"#7201a8\"],[0.3333333333333333,\"#9c179e\"],[0.4444444444444444,\"#bd3786\"],[0.5555555555555556,\"#d8576b\"],[0.6666666666666666,\"#ed7953\"],[0.7777777777777778,\"#fb9f3a\"],[0.8888888888888888,\"#fdca26\"],[1.0,\"#f0f921\"]]}],\"surface\":[{\"type\":\"surface\",\"colorbar\":{\"outlinewidth\":0,\"ticks\":\"\"},\"colorscale\":[[0.0,\"#0d0887\"],[0.1111111111111111,\"#46039f\"],[0.2222222222222222,\"#7201a8\"],[0.3333333333333333,\"#9c179e\"],[0.4444444444444444,\"#bd3786\"],[0.5555555555555556,\"#d8576b\"],[0.6666666666666666,\"#ed7953\"],[0.7777777777777778,\"#fb9f3a\"],[0.8888888888888888,\"#fdca26\"],[1.0,\"#f0f921\"]]}],\"mesh3d\":[{\"type\":\"mesh3d\",\"colorbar\":{\"outlinewidth\":0,\"ticks\":\"\"}}],\"scatter\":[{\"fillpattern\":{\"fillmode\":\"overlay\",\"size\":10,\"solidity\":0.2},\"type\":\"scatter\"}],\"parcoords\":[{\"type\":\"parcoords\",\"line\":{\"colorbar\":{\"outlinewidth\":0,\"ticks\":\"\"}}}],\"scatterpolargl\":[{\"type\":\"scatterpolargl\",\"marker\":{\"colorbar\":{\"outlinewidth\":0,\"ticks\":\"\"}}}],\"bar\":[{\"error_x\":{\"color\":\"#2a3f5f\"},\"error_y\":{\"color\":\"#2a3f5f\"},\"marker\":{\"line\":{\"color\":\"#E5ECF6\",\"width\":0.5},\"pattern\":{\"fillmode\":\"overlay\",\"size\":10,\"solidity\":0.2}},\"type\":\"bar\"}],\"scattergeo\":[{\"type\":\"scattergeo\",\"marker\":{\"colorbar\":{\"outlinewidth\":0,\"ticks\":\"\"}}}],\"scatterpolar\":[{\"type\":\"scatterpolar\",\"marker\":{\"colorbar\":{\"outlinewidth\":0,\"ticks\":\"\"}}}],\"histogram\":[{\"marker\":{\"pattern\":{\"fillmode\":\"overlay\",\"size\":10,\"solidity\":0.2}},\"type\":\"histogram\"}],\"scattergl\":[{\"type\":\"scattergl\",\"marker\":{\"colorbar\":{\"outlinewidth\":0,\"ticks\":\"\"}}}],\"scatter3d\":[{\"type\":\"scatter3d\",\"line\":{\"colorbar\":{\"outlinewidth\":0,\"ticks\":\"\"}},\"marker\":{\"colorbar\":{\"outlinewidth\":0,\"ticks\":\"\"}}}],\"scattermapbox\":[{\"type\":\"scattermapbox\",\"marker\":{\"colorbar\":{\"outlinewidth\":0,\"ticks\":\"\"}}}],\"scatterternary\":[{\"type\":\"scatterternary\",\"marker\":{\"colorbar\":{\"outlinewidth\":0,\"ticks\":\"\"}}}],\"scattercarpet\":[{\"type\":\"scattercarpet\",\"marker\":{\"colorbar\":{\"outlinewidth\":0,\"ticks\":\"\"}}}],\"carpet\":[{\"aaxis\":{\"endlinecolor\":\"#2a3f5f\",\"gridcolor\":\"white\",\"linecolor\":\"white\",\"minorgridcolor\":\"white\",\"startlinecolor\":\"#2a3f5f\"},\"baxis\":{\"endlinecolor\":\"#2a3f5f\",\"gridcolor\":\"white\",\"linecolor\":\"white\",\"minorgridcolor\":\"white\",\"startlinecolor\":\"#2a3f5f\"},\"type\":\"carpet\"}],\"table\":[{\"cells\":{\"fill\":{\"color\":\"#EBF0F8\"},\"line\":{\"color\":\"white\"}},\"header\":{\"fill\":{\"color\":\"#C8D4E3\"},\"line\":{\"color\":\"white\"}},\"type\":\"table\"}],\"barpolar\":[{\"marker\":{\"line\":{\"color\":\"#E5ECF6\",\"width\":0.5},\"pattern\":{\"fillmode\":\"overlay\",\"size\":10,\"solidity\":0.2}},\"type\":\"barpolar\"}],\"pie\":[{\"automargin\":true,\"type\":\"pie\"}]},\"layout\":{\"autotypenumbers\":\"strict\",\"colorway\":[\"#636efa\",\"#EF553B\",\"#00cc96\",\"#ab63fa\",\"#FFA15A\",\"#19d3f3\",\"#FF6692\",\"#B6E880\",\"#FF97FF\",\"#FECB52\"],\"font\":{\"color\":\"#2a3f5f\"},\"hovermode\":\"closest\",\"hoverlabel\":{\"align\":\"left\"},\"paper_bgcolor\":\"white\",\"plot_bgcolor\":\"#E5ECF6\",\"polar\":{\"bgcolor\":\"#E5ECF6\",\"angularaxis\":{\"gridcolor\":\"white\",\"linecolor\":\"white\",\"ticks\":\"\"},\"radialaxis\":{\"gridcolor\":\"white\",\"linecolor\":\"white\",\"ticks\":\"\"}},\"ternary\":{\"bgcolor\":\"#E5ECF6\",\"aaxis\":{\"gridcolor\":\"white\",\"linecolor\":\"white\",\"ticks\":\"\"},\"baxis\":{\"gridcolor\":\"white\",\"linecolor\":\"white\",\"ticks\":\"\"},\"caxis\":{\"gridcolor\":\"white\",\"linecolor\":\"white\",\"ticks\":\"\"}},\"coloraxis\":{\"colorbar\":{\"outlinewidth\":0,\"ticks\":\"\"}},\"colorscale\":{\"sequential\":[[0.0,\"#0d0887\"],[0.1111111111111111,\"#46039f\"],[0.2222222222222222,\"#7201a8\"],[0.3333333333333333,\"#9c179e\"],[0.4444444444444444,\"#bd3786\"],[0.5555555555555556,\"#d8576b\"],[0.6666666666666666,\"#ed7953\"],[0.7777777777777778,\"#fb9f3a\"],[0.8888888888888888,\"#fdca26\"],[1.0,\"#f0f921\"]],\"sequentialminus\":[[0.0,\"#0d0887\"],[0.1111111111111111,\"#46039f\"],[0.2222222222222222,\"#7201a8\"],[0.3333333333333333,\"#9c179e\"],[0.4444444444444444,\"#bd3786\"],[0.5555555555555556,\"#d8576b\"],[0.6666666666666666,\"#ed7953\"],[0.7777777777777778,\"#fb9f3a\"],[0.8888888888888888,\"#fdca26\"],[1.0,\"#f0f921\"]],\"diverging\":[[0,\"#8e0152\"],[0.1,\"#c51b7d\"],[0.2,\"#de77ae\"],[0.3,\"#f1b6da\"],[0.4,\"#fde0ef\"],[0.5,\"#f7f7f7\"],[0.6,\"#e6f5d0\"],[0.7,\"#b8e186\"],[0.8,\"#7fbc41\"],[0.9,\"#4d9221\"],[1,\"#276419\"]]},\"xaxis\":{\"gridcolor\":\"white\",\"linecolor\":\"white\",\"ticks\":\"\",\"title\":{\"standoff\":15},\"zerolinecolor\":\"white\",\"automargin\":true,\"zerolinewidth\":2},\"yaxis\":{\"gridcolor\":\"white\",\"linecolor\":\"white\",\"ticks\":\"\",\"title\":{\"standoff\":15},\"zerolinecolor\":\"white\",\"automargin\":true,\"zerolinewidth\":2},\"scene\":{\"xaxis\":{\"backgroundcolor\":\"#E5ECF6\",\"gridcolor\":\"white\",\"linecolor\":\"white\",\"showbackground\":true,\"ticks\":\"\",\"zerolinecolor\":\"white\",\"gridwidth\":2},\"yaxis\":{\"backgroundcolor\":\"#E5ECF6\",\"gridcolor\":\"white\",\"linecolor\":\"white\",\"showbackground\":true,\"ticks\":\"\",\"zerolinecolor\":\"white\",\"gridwidth\":2},\"zaxis\":{\"backgroundcolor\":\"#E5ECF6\",\"gridcolor\":\"white\",\"linecolor\":\"white\",\"showbackground\":true,\"ticks\":\"\",\"zerolinecolor\":\"white\",\"gridwidth\":2}},\"shapedefaults\":{\"line\":{\"color\":\"#2a3f5f\"}},\"annotationdefaults\":{\"arrowcolor\":\"#2a3f5f\",\"arrowhead\":0,\"arrowwidth\":1},\"geo\":{\"bgcolor\":\"white\",\"landcolor\":\"#E5ECF6\",\"subunitcolor\":\"white\",\"showland\":true,\"showlakes\":true,\"lakecolor\":\"white\"},\"title\":{\"x\":0.05},\"mapbox\":{\"style\":\"light\"}}},\"xaxis\":{\"anchor\":\"y\",\"domain\":[0.0,1.0],\"title\":{\"text\":\"thal\"}},\"yaxis\":{\"anchor\":\"x\",\"domain\":[0.0,1.0],\"title\":{\"text\":\"count\"}},\"legend\":{\"title\":{\"text\":\"dataset\"},\"tracegroupgap\":0},\"margin\":{\"t\":60},\"barmode\":\"relative\"},                        {\"responsive\": true}                    ).then(function(){\n",
       "                            \n",
       "var gd = document.getElementById('51af4d2e-0610-470d-8a83-7c6a62ab7441');\n",
       "var x = new MutationObserver(function (mutations, observer) {{\n",
       "        var display = window.getComputedStyle(gd).display;\n",
       "        if (!display || display === 'none') {{\n",
       "            console.log([gd, 'removed!']);\n",
       "            Plotly.purge(gd);\n",
       "            observer.disconnect();\n",
       "        }}\n",
       "}});\n",
       "\n",
       "// Listen for the removal of the full notebook cells\n",
       "var notebookContainer = gd.closest('#notebook-container');\n",
       "if (notebookContainer) {{\n",
       "    x.observe(notebookContainer, {childList: true});\n",
       "}}\n",
       "\n",
       "// Listen for the clearing of the current output cell\n",
       "var outputEl = gd.closest('.output');\n",
       "if (outputEl) {{\n",
       "    x.observe(outputEl, {childList: true});\n",
       "}}\n",
       "\n",
       "                        })                };                            </script>        </div>\n",
       "</body>\n",
       "</html>"
      ]
     },
     "metadata": {},
     "output_type": "display_data"
    }
   ],
   "source": [
    "# draw the plot of thal column grouped by age column using plotly\n",
    "fig = px.histogram(data_frame=df, x='thal', color='dataset')\n",
    "fig.show()"
   ]
  },
  {
   "cell_type": "code",
   "execution_count": 40,
   "id": "55d07d94",
   "metadata": {
    "execution": {
     "iopub.execute_input": "2025-08-22T17:49:11.340298Z",
     "iopub.status.busy": "2025-08-22T17:49:11.339423Z",
     "iopub.status.idle": "2025-08-22T17:49:11.544572Z",
     "shell.execute_reply": "2025-08-22T17:49:11.543709Z"
    },
    "papermill": {
     "duration": 0.228872,
     "end_time": "2025-08-22T17:49:11.545840",
     "exception": false,
     "start_time": "2025-08-22T17:49:11.316968",
     "status": "completed"
    },
    "tags": []
   },
   "outputs": [
    {
     "data": {
      "text/plain": [
       "<Axes: xlabel='thal', ylabel='count'>"
      ]
     },
     "execution_count": 40,
     "metadata": {},
     "output_type": "execute_result"
    },
    {
     "data": {
      "image/png": "[encoded data removed]",
      "text/plain": [
       "<Figure size 640x480 with 1 Axes>"
      ]
     },
     "metadata": {},
     "output_type": "display_data"
    }
   ],
   "source": [
    "# Plot or groupby to check the people who have thal does the have cp \n",
    "df.groupby('thal')['cp'].value_counts()\n",
    "# Plot to Visualize\n",
    "sns.countplot(df, x='thal', hue='cp')"
   ]
  },
  {
   "cell_type": "code",
   "execution_count": 41,
   "id": "82c4d7e6",
   "metadata": {
    "execution": {
     "iopub.execute_input": "2025-08-22T17:49:11.592126Z",
     "iopub.status.busy": "2025-08-22T17:49:11.591853Z",
     "iopub.status.idle": "2025-08-22T17:49:11.805624Z",
     "shell.execute_reply": "2025-08-22T17:49:11.804544Z"
    },
    "papermill": {
     "duration": 0.238918,
     "end_time": "2025-08-22T17:49:11.807113",
     "exception": false,
     "start_time": "2025-08-22T17:49:11.568195",
     "status": "completed"
    },
    "tags": []
   },
   "outputs": [
    {
     "data": {
      "text/plain": [
       "<Axes: xlabel='thal', ylabel='count'>"
      ]
     },
     "execution_count": 41,
     "metadata": {},
     "output_type": "execute_result"
    },
    {
     "data": {
      "image/png": "[encoded data removed]",
      "text/plain": [
       "<Figure size 640x480 with 1 Axes>"
      ]
     },
     "metadata": {},
     "output_type": "display_data"
    }
   ],
   "source": [
    "# Now Check People with Thal Survive or Not \n",
    "df.groupby('thal')['num'].value_counts()\n",
    "# Plot to Visualize\n",
    "sns.countplot(df, x='thal', hue='num' , palette='viridis')"
   ]
  },
  {
   "cell_type": "markdown",
   "id": "bd503126",
   "metadata": {
    "papermill": {
     "duration": 0.022083,
     "end_time": "2025-08-22T17:49:11.852580",
     "exception": false,
     "start_time": "2025-08-22T17:49:11.830497",
     "status": "completed"
    },
    "tags": []
   },
   "source": [
    "- **Lets Deal With Num , The Target Variable**\n",
    "   * `0 = no heart disease`\n",
    "   * `1 = mild heart disease`\n",
    "   * `2 = moderate heart disease `\n",
    "   * `3 = severe heart disease`\n",
    "   * `4 = critical heart disease `\n"
   ]
  },
  {
   "cell_type": "code",
   "execution_count": 42,
   "id": "22dffb3f",
   "metadata": {
    "execution": {
     "iopub.execute_input": "2025-08-22T17:49:11.899280Z",
     "iopub.status.busy": "2025-08-22T17:49:11.898986Z",
     "iopub.status.idle": "2025-08-22T17:49:11.905228Z",
     "shell.execute_reply": "2025-08-22T17:49:11.904567Z"
    },
    "papermill": {
     "duration": 0.031116,
     "end_time": "2025-08-22T17:49:11.906402",
     "exception": false,
     "start_time": "2025-08-22T17:49:11.875286",
     "status": "completed"
    },
    "tags": []
   },
   "outputs": [
    {
     "data": {
      "text/plain": [
       "num\n",
       "0    411\n",
       "1    265\n",
       "2    109\n",
       "3    107\n",
       "4     28\n",
       "Name: count, dtype: int64"
      ]
     },
     "execution_count": 42,
     "metadata": {},
     "output_type": "execute_result"
    }
   ],
   "source": [
    "df['num'].value_counts()"
   ]
  },
  {
   "cell_type": "code",
   "execution_count": 43,
   "id": "3bd0e3ef",
   "metadata": {
    "execution": {
     "iopub.execute_input": "2025-08-22T17:49:11.953829Z",
     "iopub.status.busy": "2025-08-22T17:49:11.953042Z",
     "iopub.status.idle": "2025-08-22T17:49:12.126485Z",
     "shell.execute_reply": "2025-08-22T17:49:12.125691Z"
    },
    "papermill": {
     "duration": 0.198534,
     "end_time": "2025-08-22T17:49:12.127946",
     "exception": false,
     "start_time": "2025-08-22T17:49:11.929412",
     "status": "completed"
    },
    "tags": []
   },
   "outputs": [
    {
     "data": {
      "text/plain": [
       "<Axes: xlabel='num', ylabel='count'>"
      ]
     },
     "execution_count": 43,
     "metadata": {},
     "output_type": "execute_result"
    },
    {
     "data": {
      "image/png": "[encoded data removed]",
      "text/plain": [
       "<Figure size 640x480 with 1 Axes>"
      ]
     },
     "metadata": {},
     "output_type": "display_data"
    }
   ],
   "source": [
    "# Groupby num with sex \n",
    "df.groupby('num')['sex'].value_counts()\n",
    "# Plot to Visualize\n",
    "sns.countplot(df, x='num', hue='sex')"
   ]
  },
  {
   "cell_type": "code",
   "execution_count": 44,
   "id": "2fff672b",
   "metadata": {
    "execution": {
     "iopub.execute_input": "2025-08-22T17:49:12.177700Z",
     "iopub.status.busy": "2025-08-22T17:49:12.177171Z",
     "iopub.status.idle": "2025-08-22T17:49:12.559677Z",
     "shell.execute_reply": "2025-08-22T17:49:12.558894Z"
    },
    "papermill": {
     "duration": 0.408689,
     "end_time": "2025-08-22T17:49:12.561051",
     "exception": false,
     "start_time": "2025-08-22T17:49:12.152362",
     "status": "completed"
    },
    "tags": []
   },
   "outputs": [
    {
     "data": {
      "text/plain": [
       "<Axes: xlabel='age', ylabel='Count'>"
      ]
     },
     "execution_count": 44,
     "metadata": {},
     "output_type": "execute_result"
    },
    {
     "data": {
      "image/png": "[encoded data removed]",
      "text/plain": [
       "<Figure size 640x480 with 1 Axes>"
      ]
     },
     "metadata": {},
     "output_type": "display_data"
    }
   ],
   "source": [
    "# groupby num by age \n",
    "df.groupby('num')['age'].value_counts()\n",
    "# Plot to Visualize\n",
    "sns.histplot(df, x='age', hue='num')"
   ]
  },
  {
   "cell_type": "code",
   "execution_count": 45,
   "id": "dbc7763a",
   "metadata": {
    "execution": {
     "iopub.execute_input": "2025-08-22T17:49:12.610658Z",
     "iopub.status.busy": "2025-08-22T17:49:12.609721Z",
     "iopub.status.idle": "2025-08-22T17:49:12.662585Z",
     "shell.execute_reply": "2025-08-22T17:49:12.661702Z"
    },
    "papermill": {
     "duration": 0.078752,
     "end_time": "2025-08-22T17:49:12.663921",
     "exception": false,
     "start_time": "2025-08-22T17:49:12.585169",
     "status": "completed"
    },
    "tags": []
   },
   "outputs": [
    {
     "data": {
      "text/html": [
       "<html>\n",
       "<head><meta charset=\"utf-8\" /></head>\n",
       "<body>\n",
       "    <div>            <script src=\"https://cdnjs.cloudflare.com/ajax/libs/mathjax/2.7.5/MathJax.js?config=TeX-AMS-MML_SVG\"></script><script type=\"text/javascript\">if (window.MathJax && window.MathJax.Hub && window.MathJax.Hub.Config) {window.MathJax.Hub.Config({SVG: {font: \"STIX-Web\"}});}</script>                <script type=\"text/javascript\">window.PlotlyConfig = {MathJaxConfig: 'local'};</script>\n",
       "        <script charset=\"utf-8\" src=\"https://cdn.plot.ly/plotly-2.35.2.min.js\"></script>                <div id=\"89c039d3-bb7f-4d55-b9d2-650799ff957f\" class=\"plotly-graph-div\" style=\"height:525px; width:100%;\"></div>            <script type=\"text/javascript\">                                    window.PLOTLYENV=window.PLOTLYENV || {};                                    if (document.getElementById(\"89c039d3-bb7f-4d55-b9d2-650799ff957f\")) {                    Plotly.newPlot(                        \"89c039d3-bb7f-4d55-b9d2-650799ff957f\",                        [{\"alignmentgroup\":\"True\",\"bingroup\":\"x\",\"hovertemplate\":\"num=0\\u003cbr\\u003eage=%{x}\\u003cbr\\u003ecount=%{y}\\u003cextra\\u003e\\u003c\\u002fextra\\u003e\",\"legendgroup\":\"0\",\"marker\":{\"color\":\"#636efa\",\"pattern\":{\"shape\":\"\"}},\"name\":\"0\",\"offsetgroup\":\"0\",\"orientation\":\"v\",\"showlegend\":true,\"x\":[63,37,41,56,57,57,56,44,52,57,54,48,49,64,58,50,58,66,43,69,59,44,42,61,40,71,59,51,65,53,41,65,44,54,51,46,54,54,65,65,51,48,45,53,39,52,44,47,53,53,51,66,62,44,63,52,48,45,34,57,71,54,52,41,58,35,51,45,44,62,54,51,29,51,43,55,51,59,52,58,41,45,60,52,42,67,68,46,54,58,48,57,52,54,45,53,62,52,43,53,42,59,63,42,50,68,69,45,50,50,64,57,64,43,55,37,41,56,46,46,64,59,41,54,39,34,47,67,52,74,54,49,42,41,41,49,60,62,57,64,51,43,42,67,76,70,44,60,44,42,66,71,64,66,39,58,47,35,58,56,56,55,41,38,28,29,29,30,31,32,32,32,33,34,34,34,35,35,35,35,36,36,36,36,37,37,37,37,37,37,37,38,38,38,39,39,39,39,39,39,39,39,39,39,40,40,40,40,40,41,41,41,41,41,41,41,42,42,42,42,42,42,42,43,43,43,43,43,43,43,43,44,44,44,44,45,45,45,45,45,45,45,46,46,46,46,46,46,46,47,47,47,47,47,48,48,48,48,48,48,48,48,48,48,48,49,49,49,49,49,49,49,49,50,50,50,50,50,50,50,51,51,51,51,51,51,51,52,52,52,52,52,52,52,52,53,53,53,53,53,53,53,53,53,54,54,54,54,54,54,54,54,54,54,54,54,54,54,54,54,55,55,55,55,55,55,55,55,55,55,56,56,56,56,56,57,57,57,58,58,58,58,59,59,59,59,59,60,61,61,62,62,38,45,53,53,55,56,65,72,44,66,66,60,56,62,63,60,74,60,59,41,51,42,63,56,62,51,55,65,58,51,40,60,35,63,64,55,45,61,57,61,48,68,62,53,75,54,54,59,41,69,37,63,58,55,57,68,51,62,58],\"xaxis\":\"x\",\"yaxis\":\"y\",\"type\":\"histogram\"},{\"alignmentgroup\":\"True\",\"bingroup\":\"x\",\"hovertemplate\":\"num=2\\u003cbr\\u003eage=%{x}\\u003cbr\\u003ecount=%{y}\\u003cextra\\u003e\\u003c\\u002fextra\\u003e\",\"legendgroup\":\"2\",\"marker\":{\"color\":\"#EF553B\",\"pattern\":{\"shape\":\"\"}},\"name\":\"2\",\"offsetgroup\":\"2\",\"orientation\":\"v\",\"showlegend\":true,\"x\":[67,63,56,60,44,51,54,60,59,59,59,61,43,62,65,60,56,66,69,62,66,55,56,61,67,58,42,52,59,46,57,61,58,44,63,68,38,38,40,41,42,43,47,48,51,51,51,51,52,52,52,52,53,54,55,56,56,56,56,57,57,59,61,61,62,62,63,67,63,60,58,52,69,51,52,60,63,59,62,68,53,61,58,69,57,49,60,61,67,62,63,55,63,62,70,58,58,56,69,64,72,69,69,64,64,58,74,46,55],\"xaxis\":\"x\",\"yaxis\":\"y\",\"type\":\"histogram\"},{\"alignmentgroup\":\"True\",\"bingroup\":\"x\",\"hovertemplate\":\"num=1\\u003cbr\\u003eage=%{x}\\u003cbr\\u003ecount=%{y}\\u003cextra\\u003e\\u003c\\u002fextra\\u003e\",\"legendgroup\":\"1\",\"marker\":{\"color\":\"#00cc96\",\"pattern\":{\"shape\":\"\"}},\"name\":\"1\",\"offsetgroup\":\"1\",\"orientation\":\"v\",\"showlegend\":true,\"x\":[67,53,48,58,64,57,61,60,54,50,41,58,60,46,62,65,44,60,52,57,61,56,65,35,59,64,47,70,51,58,35,59,57,56,60,54,43,59,62,52,63,49,46,47,58,57,40,61,59,57,67,63,57,45,57,31,33,34,35,36,37,38,38,38,40,41,41,43,46,46,46,47,47,48,48,48,49,49,49,50,50,51,52,54,54,55,57,58,59,60,63,65,32,38,39,40,43,45,46,46,48,48,48,48,50,52,52,53,54,54,54,54,54,55,56,57,58,58,41,43,44,44,46,47,48,49,49,51,52,52,52,52,53,53,54,55,55,55,56,56,56,58,59,59,65,66,41,43,44,47,47,49,49,50,50,52,52,54,56,58,65,32,34,36,38,38,38,42,46,46,47,47,50,50,51,53,53,53,54,55,56,56,57,57,58,58,59,59,59,60,60,60,61,61,61,62,62,62,63,63,64,64,65,66,68,69,70,73,74,55,60,59,62,63,57,46,64,60,56,58,40,59,55,53,59,57,58,65,63,75,64,62,55,58,62,43,68,48,63,50,59,72,50,56,54,62,54,48,66,55,38,55,56,51,57,53,74,60,57,55,56,61,62,54,62],\"xaxis\":\"x\",\"yaxis\":\"y\",\"type\":\"histogram\"},{\"alignmentgroup\":\"True\",\"bingroup\":\"x\",\"hovertemplate\":\"num=3\\u003cbr\\u003eage=%{x}\\u003cbr\\u003ecount=%{y}\\u003cextra\\u003e\\u003c\\u002fextra\\u003e\",\"legendgroup\":\"3\",\"marker\":{\"color\":\"#ab63fa\",\"pattern\":{\"shape\":\"\"}},\"name\":\"3\",\"offsetgroup\":\"3\",\"orientation\":\"v\",\"showlegend\":true,\"x\":[62,58,40,43,55,67,58,68,62,60,49,39,63,48,55,56,54,62,64,70,48,51,67,45,58,50,66,53,54,54,52,58,55,59,57,35,43,47,50,50,51,53,54,56,57,57,59,60,60,60,61,61,61,61,62,62,63,63,64,65,65,66,68,69,70,65,60,63,55,54,77,63,55,64,61,61,60,67,54,72,51,69,75,67,63,65,61,65,49,64,59,74,61,55,71,74,57,61,71,67,57,69,48,67,58,61,53],\"xaxis\":\"x\",\"yaxis\":\"y\",\"type\":\"histogram\"},{\"alignmentgroup\":\"True\",\"bingroup\":\"x\",\"hovertemplate\":\"num=4\\u003cbr\\u003eage=%{x}\\u003cbr\\u003ecount=%{y}\\u003cextra\\u003e\\u003c\\u002fextra\\u003e\",\"legendgroup\":\"4\",\"marker\":{\"color\":\"#FFA15A\",\"pattern\":{\"shape\":\"\"}},\"name\":\"4\",\"offsetgroup\":\"4\",\"orientation\":\"v\",\"showlegend\":true,\"x\":[60,65,58,50,63,70,57,55,77,64,38,61,58,43,51,53,55,58,63,57,56,65,76,56,64,62,61,62],\"xaxis\":\"x\",\"yaxis\":\"y\",\"type\":\"histogram\"}],                        {\"template\":{\"data\":{\"histogram2dcontour\":[{\"type\":\"histogram2dcontour\",\"colorbar\":{\"outlinewidth\":0,\"ticks\":\"\"},\"colorscale\":[[0.0,\"#0d0887\"],[0.1111111111111111,\"#46039f\"],[0.2222222222222222,\"#7201a8\"],[0.3333333333333333,\"#9c179e\"],[0.4444444444444444,\"#bd3786\"],[0.5555555555555556,\"#d8576b\"],[0.6666666666666666,\"#ed7953\"],[0.7777777777777778,\"#fb9f3a\"],[0.8888888888888888,\"#fdca26\"],[1.0,\"#f0f921\"]]}],\"choropleth\":[{\"type\":\"choropleth\",\"colorbar\":{\"outlinewidth\":0,\"ticks\":\"\"}}],\"histogram2d\":[{\"type\":\"histogram2d\",\"colorbar\":{\"outlinewidth\":0,\"ticks\":\"\"},\"colorscale\":[[0.0,\"#0d0887\"],[0.1111111111111111,\"#46039f\"],[0.2222222222222222,\"#7201a8\"],[0.3333333333333333,\"#9c179e\"],[0.4444444444444444,\"#bd3786\"],[0.5555555555555556,\"#d8576b\"],[0.6666666666666666,\"#ed7953\"],[0.7777777777777778,\"#fb9f3a\"],[0.8888888888888888,\"#fdca26\"],[1.0,\"#f0f921\"]]}],\"heatmap\":[{\"type\":\"heatmap\",\"colorbar\":{\"outlinewidth\":0,\"ticks\":\"\"},\"colorscale\":[[0.0,\"#0d0887\"],[0.1111111111111111,\"#46039f\"],[0.2222222222222222,\"#7201a8\"],[0.3333333333333333,\"#9c179e\"],[0.4444444444444444,\"#bd3786\"],[0.5555555555555556,\"#d8576b\"],[0.6666666666666666,\"#ed7953\"],[0.7777777777777778,\"#fb9f3a\"],[0.8888888888888888,\"#fdca26\"],[1.0,\"#f0f921\"]]}],\"heatmapgl\":[{\"type\":\"heatmapgl\",\"colorbar\":{\"outlinewidth\":0,\"ticks\":\"\"},\"colorscale\":[[0.0,\"#0d0887\"],[0.1111111111111111,\"#46039f\"],[0.2222222222222222,\"#7201a8\"],[0.3333333333333333,\"#9c179e\"],[0.4444444444444444,\"#bd3786\"],[0.5555555555555556,\"#d8576b\"],[0.6666666666666666,\"#ed7953\"],[0.7777777777777778,\"#fb9f3a\"],[0.8888888888888888,\"#fdca26\"],[1.0,\"#f0f921\"]]}],\"contourcarpet\":[{\"type\":\"contourcarpet\",\"colorbar\":{\"outlinewidth\":0,\"ticks\":\"\"}}],\"contour\":[{\"type\":\"contour\",\"colorbar\":{\"outlinewidth\":0,\"ticks\":\"\"},\"colorscale\":[[0.0,\"#0d0887\"],[0.1111111111111111,\"#46039f\"],[0.2222222222222222,\"#7201a8\"],[0.3333333333333333,\"#9c179e\"],[0.4444444444444444,\"#bd3786\"],[0.5555555555555556,\"#d8576b\"],[0.6666666666666666,\"#ed7953\"],[0.7777777777777778,\"#fb9f3a\"],[0.8888888888888888,\"#fdca26\"],[1.0,\"#f0f921\"]]}],\"surface\":[{\"type\":\"surface\",\"colorbar\":{\"outlinewidth\":0,\"ticks\":\"\"},\"colorscale\":[[0.0,\"#0d0887\"],[0.1111111111111111,\"#46039f\"],[0.2222222222222222,\"#7201a8\"],[0.3333333333333333,\"#9c179e\"],[0.4444444444444444,\"#bd3786\"],[0.5555555555555556,\"#d8576b\"],[0.6666666666666666,\"#ed7953\"],[0.7777777777777778,\"#fb9f3a\"],[0.8888888888888888,\"#fdca26\"],[1.0,\"#f0f921\"]]}],\"mesh3d\":[{\"type\":\"mesh3d\",\"colorbar\":{\"outlinewidth\":0,\"ticks\":\"\"}}],\"scatter\":[{\"fillpattern\":{\"fillmode\":\"overlay\",\"size\":10,\"solidity\":0.2},\"type\":\"scatter\"}],\"parcoords\":[{\"type\":\"parcoords\",\"line\":{\"colorbar\":{\"outlinewidth\":0,\"ticks\":\"\"}}}],\"scatterpolargl\":[{\"type\":\"scatterpolargl\",\"marker\":{\"colorbar\":{\"outlinewidth\":0,\"ticks\":\"\"}}}],\"bar\":[{\"error_x\":{\"color\":\"#2a3f5f\"},\"error_y\":{\"color\":\"#2a3f5f\"},\"marker\":{\"line\":{\"color\":\"#E5ECF6\",\"width\":0.5},\"pattern\":{\"fillmode\":\"overlay\",\"size\":10,\"solidity\":0.2}},\"type\":\"bar\"}],\"scattergeo\":[{\"type\":\"scattergeo\",\"marker\":{\"colorbar\":{\"outlinewidth\":0,\"ticks\":\"\"}}}],\"scatterpolar\":[{\"type\":\"scatterpolar\",\"marker\":{\"colorbar\":{\"outlinewidth\":0,\"ticks\":\"\"}}}],\"histogram\":[{\"marker\":{\"pattern\":{\"fillmode\":\"overlay\",\"size\":10,\"solidity\":0.2}},\"type\":\"histogram\"}],\"scattergl\":[{\"type\":\"scattergl\",\"marker\":{\"colorbar\":{\"outlinewidth\":0,\"ticks\":\"\"}}}],\"scatter3d\":[{\"type\":\"scatter3d\",\"line\":{\"colorbar\":{\"outlinewidth\":0,\"ticks\":\"\"}},\"marker\":{\"colorbar\":{\"outlinewidth\":0,\"ticks\":\"\"}}}],\"scattermapbox\":[{\"type\":\"scattermapbox\",\"marker\":{\"colorbar\":{\"outlinewidth\":0,\"ticks\":\"\"}}}],\"scatterternary\":[{\"type\":\"scatterternary\",\"marker\":{\"colorbar\":{\"outlinewidth\":0,\"ticks\":\"\"}}}],\"scattercarpet\":[{\"type\":\"scattercarpet\",\"marker\":{\"colorbar\":{\"outlinewidth\":0,\"ticks\":\"\"}}}],\"carpet\":[{\"aaxis\":{\"endlinecolor\":\"#2a3f5f\",\"gridcolor\":\"white\",\"linecolor\":\"white\",\"minorgridcolor\":\"white\",\"startlinecolor\":\"#2a3f5f\"},\"baxis\":{\"endlinecolor\":\"#2a3f5f\",\"gridcolor\":\"white\",\"linecolor\":\"white\",\"minorgridcolor\":\"white\",\"startlinecolor\":\"#2a3f5f\"},\"type\":\"carpet\"}],\"table\":[{\"cells\":{\"fill\":{\"color\":\"#EBF0F8\"},\"line\":{\"color\":\"white\"}},\"header\":{\"fill\":{\"color\":\"#C8D4E3\"},\"line\":{\"color\":\"white\"}},\"type\":\"table\"}],\"barpolar\":[{\"marker\":{\"line\":{\"color\":\"#E5ECF6\",\"width\":0.5},\"pattern\":{\"fillmode\":\"overlay\",\"size\":10,\"solidity\":0.2}},\"type\":\"barpolar\"}],\"pie\":[{\"automargin\":true,\"type\":\"pie\"}]},\"layout\":{\"autotypenumbers\":\"strict\",\"colorway\":[\"#636efa\",\"#EF553B\",\"#00cc96\",\"#ab63fa\",\"#FFA15A\",\"#19d3f3\",\"#FF6692\",\"#B6E880\",\"#FF97FF\",\"#FECB52\"],\"font\":{\"color\":\"#2a3f5f\"},\"hovermode\":\"closest\",\"hoverlabel\":{\"align\":\"left\"},\"paper_bgcolor\":\"white\",\"plot_bgcolor\":\"#E5ECF6\",\"polar\":{\"bgcolor\":\"#E5ECF6\",\"angularaxis\":{\"gridcolor\":\"white\",\"linecolor\":\"white\",\"ticks\":\"\"},\"radialaxis\":{\"gridcolor\":\"white\",\"linecolor\":\"white\",\"ticks\":\"\"}},\"ternary\":{\"bgcolor\":\"#E5ECF6\",\"aaxis\":{\"gridcolor\":\"white\",\"linecolor\":\"white\",\"ticks\":\"\"},\"baxis\":{\"gridcolor\":\"white\",\"linecolor\":\"white\",\"ticks\":\"\"},\"caxis\":{\"gridcolor\":\"white\",\"linecolor\":\"white\",\"ticks\":\"\"}},\"coloraxis\":{\"colorbar\":{\"outlinewidth\":0,\"ticks\":\"\"}},\"colorscale\":{\"sequential\":[[0.0,\"#0d0887\"],[0.1111111111111111,\"#46039f\"],[0.2222222222222222,\"#7201a8\"],[0.3333333333333333,\"#9c179e\"],[0.4444444444444444,\"#bd3786\"],[0.5555555555555556,\"#d8576b\"],[0.6666666666666666,\"#ed7953\"],[0.7777777777777778,\"#fb9f3a\"],[0.8888888888888888,\"#fdca26\"],[1.0,\"#f0f921\"]],\"sequentialminus\":[[0.0,\"#0d0887\"],[0.1111111111111111,\"#46039f\"],[0.2222222222222222,\"#7201a8\"],[0.3333333333333333,\"#9c179e\"],[0.4444444444444444,\"#bd3786\"],[0.5555555555555556,\"#d8576b\"],[0.6666666666666666,\"#ed7953\"],[0.7777777777777778,\"#fb9f3a\"],[0.8888888888888888,\"#fdca26\"],[1.0,\"#f0f921\"]],\"diverging\":[[0,\"#8e0152\"],[0.1,\"#c51b7d\"],[0.2,\"#de77ae\"],[0.3,\"#f1b6da\"],[0.4,\"#fde0ef\"],[0.5,\"#f7f7f7\"],[0.6,\"#e6f5d0\"],[0.7,\"#b8e186\"],[0.8,\"#7fbc41\"],[0.9,\"#4d9221\"],[1,\"#276419\"]]},\"xaxis\":{\"gridcolor\":\"white\",\"linecolor\":\"white\",\"ticks\":\"\",\"title\":{\"standoff\":15},\"zerolinecolor\":\"white\",\"automargin\":true,\"zerolinewidth\":2},\"yaxis\":{\"gridcolor\":\"white\",\"linecolor\":\"white\",\"ticks\":\"\",\"title\":{\"standoff\":15},\"zerolinecolor\":\"white\",\"automargin\":true,\"zerolinewidth\":2},\"scene\":{\"xaxis\":{\"backgroundcolor\":\"#E5ECF6\",\"gridcolor\":\"white\",\"linecolor\":\"white\",\"showbackground\":true,\"ticks\":\"\",\"zerolinecolor\":\"white\",\"gridwidth\":2},\"yaxis\":{\"backgroundcolor\":\"#E5ECF6\",\"gridcolor\":\"white\",\"linecolor\":\"white\",\"showbackground\":true,\"ticks\":\"\",\"zerolinecolor\":\"white\",\"gridwidth\":2},\"zaxis\":{\"backgroundcolor\":\"#E5ECF6\",\"gridcolor\":\"white\",\"linecolor\":\"white\",\"showbackground\":true,\"ticks\":\"\",\"zerolinecolor\":\"white\",\"gridwidth\":2}},\"shapedefaults\":{\"line\":{\"color\":\"#2a3f5f\"}},\"annotationdefaults\":{\"arrowcolor\":\"#2a3f5f\",\"arrowhead\":0,\"arrowwidth\":1},\"geo\":{\"bgcolor\":\"white\",\"landcolor\":\"#E5ECF6\",\"subunitcolor\":\"white\",\"showland\":true,\"showlakes\":true,\"lakecolor\":\"white\"},\"title\":{\"x\":0.05},\"mapbox\":{\"style\":\"light\"}}},\"xaxis\":{\"anchor\":\"y\",\"domain\":[0.0,1.0],\"title\":{\"text\":\"age\"}},\"yaxis\":{\"anchor\":\"x\",\"domain\":[0.0,1.0],\"title\":{\"text\":\"count\"}},\"legend\":{\"title\":{\"text\":\"num\"},\"tracegroupgap\":0},\"margin\":{\"t\":60},\"barmode\":\"relative\"},                        {\"responsive\": true}                    ).then(function(){\n",
       "                            \n",
       "var gd = document.getElementById('89c039d3-bb7f-4d55-b9d2-650799ff957f');\n",
       "var x = new MutationObserver(function (mutations, observer) {{\n",
       "        var display = window.getComputedStyle(gd).display;\n",
       "        if (!display || display === 'none') {{\n",
       "            console.log([gd, 'removed!']);\n",
       "            Plotly.purge(gd);\n",
       "            observer.disconnect();\n",
       "        }}\n",
       "}});\n",
       "\n",
       "// Listen for the removal of the full notebook cells\n",
       "var notebookContainer = gd.closest('#notebook-container');\n",
       "if (notebookContainer) {{\n",
       "    x.observe(notebookContainer, {childList: true});\n",
       "}}\n",
       "\n",
       "// Listen for the clearing of the current output cell\n",
       "var outputEl = gd.closest('.output');\n",
       "if (outputEl) {{\n",
       "    x.observe(outputEl, {childList: true});\n",
       "}}\n",
       "\n",
       "                        })                };                            </script>        </div>\n",
       "</body>\n",
       "</html>"
      ]
     },
     "metadata": {},
     "output_type": "display_data"
    }
   ],
   "source": [
    "# Make Histplot using Plotly \n",
    "px.histogram(data_frame=df, x='age', color='num')"
   ]
  },
  {
   "cell_type": "markdown",
   "id": "a53d0245",
   "metadata": {
    "papermill": {
     "duration": 0.023175,
     "end_time": "2025-08-22T17:49:12.711594",
     "exception": false,
     "start_time": "2025-08-22T17:49:12.688419",
     "status": "completed"
    },
    "tags": []
   },
   "source": [
    "<!-- Title -->\n",
    "<p style=\"background-color:#28334AFF;\n",
    "          font-family:'Times New Roman', serif;\n",
    "          font-size:140%;\n",
    "          text-align:center;\n",
    "          color:#FFFFFF;\n",
    "          padding:10px 20px;\n",
    "          border-radius:15px;\">\n",
    "  Conclusions\n",
    "</p>\n",
    "\n",
    "<!-- Content -->\n",
    "<div style=\"border-radius:12px; \n",
    "            padding:18px; \n",
    "            background-color:#F2F2F2; \n",
    "            font-size:115%; \n",
    "            line-height:1.6; \n",
    "            text-align:justify; \n",
    "            font-family:'Times New Roman', serif;\n",
    "            color:#000000;\">\n",
    "\n",
    "  <h3 style=\"color:#28334AFF; font-size:120%; text-align:center; margin-bottom:15px;\">\n",
    "    1. Age Analysis\n",
    "  </h3>\n",
    "\n",
    "  <ul>\n",
    "    <li>Minimum age with heart disease: 28 years.</li>\n",
    "    <li>Most individuals develop heart disease between 53–54 years.</li>\n",
    "    <li>Most males and females are affected at 54–55 years.</li>\n",
    "    <li>Male percentage: 78.91%, Female percentage: 21.09% (Males are 274.23% more than females).</li>\n",
    "  </ul>\n",
    "\n",
    "  <h3 style=\"color:#28334AFF; font-size:120%; text-align:center; margin-bottom:15px;\">\n",
    "    2. Dataset Demographics\n",
    "  </h3>\n",
    "\n",
    "  <ul>\n",
    "    <li>Highest number of participants: Cleveland (304); lowest: Switzerland (123).</li>\n",
    "    <li>Highest number of females: Cleveland (97); lowest: VA Long Beach (6).</li>\n",
    "    <li>Highest number of males: Hungary (212); lowest: Switzerland (113).</li>\n",
    "  </ul>\n",
    "\n",
    "  <h4 style=\"color:#28334AFF; font-size:110%; margin-top:10px;\">Observations by Mean, Median, Mode</h4>\n",
    "  <ul>\n",
    "    <li><b>Mean Age:</b> Cleveland 54.35, Hungary 47.89, Switzerland 55.32, VA Long Beach 59.35</li>\n",
    "    <li><b>Median Age:</b> Cleveland 55.5, Hungary 49.0, Switzerland 56.0, VA Long Beach 60.0</li>\n",
    "    <li><b>Mode Age:</b> Cleveland 58, Hungary 54, Switzerland 61, VA Long Beach 62–63</li>\n",
    "  </ul>\n",
    "\n",
    "  <h3 style=\"color:#28334AFF; font-size:120%; text-align:center; margin-bottom:15px;\">\n",
    "    3. Chest Pain Analysis\n",
    "  </h3>\n",
    "\n",
    "  <p>Chest Pain Levels: 0 = no heart disease, 1 = mild, 2 = moderate, 3 = severe, 4 = critical</p>\n",
    "  \n",
    "  <ul>\n",
    "    <li>104 individuals have no chest pain and no heart disease.</li>\n",
    "    <li>23 individuals have no chest pain but critical heart disease.</li>\n",
    "    <li>83 individuals have no chest pain but severe heart disease.</li>\n",
    "    <li>197 individuals have no chest pain but mild heart disease.</li>\n",
    "    <li>89 individuals have no chest pain but moderate heart disease.</li>\n",
    "  </ul>\n",
    "\n",
    "  <h4 style=\"color:#28334AFF; font-size:110%; margin-top:10px;\">Grouped Results by CP and Num</h4>\n",
    "  <p>The table below summarizes disease severity by chest pain type:</p>\n",
    "  <table style=\"width:100%; border-collapse: collapse; margin-bottom:15px;\">\n",
    "    <tr style=\"background-color:#28334AFF; color:#FFFFFF; text-align:center;\">\n",
    "      <th>CP</th>\n",
    "      <th>Num</th>\n",
    "      <th>Value Count</th>\n",
    "    </tr>\n",
    "    <tr><td>asymptomatic</td><td>1</td><td>197</td></tr>\n",
    "    <tr><td>atypical angina</td><td>0</td><td>150</td></tr>\n",
    "    <tr><td>no-anginal</td><td>0</td><td>131</td></tr>\n",
    "    <tr><td>typical angina</td><td>0</td><td>26</td></tr>\n",
    "    <tr><td>asymptomatic</td><td>0</td><td>104</td></tr>\n",
    "    <tr><td>atypical angina</td><td>1</td><td>19</td></tr>\n",
    "    <tr><td>no-anginal</td><td>1</td><td>37</td></tr>\n",
    "    <tr><td>typical angina</td><td>1</td><td>12</td></tr>\n",
    "    <!-- Add remaining rows as needed -->\n",
    "  </table>\n",
    "\n",
    "  <h3 style=\"color:#28334AFF; font-size:120%; text-align:center; margin-bottom:15px;\">\n",
    "    4. Missing Values Imputation\n",
    "  </h3>\n",
    "\n",
    "  <p>Missing values were imputed using Iterative Imputer and Random Forest methods. Columns with higher missing ratios were addressed using advanced imputation techniques through a dedicated function which returns a complete dataset.</p>\n",
    "  <ul>\n",
    "    <li>Random Forest Classifier</li>\n",
    "    <li>Random Forest Regressor</li>\n",
    "    <li>Iterative Imputer</li>\n",
    "  </ul>\n",
    "\n",
    "  <h3 style=\"color:#28334AFF; font-size:120%; text-align:center; margin-bottom:15px;\">\n",
    "    5. Outliers\n",
    "  </h3>\n",
    "\n",
    "  <p>Only one outlier was detected and removed. Other values were retained as they provided meaningful insights.</p>\n",
    "\n",
    "  <h3 style=\"color:#28334AFF; font-size:120%; text-align:center; margin-bottom:15px;\">\n",
    "    6. Thal Output\n",
    "  </h3>\n",
    "\n",
    "  <ul>\n",
    "    <li>Normal: 110 males, 86 females.</li>\n",
    "    <li>Fixed Defect: 42 males, 4 females.</li>\n",
    "    <li>Reversible Defect: 171 males, 21 females.</li>\n",
    "    <li>The higher male ratio reflects the dataset's gender distribution.</li>\n",
    "    <li>Individuals with thalassemia have an increased likelihood of heart disease, though not universally.</li>\n",
    "  </ul>\n",
    "\n",
    "  <h3 style=\"color:#28334AFF; font-size:120%; text-align:center; margin-bottom:15px;\">\n",
    "    7. Num (Disease Status)\n",
    "  </h3>\n",
    "\n",
    "  <ul>\n",
    "    <li>Males show a higher ratio of being disease-free; females have a lower ratio.</li>\n",
    "    <li>Males are more affected by diseases compared to females according to the dataset.</li>\n",
    "  </ul>\n",
    "\n",
    "</div>\n"
   ]
  },
  {
   "cell_type": "markdown",
   "id": "67b94738",
   "metadata": {
    "papermill": {
     "duration": 0.023815,
     "end_time": "2025-08-22T17:49:12.759242",
     "exception": false,
     "start_time": "2025-08-22T17:49:12.735427",
     "status": "completed"
    },
    "tags": []
   },
   "source": [
    "<!-- Title -->\n",
    "<p style=\"background-color:#28334AFF;\n",
    "          font-family:'Times New Roman', serif;\n",
    "          font-size:140%;\n",
    "          text-align:center;\n",
    "          color:#FFFFFF;\n",
    "          padding:10px 20px;\n",
    "          border-radius:15px;\">\n",
    "  Handling Missing Values\n",
    "</p>\n",
    "\n",
    "<!-- Content -->\n",
    "<div style=\"border-radius:12px; \n",
    "            padding:18px; \n",
    "            background-color:#F2F2F2; \n",
    "            font-size:115%; \n",
    "            line-height:1.6; \n",
    "            text-align:justify; \n",
    "            font-family:'Times New Roman', serif;\n",
    "            color:#000000;\">\n",
    "\n",
    "  <h3 style=\"color:#28334AFF; \n",
    "             font-family:'Times New Roman', serif; \n",
    "             font-size:120%; \n",
    "             text-align:center; \n",
    "             margin-bottom:15px;\">\n",
    "    Why It Is Important to Deal With Missing Values\n",
    "  </h3>\n",
    "\n",
    "  <p>\n",
    "    Handling missing values is a critical step in data analysis and modeling for several reasons:\n",
    "  </p>\n",
    "\n",
    "  <ol>\n",
    "    <li><b>Maintaining Data Integrity:</b> Missing values can lead to inaccuracies, distorting the overall dataset integrity and producing flawed conclusions.</li>\n",
    "    <li><b>Preventing Biased Results:</b> Ignoring missing data may introduce bias, as the available information may not represent the full population, compromising statistical validity.</li>\n",
    "    <li><b>Enhancing Model Performance:</b> Most machine learning algorithms cannot handle missing values directly. Imputation ensures models are trained on complete data, improving performance and generalizability.</li>\n",
    "    <li><b>Preserving Statistical Power:</b> Missing values reduce sample size, weakening statistical power. Addressing missing data preserves reliability and representativeness.</li>\n",
    "    <li><b>Avoiding Misinterpretation:</b> Incomplete data can mislead analysts, potentially leading to incorrect conclusions. Handling missing values ensures insights are accurate and trustworthy.</li>\n",
    "    <li><b>Supporting Decision-Making:</b> Reliable, complete data enables informed decisions in research and business contexts.</li>\n",
    "  </ol>\n",
    "\n",
    "  <p>\n",
    "    Overall, addressing missing values is essential to maintain the quality, accuracy, and reliability of data, which underpins sound data analysis and modeling practices.\n",
    "  </p>\n",
    "\n",
    "  <h3 style=\"color:#28334AFF; \n",
    "             font-family:'Times New Roman', serif; \n",
    "             font-size:120%; \n",
    "             text-align:center; \n",
    "             margin-bottom:15px;\">\n",
    "    Methods for Imputation\n",
    "  </h3>\n",
    "\n",
    "  <p>\n",
    "    To handle missing values, a dedicated function was defined which imputes null values column-wise. The methods applied include:\n",
    "  </p>\n",
    "\n",
    "  <ul>\n",
    "    <li>Random Forest Classifier</li>\n",
    "    <li>Random Forest Regression</li>\n",
    "    <li>Iterative Imputer</li>\n",
    "  </ul>\n",
    "\n",
    "</div>\n"
   ]
  },
  {
   "cell_type": "code",
   "execution_count": 46,
   "id": "37d8792e",
   "metadata": {
    "execution": {
     "iopub.execute_input": "2025-08-22T17:49:12.807857Z",
     "iopub.status.busy": "2025-08-22T17:49:12.807583Z",
     "iopub.status.idle": "2025-08-22T17:49:12.818284Z",
     "shell.execute_reply": "2025-08-22T17:49:12.817655Z"
    },
    "papermill": {
     "duration": 0.036455,
     "end_time": "2025-08-22T17:49:12.819426",
     "exception": false,
     "start_time": "2025-08-22T17:49:12.782971",
     "status": "completed"
    },
    "tags": []
   },
   "outputs": [
    {
     "data": {
      "text/plain": [
       "['trestbps',\n",
       " 'chol',\n",
       " 'fbs',\n",
       " 'restecg',\n",
       " 'thalch',\n",
       " 'exang',\n",
       " 'oldpeak',\n",
       " 'slope',\n",
       " 'ca',\n",
       " 'thal']"
      ]
     },
     "execution_count": 46,
     "metadata": {},
     "output_type": "execute_result"
    }
   ],
   "source": [
    "df.isnull().sum()[df.isnull().sum() > 0].sort_values(ascending=False)\n",
    "missing_data_cols = df.isnull().sum()[df.isnull().sum() > 0].index.tolist()\n",
    "missing_data_cols"
   ]
  },
  {
   "cell_type": "code",
   "execution_count": 47,
   "id": "6b452344",
   "metadata": {
    "execution": {
     "iopub.execute_input": "2025-08-22T17:49:12.869260Z",
     "iopub.status.busy": "2025-08-22T17:49:12.868971Z",
     "iopub.status.idle": "2025-08-22T17:49:12.875622Z",
     "shell.execute_reply": "2025-08-22T17:49:12.874891Z"
    },
    "papermill": {
     "duration": 0.032952,
     "end_time": "2025-08-22T17:49:12.876901",
     "exception": false,
     "start_time": "2025-08-22T17:49:12.843949",
     "status": "completed"
    },
    "tags": []
   },
   "outputs": [
    {
     "data": {
      "text/plain": [
       "thal\n",
       "normal               196\n",
       "reversable defect    192\n",
       "fixed defect          46\n",
       "Name: count, dtype: int64"
      ]
     },
     "execution_count": 47,
     "metadata": {},
     "output_type": "execute_result"
    }
   ],
   "source": [
    "df['thal'].value_counts()"
   ]
  },
  {
   "cell_type": "code",
   "execution_count": 48,
   "id": "285b2552",
   "metadata": {
    "execution": {
     "iopub.execute_input": "2025-08-22T17:49:12.925833Z",
     "iopub.status.busy": "2025-08-22T17:49:12.925496Z",
     "iopub.status.idle": "2025-08-22T17:49:12.929687Z",
     "shell.execute_reply": "2025-08-22T17:49:12.929007Z"
    },
    "papermill": {
     "duration": 0.030135,
     "end_time": "2025-08-22T17:49:12.931057",
     "exception": false,
     "start_time": "2025-08-22T17:49:12.900922",
     "status": "completed"
    },
    "tags": []
   },
   "outputs": [],
   "source": [
    "categorical_cols = ['thal', 'ca', 'slope', 'exang', 'restecg','fbs', 'cp', 'sex', 'num']\n",
    "bool_cols = ['fbs', 'exang']\n",
    "numeric_cols = ['oldpeak', 'thalch', 'chol', 'trestbps', 'age']"
   ]
  },
  {
   "cell_type": "code",
   "execution_count": 49,
   "id": "5f96edb0",
   "metadata": {
    "execution": {
     "iopub.execute_input": "2025-08-22T17:49:12.980666Z",
     "iopub.status.busy": "2025-08-22T17:49:12.980348Z",
     "iopub.status.idle": "2025-08-22T17:49:12.997480Z",
     "shell.execute_reply": "2025-08-22T17:49:12.996858Z"
    },
    "papermill": {
     "duration": 0.043612,
     "end_time": "2025-08-22T17:49:12.998857",
     "exception": false,
     "start_time": "2025-08-22T17:49:12.955245",
     "status": "completed"
    },
    "tags": []
   },
   "outputs": [],
   "source": [
    "# define the function to impute the missing values in thal column\n",
    "\n",
    "def impute_categorical_missing_data(passed_col):\n",
    "    \n",
    "    df_null = df[df[passed_col].isnull()]\n",
    "    df_not_null = df[df[passed_col].notnull()]\n",
    "\n",
    "    X = df_not_null.drop(passed_col, axis=1)\n",
    "    y = df_not_null[passed_col]\n",
    "    \n",
    "    other_missing_cols = [col for col in missing_data_cols if col != passed_col]\n",
    "    \n",
    "    label_encoder = LabelEncoder()\n",
    "\n",
    "    for col in X.columns:\n",
    "        if X[col].dtype == 'object' or X[col].dtype == 'category':\n",
    "            X[col] = label_encoder.fit_transform(X[col])\n",
    "\n",
    "    if passed_col in bool_cols:\n",
    "        y = label_encoder.fit_transform(y)\n",
    "        \n",
    "    iterative_imputer = IterativeImputer(estimator=RandomForestRegressor(random_state=42), add_indicator=True)\n",
    "\n",
    "    for col in other_missing_cols:\n",
    "        if X[col].isnull().sum() > 0:\n",
    "            col_with_missing_values = X[col].values.reshape(-1, 1)\n",
    "            imputed_values = iterative_imputer.fit_transform(col_with_missing_values)\n",
    "            X[col] = imputed_values[:, 0]\n",
    "        else:\n",
    "            pass\n",
    "    \n",
    "    X_train, X_test, y_train, y_test = train_test_split(X, y, test_size=0.2, random_state=42)\n",
    "\n",
    "    rf_classifier = RandomForestClassifier()\n",
    "\n",
    "    rf_classifier.fit(X_train, y_train)\n",
    "\n",
    "    y_pred = rf_classifier.predict(X_test)\n",
    "\n",
    "    acc_score = accuracy_score(y_test, y_pred)\n",
    "\n",
    "    print(\"The feature '\"+ passed_col+ \"' has been imputed with\", round((acc_score * 100), 2), \"accuracy\\n\")\n",
    "\n",
    "    X = df_null.drop(passed_col, axis=1)\n",
    "\n",
    "    for col in X.columns:\n",
    "        if X[col].dtype == 'object' or X[col].dtype == 'category':\n",
    "            X[col] = label_encoder.fit_transform(X[col])\n",
    "\n",
    "    for col in other_missing_cols:\n",
    "        if X[col].isnull().sum() > 0:\n",
    "            col_with_missing_values = X[col].values.reshape(-1, 1)\n",
    "            imputed_values = iterative_imputer.fit_transform(col_with_missing_values)\n",
    "            X[col] = imputed_values[:, 0]\n",
    "        else:\n",
    "            pass\n",
    "                \n",
    "    if len(df_null) > 0: \n",
    "        df_null[passed_col] = rf_classifier.predict(X)\n",
    "        if passed_col in bool_cols:\n",
    "            df_null[passed_col] = df_null[passed_col].map({0: False, 1: True})\n",
    "        else:\n",
    "            pass\n",
    "    else:\n",
    "        pass\n",
    "\n",
    "    df_combined = pd.concat([df_not_null, df_null])\n",
    "    \n",
    "    return df_combined[passed_col]\n",
    "\n",
    "def impute_continuous_missing_data(passed_col):\n",
    "    \n",
    "    df_null = df[df[passed_col].isnull()]\n",
    "    df_not_null = df[df[passed_col].notnull()]\n",
    "\n",
    "    X = df_not_null.drop(passed_col, axis=1)\n",
    "    y = df_not_null[passed_col]\n",
    "    \n",
    "    other_missing_cols = [col for col in missing_data_cols if col != passed_col]\n",
    "    \n",
    "    label_encoder = LabelEncoder()\n",
    "\n",
    "    for col in X.columns:\n",
    "        if X[col].dtype == 'object' or X[col].dtype == 'category':\n",
    "            X[col] = label_encoder.fit_transform(X[col])\n",
    "    \n",
    "    iterative_imputer = IterativeImputer(estimator=RandomForestRegressor(random_state=42), add_indicator=True)\n",
    "\n",
    "    for col in other_missing_cols:\n",
    "        if X[col].isnull().sum() > 0:\n",
    "            col_with_missing_values = X[col].values.reshape(-1, 1)\n",
    "            imputed_values = iterative_imputer.fit_transform(col_with_missing_values)\n",
    "            X[col] = imputed_values[:, 0]\n",
    "        else:\n",
    "            pass\n",
    "    \n",
    "    X_train, X_test, y_train, y_test = train_test_split(X, y, test_size=0.2, random_state=42)\n",
    "\n",
    "    rf_regressor = RandomForestRegressor()\n",
    "\n",
    "    rf_regressor.fit(X_train, y_train)\n",
    "\n",
    "    y_pred = rf_regressor.predict(X_test)\n",
    "\n",
    "    print(\"MAE =\", mean_absolute_error(y_test, y_pred), \"\\n\")\n",
    "    print(\"RMSE =\", mean_squared_error(y_test, y_pred, squared=False), \"\\n\")\n",
    "    print(\"R2 =\", r2_score(y_test, y_pred), \"\\n\")\n",
    "\n",
    "    X = df_null.drop(passed_col, axis=1)\n",
    "\n",
    "    for col in X.columns:\n",
    "        if X[col].dtype == 'object' or X[col].dtype == 'category':\n",
    "            X[col] = label_encoder.fit_transform(X[col])\n",
    "\n",
    "    for col in other_missing_cols:\n",
    "        if X[col].isnull().sum() > 0:\n",
    "            col_with_missing_values = X[col].values.reshape(-1, 1)\n",
    "            imputed_values = iterative_imputer.fit_transform(col_with_missing_values)\n",
    "            X[col] = imputed_values[:, 0]\n",
    "        else:\n",
    "            pass\n",
    "                \n",
    "    if len(df_null) > 0: \n",
    "        df_null[passed_col] = rf_regressor.predict(X)\n",
    "    else:\n",
    "        pass\n",
    "\n",
    "    df_combined = pd.concat([df_not_null, df_null])\n",
    "    \n",
    "    return df_combined[passed_col]"
   ]
  },
  {
   "cell_type": "code",
   "execution_count": 50,
   "id": "f4526082",
   "metadata": {
    "execution": {
     "iopub.execute_input": "2025-08-22T17:49:13.049221Z",
     "iopub.status.busy": "2025-08-22T17:49:13.048630Z",
     "iopub.status.idle": "2025-08-22T17:49:13.057312Z",
     "shell.execute_reply": "2025-08-22T17:49:13.056564Z"
    },
    "papermill": {
     "duration": 0.035377,
     "end_time": "2025-08-22T17:49:13.058583",
     "exception": false,
     "start_time": "2025-08-22T17:49:13.023206",
     "status": "completed"
    },
    "tags": []
   },
   "outputs": [
    {
     "data": {
      "text/plain": [
       "ca          611\n",
       "thal        486\n",
       "slope       309\n",
       "fbs          90\n",
       "oldpeak      62\n",
       "trestbps     59\n",
       "thalch       55\n",
       "exang        55\n",
       "chol         30\n",
       "restecg       2\n",
       "dtype: int64"
      ]
     },
     "execution_count": 50,
     "metadata": {},
     "output_type": "execute_result"
    }
   ],
   "source": [
    "df.isnull().sum()[df.isnull().sum() > 0].sort_values(ascending=False)"
   ]
  },
  {
   "cell_type": "code",
   "execution_count": 51,
   "id": "279f607c",
   "metadata": {
    "execution": {
     "iopub.execute_input": "2025-08-22T17:49:13.108495Z",
     "iopub.status.busy": "2025-08-22T17:49:13.107902Z",
     "iopub.status.idle": "2025-08-22T17:49:15.892071Z",
     "shell.execute_reply": "2025-08-22T17:49:15.891167Z"
    },
    "papermill": {
     "duration": 2.81048,
     "end_time": "2025-08-22T17:49:15.893677",
     "exception": false,
     "start_time": "2025-08-22T17:49:13.083197",
     "status": "completed"
    },
    "tags": []
   },
   "outputs": [
    {
     "name": "stdout",
     "output_type": "stream",
     "text": [
      "Missing Values trestbps : 6.41%\n",
      "MAE = 13.377052023121387 \n",
      "\n",
      "RMSE = 17.336000182052913 \n",
      "\n",
      "R2 = 0.06162678459279913 \n",
      "\n",
      "Missing Values chol : 3.26%\n",
      "MAE = 45.07511235955056 \n",
      "\n",
      "RMSE = 63.81796656695959 \n",
      "\n",
      "R2 = 0.6773701324907851 \n",
      "\n",
      "Missing Values fbs : 9.78%\n",
      "The feature 'fbs' has been imputed with 79.52 accuracy\n",
      "\n",
      "Missing Values restecg : 0.22%\n",
      "The feature 'restecg' has been imputed with 66.3 accuracy\n",
      "\n",
      "Missing Values thalch : 5.98%\n",
      "MAE = 16.5778612716763 \n",
      "\n",
      "RMSE = 21.488719463054323 \n",
      "\n",
      "R2 = 0.3285550900643578 \n",
      "\n",
      "Missing Values exang : 5.98%\n",
      "The feature 'exang' has been imputed with 78.03 accuracy\n",
      "\n",
      "Missing Values oldpeak : 6.74%\n",
      "MAE = 0.5572965116279069 \n",
      "\n",
      "RMSE = 0.7932519724907496 \n",
      "\n",
      "R2 = 0.40051231343391736 \n",
      "\n",
      "Missing Values slope : 33.59%\n",
      "The feature 'slope' has been imputed with 67.48 accuracy\n",
      "\n",
      "Missing Values ca : 66.41%\n",
      "The feature 'ca' has been imputed with 67.74 accuracy\n",
      "\n",
      "Missing Values thal : 52.83%\n",
      "The feature 'thal' has been imputed with 71.26 accuracy\n",
      "\n"
     ]
    }
   ],
   "source": [
    "# remove warning\n",
    "import warnings\n",
    "warnings.filterwarnings('ignore')\n",
    "\n",
    "# impute missing values using our functions\n",
    "for col in missing_data_cols:\n",
    "    print(\"Missing Values\", col, \":\", str(round((df[col].isnull().sum() / len(df)) * 100, 2))+\"%\")\n",
    "    if col in categorical_cols:\n",
    "        df[col] = impute_categorical_missing_data(col)\n",
    "    elif col in numeric_cols:\n",
    "        df[col] = impute_continuous_missing_data(col)\n",
    "    else:\n",
    "        pass"
   ]
  },
  {
   "cell_type": "code",
   "execution_count": 52,
   "id": "746eb779",
   "metadata": {
    "execution": {
     "iopub.execute_input": "2025-08-22T17:49:15.946665Z",
     "iopub.status.busy": "2025-08-22T17:49:15.946347Z",
     "iopub.status.idle": "2025-08-22T17:49:15.954140Z",
     "shell.execute_reply": "2025-08-22T17:49:15.953365Z"
    },
    "papermill": {
     "duration": 0.03643,
     "end_time": "2025-08-22T17:49:15.955534",
     "exception": false,
     "start_time": "2025-08-22T17:49:15.919104",
     "status": "completed"
    },
    "tags": []
   },
   "outputs": [
    {
     "data": {
      "text/plain": [
       "id          0\n",
       "age         0\n",
       "sex         0\n",
       "dataset     0\n",
       "cp          0\n",
       "trestbps    0\n",
       "chol        0\n",
       "fbs         0\n",
       "restecg     0\n",
       "thalch      0\n",
       "exang       0\n",
       "oldpeak     0\n",
       "slope       0\n",
       "ca          0\n",
       "thal        0\n",
       "num         0\n",
       "dtype: int64"
      ]
     },
     "execution_count": 52,
     "metadata": {},
     "output_type": "execute_result"
    }
   ],
   "source": [
    "# Again CHecking Missing Values \n",
    "df.isnull().sum()"
   ]
  },
  {
   "cell_type": "markdown",
   "id": "32a7efcb",
   "metadata": {
    "papermill": {
     "duration": 0.025788,
     "end_time": "2025-08-22T17:49:16.007165",
     "exception": false,
     "start_time": "2025-08-22T17:49:15.981377",
     "status": "completed"
    },
    "tags": []
   },
   "source": [
    "- Here we are Done With Imputing Missing Values , By using Advance Methods Like Random Forest and Iterative Imputer . Which Are More Accurate then using Mean , Median or Mode  We Define a FUnction for Iputing Missing Values , In Which We Passed the Columns Names and The FUnction Return a Dataset With no Missing Values .\n",
    "- \n",
    "      MEthods : \n",
    "      1. Random Forest Classifier \n",
    "      2. Random Forest Regressor\n",
    "      3. Iterative Imputer "
   ]
  },
  {
   "cell_type": "markdown",
   "id": "59d9260e",
   "metadata": {
    "papermill": {
     "duration": 0.023733,
     "end_time": "2025-08-22T17:49:16.054942",
     "exception": false,
     "start_time": "2025-08-22T17:49:16.031209",
     "status": "completed"
    },
    "tags": []
   },
   "source": [
    "<!-- Title -->\n",
    "<p style=\"background-color:#28334AFF;\n",
    "          font-family:'Times New Roman', serif;\n",
    "          font-size:140%;\n",
    "          text-align:center;\n",
    "          color:#FFFFFF;\n",
    "          padding:10px 20px;\n",
    "          border-radius:15px;\">\n",
    "  Handling Outliers\n",
    "</p>\n",
    "\n",
    "<!-- Content -->\n",
    "<div style=\"border-radius:12px; \n",
    "            padding:18px; \n",
    "            background-color:#F2F2F2; \n",
    "            font-size:115%; \n",
    "            line-height:1.6; \n",
    "            text-align:justify; \n",
    "            font-family:'Times New Roman', serif;\n",
    "            color:#000000;\">\n",
    "\n",
    "  <p>\n",
    "    Outliers, statistical anomalies that deviate significantly from the majority of data, \n",
    "    can exert a profound influence on analysis. While they are sometimes regarded as \n",
    "    measurement errors, outliers frequently hold valuable insights. Their detection is \n",
    "    essential for ensuring data integrity, improving model robustness, and enhancing \n",
    "    predictive accuracy. \n",
    "  </p>\n",
    "\n",
    "  <p>\n",
    "    Beyond identifying potential data entry issues, outliers often uncover hidden patterns, \n",
    "    reveal anomalies, and highlight unusual but meaningful behaviours within datasets. \n",
    "    Thoughtful handling of these points—whether through transformation, trimming, or \n",
    "    specialised modelling techniques—strengthens the resilience and reliability of \n",
    "    analytical outcomes. \n",
    "  </p>\n",
    "\n",
    "  <p>\n",
    "    Ultimately, the nuanced treatment of outliers adds depth to statistical understanding, \n",
    "    fostering more informed decision-making and comprehensive insights into the \n",
    "    underlying patterns of data.\n",
    "  </p>\n",
    "\n",
    "</div>\n"
   ]
  },
  {
   "cell_type": "code",
   "execution_count": 53,
   "id": "2632948a",
   "metadata": {
    "execution": {
     "iopub.execute_input": "2025-08-22T17:49:16.104246Z",
     "iopub.status.busy": "2025-08-22T17:49:16.103560Z",
     "iopub.status.idle": "2025-08-22T17:49:16.627672Z",
     "shell.execute_reply": "2025-08-22T17:49:16.626793Z"
    },
    "papermill": {
     "duration": 0.550182,
     "end_time": "2025-08-22T17:49:16.629129",
     "exception": false,
     "start_time": "2025-08-22T17:49:16.078947",
     "status": "completed"
    },
    "tags": []
   },
   "outputs": [
    {
     "data": {
      "image/png": "[encoded data removed]",
      "text/plain": [
       "<Figure size 2000x2000 with 5 Axes>"
      ]
     },
     "metadata": {},
     "output_type": "display_data"
    }
   ],
   "source": [
    "# create box plots for all numeric columns using for loop and subplot\n",
    "plt.figure(figsize=(20, 20))\n",
    "\n",
    "colors = ['red', 'green', 'blue', 'orange', 'purple']\n",
    "\n",
    "for i, col in enumerate(numeric_cols):\n",
    "    plt.subplot(3, 2, i+1)\n",
    "    sns.boxplot(x=df[col], color=colors[i])\n",
    "    plt.title(col)\n",
    "plt.show()"
   ]
  },
  {
   "cell_type": "code",
   "execution_count": 54,
   "id": "a2db133b",
   "metadata": {
    "execution": {
     "iopub.execute_input": "2025-08-22T17:49:16.683361Z",
     "iopub.status.busy": "2025-08-22T17:49:16.683090Z",
     "iopub.status.idle": "2025-08-22T17:49:16.689311Z",
     "shell.execute_reply": "2025-08-22T17:49:16.688680Z"
    },
    "papermill": {
     "duration": 0.033885,
     "end_time": "2025-08-22T17:49:16.690562",
     "exception": false,
     "start_time": "2025-08-22T17:49:16.656677",
     "status": "completed"
    },
    "tags": []
   },
   "outputs": [],
   "source": [
    "# print the row from df where trestbps value is 0\n",
    "df[df['trestbps'] == 0]\n",
    "# remove this row from data\n",
    "df = df[df['trestbps'] != 0]"
   ]
  },
  {
   "cell_type": "code",
   "execution_count": 55,
   "id": "0efc2e11",
   "metadata": {
    "execution": {
     "iopub.execute_input": "2025-08-22T17:49:16.743537Z",
     "iopub.status.busy": "2025-08-22T17:49:16.743223Z",
     "iopub.status.idle": "2025-08-22T17:49:16.760116Z",
     "shell.execute_reply": "2025-08-22T17:49:16.759406Z"
    },
    "papermill": {
     "duration": 0.044998,
     "end_time": "2025-08-22T17:49:16.761729",
     "exception": false,
     "start_time": "2025-08-22T17:49:16.716731",
     "status": "completed"
    },
    "tags": []
   },
   "outputs": [],
   "source": [
    "# Saving The Cleaned Data \n",
    "df.to_csv('heart_disease_cleaned.csv', index=False)"
   ]
  },
  {
   "cell_type": "markdown",
   "id": "969bdff3",
   "metadata": {
    "papermill": {
     "duration": 0.025186,
     "end_time": "2025-08-22T17:49:16.812326",
     "exception": false,
     "start_time": "2025-08-22T17:49:16.787140",
     "status": "completed"
    },
    "tags": []
   },
   "source": [
    "- While Dealing with Outliers , from my Observations There is only One Outlier in the dataset which i removed . Other Values Have some Meaningfull Insight , so we Cannot remove them . Leave them in the Dataset .\n"
   ]
  },
  {
   "cell_type": "markdown",
   "id": "214f6def",
   "metadata": {
    "papermill": {
     "duration": 0.024979,
     "end_time": "2025-08-22T17:49:16.862433",
     "exception": false,
     "start_time": "2025-08-22T17:49:16.837454",
     "status": "completed"
    },
    "tags": []
   },
   "source": [
    "<!-- Title -->\n",
    "<p style=\"background-color:#28334AFF;\n",
    "          font-family:'Times New Roman', serif;\n",
    "          font-size:140%;\n",
    "          text-align:center;\n",
    "          color:#FFFFFF;\n",
    "          padding:10px 20px;\n",
    "          border-radius:15px;\">\n",
    "  Machine Learning ( Model Building )\n",
    "</p>\n",
    "\n",
    "<!-- Content -->\n",
    "<div style=\"font-family:'Times New Roman', serif; font-size:115%; line-height:1.6; color:#000000;\">\n",
    "\n",
    "  <b>1. Data Partitioning:</b><br>\n",
    "  - The dataset is divided into training and testing subsets.<br>\n",
    "  - Commonly, 70–80% of the data is used for training and 20–30% for testing.<br><br>\n",
    "\n",
    "  <b>2. Feature Scaling:</b><br>\n",
    "  - Continuous variables are standardised so that all features contribute equally.<br>\n",
    "  - Prevents attributes with larger numeric ranges from dominating the model.<br><br>\n",
    "\n",
    "  <b>3. Model Selection:</b><br>\n",
    "  - Multiple algorithms are applied for comparison:<br>\n",
    "    • Logistic Regression (baseline)<br>\n",
    "    • Random Forest (bagging-based ensemble)<br>\n",
    "    • XGBoost (gradient boosting framework)<br><br>\n",
    "\n",
    "  <b>4. Hyperparameter Tuning:</b><br>\n",
    "  - Grid Search / Random Search with Cross-Validation is used.<br>\n",
    "  - Key parameters include:<br>\n",
    "    • XGBoost → learning rate, maximum depth.<br>\n",
    "    • Random Forest → number of estimators, maximum features.<br><br>\n",
    "\n",
    "  <b>5. Model Evaluation:</b><br>\n",
    "  - Performance is measured using:<br>\n",
    "    • Accuracy, Precision, Recall, F1-score.<br>\n",
    "    • ROC–AUC score for discriminative ability.<br><br>\n",
    "\n",
    "  <b>6. Model Interpretation:</b><br>\n",
    "  - Feature importance is extracted from ensemble models.<br>\n",
    "  - Identifies the most influential predictors of heart disease.<br><br>\n",
    "\n",
    "</div>\n"
   ]
  },
  {
   "cell_type": "markdown",
   "id": "c93efeb4",
   "metadata": {
    "papermill": {
     "duration": 0.025138,
     "end_time": "2025-08-22T17:49:16.912670",
     "exception": false,
     "start_time": "2025-08-22T17:49:16.887532",
     "status": "completed"
    },
    "tags": []
   },
   "source": [
    "\n",
    " The Target Column is `num` which is the predicted attribute. We will use this column to predict the heart disease. \n",
    " The unique values in this column are: [0, 1].\n",
    "\n",
    "0 = no heart disease\n",
    "1 = heart disease\n",
    "\n",
    "The models that you will use to predict the heart disease. These models should be classifiers for multi-class classification.\n",
    "\n",
    "1. Random Forest\n",
    "2. XGB Classifier.</h3>\n"
   ]
  },
  {
   "cell_type": "code",
   "execution_count": 56,
   "id": "26fac8f5",
   "metadata": {
    "execution": {
     "iopub.execute_input": "2025-08-22T17:49:16.964387Z",
     "iopub.status.busy": "2025-08-22T17:49:16.963658Z",
     "iopub.status.idle": "2025-08-22T17:49:16.997126Z",
     "shell.execute_reply": "2025-08-22T17:49:16.996476Z"
    },
    "papermill": {
     "duration": 0.060797,
     "end_time": "2025-08-22T17:49:16.998584",
     "exception": false,
     "start_time": "2025-08-22T17:49:16.937787",
     "status": "completed"
    },
    "tags": []
   },
   "outputs": [],
   "source": [
    "# Import Libraires \n",
    "import pandas as pd \n",
    "import numpy as np\n",
    "import matplotlib.pyplot as plt\n",
    "import seaborn as sns\n",
    "# Train test Split \n",
    "from sklearn.model_selection import train_test_split\n",
    "# Models \n",
    "from sklearn.naive_bayes import GaussianNB , BernoulliNB , MultinomialNB\n",
    "from sklearn.tree import DecisionTreeClassifier , DecisionTreeRegressor\n",
    "from sklearn.ensemble import RandomForestClassifier , AdaBoostClassifier ,RandomForestRegressor , AdaBoostRegressor\n",
    "from xgboost import XGBClassifier , XGBRegressor\n",
    "from sklearn.linear_model import LinearRegression ,LogisticRegression\n",
    "from sklearn.neighbors import KNeighborsRegressor , KNeighborsClassifier\n",
    "from sklearn.ensemble import GradientBoostingRegressor , GradientBoostingClassifier\n",
    "from sklearn.svm import SVC , SVR\n",
    "from xgboost import XGBClassifier , XGBRegressor\n",
    "# Import Naive Bayes\n",
    "#metrics\n",
    "from sklearn.metrics import mean_squared_error , mean_absolute_error , r2_score , classification_report , accuracy_score , f1_score , precision_score\n",
    "#import grid search cv for cross validation\n",
    "from sklearn.model_selection import GridSearchCV , RandomizedSearchCV\n",
    "# import preprocessors\n",
    "from sklearn.preprocessing import StandardScaler, MinMaxScaler\n",
    "from sklearn.preprocessing import LabelEncoder , OneHotEncoder\n",
    "from sklearn.preprocessing import QuantileTransformer , PowerTransformer\n",
    "from sklearn.compose import ColumnTransformer\n",
    "from sklearn.pipeline import Pipeline\n",
    "# Remove Warning \n",
    "import warnings\n",
    "warnings.filterwarnings('ignore')\n",
    "# Saving Model \n",
    "import pickle"
   ]
  },
  {
   "cell_type": "markdown",
   "id": "5df50c30",
   "metadata": {
    "papermill": {
     "duration": 0.025082,
     "end_time": "2025-08-22T17:49:17.050356",
     "exception": false,
     "start_time": "2025-08-22T17:49:17.025274",
     "status": "completed"
    },
    "tags": []
   },
   "source": [
    "<!-- Title -->\n",
    "<p style=\"background-color:#28334AFF;\n",
    "          font-family:'Times New Roman', serif;\n",
    "          font-size:140%;\n",
    "          text-align:center;\n",
    "          color:#FFFFFF;\n",
    "          padding:10px 20px;\n",
    "          border-radius:15px;\">\n",
    "  Process\n",
    "</p>\n",
    "\n",
    "<!-- Content -->\n",
    "<div style=\"font-family:'Times New Roman', serif; font-size:115%; line-height:1.6; color:#000000;\">\n",
    "\n",
    "  <b>1. Data Cleaning and Column Selection:</b><br>\n",
    "  - Irrelevant attributes such as <code>id</code> and <code>restecg</code> were removed.<br>\n",
    "  - Only clinically relevant variables were retained for further analysis.<br><br>\n",
    "\n",
    "  <b>2. Standardisation of Categorical Features:</b><br>\n",
    "  - Columns such as <code>thal</code> and <code>cp</code> contained trailing spaces, which were removed to ensure consistent categorical encoding.<br><br>\n",
    "\n",
    "  <b>3. Target Variable Transformation:</b><br>\n",
    "  - Initially, the <code>num</code> column contained five categories: 0 (no disease) and 1–4 (varying levels of heart disease).<br>\n",
    "  - To simplify the prediction task into a binary classification, a new column <code>target</code> was created:<br>\n",
    "    <code>data_1['target'] = ((data['num'] > 0) * 1).copy()</code><br>\n",
    "  - Here, values greater than zero were mapped to <b>1 = Disease</b>, while zero was mapped to <b>0 = No Disease</b>.<br><br>\n",
    "\n",
    "  <b>4. Gender Encoding:</b><br>\n",
    "  - The categorical variable <code>sex</code> (Male/Female) was converted into numeric form:<br>\n",
    "    <code>(data['sex'] == 'Male') * 1</code><br>\n",
    "  - In this representation, <b>Male = 1</b> and <b>Female = 0</b>, ensuring compatibility with machine learning algorithms.<br><br>\n",
    "\n",
    "</div>\n"
   ]
  },
  {
   "cell_type": "code",
   "execution_count": 57,
   "id": "3eeb2ac6",
   "metadata": {
    "execution": {
     "iopub.execute_input": "2025-08-22T17:49:17.101830Z",
     "iopub.status.busy": "2025-08-22T17:49:17.101530Z",
     "iopub.status.idle": "2025-08-22T17:49:17.117739Z",
     "shell.execute_reply": "2025-08-22T17:49:17.116915Z"
    },
    "papermill": {
     "duration": 0.0435,
     "end_time": "2025-08-22T17:49:17.119179",
     "exception": false,
     "start_time": "2025-08-22T17:49:17.075679",
     "status": "completed"
    },
    "tags": []
   },
   "outputs": [
    {
     "data": {
      "text/html": [
       "<div>\n",
       "<style scoped>\n",
       "    .dataframe tbody tr th:only-of-type {\n",
       "        vertical-align: middle;\n",
       "    }\n",
       "\n",
       "    .dataframe tbody tr th {\n",
       "        vertical-align: top;\n",
       "    }\n",
       "\n",
       "    .dataframe thead th {\n",
       "        text-align: right;\n",
       "    }\n",
       "</style>\n",
       "<table border=\"1\" class=\"dataframe\">\n",
       "  <thead>\n",
       "    <tr style=\"text-align: right;\">\n",
       "      <th></th>\n",
       "      <th>id</th>\n",
       "      <th>age</th>\n",
       "      <th>sex</th>\n",
       "      <th>dataset</th>\n",
       "      <th>cp</th>\n",
       "      <th>trestbps</th>\n",
       "      <th>chol</th>\n",
       "      <th>fbs</th>\n",
       "      <th>restecg</th>\n",
       "      <th>thalch</th>\n",
       "      <th>exang</th>\n",
       "      <th>oldpeak</th>\n",
       "      <th>slope</th>\n",
       "      <th>ca</th>\n",
       "      <th>thal</th>\n",
       "      <th>num</th>\n",
       "    </tr>\n",
       "  </thead>\n",
       "  <tbody>\n",
       "    <tr>\n",
       "      <th>0</th>\n",
       "      <td>1</td>\n",
       "      <td>63</td>\n",
       "      <td>Male</td>\n",
       "      <td>Cleveland</td>\n",
       "      <td>typical angina</td>\n",
       "      <td>145.0</td>\n",
       "      <td>233.0</td>\n",
       "      <td>True</td>\n",
       "      <td>lv hypertrophy</td>\n",
       "      <td>150.0</td>\n",
       "      <td>False</td>\n",
       "      <td>2.3</td>\n",
       "      <td>downsloping</td>\n",
       "      <td>0.0</td>\n",
       "      <td>fixed defect</td>\n",
       "      <td>0</td>\n",
       "    </tr>\n",
       "    <tr>\n",
       "      <th>1</th>\n",
       "      <td>2</td>\n",
       "      <td>67</td>\n",
       "      <td>Male</td>\n",
       "      <td>Cleveland</td>\n",
       "      <td>asymptomatic</td>\n",
       "      <td>160.0</td>\n",
       "      <td>286.0</td>\n",
       "      <td>False</td>\n",
       "      <td>lv hypertrophy</td>\n",
       "      <td>108.0</td>\n",
       "      <td>True</td>\n",
       "      <td>1.5</td>\n",
       "      <td>flat</td>\n",
       "      <td>3.0</td>\n",
       "      <td>normal</td>\n",
       "      <td>2</td>\n",
       "    </tr>\n",
       "    <tr>\n",
       "      <th>2</th>\n",
       "      <td>3</td>\n",
       "      <td>67</td>\n",
       "      <td>Male</td>\n",
       "      <td>Cleveland</td>\n",
       "      <td>asymptomatic</td>\n",
       "      <td>120.0</td>\n",
       "      <td>229.0</td>\n",
       "      <td>False</td>\n",
       "      <td>lv hypertrophy</td>\n",
       "      <td>129.0</td>\n",
       "      <td>True</td>\n",
       "      <td>2.6</td>\n",
       "      <td>flat</td>\n",
       "      <td>2.0</td>\n",
       "      <td>reversable defect</td>\n",
       "      <td>1</td>\n",
       "    </tr>\n",
       "    <tr>\n",
       "      <th>3</th>\n",
       "      <td>4</td>\n",
       "      <td>37</td>\n",
       "      <td>Male</td>\n",
       "      <td>Cleveland</td>\n",
       "      <td>non-anginal</td>\n",
       "      <td>130.0</td>\n",
       "      <td>250.0</td>\n",
       "      <td>False</td>\n",
       "      <td>normal</td>\n",
       "      <td>187.0</td>\n",
       "      <td>False</td>\n",
       "      <td>3.5</td>\n",
       "      <td>downsloping</td>\n",
       "      <td>0.0</td>\n",
       "      <td>normal</td>\n",
       "      <td>0</td>\n",
       "    </tr>\n",
       "    <tr>\n",
       "      <th>4</th>\n",
       "      <td>5</td>\n",
       "      <td>41</td>\n",
       "      <td>Female</td>\n",
       "      <td>Cleveland</td>\n",
       "      <td>atypical angina</td>\n",
       "      <td>130.0</td>\n",
       "      <td>204.0</td>\n",
       "      <td>False</td>\n",
       "      <td>lv hypertrophy</td>\n",
       "      <td>172.0</td>\n",
       "      <td>False</td>\n",
       "      <td>1.4</td>\n",
       "      <td>upsloping</td>\n",
       "      <td>0.0</td>\n",
       "      <td>normal</td>\n",
       "      <td>0</td>\n",
       "    </tr>\n",
       "  </tbody>\n",
       "</table>\n",
       "</div>"
      ],
      "text/plain": [
       "   id  age     sex    dataset               cp  trestbps   chol    fbs  \\\n",
       "0   1   63    Male  Cleveland   typical angina     145.0  233.0   True   \n",
       "1   2   67    Male  Cleveland     asymptomatic     160.0  286.0  False   \n",
       "2   3   67    Male  Cleveland     asymptomatic     120.0  229.0  False   \n",
       "3   4   37    Male  Cleveland      non-anginal     130.0  250.0  False   \n",
       "4   5   41  Female  Cleveland  atypical angina     130.0  204.0  False   \n",
       "\n",
       "          restecg  thalch  exang  oldpeak        slope   ca  \\\n",
       "0  lv hypertrophy   150.0  False      2.3  downsloping  0.0   \n",
       "1  lv hypertrophy   108.0   True      1.5         flat  3.0   \n",
       "2  lv hypertrophy   129.0   True      2.6         flat  2.0   \n",
       "3          normal   187.0  False      3.5  downsloping  0.0   \n",
       "4  lv hypertrophy   172.0  False      1.4    upsloping  0.0   \n",
       "\n",
       "                thal  num  \n",
       "0       fixed defect    0  \n",
       "1             normal    2  \n",
       "2  reversable defect    1  \n",
       "3             normal    0  \n",
       "4             normal    0  "
      ]
     },
     "execution_count": 57,
     "metadata": {},
     "output_type": "execute_result"
    }
   ],
   "source": [
    "# Load Again The Clean Data \n",
    "data = df.copy()\n",
    "data.head()"
   ]
  },
  {
   "cell_type": "code",
   "execution_count": 58,
   "id": "0199f1ae",
   "metadata": {
    "execution": {
     "iopub.execute_input": "2025-08-22T17:49:17.172676Z",
     "iopub.status.busy": "2025-08-22T17:49:17.171861Z",
     "iopub.status.idle": "2025-08-22T17:49:17.196277Z",
     "shell.execute_reply": "2025-08-22T17:49:17.195520Z"
    },
    "papermill": {
     "duration": 0.052203,
     "end_time": "2025-08-22T17:49:17.197672",
     "exception": false,
     "start_time": "2025-08-22T17:49:17.145469",
     "status": "completed"
    },
    "tags": []
   },
   "outputs": [
    {
     "data": {
      "text/html": [
       "<div>\n",
       "<style scoped>\n",
       "    .dataframe tbody tr th:only-of-type {\n",
       "        vertical-align: middle;\n",
       "    }\n",
       "\n",
       "    .dataframe tbody tr th {\n",
       "        vertical-align: top;\n",
       "    }\n",
       "\n",
       "    .dataframe thead th {\n",
       "        text-align: right;\n",
       "    }\n",
       "</style>\n",
       "<table border=\"1\" class=\"dataframe\">\n",
       "  <thead>\n",
       "    <tr style=\"text-align: right;\">\n",
       "      <th></th>\n",
       "      <th>age</th>\n",
       "      <th>sex</th>\n",
       "      <th>chest_pain_type</th>\n",
       "      <th>country</th>\n",
       "      <th>resting_blood_pressure</th>\n",
       "      <th>cholesterol</th>\n",
       "      <th>fasting_blood_sugar</th>\n",
       "      <th>Restecg</th>\n",
       "      <th>max_heart_rate_achieved</th>\n",
       "      <th>exercise_induced_angina</th>\n",
       "      <th>st_depression</th>\n",
       "      <th>st_slope_type</th>\n",
       "      <th>num_major_vessels</th>\n",
       "      <th>thalassemia_type</th>\n",
       "      <th>target</th>\n",
       "    </tr>\n",
       "  </thead>\n",
       "  <tbody>\n",
       "    <tr>\n",
       "      <th>0</th>\n",
       "      <td>63</td>\n",
       "      <td>1</td>\n",
       "      <td>typical_angina</td>\n",
       "      <td>Cleveland</td>\n",
       "      <td>145.0</td>\n",
       "      <td>233.0</td>\n",
       "      <td>1</td>\n",
       "      <td>left_ventricular_hypertrophy</td>\n",
       "      <td>150.0</td>\n",
       "      <td>0</td>\n",
       "      <td>2.3</td>\n",
       "      <td>downsloping</td>\n",
       "      <td>0.0</td>\n",
       "      <td>fixed_defect</td>\n",
       "      <td>0</td>\n",
       "    </tr>\n",
       "    <tr>\n",
       "      <th>1</th>\n",
       "      <td>67</td>\n",
       "      <td>1</td>\n",
       "      <td>asymptomatic</td>\n",
       "      <td>Cleveland</td>\n",
       "      <td>160.0</td>\n",
       "      <td>286.0</td>\n",
       "      <td>0</td>\n",
       "      <td>left_ventricular_hypertrophy</td>\n",
       "      <td>108.0</td>\n",
       "      <td>1</td>\n",
       "      <td>1.5</td>\n",
       "      <td>flat</td>\n",
       "      <td>3.0</td>\n",
       "      <td>normal</td>\n",
       "      <td>1</td>\n",
       "    </tr>\n",
       "    <tr>\n",
       "      <th>2</th>\n",
       "      <td>67</td>\n",
       "      <td>1</td>\n",
       "      <td>asymptomatic</td>\n",
       "      <td>Cleveland</td>\n",
       "      <td>120.0</td>\n",
       "      <td>229.0</td>\n",
       "      <td>0</td>\n",
       "      <td>left_ventricular_hypertrophy</td>\n",
       "      <td>129.0</td>\n",
       "      <td>1</td>\n",
       "      <td>2.6</td>\n",
       "      <td>flat</td>\n",
       "      <td>2.0</td>\n",
       "      <td>reversable_defect</td>\n",
       "      <td>1</td>\n",
       "    </tr>\n",
       "    <tr>\n",
       "      <th>3</th>\n",
       "      <td>37</td>\n",
       "      <td>1</td>\n",
       "      <td>non-anginal</td>\n",
       "      <td>Cleveland</td>\n",
       "      <td>130.0</td>\n",
       "      <td>250.0</td>\n",
       "      <td>0</td>\n",
       "      <td>normal</td>\n",
       "      <td>187.0</td>\n",
       "      <td>0</td>\n",
       "      <td>3.5</td>\n",
       "      <td>downsloping</td>\n",
       "      <td>0.0</td>\n",
       "      <td>normal</td>\n",
       "      <td>0</td>\n",
       "    </tr>\n",
       "    <tr>\n",
       "      <th>4</th>\n",
       "      <td>41</td>\n",
       "      <td>0</td>\n",
       "      <td>atypical_angina</td>\n",
       "      <td>Cleveland</td>\n",
       "      <td>130.0</td>\n",
       "      <td>204.0</td>\n",
       "      <td>0</td>\n",
       "      <td>left_ventricular_hypertrophy</td>\n",
       "      <td>172.0</td>\n",
       "      <td>0</td>\n",
       "      <td>1.4</td>\n",
       "      <td>upsloping</td>\n",
       "      <td>0.0</td>\n",
       "      <td>normal</td>\n",
       "      <td>0</td>\n",
       "    </tr>\n",
       "  </tbody>\n",
       "</table>\n",
       "</div>"
      ],
      "text/plain": [
       "   age  sex  chest_pain_type    country  resting_blood_pressure  cholesterol  \\\n",
       "0   63    1   typical_angina  Cleveland                   145.0        233.0   \n",
       "1   67    1     asymptomatic  Cleveland                   160.0        286.0   \n",
       "2   67    1     asymptomatic  Cleveland                   120.0        229.0   \n",
       "3   37    1      non-anginal  Cleveland                   130.0        250.0   \n",
       "4   41    0  atypical_angina  Cleveland                   130.0        204.0   \n",
       "\n",
       "  fasting_blood_sugar                       Restecg  max_heart_rate_achieved  \\\n",
       "0                   1  left_ventricular_hypertrophy                    150.0   \n",
       "1                   0  left_ventricular_hypertrophy                    108.0   \n",
       "2                   0  left_ventricular_hypertrophy                    129.0   \n",
       "3                   0                        normal                    187.0   \n",
       "4                   0  left_ventricular_hypertrophy                    172.0   \n",
       "\n",
       "  exercise_induced_angina  st_depression st_slope_type  num_major_vessels  \\\n",
       "0                       0            2.3   downsloping                0.0   \n",
       "1                       1            1.5          flat                3.0   \n",
       "2                       1            2.6          flat                2.0   \n",
       "3                       0            3.5   downsloping                0.0   \n",
       "4                       0            1.4     upsloping                0.0   \n",
       "\n",
       "    thalassemia_type  target  \n",
       "0       fixed_defect       0  \n",
       "1             normal       1  \n",
       "2  reversable_defect       1  \n",
       "3             normal       0  \n",
       "4             normal       0  "
      ]
     },
     "execution_count": 58,
     "metadata": {},
     "output_type": "execute_result"
    }
   ],
   "source": [
    "# In some of the features, there is space will will create problem later on. \n",
    "# So we rename those attributes to handle problems in the future.\n",
    "data['thal'].replace({'fixed defect':'fixed_defect' , 'reversable defect': 'reversable_defect' }, inplace =True)\n",
    "data['cp'].replace({'typical angina':'typical_angina', 'atypical angina': 'atypical_angina' }, inplace =True)\n",
    "data['restecg'].replace({'normal': 'normal' , 'st-t abnormality': 'ST-T_wave_abnormality' , 'lv hypertrophy': 'left_ventricular_hypertrophy' }, inplace =True)\n",
    "\n",
    "# Genrating New Dataset with Less Columns Which Are Necessary .\n",
    "data_1 = data[['age','sex','cp','dataset', 'trestbps', 'chol', 'fbs','restecg' , 'thalch', 'exang', 'oldpeak', 'slope', 'ca', 'thal']].copy()\n",
    "# Some Changes in Target Variable | Only Two Categories (0,1) . 0 for No-Disease , 1 for Disease\n",
    "data_1['target'] = ((data['num'] > 0)*1).copy()\n",
    "# Encoding Sex \n",
    "data_1['sex'] = (data['sex'] == 'Male')*1\n",
    "# Encoding Fbs and exang\n",
    "data_1['fbs'] = (data['fbs'])*1\n",
    "data_1['exang'] = (data['exang'])*1\n",
    "# Renaming COlumns Names.\n",
    "data_1.columns = ['age', 'sex', 'chest_pain_type','country' ,'resting_blood_pressure', \n",
    "              'cholesterol', 'fasting_blood_sugar','Restecg',\n",
    "              'max_heart_rate_achieved', 'exercise_induced_angina', \n",
    "              'st_depression', 'st_slope_type', 'num_major_vessels', \n",
    "              'thalassemia_type', 'target']\n",
    "# Load Data Sample \n",
    "data_1.head()"
   ]
  },
  {
   "cell_type": "markdown",
   "id": "dfbd64d6",
   "metadata": {
    "papermill": {
     "duration": 0.025435,
     "end_time": "2025-08-22T17:49:17.249016",
     "exception": false,
     "start_time": "2025-08-22T17:49:17.223581",
     "status": "completed"
    },
    "tags": []
   },
   "source": [
    "<!-- Title -->\n",
    "<p style=\"background-color:#28334AFF;\n",
    "          font-family:'Times New Roman', serif;\n",
    "          font-size:140%;\n",
    "          text-align:center;\n",
    "          color:#FFFFFF;\n",
    "          padding:10px 20px;\n",
    "          border-radius:15px;\">\n",
    "  Random Forest\n",
    "</p>\n",
    "\n",
    "<!-- Content -->\n",
    "<div style=\"font-family:'Times New Roman', serif; font-size:115%; line-height:1.6; color:#000000;\">\n",
    "\n",
    "  <b>1. Definition:</b><br>\n",
    "  Random Forest is an ensemble learning method that constructs multiple decision trees during training and outputs the mode of the classes (classification) or mean prediction (regression). It reduces overfitting and improves generalization compared to a single decision tree.\n",
    "  <br><br>\n",
    "\n",
    "  <b>2. Key Characteristics:</b>\n",
    "  <ul>\n",
    "    <li><b>Bagging Technique:</b> Uses bootstrap aggregating (bagging) by training trees on different random subsets of the dataset.</li>\n",
    "    <li><b>Random Feature Selection:</b> Splits at each node are determined using a random subset of features, improving diversity among trees.</li>\n",
    "    <li><b>Ensemble Averaging:</b> Predictions are aggregated (majority vote or averaging) across multiple trees for stability.</li>\n",
    "  </ul>\n",
    "\n",
    "  <b>3. Handling Missing Values:</b><br>\n",
    "  Can handle missing values and maintains predictive performance even with noisy data.<br><br>\n",
    "\n",
    "  <b>4. Advantages:</b>\n",
    "  <ul>\n",
    "    <li><b>Robustness:</b> Resistant to overfitting due to ensemble nature.</li>\n",
    "    <li><b>Feature Importance:</b> Provides ranked feature importance for interpretability.</li>\n",
    "    <li><b>Versatility:</b> Performs well on both classification and regression tasks with minimal tuning.</li>\n",
    "  </ul>\n",
    "\n",
    "</div>\n"
   ]
  },
  {
   "cell_type": "markdown",
   "id": "2039c84c",
   "metadata": {
    "papermill": {
     "duration": 0.025271,
     "end_time": "2025-08-22T17:49:17.299888",
     "exception": false,
     "start_time": "2025-08-22T17:49:17.274617",
     "status": "completed"
    },
    "tags": []
   },
   "source": [
    "Random Forest is an ensemble learning technique used for both classification and regression tasks. It builds multiple decision trees during training and merges their predictions to improve accuracy and reduce overfitting.\n",
    "\n",
    "1. High Accuracy\n",
    "2. Robust to Overfitting\n",
    "3. Handles Missing Values\n",
    "\n",
    "Random Forest is a versatile and powerful algorithm, especially effective in scenarios with high-dimensional data and complex relationships. It excels in situations where high accuracy is crucial, and its ability to handle missing values and resist overfitting makes it a popular choice in machine learning applications.</h3>\n"
   ]
  },
  {
   "cell_type": "code",
   "execution_count": 59,
   "id": "92ea98b1",
   "metadata": {
    "execution": {
     "iopub.execute_input": "2025-08-22T17:49:17.352640Z",
     "iopub.status.busy": "2025-08-22T17:49:17.352050Z",
     "iopub.status.idle": "2025-08-22T17:49:17.359780Z",
     "shell.execute_reply": "2025-08-22T17:49:17.359091Z"
    },
    "papermill": {
     "duration": 0.035434,
     "end_time": "2025-08-22T17:49:17.361090",
     "exception": false,
     "start_time": "2025-08-22T17:49:17.325656",
     "status": "completed"
    },
    "tags": []
   },
   "outputs": [],
   "source": [
    "def train_random_forest(data, target):\n",
    "    # Dictionary to store LabelEncoders for each categorical column\n",
    "    label_encoders = {}\n",
    "\n",
    "    # split the data into X and y\n",
    "    X = data.drop(target, axis=1)\n",
    "    y = data[target]\n",
    "\n",
    "    # Create a new LabelEncoder for each categorical column\n",
    "    for col in X.select_dtypes(include=['object', 'category']).columns:\n",
    "        le = LabelEncoder()\n",
    "        X[col] = le.fit_transform(X[col])\n",
    "        label_encoders[col] = le\n",
    "\n",
    "    # split the data into train and test\n",
    "    X_train, X_test, y_train, y_test = train_test_split(X, y, test_size=0.3, random_state=0)\n",
    "\n",
    "    # Scaling Data\n",
    "    scaler = MinMaxScaler()\n",
    "    X_train = scaler.fit_transform(X_train)\n",
    "    X_test = scaler.transform(X_test)\n",
    "\n",
    "    # Define the Random Forest model\n",
    "    rf_model = RandomForestClassifier(random_state=0,class_weight='balanced')\n",
    "\n",
    "    # Define hyperparameters for tuning\n",
    "    param_grid = {\n",
    "        'n_estimators': [50, 100, 150],\n",
    "        'max_depth': [None, 10, 20],\n",
    "        'min_samples_split': [2, 5, 10],\n",
    "        'min_samples_leaf': [1, 2, 4]\n",
    "    }\n",
    "\n",
    "    # Perform GridSearchCV for hyperparameter tuning\n",
    "    grid_search = GridSearchCV(rf_model, param_grid, cv=5, scoring='accuracy')\n",
    "    grid_search.fit(X_train, y_train)\n",
    "\n",
    "    # Get the best model and parameters\n",
    "    best_rf_model = grid_search.best_estimator_\n",
    "    best_params = grid_search.best_params_\n",
    "\n",
    "    # Print the best hyperparameters\n",
    "    print('Best Hyperparameters:')\n",
    "    print(best_params)\n",
    "\n",
    "    # Train the model on the full training set\n",
    "    best_rf_model.fit(X_train, y_train)\n",
    "\n",
    "    # Evaluate the model on the test set\n",
    "    y_pred = best_rf_model.predict(X_test)\n",
    "    accuracy = accuracy_score(y_test, y_pred)\n",
    "\n",
    "    print(f'Accuracy on Test Set: {accuracy:.2f}')\n",
    "\n",
    "    # Inverse transform at the End\n",
    "    # Loop through each column to decode the data\n",
    "    for col, le in label_encoders.items():\n",
    "        # Use the inverse_transform method to decode the column in both training and test sets\n",
    "        X[col] = le.inverse_transform(X[col])\n",
    "\n",
    "    return best_rf_model, best_params, accuracy\n"
   ]
  },
  {
   "cell_type": "code",
   "execution_count": 60,
   "id": "f63d9c2b",
   "metadata": {
    "execution": {
     "iopub.execute_input": "2025-08-22T17:49:17.414286Z",
     "iopub.status.busy": "2025-08-22T17:49:17.413582Z",
     "iopub.status.idle": "2025-08-22T17:50:21.753780Z",
     "shell.execute_reply": "2025-08-22T17:50:21.752959Z"
    },
    "papermill": {
     "duration": 64.39352,
     "end_time": "2025-08-22T17:50:21.780586",
     "exception": false,
     "start_time": "2025-08-22T17:49:17.387066",
     "status": "completed"
    },
    "tags": []
   },
   "outputs": [
    {
     "name": "stdout",
     "output_type": "stream",
     "text": [
      "Best Hyperparameters:\n",
      "{'max_depth': 10, 'min_samples_leaf': 1, 'min_samples_split': 10, 'n_estimators': 50}\n",
      "Accuracy on Test Set: 0.85\n"
     ]
    },
    {
     "data": {
      "text/plain": [
       "(RandomForestClassifier(class_weight='balanced', max_depth=10,\n",
       "                        min_samples_split=10, n_estimators=50, random_state=0),\n",
       " {'max_depth': 10,\n",
       "  'min_samples_leaf': 1,\n",
       "  'min_samples_split': 10,\n",
       "  'n_estimators': 50},\n",
       " 0.8478260869565217)"
      ]
     },
     "execution_count": 60,
     "metadata": {},
     "output_type": "execute_result"
    }
   ],
   "source": [
    "train_random_forest(data_1, 'target')"
   ]
  },
  {
   "cell_type": "markdown",
   "id": "ae0baf34",
   "metadata": {
    "papermill": {
     "duration": 0.026323,
     "end_time": "2025-08-22T17:50:21.832776",
     "exception": false,
     "start_time": "2025-08-22T17:50:21.806453",
     "status": "completed"
    },
    "tags": []
   },
   "source": [
    "<!-- Title -->\n",
    "<p style=\"background-color:#28334AFF;\n",
    "          font-family:'Times New Roman', serif;\n",
    "          font-size:140%;\n",
    "          text-align:center;\n",
    "          color:#FFFFFF;\n",
    "          padding:10px 20px;\n",
    "          border-radius:15px;\">\n",
    "  XGBoost\n",
    "</p>\n",
    "\n",
    "<!-- Content -->\n",
    "<div style=\"font-family:'Times New Roman', serif; font-size:115%; line-height:1.6; color:#000000;\">\n",
    "\n",
    "  <b>1. Definition:</b><br>\n",
    "  XGBoost is a scalable and efficient machine learning algorithm that belongs to the ensemble learning category. Specifically, it is a gradient boosting framework designed for speed and performance, utilizing decision trees as base learners.\n",
    "  <br><br>\n",
    "\n",
    "  <b>2. Key Characteristics:</b>\n",
    "  <ul>\n",
    "    <li><b>Gradient Boosting:</b> Builds an ensemble of weak learners (usually decision trees) sequentially, each correcting the errors of its predecessor.</li>\n",
    "    <li><b>Regularization:</b> Implements regularization techniques to prevent overfitting.</li>\n",
    "    <li><b>Parallel Processing:</b> Allows parallelization of tree construction, making it computationally efficient.</li>\n",
    "  </ul>\n",
    "\n",
    "  <b>3. Handling Missing Values:</b><br>\n",
    "  XGBoost can natively handle missing values in the dataset.<br><br>\n",
    "\n",
    "  <b>4. Advantages:</b>\n",
    "  <ul>\n",
    "    <li><b>High Performance:</b> Achieves high accuracy and efficiency, often outperforming other algorithms.</li>\n",
    "    <li><b>Feature Importance:</b> Provides insights into feature importance, aiding interpretability.</li>\n",
    "    <li><b>Flexibility:</b> Can handle various types of data and problems, including regression and classification.</li>\n",
    "  </ul>\n",
    "\n",
    "</div>\n"
   ]
  },
  {
   "cell_type": "code",
   "execution_count": 61,
   "id": "159031ed",
   "metadata": {
    "execution": {
     "iopub.execute_input": "2025-08-22T17:50:21.887236Z",
     "iopub.status.busy": "2025-08-22T17:50:21.886235Z",
     "iopub.status.idle": "2025-08-22T17:50:21.894723Z",
     "shell.execute_reply": "2025-08-22T17:50:21.893788Z"
    },
    "papermill": {
     "duration": 0.037088,
     "end_time": "2025-08-22T17:50:21.896085",
     "exception": false,
     "start_time": "2025-08-22T17:50:21.858997",
     "status": "completed"
    },
    "tags": []
   },
   "outputs": [],
   "source": [
    "def train_xgb_classifier(data, target):\n",
    "    # split the data into X and y\n",
    "    X = data.drop(target, axis=1)\n",
    "    y = data[target]\n",
    "    \n",
    "    # encode X data using separate label encoder for all categorical columns and save it for inverse transform\n",
    "    # Task: Separate Encoder for all cat and object columns and inverse transform at the end\n",
    "\n",
    "    label_encoder = LabelEncoder()\n",
    "\n",
    "    for col in X.columns:\n",
    "        if X[col].dtype == 'object' or X[col].dtype == 'category':\n",
    "            X[col] = label_encoder.fit_transform(X[col])\n",
    "        else:\n",
    "            pass\n",
    "\n",
    "    # split the data into train and test\n",
    "    X_train, X_test, y_train, y_test = train_test_split(X, y, test_size=0.3, random_state=0)\n",
    "\n",
    "    \n",
    "    # Scaling Data \n",
    "    scaler = MinMaxScaler()\n",
    "    X_train = scaler.fit_transform(X_train)\n",
    "    X_test = scaler.transform(X_test)\n",
    "\n",
    "    # Define the XGBClassifier model\n",
    "    xgb_model = XGBClassifier(random_state=0)\n",
    "\n",
    "    # Define hyperparameters for tuning\n",
    "    param_grid = {\n",
    "        'n_estimators': [50, 100, 150],\n",
    "        'max_depth': [3, 5, 7],\n",
    "        'learning_rate': [0.01, 0.1, 0.2],\n",
    "        'subsample': [0.8, 1.0],\n",
    "        'colsample_bytree': [0.8, 1.0],\n",
    "        'gamma': [0, 1, 2]\n",
    "    }\n",
    "\n",
    "    # Perform GridSearchCV for hyperparameter tuning\n",
    "    grid_search = GridSearchCV(xgb_model, param_grid, cv=5, scoring='accuracy')\n",
    "    grid_search.fit(X_train, y_train)\n",
    "\n",
    "    # Get the best model and parameters\n",
    "    best_xgb_model = grid_search.best_estimator_\n",
    "    best_params = grid_search.best_params_\n",
    "\n",
    "    # Print the best hyperparameters\n",
    "    print('Best Hyperparameters:')\n",
    "    print(best_params)\n",
    "\n",
    "    # Train the model on the full training set\n",
    "    best_xgb_model.fit(X_train, y_train)\n",
    "\n",
    "    # Evaluate the model on the test set\n",
    "    y_pred = best_xgb_model.predict(X_test)\n",
    "    accuracy = accuracy_score(y_test, y_pred)\n",
    "    print(f'Accuracy on Test Set: {accuracy:.2f}')\n",
    "\n",
    "\n",
    "    return best_xgb_model, best_params"
   ]
  },
  {
   "cell_type": "code",
   "execution_count": 62,
   "id": "84c7fa12",
   "metadata": {
    "execution": {
     "iopub.execute_input": "2025-08-22T17:50:21.948350Z",
     "iopub.status.busy": "2025-08-22T17:50:21.948085Z",
     "iopub.status.idle": "2025-08-22T17:51:29.658292Z",
     "shell.execute_reply": "2025-08-22T17:51:29.657312Z"
    },
    "papermill": {
     "duration": 67.764124,
     "end_time": "2025-08-22T17:51:29.685826",
     "exception": false,
     "start_time": "2025-08-22T17:50:21.921702",
     "status": "completed"
    },
    "tags": []
   },
   "outputs": [
    {
     "name": "stdout",
     "output_type": "stream",
     "text": [
      "Best Hyperparameters:\n",
      "{'colsample_bytree': 0.8, 'gamma': 0, 'learning_rate': 0.1, 'max_depth': 7, 'n_estimators': 50, 'subsample': 0.8}\n",
      "Accuracy on Test Set: 0.85\n"
     ]
    },
    {
     "data": {
      "text/plain": [
       "(XGBClassifier(base_score=None, booster=None, callbacks=None,\n",
       "               colsample_bylevel=None, colsample_bynode=None,\n",
       "               colsample_bytree=0.8, device=None, early_stopping_rounds=None,\n",
       "               enable_categorical=False, eval_metric=None, feature_types=None,\n",
       "               gamma=0, grow_policy=None, importance_type=None,\n",
       "               interaction_constraints=None, learning_rate=0.1, max_bin=None,\n",
       "               max_cat_threshold=None, max_cat_to_onehot=None,\n",
       "               max_delta_step=None, max_depth=7, max_leaves=None,\n",
       "               min_child_weight=None, missing=nan, monotone_constraints=None,\n",
       "               multi_strategy=None, n_estimators=50, n_jobs=None,\n",
       "               num_parallel_tree=None, random_state=0, ...),\n",
       " {'colsample_bytree': 0.8,\n",
       "  'gamma': 0,\n",
       "  'learning_rate': 0.1,\n",
       "  'max_depth': 7,\n",
       "  'n_estimators': 50,\n",
       "  'subsample': 0.8})"
      ]
     },
     "execution_count": 62,
     "metadata": {},
     "output_type": "execute_result"
    }
   ],
   "source": [
    "train_xgb_classifier(data_1,'target')"
   ]
  },
  {
   "cell_type": "markdown",
   "id": "fb5a55e7",
   "metadata": {
    "papermill": {
     "duration": 0.025476,
     "end_time": "2025-08-22T17:51:29.737418",
     "exception": false,
     "start_time": "2025-08-22T17:51:29.711942",
     "status": "completed"
    },
    "tags": []
   },
   "source": [
    "<p style=\"background-color:#28334AFF; \n",
    "          font-family:'Times New Roman', serif; \n",
    "          font-size:140%; \n",
    "          text-align:center; \n",
    "          color:#FFFFFF; \n",
    "          padding:10px 20px; \n",
    "          border-radius:20px;\">\n",
    "  Final Conclusion\n",
    "</p>\n"
   ]
  },
  {
   "cell_type": "markdown",
   "id": "b1c1baa4",
   "metadata": {
    "papermill": {
     "duration": 0.02548,
     "end_time": "2025-08-22T17:51:29.788519",
     "exception": false,
     "start_time": "2025-08-22T17:51:29.763039",
     "status": "completed"
    },
    "tags": []
   },
   "source": [
    "<h3 style=\"color:Black; font-family:Times New Roman; font-size:110%;\">\n",
    "\n",
    "<div style=\"border-radius:12px; padding:20px; background-color:#DCE6F1; font-size:115%; text-align:justify; line-height:1.6;\">\n",
    "\n",
    "Heart disease is a leading cause of mortality worldwide, affecting individuals across diverse demographic and clinical groups. Early risk prediction is therefore critical to improve patient outcomes and support timely interventions.  \n",
    "<br><br>\n",
    "This study employs the well-established UCI Heart Disease dataset to develop predictive models for accurate heart disease classification. Comprehensive Exploratory Data Analysis (EDA) is conducted to identify key patterns in age, sex, chest pain types, and geographical cohorts from Cleveland, Hungary, Switzerland, and VA Long Beach. Data preprocessing includes handling missing values, mitigating outliers, and applying feature scaling through Standard Scaler, Simple Imputer, and Iterative Imputer.  \n",
    "<br><br>\n",
    "Two advanced ensemble methods—Random Forest and XGBoost Classifier—are trained and optimized using grid search with train-test splits. Model performance is rigorously evaluated using accuracy, confusion matrices, and classification reports. Both models demonstrate strong predictive capabilities, with XGBoost slightly outperforming Random Forest in terms of accuracy.  \n",
    "<br><br>\n",
    "The findings highlight the potential of machine learning to enhance heart disease risk assessment and support clinical decision-making, providing valuable insights for future healthcare applications.  \n",
    "\n",
    "</div>\n",
    "</h3>\n"
   ]
  }
 ],
 "metadata": {
  "kaggle": {
   "accelerator": "none",
   "dataSources": [
    {
     "datasetId": 8066065,
     "sourceId": 12759741,
     "sourceType": "datasetVersion"
    }
   ],
   "dockerImageVersionId": 31089,
   "isGpuEnabled": false,
   "isInternetEnabled": true,
   "language": "python",
   "sourceType": "notebook"
  },
  "kernelspec": {
   "display_name": "Python 3",
   "language": "python",
   "name": "python3"
  },
  "language_info": {
   "codemirror_mode": {
    "name": "ipython",
    "version": 3
   },
   "file_extension": ".py",
   "mimetype": "text/x-python",
   "name": "python",
   "nbconvert_exporter": "python",
   "pygments_lexer": "ipython3",
   "version": "3.11.13"
  },
  "papermill": {
   "default_parameters": {},
   "duration": 156.664813,
   "end_time": "2025-08-22T17:51:30.734639",
   "environment_variables": {},
   "exception": null,
   "input_path": "__notebook__.ipynb",
   "output_path": "__notebook__.ipynb",
   "parameters": {},
   "start_time": "2025-08-22T17:48:54.069826",
   "version": "2.6.0"
  }
 },
 "nbformat": 4,
 "nbformat_minor": 5
}
