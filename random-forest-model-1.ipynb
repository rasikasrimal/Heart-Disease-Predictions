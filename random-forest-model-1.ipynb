{
 "cells": [
  {
   "cell_type": "code",
   "execution_count": 1,
   "id": "4d34a2be",
   "metadata": {
    "_cell_guid": "b1076dfc-b9ad-4769-8c92-a6c4dae69d19",
    "_uuid": "8f2839f25d086af736a60e9eeb907d3b93b6e0e5",
    "execution": {
     "iopub.execute_input": "2025-08-25T17:21:56.430013Z",
     "iopub.status.busy": "2025-08-25T17:21:56.429742Z",
     "iopub.status.idle": "2025-08-25T17:22:00.553232Z",
     "shell.execute_reply": "2025-08-25T17:22:00.552095Z"
    },
    "papermill": {
     "duration": 4.127871,
     "end_time": "2025-08-25T17:22:00.554813",
     "exception": false,
     "start_time": "2025-08-25T17:21:56.426942",
     "status": "completed"
    },
    "tags": []
   },
   "outputs": [
    {
     "name": "stdout",
     "output_type": "stream",
     "text": [
      "Core Libraries: pandas, numpy, matplotlib.pyplot, seaborn, warnings\n",
      "Train/Test Split: train_test_split, GridSearchCV, RandomizedSearchCV\n",
      "Models: GaussianNB, BernoulliNB, MultinomialNB, DecisionTreeClassifier, DecisionTreeRegressor, RandomForestClassifier, RandomForestRegressor, AdaBoostClassifier, AdaBoostRegressor, GradientBoostingClassifier, GradientBoostingRegressor, XGBClassifier, XGBRegressor, LogisticRegression, LinearRegression, KNeighborsClassifier, KNeighborsRegressor, SVC, SVR\n",
      "Preprocessing: StandardScaler, MinMaxScaler, LabelEncoder, OneHotEncoder, QuantileTransformer, PowerTransformer, ColumnTransformer, Pipeline\n",
      "Metrics: mean_squared_error, mean_absolute_error, r2_score, classification_report, accuracy_score, f1_score, precision_score\n",
      "Other: pickle\n"
     ]
    }
   ],
   "source": [
    "import os\n",
    "import warnings\n",
    "import pickle\n",
    "\n",
    "import numpy as np\n",
    "import pandas as pd\n",
    "import matplotlib.pyplot as plt\n",
    "import seaborn as sns\n",
    "\n",
    "from sklearn.model_selection import train_test_split, GridSearchCV, RandomizedSearchCV\n",
    "\n",
    "from sklearn.naive_bayes import GaussianNB, BernoulliNB, MultinomialNB\n",
    "from sklearn.tree import DecisionTreeClassifier, DecisionTreeRegressor\n",
    "from sklearn.ensemble import (\n",
    "    RandomForestClassifier, RandomForestRegressor,\n",
    "    AdaBoostClassifier, AdaBoostRegressor,\n",
    "    GradientBoostingClassifier, GradientBoostingRegressor\n",
    ")\n",
    "from xgboost import XGBClassifier, XGBRegressor\n",
    "from sklearn.linear_model import LogisticRegression, LinearRegression\n",
    "from sklearn.neighbors import KNeighborsClassifier, KNeighborsRegressor\n",
    "from sklearn.svm import SVC, SVR\n",
    "\n",
    "from sklearn.preprocessing import (\n",
    "    StandardScaler, MinMaxScaler,\n",
    "    LabelEncoder, OneHotEncoder,\n",
    "    QuantileTransformer, PowerTransformer\n",
    ")\n",
    "from sklearn.compose import ColumnTransformer\n",
    "from sklearn.pipeline import Pipeline\n",
    "\n",
    "from sklearn.metrics import (\n",
    "    mean_squared_error, mean_absolute_error, r2_score,\n",
    "    classification_report, accuracy_score, f1_score, precision_score\n",
    ")\n",
    "\n",
    "warnings.filterwarnings('ignore')\n",
    "\n",
    "print(\"Core Libraries: pandas, numpy, matplotlib.pyplot, seaborn, warnings\")\n",
    "print(\"Train/Test Split: train_test_split, GridSearchCV, RandomizedSearchCV\")\n",
    "print(\"Models: GaussianNB, BernoulliNB, MultinomialNB, DecisionTreeClassifier, DecisionTreeRegressor, \"\n",
    "      \"RandomForestClassifier, RandomForestRegressor, AdaBoostClassifier, AdaBoostRegressor, \"\n",
    "      \"GradientBoostingClassifier, GradientBoostingRegressor, XGBClassifier, XGBRegressor, \"\n",
    "      \"LogisticRegression, LinearRegression, KNeighborsClassifier, KNeighborsRegressor, SVC, SVR\")\n",
    "print(\"Preprocessing: StandardScaler, MinMaxScaler, LabelEncoder, OneHotEncoder, \"\n",
    "      \"QuantileTransformer, PowerTransformer, ColumnTransformer, Pipeline\")\n",
    "print(\"Metrics: mean_squared_error, mean_absolute_error, r2_score, \"\n",
    "      \"classification_report, accuracy_score, f1_score, precision_score\")\n",
    "print(\"Other: pickle\")\n"
   ]
  },
  {
   "cell_type": "code",
   "execution_count": 2,
   "id": "9ff3c805",
   "metadata": {
    "execution": {
     "iopub.execute_input": "2025-08-25T17:22:00.559281Z",
     "iopub.status.busy": "2025-08-25T17:22:00.558895Z",
     "iopub.status.idle": "2025-08-25T17:22:00.565848Z",
     "shell.execute_reply": "2025-08-25T17:22:00.565189Z"
    },
    "papermill": {
     "duration": 0.010306,
     "end_time": "2025-08-25T17:22:00.566873",
     "exception": false,
     "start_time": "2025-08-25T17:22:00.556567",
     "status": "completed"
    },
    "tags": []
   },
   "outputs": [],
   "source": [
    "def train_random_forest(data, target):\n",
    "    # Dictionary to store LabelEncoders for each categorical column\n",
    "    label_encoders = {}\n",
    "\n",
    "    # split the data into X and y\n",
    "    X = data.drop(target, axis=1)\n",
    "    y = data[target]\n",
    "\n",
    "    # Create a new LabelEncoder for each categorical column\n",
    "    for col in X.select_dtypes(include=['object', 'category']).columns:\n",
    "        le = LabelEncoder()\n",
    "        X[col] = le.fit_transform(X[col])\n",
    "        label_encoders[col] = le\n",
    "\n",
    "    # split the data into train and test\n",
    "    X_train, X_test, y_train, y_test = train_test_split(X, y, test_size=0.3, random_state=0)\n",
    "\n",
    "    # Scaling Data\n",
    "    scaler = MinMaxScaler()\n",
    "    X_train = scaler.fit_transform(X_train)\n",
    "    X_test = scaler.transform(X_test)\n",
    "\n",
    "    # Define the Random Forest model\n",
    "    rf_model = RandomForestClassifier(random_state=0,class_weight='balanced')\n",
    "\n",
    "    # Define hyperparameters for tuning\n",
    "    param_grid = {\n",
    "        'n_estimators': [50, 100, 150],\n",
    "        'max_depth': [None, 10, 20],\n",
    "        'min_samples_split': [2, 5, 10],\n",
    "        'min_samples_leaf': [1, 2, 4]\n",
    "    }\n",
    "\n",
    "    # Perform GridSearchCV for hyperparameter tuning\n",
    "    grid_search = GridSearchCV(rf_model, param_grid, cv=5, scoring='accuracy')\n",
    "    grid_search.fit(X_train, y_train)\n",
    "\n",
    "    # Get the best model and parameters\n",
    "    best_rf_model = grid_search.best_estimator_\n",
    "    best_params = grid_search.best_params_\n",
    "\n",
    "    # Print the best hyperparameters\n",
    "    print('Best Hyperparameters:')\n",
    "    print(best_params)\n",
    "\n",
    "    # Train the model on the full training set\n",
    "    best_rf_model.fit(X_train, y_train)\n",
    "\n",
    "    # Evaluate the model on the test set\n",
    "    y_pred = best_rf_model.predict(X_test)\n",
    "    accuracy = accuracy_score(y_test, y_pred)\n",
    "\n",
    "    print(f'Accuracy on Test Set: {accuracy:.2f}')\n",
    "\n",
    "    # Inverse transform at the End\n",
    "    # Loop through each column to decode the data\n",
    "    for col, le in label_encoders.items():\n",
    "        # Use the inverse_transform method to decode the column in both training and test sets\n",
    "        X[col] = le.inverse_transform(X[col])\n",
    "\n",
    "    return best_rf_model, best_params, accuracy\n"
   ]
  },
  {
   "cell_type": "code",
   "execution_count": null,
   "id": "d66c6862",
   "metadata": {
    "papermill": {
     "duration": 0.000959,
     "end_time": "2025-08-25T17:22:00.569329",
     "exception": false,
     "start_time": "2025-08-25T17:22:00.568370",
     "status": "completed"
    },
    "tags": []
   },
   "outputs": [],
   "source": []
  }
 ],
 "metadata": {
  "kaggle": {
   "accelerator": "none",
   "dataSources": [],
   "dockerImageVersionId": 31089,
   "isGpuEnabled": false,
   "isInternetEnabled": true,
   "language": "python",
   "sourceType": "notebook"
  },
  "kernelspec": {
   "display_name": "Python 3",
   "language": "python",
   "name": "python3"
  },
  "language_info": {
   "codemirror_mode": {
    "name": "ipython",
    "version": 3
   },
   "file_extension": ".py",
   "mimetype": "text/x-python",
   "name": "python",
   "nbconvert_exporter": "python",
   "pygments_lexer": "ipython3",
   "version": "3.11.13"
  },
  "papermill": {
   "default_parameters": {},
   "duration": 9.412466,
   "end_time": "2025-08-25T17:22:01.189153",
   "environment_variables": {},
   "exception": null,
   "input_path": "__notebook__.ipynb",
   "output_path": "__notebook__.ipynb",
   "parameters": {},
   "start_time": "2025-08-25T17:21:51.776687",
   "version": "2.6.0"
  }
 },
 "nbformat": 4,
 "nbformat_minor": 5
}
