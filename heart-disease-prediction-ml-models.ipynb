{
 "cells": [
  {
   "cell_type": "code",
   "execution_count": 1,
   "id": "20ff370c",
   "metadata": {
    "_cell_guid": "b1076dfc-b9ad-4769-8c92-a6c4dae69d19",
    "_uuid": "8f2839f25d086af736a60e9eeb907d3b93b6e0e5",
    "execution": {
     "iopub.execute_input": "2025-08-25T19:05:02.827141Z",
     "iopub.status.busy": "2025-08-25T19:05:02.826867Z",
     "iopub.status.idle": "2025-08-25T19:05:04.447523Z",
     "shell.execute_reply": "2025-08-25T19:05:04.446698Z"
    },
    "papermill": {
     "duration": 1.625946,
     "end_time": "2025-08-25T19:05:04.449099",
     "exception": false,
     "start_time": "2025-08-25T19:05:02.823153",
     "status": "completed"
    },
    "tags": []
   },
   "outputs": [],
   "source": [
    "# Data handling\n",
    "import numpy as np\n",
    "import pandas as pd\n",
    "import os\n",
    "\n",
    "# 1️⃣ Import libraries\n",
    "import pandas as pd\n",
    "import pickle"
   ]
  },
  {
   "cell_type": "code",
   "execution_count": 2,
   "id": "4c653af0",
   "metadata": {
    "execution": {
     "iopub.execute_input": "2025-08-25T19:05:04.455392Z",
     "iopub.status.busy": "2025-08-25T19:05:04.454844Z",
     "iopub.status.idle": "2025-08-25T19:05:04.480197Z",
     "shell.execute_reply": "2025-08-25T19:05:04.479617Z"
    },
    "papermill": {
     "duration": 0.029568,
     "end_time": "2025-08-25T19:05:04.481458",
     "exception": false,
     "start_time": "2025-08-25T19:05:04.451890",
     "status": "completed"
    },
    "tags": []
   },
   "outputs": [],
   "source": [
    "data = pd.read_csv(\"/kaggle/input/cleaned-data/heart_disease_cleaned.csv\")"
   ]
  },
  {
   "cell_type": "code",
   "execution_count": 3,
   "id": "0ed81836",
   "metadata": {
    "execution": {
     "iopub.execute_input": "2025-08-25T19:05:04.486958Z",
     "iopub.status.busy": "2025-08-25T19:05:04.486496Z",
     "iopub.status.idle": "2025-08-25T19:05:04.497041Z",
     "shell.execute_reply": "2025-08-25T19:05:04.496461Z"
    },
    "papermill": {
     "duration": 0.014436,
     "end_time": "2025-08-25T19:05:04.498232",
     "exception": false,
     "start_time": "2025-08-25T19:05:04.483796",
     "status": "completed"
    },
    "tags": []
   },
   "outputs": [],
   "source": [
    "data['thal'] = data['thal'].replace({'fixed defect':'fixed_defect', 'reversable defect':'reversable_defect'})\n",
    "data['cp'] = data['cp'].replace({'typical angina':'typical_angina', 'atypical angina':'atypical_angina'})\n",
    "data['restecg'] = data['restecg'].replace({'st-t abnormality':'ST-T_wave_abnormality', 'lv hypertrophy':'left_ventricular_hypertrophy'})"
   ]
  },
  {
   "cell_type": "code",
   "execution_count": 4,
   "id": "68c8a6e2",
   "metadata": {
    "execution": {
     "iopub.execute_input": "2025-08-25T19:05:04.503642Z",
     "iopub.status.busy": "2025-08-25T19:05:04.503411Z",
     "iopub.status.idle": "2025-08-25T19:05:04.523612Z",
     "shell.execute_reply": "2025-08-25T19:05:04.522871Z"
    },
    "papermill": {
     "duration": 0.024407,
     "end_time": "2025-08-25T19:05:04.524839",
     "exception": false,
     "start_time": "2025-08-25T19:05:04.500432",
     "status": "completed"
    },
    "tags": []
   },
   "outputs": [],
   "source": [
    "data_1 = data[['age','sex','cp','dataset','trestbps','chol','fbs','restecg',\n",
    "               'thalch','exang','oldpeak','slope','ca','thal']].copy()"
   ]
  },
  {
   "cell_type": "code",
   "execution_count": 5,
   "id": "6d68eeba",
   "metadata": {
    "execution": {
     "iopub.execute_input": "2025-08-25T19:05:04.530404Z",
     "iopub.status.busy": "2025-08-25T19:05:04.529833Z",
     "iopub.status.idle": "2025-08-25T19:05:04.536736Z",
     "shell.execute_reply": "2025-08-25T19:05:04.536034Z"
    },
    "papermill": {
     "duration": 0.01076,
     "end_time": "2025-08-25T19:05:04.537941",
     "exception": false,
     "start_time": "2025-08-25T19:05:04.527181",
     "status": "completed"
    },
    "tags": []
   },
   "outputs": [],
   "source": [
    "data_1['sex'] = (data_1['sex'] == 'Male').astype(int)\n",
    "data_1['fasting_blood_sugar'] = data_1['fbs'].astype(int)\n",
    "data_1['exercise_induced_angina'] = data_1['exang'].astype(int)\n",
    "data_1 = data_1.drop(columns=['fbs','exang'])"
   ]
  },
  {
   "cell_type": "code",
   "execution_count": 6,
   "id": "842d525f",
   "metadata": {
    "execution": {
     "iopub.execute_input": "2025-08-25T19:05:04.543148Z",
     "iopub.status.busy": "2025-08-25T19:05:04.542581Z",
     "iopub.status.idle": "2025-08-25T19:05:04.546366Z",
     "shell.execute_reply": "2025-08-25T19:05:04.545656Z"
    },
    "papermill": {
     "duration": 0.007487,
     "end_time": "2025-08-25T19:05:04.547537",
     "exception": false,
     "start_time": "2025-08-25T19:05:04.540050",
     "status": "completed"
    },
    "tags": []
   },
   "outputs": [],
   "source": [
    "data_1.columns = [\n",
    "    'age', 'sex', 'chest_pain_type','country','resting_blood_pressure',\n",
    "    'cholesterol','Restecg','max_heart_rate_achieved','st_depression',\n",
    "    'st_slope_type','num_major_vessels','thalassemia_type',\n",
    "    'fasting_blood_sugar','exercise_induced_angina'\n",
    "]"
   ]
  },
  {
   "cell_type": "code",
   "execution_count": 7,
   "id": "3820dc5b",
   "metadata": {
    "execution": {
     "iopub.execute_input": "2025-08-25T19:05:04.552796Z",
     "iopub.status.busy": "2025-08-25T19:05:04.552200Z",
     "iopub.status.idle": "2025-08-25T19:05:06.372455Z",
     "shell.execute_reply": "2025-08-25T19:05:06.371594Z"
    },
    "papermill": {
     "duration": 1.82446,
     "end_time": "2025-08-25T19:05:06.374070",
     "exception": false,
     "start_time": "2025-08-25T19:05:04.549610",
     "status": "completed"
    },
    "tags": []
   },
   "outputs": [],
   "source": [
    "model_path = \"/kaggle/input/heart-disease-prediction-random-forest/scikitlearn/default/1/random_forest_model.pkl\"\n",
    "with open(model_path, \"rb\") as f:\n",
    "    loaded_model = pickle.load(f)"
   ]
  },
  {
   "cell_type": "code",
   "execution_count": 8,
   "id": "8b618c40",
   "metadata": {
    "execution": {
     "iopub.execute_input": "2025-08-25T19:05:06.379807Z",
     "iopub.status.busy": "2025-08-25T19:05:06.379440Z",
     "iopub.status.idle": "2025-08-25T19:05:06.383628Z",
     "shell.execute_reply": "2025-08-25T19:05:06.382996Z"
    },
    "papermill": {
     "duration": 0.008214,
     "end_time": "2025-08-25T19:05:06.384833",
     "exception": false,
     "start_time": "2025-08-25T19:05:06.376619",
     "status": "completed"
    },
    "tags": []
   },
   "outputs": [],
   "source": [
    "X = data_1.copy()"
   ]
  },
  {
   "cell_type": "code",
   "execution_count": 9,
   "id": "fcd5a438",
   "metadata": {
    "execution": {
     "iopub.execute_input": "2025-08-25T19:05:06.390235Z",
     "iopub.status.busy": "2025-08-25T19:05:06.389973Z",
     "iopub.status.idle": "2025-08-25T19:05:06.451778Z",
     "shell.execute_reply": "2025-08-25T19:05:06.451223Z"
    },
    "papermill": {
     "duration": 0.065897,
     "end_time": "2025-08-25T19:05:06.452949",
     "exception": false,
     "start_time": "2025-08-25T19:05:06.387052",
     "status": "completed"
    },
    "tags": []
   },
   "outputs": [],
   "source": [
    "data_1['predicted_target'] = loaded_model.predict(X)\n",
    "data_1['Heart_Disease'] = data_1['predicted_target'].map({0:'No', 1:'Yes'})"
   ]
  },
  {
   "cell_type": "code",
   "execution_count": 10,
   "id": "09a931ac",
   "metadata": {
    "execution": {
     "iopub.execute_input": "2025-08-25T19:05:06.458080Z",
     "iopub.status.busy": "2025-08-25T19:05:06.457820Z",
     "iopub.status.idle": "2025-08-25T19:05:06.482910Z",
     "shell.execute_reply": "2025-08-25T19:05:06.482284Z"
    },
    "papermill": {
     "duration": 0.029015,
     "end_time": "2025-08-25T19:05:06.484186",
     "exception": false,
     "start_time": "2025-08-25T19:05:06.455171",
     "status": "completed"
    },
    "tags": []
   },
   "outputs": [
    {
     "data": {
      "text/html": [
       "<div>\n",
       "<style scoped>\n",
       "    .dataframe tbody tr th:only-of-type {\n",
       "        vertical-align: middle;\n",
       "    }\n",
       "\n",
       "    .dataframe tbody tr th {\n",
       "        vertical-align: top;\n",
       "    }\n",
       "\n",
       "    .dataframe thead th {\n",
       "        text-align: right;\n",
       "    }\n",
       "</style>\n",
       "<table border=\"1\" class=\"dataframe\">\n",
       "  <thead>\n",
       "    <tr style=\"text-align: right;\">\n",
       "      <th></th>\n",
       "      <th>age</th>\n",
       "      <th>sex</th>\n",
       "      <th>chest_pain_type</th>\n",
       "      <th>country</th>\n",
       "      <th>resting_blood_pressure</th>\n",
       "      <th>cholesterol</th>\n",
       "      <th>Restecg</th>\n",
       "      <th>max_heart_rate_achieved</th>\n",
       "      <th>st_depression</th>\n",
       "      <th>st_slope_type</th>\n",
       "      <th>num_major_vessels</th>\n",
       "      <th>thalassemia_type</th>\n",
       "      <th>fasting_blood_sugar</th>\n",
       "      <th>exercise_induced_angina</th>\n",
       "      <th>predicted_target</th>\n",
       "      <th>Heart_Disease</th>\n",
       "    </tr>\n",
       "  </thead>\n",
       "  <tbody>\n",
       "    <tr>\n",
       "      <th>0</th>\n",
       "      <td>63</td>\n",
       "      <td>1</td>\n",
       "      <td>typical_angina</td>\n",
       "      <td>Cleveland</td>\n",
       "      <td>145.0</td>\n",
       "      <td>233.0</td>\n",
       "      <td>left_ventricular_hypertrophy</td>\n",
       "      <td>150.0</td>\n",
       "      <td>2.3</td>\n",
       "      <td>downsloping</td>\n",
       "      <td>0.0</td>\n",
       "      <td>fixed_defect</td>\n",
       "      <td>1</td>\n",
       "      <td>0</td>\n",
       "      <td>0</td>\n",
       "      <td>No</td>\n",
       "    </tr>\n",
       "    <tr>\n",
       "      <th>1</th>\n",
       "      <td>67</td>\n",
       "      <td>1</td>\n",
       "      <td>asymptomatic</td>\n",
       "      <td>Cleveland</td>\n",
       "      <td>160.0</td>\n",
       "      <td>286.0</td>\n",
       "      <td>left_ventricular_hypertrophy</td>\n",
       "      <td>108.0</td>\n",
       "      <td>1.5</td>\n",
       "      <td>flat</td>\n",
       "      <td>3.0</td>\n",
       "      <td>normal</td>\n",
       "      <td>0</td>\n",
       "      <td>1</td>\n",
       "      <td>1</td>\n",
       "      <td>Yes</td>\n",
       "    </tr>\n",
       "    <tr>\n",
       "      <th>2</th>\n",
       "      <td>67</td>\n",
       "      <td>1</td>\n",
       "      <td>asymptomatic</td>\n",
       "      <td>Cleveland</td>\n",
       "      <td>120.0</td>\n",
       "      <td>229.0</td>\n",
       "      <td>left_ventricular_hypertrophy</td>\n",
       "      <td>129.0</td>\n",
       "      <td>2.6</td>\n",
       "      <td>flat</td>\n",
       "      <td>2.0</td>\n",
       "      <td>reversable_defect</td>\n",
       "      <td>0</td>\n",
       "      <td>1</td>\n",
       "      <td>1</td>\n",
       "      <td>Yes</td>\n",
       "    </tr>\n",
       "    <tr>\n",
       "      <th>3</th>\n",
       "      <td>37</td>\n",
       "      <td>1</td>\n",
       "      <td>non-anginal</td>\n",
       "      <td>Cleveland</td>\n",
       "      <td>130.0</td>\n",
       "      <td>250.0</td>\n",
       "      <td>normal</td>\n",
       "      <td>187.0</td>\n",
       "      <td>3.5</td>\n",
       "      <td>downsloping</td>\n",
       "      <td>0.0</td>\n",
       "      <td>normal</td>\n",
       "      <td>0</td>\n",
       "      <td>0</td>\n",
       "      <td>0</td>\n",
       "      <td>No</td>\n",
       "    </tr>\n",
       "    <tr>\n",
       "      <th>4</th>\n",
       "      <td>41</td>\n",
       "      <td>0</td>\n",
       "      <td>atypical_angina</td>\n",
       "      <td>Cleveland</td>\n",
       "      <td>130.0</td>\n",
       "      <td>204.0</td>\n",
       "      <td>left_ventricular_hypertrophy</td>\n",
       "      <td>172.0</td>\n",
       "      <td>1.4</td>\n",
       "      <td>upsloping</td>\n",
       "      <td>0.0</td>\n",
       "      <td>normal</td>\n",
       "      <td>0</td>\n",
       "      <td>0</td>\n",
       "      <td>0</td>\n",
       "      <td>No</td>\n",
       "    </tr>\n",
       "    <tr>\n",
       "      <th>5</th>\n",
       "      <td>56</td>\n",
       "      <td>1</td>\n",
       "      <td>atypical_angina</td>\n",
       "      <td>Cleveland</td>\n",
       "      <td>120.0</td>\n",
       "      <td>236.0</td>\n",
       "      <td>normal</td>\n",
       "      <td>178.0</td>\n",
       "      <td>0.8</td>\n",
       "      <td>upsloping</td>\n",
       "      <td>0.0</td>\n",
       "      <td>normal</td>\n",
       "      <td>0</td>\n",
       "      <td>0</td>\n",
       "      <td>0</td>\n",
       "      <td>No</td>\n",
       "    </tr>\n",
       "    <tr>\n",
       "      <th>6</th>\n",
       "      <td>62</td>\n",
       "      <td>0</td>\n",
       "      <td>asymptomatic</td>\n",
       "      <td>Cleveland</td>\n",
       "      <td>140.0</td>\n",
       "      <td>268.0</td>\n",
       "      <td>left_ventricular_hypertrophy</td>\n",
       "      <td>160.0</td>\n",
       "      <td>3.6</td>\n",
       "      <td>downsloping</td>\n",
       "      <td>2.0</td>\n",
       "      <td>normal</td>\n",
       "      <td>0</td>\n",
       "      <td>0</td>\n",
       "      <td>1</td>\n",
       "      <td>Yes</td>\n",
       "    </tr>\n",
       "    <tr>\n",
       "      <th>7</th>\n",
       "      <td>57</td>\n",
       "      <td>0</td>\n",
       "      <td>asymptomatic</td>\n",
       "      <td>Cleveland</td>\n",
       "      <td>120.0</td>\n",
       "      <td>354.0</td>\n",
       "      <td>normal</td>\n",
       "      <td>163.0</td>\n",
       "      <td>0.6</td>\n",
       "      <td>upsloping</td>\n",
       "      <td>0.0</td>\n",
       "      <td>normal</td>\n",
       "      <td>0</td>\n",
       "      <td>1</td>\n",
       "      <td>0</td>\n",
       "      <td>No</td>\n",
       "    </tr>\n",
       "    <tr>\n",
       "      <th>8</th>\n",
       "      <td>63</td>\n",
       "      <td>1</td>\n",
       "      <td>asymptomatic</td>\n",
       "      <td>Cleveland</td>\n",
       "      <td>130.0</td>\n",
       "      <td>254.0</td>\n",
       "      <td>left_ventricular_hypertrophy</td>\n",
       "      <td>147.0</td>\n",
       "      <td>1.4</td>\n",
       "      <td>flat</td>\n",
       "      <td>1.0</td>\n",
       "      <td>reversable_defect</td>\n",
       "      <td>0</td>\n",
       "      <td>0</td>\n",
       "      <td>1</td>\n",
       "      <td>Yes</td>\n",
       "    </tr>\n",
       "    <tr>\n",
       "      <th>9</th>\n",
       "      <td>53</td>\n",
       "      <td>1</td>\n",
       "      <td>asymptomatic</td>\n",
       "      <td>Cleveland</td>\n",
       "      <td>140.0</td>\n",
       "      <td>203.0</td>\n",
       "      <td>left_ventricular_hypertrophy</td>\n",
       "      <td>155.0</td>\n",
       "      <td>3.1</td>\n",
       "      <td>downsloping</td>\n",
       "      <td>0.0</td>\n",
       "      <td>reversable_defect</td>\n",
       "      <td>1</td>\n",
       "      <td>1</td>\n",
       "      <td>1</td>\n",
       "      <td>Yes</td>\n",
       "    </tr>\n",
       "  </tbody>\n",
       "</table>\n",
       "</div>"
      ],
      "text/plain": [
       "   age  sex  chest_pain_type    country  resting_blood_pressure  cholesterol  \\\n",
       "0   63    1   typical_angina  Cleveland                   145.0        233.0   \n",
       "1   67    1     asymptomatic  Cleveland                   160.0        286.0   \n",
       "2   67    1     asymptomatic  Cleveland                   120.0        229.0   \n",
       "3   37    1      non-anginal  Cleveland                   130.0        250.0   \n",
       "4   41    0  atypical_angina  Cleveland                   130.0        204.0   \n",
       "5   56    1  atypical_angina  Cleveland                   120.0        236.0   \n",
       "6   62    0     asymptomatic  Cleveland                   140.0        268.0   \n",
       "7   57    0     asymptomatic  Cleveland                   120.0        354.0   \n",
       "8   63    1     asymptomatic  Cleveland                   130.0        254.0   \n",
       "9   53    1     asymptomatic  Cleveland                   140.0        203.0   \n",
       "\n",
       "                        Restecg  max_heart_rate_achieved  st_depression  \\\n",
       "0  left_ventricular_hypertrophy                    150.0            2.3   \n",
       "1  left_ventricular_hypertrophy                    108.0            1.5   \n",
       "2  left_ventricular_hypertrophy                    129.0            2.6   \n",
       "3                        normal                    187.0            3.5   \n",
       "4  left_ventricular_hypertrophy                    172.0            1.4   \n",
       "5                        normal                    178.0            0.8   \n",
       "6  left_ventricular_hypertrophy                    160.0            3.6   \n",
       "7                        normal                    163.0            0.6   \n",
       "8  left_ventricular_hypertrophy                    147.0            1.4   \n",
       "9  left_ventricular_hypertrophy                    155.0            3.1   \n",
       "\n",
       "  st_slope_type  num_major_vessels   thalassemia_type  fasting_blood_sugar  \\\n",
       "0   downsloping                0.0       fixed_defect                    1   \n",
       "1          flat                3.0             normal                    0   \n",
       "2          flat                2.0  reversable_defect                    0   \n",
       "3   downsloping                0.0             normal                    0   \n",
       "4     upsloping                0.0             normal                    0   \n",
       "5     upsloping                0.0             normal                    0   \n",
       "6   downsloping                2.0             normal                    0   \n",
       "7     upsloping                0.0             normal                    0   \n",
       "8          flat                1.0  reversable_defect                    0   \n",
       "9   downsloping                0.0  reversable_defect                    1   \n",
       "\n",
       "   exercise_induced_angina  predicted_target Heart_Disease  \n",
       "0                        0                 0            No  \n",
       "1                        1                 1           Yes  \n",
       "2                        1                 1           Yes  \n",
       "3                        0                 0            No  \n",
       "4                        0                 0            No  \n",
       "5                        0                 0            No  \n",
       "6                        0                 1           Yes  \n",
       "7                        1                 0            No  \n",
       "8                        0                 1           Yes  \n",
       "9                        1                 1           Yes  "
      ]
     },
     "execution_count": 10,
     "metadata": {},
     "output_type": "execute_result"
    }
   ],
   "source": [
    "data_1.head(10)"
   ]
  }
 ],
 "metadata": {
  "kaggle": {
   "accelerator": "none",
   "dataSources": [
    {
     "datasetId": 8138647,
     "sourceId": 12866396,
     "sourceType": "datasetVersion"
    },
    {
     "isSourceIdPinned": true,
     "modelId": 435706,
     "modelInstanceId": 418046,
     "sourceId": 541566,
     "sourceType": "modelInstanceVersion"
    }
   ],
   "dockerImageVersionId": 31089,
   "isGpuEnabled": false,
   "isInternetEnabled": true,
   "language": "python",
   "sourceType": "notebook"
  },
  "kernelspec": {
   "display_name": "Python 3",
   "language": "python",
   "name": "python3"
  },
  "language_info": {
   "codemirror_mode": {
    "name": "ipython",
    "version": 3
   },
   "file_extension": ".py",
   "mimetype": "text/x-python",
   "name": "python",
   "nbconvert_exporter": "python",
   "pygments_lexer": "ipython3",
   "version": "3.11.13"
  },
  "papermill": {
   "default_parameters": {},
   "duration": 9.091619,
   "end_time": "2025-08-25T19:05:07.004686",
   "environment_variables": {},
   "exception": null,
   "input_path": "__notebook__.ipynb",
   "output_path": "__notebook__.ipynb",
   "parameters": {},
   "start_time": "2025-08-25T19:04:57.913067",
   "version": "2.6.0"
  }
 },
 "nbformat": 4,
 "nbformat_minor": 5
}
